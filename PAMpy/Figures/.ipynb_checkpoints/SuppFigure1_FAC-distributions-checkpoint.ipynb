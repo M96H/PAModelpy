{
 "cells": [
  {
   "cell_type": "markdown",
   "id": "103b5cd5-1305-46a1-b1b5-02f13237c53c",
   "metadata": {},
   "source": [
    "# Code to generate Supplemtary Figure 1 in the publication\n",
    "Distribution of flux allocation coefficients and finite difference coefficients for the core *E.coli* Protein Allocation Model (PAM)"
   ]
  },
  {
   "cell_type": "code",
   "execution_count": 1,
   "id": "6b112820-0936-4550-8972-24673f8ee8dc",
   "metadata": {},
   "outputs": [
    {
     "name": "stdout",
     "output_type": "stream",
     "text": [
      "Loading PAModelpy modules\n"
     ]
    }
   ],
   "source": [
    "from matplotlib import pyplot as plt\n",
    "import matplotlib\n",
    "import matplotlib.gridspec as gridspec\n",
    "\n",
    "import pandas as pd\n",
    "import numpy as np\n",
    "import os\n",
    "import sys\n",
    "\n",
    "sys.path.append('../Scripts/')\n",
    "from pam_generation import set_up_ecolicore_pam, parse_coefficients\n",
    "from numeric_error_estimation_schemes_fac import (first_central_numeric_fac_optimizations, first_forward_numeric_fac_optimizations,\n",
    "                                                  fcc_numeric_fac_optimizations, first_forward_numeric_fac_calculation,\n",
    "                                                  first_central_numeric_fac_calculation, fcc_numeric_fac_calculation)\n",
    "sys.path.append('../Scripts/')\n",
    "from pam_generation import set_up_ecoli_pam\n",
    "\n",
    "GLC_UPTAKE = 9.81 #mmol/gcdw/hpamodel_inc.add_enzymes([eGFP_enzyme])\n",
    "RESULT_DIR =  os.path.join(os.path.split(os.getcwd())[0], 'Results')"
   ]
  },
  {
   "cell_type": "markdown",
   "id": "dee026a3-d8aa-41f0-9b54-2a9d02d7bba1",
   "metadata": {},
   "source": [
    "## 1. set up *E.coli* core PAM"
   ]
  },
  {
   "cell_type": "code",
   "execution_count": 2,
   "id": "a642c93c-cfba-45d2-8d40-769c26b44c75",
   "metadata": {},
   "outputs": [
    {
     "name": "stdout",
     "output_type": "stream",
     "text": [
      "Set parameter Username\n",
      "Academic license - for non-commercial use only - expires 2024-03-07\n",
      "No enzyme information found for reaction: FRD7\n",
      "Read LP format model from file /tmp/tmpnuh27_s1.lp\n",
      "Reading time = 0.00 seconds\n",
      ": 72 rows, 190 columns, 720 nonzeros\n",
      "Setting up the proteome allocation model e_coli_core\n",
      "\n",
      "Add total condition-dependent protein constraint\n",
      "\tTotal protein concentration: 0.16995 g/gDW\n",
      "\n",
      "Add active protein sector\n",
      "\n",
      "Add the following protein sector: TranslationalProteinSector\n",
      "\n",
      "Add the following protein sector: UnusedEnzymeSector\n",
      "\n",
      "Done with setting up the proteome allocation model e_coli_core\n",
      "\n"
     ]
    },
    {
     "name": "stderr",
     "output_type": "stream",
     "text": [
      "/home/samiralvdb/.local/lib/python3.10/site-packages/PAModelpy/EnzymeSectors.py:196: UserWarning: FORt: reaction directionality does not match provided kcat values. Skip reaction\n",
      "  warn(reaction.id + ': reaction directionality does not match provided kcat values. Skip reaction')\n"
     ]
    }
   ],
   "source": [
    "ecolicore_pam = set_up_ecolicore_pam()"
   ]
  },
  {
   "cell_type": "markdown",
   "id": "d1d983b9-2d6f-4a5f-b5e8-138367f318df",
   "metadata": {},
   "source": [
    "## 2. Calculate sensitivity coefficients"
   ]
  },
  {
   "cell_type": "code",
   "execution_count": 3,
   "id": "04130b6d-6035-4614-b824-952a93252372",
   "metadata": {},
   "outputs": [
    {
     "name": "stderr",
     "output_type": "stream",
     "text": [
      "/home/samiralvdb/.local/lib/python3.10/site-packages/cobra/util/solver.py:554: UserWarning: Solver status is 'infeasible'.\n",
      "  warn(f\"Solver status is '{status}'.\", UserWarning)\n",
      "/home/samiralvdb/.local/lib/python3.10/site-packages/cobra/util/solver.py:554: UserWarning: Solver status is 'infeasible'.\n",
      "  warn(f\"Solver status is '{status}'.\", UserWarning)\n",
      "/home/samiralvdb/.local/lib/python3.10/site-packages/cobra/util/solver.py:554: UserWarning: Solver status is 'infeasible'.\n",
      "  warn(f\"Solver status is '{status}'.\", UserWarning)\n"
     ]
    }
   ],
   "source": [
    "#set glucose uptake rate in the ecoli models to 9.81 for reproducible results\n",
    "ecolicore_pam.change_reaction_bounds(rxn_id = 'EX_glc__D_e',\n",
    "                                        lower_bound = -GLC_UPTAKE, upper_bound = -GLC_UPTAKE)\n",
    "\n",
    "ecolicore_pam.optimize()\n",
    "#calculate flux control coefficients\n",
    "fcc_fac = fcc_numeric_fac_optimizations(ecolicore_pam)\n",
    "ecolicore_pam.optimize()\n",
    "#calculate first order central difference coefficients\n",
    "fcn_fac = first_central_numeric_fac_optimizations(ecolicore_pam)\n",
    "ecolicore_pam.optimize()\n",
    "#calculate flux allocation coefficients\n",
    "Ccac,Cfac = parse_coefficients(ecolicore_pam)"
   ]
  },
  {
   "cell_type": "markdown",
   "id": "92640927-cc99-4a08-ab24-8e2599049635",
   "metadata": {},
   "source": [
    "## 3. Plot distribution"
   ]
  },
  {
   "cell_type": "code",
   "execution_count": 59,
   "id": "4129e80b-4f6a-4df9-ab48-e287a2fa7ca2",
   "metadata": {},
   "outputs": [],
   "source": [
    "def plot_log_hist(axes, data, logbins, fontsize = 16, color = 'blue', annotate = None):\n",
    "    #add annotation for subfigure (A or B)\n",
    "    if annotate is not None:\n",
    "        axes.annotate(annotate, xy=(2, 1), xycoords='data',\n",
    "            xytext=(-0.05,1.1), textcoords='axes fraction',\n",
    "            va='top', ha='left', fontsize = fontsize+5, weight = 'bold')\n",
    "    \n",
    "    axes.hist(data, bins=logbins, color = color, alpha = 0.5)\n",
    "    axes.tick_params(axis='x', labelsize=fontsize)\n",
    "    axes.tick_params(axis='y', labelsize=fontsize)\n",
    "    axes.set_ylabel('Frequency', fontsize = fontsize)\n",
    "    axes.set_xscale('log')"
   ]
  },
  {
   "cell_type": "code",
   "execution_count": 60,
   "id": "66ce6aff-3956-4dd3-a7dc-302c52cba10c",
   "metadata": {},
   "outputs": [
    {
     "name": "stderr",
     "output_type": "stream",
     "text": [
      "/tmp/ipykernel_15286/4045058067.py:35: UserWarning: Matplotlib is currently using module://matplotlib_inline.backend_inline, which is a non-GUI backend, so cannot show the figure.\n",
      "  fig.show()\n"
     ]
    },
    {
     "data": {
      "image/png": "[encoded data removed]",
      "text/plain": [
       "<Figure size 1080x360 with 4 Axes>"
      ]
     },
     "metadata": {
      "needs_background": "light"
     },
     "output_type": "display_data"
    }
   ],
   "source": [
    "fontsize = 16\n",
    "width =15\n",
    "height =5\n",
    "numbins =50\n",
    "\n",
    "fig = plt.figure(layout = 'constrained')\n",
    "\n",
    "#set 3 grids for the three methods, with individual axes\n",
    "gs0 = gridspec.GridSpec(1, 3, figure=fig)\n",
    "gs_fcc = gs0[0]\n",
    "gs_fcn = gs0[1]\n",
    "gs_fac = gs0[2]\n",
    "\n",
    "ax_fcc = fig.add_subplot(gs_fcc)\n",
    "ax_fcn = fig.add_subplot(gs_fcn)\n",
    "ax_fac = fig.add_subplot(gs_fac)\n",
    "\n",
    "#plot logarithmic histograms to see the distribution of the calculated coefficients\n",
    "logbins = np.logspace(np.log10(1e-9),np.log10(1e4), numbins)\n",
    "plot_log_hist(ax_fcc, fcc_fac, logbins, fontsize = fontsize, color = 'darkgreen', annotate = 'A')\n",
    "plot_log_hist(ax_fcn, fcn_fac, logbins, fontsize = fontsize, annotate = 'B')\n",
    "plot_log_hist(ax_fac, Cfac, logbins, fontsize = fontsize, color = 'orange', annotate = 'C')\n",
    "\n",
    "#set common xlabel\n",
    "ax_xlabel = fig.add_subplot(gs0[0, :2])\n",
    "ax_xlabel.set_xticks([])\n",
    "ax_xlabel.set_yticks([])\n",
    "ax_xlabel.set_frame_on(False)\n",
    "ax_xlabel.set_xlabel('Sensitivity coefficients', fontsize = fontsize*1.25)\n",
    "ax_xlabel.xaxis.set_label_coords(0.7, -.15)\n",
    "\n",
    "fig.set_figwidth(width)\n",
    "fig.set_figheight(height)\n",
    "fig.savefig('SuppFigure1_FAC-distributions.png')\n",
    "fig.show()"
   ]
  },
  {
   "cell_type": "code",
   "execution_count": 35,
   "id": "16a5425d-8c24-405a-925c-dcdfb00030ee",
   "metadata": {},
   "outputs": [
    {
     "name": "stderr",
     "output_type": "stream",
     "text": [
      "/tmp/ipykernel_15286/2514543222.py:22: UserWarning: Matplotlib is currently using module://matplotlib_inline.backend_inline, which is a non-GUI backend, so cannot show the figure.\n",
      "  fig.show()\n"
     ]
    },
    {
     "data": {
      "image/png": "[encoded data removed]",
      "text/plain": [
       "<Figure size 720x360 with 1 Axes>"
      ]
     },
     "metadata": {
      "needs_background": "light"
     },
     "output_type": "display_data"
    }
   ],
   "source": [
    "fontsize = 16\n",
    "width =10\n",
    "height =5\n",
    "numbins =50\n",
    "\n",
    "fig,ax = plt.subplots()\n",
    "\n",
    "#plot logarithmic histograms to see the distribution of the calculated coefficients\n",
    "logbins = np.logspace(np.log10(1e-9),np.log10(1e4), numbins)\n",
    "plt.hist(fcc_fac, bins=logbins, alpha =0.5, histtype='step', fill =False, label = 'flux control coefficient')\n",
    "plt.hist(fcn_fac, bins=logbins, alpha =0.5, histtype='step',fill =False,label = 'finite central \\ndifference coefficient')\n",
    "plt.hist(Cfac, bins=logbins, alpha =0.4, histtype='step',fill =False,label = 'flux allocation coefficient', color ='red')\n",
    "plt.xscale('log')\n",
    "plt.legend(loc='center left', bbox_to_anchor=(1, 0.5), fontsize = fontsize)\n",
    "\n",
    "plt.xticks(fontsize = fontsize)\n",
    "plt.yticks(fontsize = fontsize)\n",
    "\n",
    "fig.set_figwidth(width)\n",
    "fig.set_figheight(height)\n",
    "fig.savefig('SuppFigure1_FAC-distributions.png')\n",
    "fig.show()"
   ]
  },
  {
   "cell_type": "code",
   "execution_count": null,
   "id": "3ed8771d-4b45-46df-b08b-4ca16d3cb1fb",
   "metadata": {},
   "outputs": [],
   "source": []
  }
 ],
 "metadata": {
  "kernelspec": {
   "display_name": "PAMvenv",
   "language": "python",
   "name": "pamvenv"
  },
  "language_info": {
   "codemirror_mode": {
    "name": "ipython",
    "version": 3
   },
   "file_extension": ".py",
   "mimetype": "text/x-python",
   "name": "python",
   "nbconvert_exporter": "python",
   "pygments_lexer": "ipython3",
   "version": "3.10.12"
  }
 },
 "nbformat": 4,
 "nbformat_minor": 5
}

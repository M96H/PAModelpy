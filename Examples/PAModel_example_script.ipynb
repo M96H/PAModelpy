{
 "cells": [
  {
   "cell_type": "markdown",
   "id": "86207316",
   "metadata": {},
   "source": [
    "# Example implementation of the PAMpy framework\n",
    "\n",
    "In this script we will walk through an example of how you can build, use and change the *Escherichia Coli* (*E.coli*) proteome allocation model (PAM) using the PAMpy framework. The principles behind the PAM are described by Alter et al (2021)[1]\n",
    "\n",
    "[1]. Alter TB, Blank LM, Ebert BE. Proteome Regulation Patterns Determine Escherichia coli Wild-Type and Mutant Phenotypes. Elias JE, ed. mSystems. 2021;6(2):e00625-20. doi:10.1128/mSystems.00625-20\n"
   ]
  },
  {
   "cell_type": "code",
   "execution_count": 1,
   "id": "cb93e96e",
   "metadata": {},
   "outputs": [
    {
     "name": "stdout",
     "output_type": "stream",
     "text": [
      "Loading PAModelpy modules version 0.0.3.3\n"
     ]
    }
   ],
   "source": [
    "#importing the packages and scripts\n",
    "import os\n",
    "from cobra.io import read_sbml_model, load_matlab_model\n",
    "import sys\n",
    "import pandas as pd\n",
    "\n",
    "#load PAMpy modules\n",
    "from PAModelpy.EnzymeSectors import ActiveEnzymeSector, TransEnzymeSector, UnusedEnzymeSector\n",
    "from PAModelpy.PAModel import PAModel\n",
    "from PAModelpy.PAMValidator import PAMValidator\n",
    "from PAModelpy.configuration import Config"
   ]
  },
  {
   "cell_type": "code",
   "execution_count": 3,
   "id": "985d0ddb",
   "metadata": {},
   "outputs": [],
   "source": [
    "#Setting the relative paths\n",
    "BASE_DIR = os.path.split(os.getcwd())[0]\n",
    "MODEL_DIR = os.path.join(BASE_DIR, 'Models')\n",
    "DATA_DIR = os.path.join(BASE_DIR, 'Data')\n",
    "pam_info_file = os.path.join(DATA_DIR, 'proteinAllocationModel_iML1515_EnzymaticData_py.xls')\n",
    "VALID_DATA_DIR = os.path.join(DATA_DIR, 'Ecoli_phenotypes')\n",
    "valid_data_file = os.path.join(VALID_DATA_DIR, 'Ecoli_phenotypes_py_rev.xls')\n",
    "valid_data_file_glyc = os.path.join(VALID_DATA_DIR, 'Ecoli_phenotypes_py_glyc.xls')\n",
    "\n",
    "RESULT_DIR = os.path.join(BASE_DIR, 'Results')\n",
    "\n",
    "#some other constants\n",
    "TOTAL_PROTEIN_CONCENTRATION = 0.258  # [g_prot/g_cdw]"
   ]
  },
  {
   "cell_type": "markdown",
   "id": "acf50421",
   "metadata": {},
   "source": [
    "## 1. Building a PAModel from the existing IML1515 *E.coli* model\n",
    "\n",
    "The PAM will be build using information about which enzymes catalyzes a specific reaction, the turnover rate of the catalysis and the molar mass of the enzyme (active enzyme information), information about the proportion of translational enzymes and information about what proportion of enzymes is not used (unused enzymes). The sum of all the enzyme sectors is limited to a user defined total protein fraction of biomass. For prokaryotes, the protein fraction of biomass is assumed to be constant."
   ]
  },
  {
   "cell_type": "code",
   "execution_count": 4,
   "id": "e8590c34",
   "metadata": {},
   "outputs": [
    {
     "data": {
      "text/html": [
       "<div>\n",
       "<style scoped>\n",
       "    .dataframe tbody tr th:only-of-type {\n",
       "        vertical-align: middle;\n",
       "    }\n",
       "\n",
       "    .dataframe tbody tr th {\n",
       "        vertical-align: top;\n",
       "    }\n",
       "\n",
       "    .dataframe thead th {\n",
       "        text-align: right;\n",
       "    }\n",
       "</style>\n",
       "<table border=\"1\" class=\"dataframe\">\n",
       "  <thead>\n",
       "    <tr style=\"text-align: right;\">\n",
       "      <th></th>\n",
       "      <th>rxnID</th>\n",
       "      <th>rxnName</th>\n",
       "      <th>rxnEquat</th>\n",
       "      <th>EC_nmbr</th>\n",
       "      <th>molMass</th>\n",
       "      <th>kcat</th>\n",
       "    </tr>\n",
       "  </thead>\n",
       "  <tbody>\n",
       "    <tr>\n",
       "      <th>557</th>\n",
       "      <td>GLUtex_f</td>\n",
       "      <td>L-glutamate transport via diffusion (extracell...</td>\n",
       "      <td>glu__L_e  -&gt; glu__L_p</td>\n",
       "      <td>E0</td>\n",
       "      <td>39959.4825</td>\n",
       "      <td>100000000.0</td>\n",
       "    </tr>\n",
       "    <tr>\n",
       "      <th>558</th>\n",
       "      <td>GLYtex_f</td>\n",
       "      <td>Glycine transport via diffusion (extracellular...</td>\n",
       "      <td>gly_e  -&gt; gly_p</td>\n",
       "      <td>E1</td>\n",
       "      <td>39959.4825</td>\n",
       "      <td>100000000.0</td>\n",
       "    </tr>\n",
       "    <tr>\n",
       "      <th>559</th>\n",
       "      <td>GLYALDtex_f</td>\n",
       "      <td>Glyceraldehyde transport via diffusion (extrac...</td>\n",
       "      <td>glyald_e  -&gt; glyald_p</td>\n",
       "      <td>E2</td>\n",
       "      <td>39959.4825</td>\n",
       "      <td>100000000.0</td>\n",
       "    </tr>\n",
       "    <tr>\n",
       "      <th>560</th>\n",
       "      <td>GLYBtex_f</td>\n",
       "      <td>Glycine betaine transport via diffusion (extra...</td>\n",
       "      <td>glyb_e  -&gt; glyb_p</td>\n",
       "      <td>E3</td>\n",
       "      <td>39959.4825</td>\n",
       "      <td>100000000.0</td>\n",
       "    </tr>\n",
       "    <tr>\n",
       "      <th>561</th>\n",
       "      <td>GLYCtex_f</td>\n",
       "      <td>Glycerol transport via diffusion (extracellula...</td>\n",
       "      <td>glyc_e  -&gt; glyc_p</td>\n",
       "      <td>E4</td>\n",
       "      <td>39959.4825</td>\n",
       "      <td>100000000.0</td>\n",
       "    </tr>\n",
       "    <tr>\n",
       "      <th>...</th>\n",
       "      <td>...</td>\n",
       "      <td>...</td>\n",
       "      <td>...</td>\n",
       "      <td>...</td>\n",
       "      <td>...</td>\n",
       "      <td>...</td>\n",
       "    </tr>\n",
       "    <tr>\n",
       "      <th>2837</th>\n",
       "      <td>METGLCURtex_b</td>\n",
       "      <td>1-O-methyl-Beta-D-glucuronate via diffusion (e...</td>\n",
       "      <td>metglcur_p  -&gt; metglcur_e</td>\n",
       "      <td>E953</td>\n",
       "      <td>39959.4825</td>\n",
       "      <td>100000000.0</td>\n",
       "    </tr>\n",
       "    <tr>\n",
       "      <th>2838</th>\n",
       "      <td>AI2tex_b</td>\n",
       "      <td>Ai2 transport, outer membrane</td>\n",
       "      <td>mththf_p  -&gt; mththf_e</td>\n",
       "      <td>E954</td>\n",
       "      <td>39959.4825</td>\n",
       "      <td>22.0</td>\n",
       "    </tr>\n",
       "    <tr>\n",
       "      <th>2840</th>\n",
       "      <td>ASPtpp_b</td>\n",
       "      <td>L-aspartate uptake via facillitated diffusion</td>\n",
       "      <td>asp__L_c  -&gt; asp__L_p</td>\n",
       "      <td>E955</td>\n",
       "      <td>59427.5800</td>\n",
       "      <td>100000000.0</td>\n",
       "    </tr>\n",
       "    <tr>\n",
       "      <th>2841</th>\n",
       "      <td>FUMt1pp_b</td>\n",
       "      <td>Fumarate transport via diffusion in (periplasm)</td>\n",
       "      <td>fum_c  -&gt; fum_p</td>\n",
       "      <td>E956</td>\n",
       "      <td>59427.5800</td>\n",
       "      <td>100000000.0</td>\n",
       "    </tr>\n",
       "    <tr>\n",
       "      <th>2842</th>\n",
       "      <td>SUCCt1pp_b</td>\n",
       "      <td>Succinate transport via diffusion in (periplasm)</td>\n",
       "      <td>succ_c  -&gt; succ_p</td>\n",
       "      <td>E957</td>\n",
       "      <td>59427.5800</td>\n",
       "      <td>100000000.0</td>\n",
       "    </tr>\n",
       "  </tbody>\n",
       "</table>\n",
       "<p>958 rows × 6 columns</p>\n",
       "</div>"
      ],
      "text/plain": [
       "              rxnID                                            rxnName  \\\n",
       "557        GLUtex_f  L-glutamate transport via diffusion (extracell...   \n",
       "558        GLYtex_f  Glycine transport via diffusion (extracellular...   \n",
       "559     GLYALDtex_f  Glyceraldehyde transport via diffusion (extrac...   \n",
       "560       GLYBtex_f  Glycine betaine transport via diffusion (extra...   \n",
       "561       GLYCtex_f  Glycerol transport via diffusion (extracellula...   \n",
       "...             ...                                                ...   \n",
       "2837  METGLCURtex_b  1-O-methyl-Beta-D-glucuronate via diffusion (e...   \n",
       "2838       AI2tex_b                      Ai2 transport, outer membrane   \n",
       "2840       ASPtpp_b      L-aspartate uptake via facillitated diffusion   \n",
       "2841      FUMt1pp_b    Fumarate transport via diffusion in (periplasm)   \n",
       "2842     SUCCt1pp_b   Succinate transport via diffusion in (periplasm)   \n",
       "\n",
       "                        rxnEquat EC_nmbr     molMass         kcat  \n",
       "557       glu__L_e  -> glu__L_p       E0  39959.4825  100000000.0  \n",
       "558             gly_e  -> gly_p       E1  39959.4825  100000000.0  \n",
       "559       glyald_e  -> glyald_p       E2  39959.4825  100000000.0  \n",
       "560           glyb_e  -> glyb_p       E3  39959.4825  100000000.0  \n",
       "561           glyc_e  -> glyc_p       E4  39959.4825  100000000.0  \n",
       "...                          ...     ...         ...          ...  \n",
       "2837  metglcur_p  -> metglcur_e     E953  39959.4825  100000000.0  \n",
       "2838      mththf_p  -> mththf_e     E954  39959.4825         22.0  \n",
       "2840      asp__L_c  -> asp__L_p     E955  59427.5800  100000000.0  \n",
       "2841            fum_c  -> fum_p     E956  59427.5800  100000000.0  \n",
       "2842          succ_c  -> succ_p     E957  59427.5800  100000000.0  \n",
       "\n",
       "[958 rows x 6 columns]"
      ]
     },
     "execution_count": 4,
     "metadata": {},
     "output_type": "execute_result"
    }
   ],
   "source": [
    "#load active enzyme sector information\n",
    "active_enzyme_info = pd.read_excel(pam_info_file, sheet_name='ActiveEnzymes')\n",
    "\n",
    "# replace NaN values with unique identifiers\n",
    "#select the NaN values \n",
    "nan_values = active_enzyme_info['EC_nmbr'].isnull()\n",
    "#make a list with unique ids\n",
    "nan_ids = [f'E{i}' for i in range(nan_values.sum())]\n",
    "#replace nan values by unique id\n",
    "active_enzyme_info.loc[nan_values, 'EC_nmbr'] = nan_ids\n",
    "\n",
    "#check if it worked:\n",
    "active_enzyme_info[nan_values]"
   ]
  },
  {
   "cell_type": "code",
   "execution_count": 5,
   "id": "13f06521",
   "metadata": {},
   "outputs": [],
   "source": [
    "# parse the enzyme information (kcat values, identifiers and molmasses)\n",
    "kcats_dict = active_enzyme_info.set_index(keys='rxnID').loc[:, 'kcat'].to_dict()\n",
    "ec_dict = active_enzyme_info.set_index(keys='rxnID').loc[:, 'EC_nmbr'].to_dict()\n",
    "molmass_dict = mol_mass=active_enzyme_info.set_index(keys='rxnID').loc[:,'molMass'].to_dict()\n",
    "\n",
    "\n",
    "kcats = {}\n",
    "# save fwd and bckw kcats separately in the form of: {rxn_id: {'f': kcat_f, 'b': kcat_b}}\n",
    "for rxn, kcat in kcats_dict.items():\n",
    "    #reversible reaction\n",
    "    if rxn[-2:] == '_f' or rxn[-2:] == '_b':\n",
    "        direction = rxn[-1]\n",
    "        #check if the reaction already exists in the kcat dictionary\n",
    "        try: \n",
    "            kcats[rxn[:-2]][direction] = kcat\n",
    "        except:\n",
    "            kcats[rxn[:-2]] = {direction: kcat}\n",
    "    #irreversible reaction\n",
    "    else:\n",
    "        kcats[rxn] = {'f': kcat}\n",
    "\n",
    "rxn2ec = {}\n",
    "#parse the enzyme identifiers for the reactions\n",
    "for rxn, ec in ec_dict.items():\n",
    "    if rxn[-2:] == '_f' or rxn[-2:] == '_b':\n",
    "        rxn = rxn[:-2]\n",
    "    for enz in str(ec).split(','):\n",
    "        rxn2ec[rxn] = enz.strip()\n",
    "        \n",
    "molmass = {}\n",
    "#parse the enzyme molmasses for the reactions\n",
    "for rxn, mw in molmass_dict.items():\n",
    "    if rxn[-2:] == '_f' or rxn[-2:] == '_b':\n",
    "        rxn = rxn[:-2]\n",
    "    molmass[rxn] = mw\n",
    "    \n",
    "rxn2protein = {}\n",
    "for rxn, ec in rxn2ec.items():\n",
    "    ec_dict = {**kcats[rxn], **{'molmass': molmass[rxn]}}\n",
    "    #add enzyme to enzymes related to reaction if these are already stored\n",
    "    if rxn in rxn2protein.keys():\n",
    "        rxn2protein[rxn] = {**rxn2protein[rxn], **{ec:ec_dict}}\n",
    "    #if not create new reaction entry\n",
    "    else:\n",
    "        rxn2protein[rxn] = {ec:ec_dict}\n",
    "\n",
    "active_enzyme_sector = ActiveEnzymeSector(rxn2protein=rxn2protein)"
   ]
  },
  {
   "cell_type": "code",
   "execution_count": 6,
   "id": "c62e0a3a",
   "metadata": {},
   "outputs": [],
   "source": [
    "#load the translational enzyme information\n",
    "translational_info = pd.read_excel(pam_info_file, sheet_name='Translational')\n",
    "id_list = [translational_info[translational_info.Parameter == 'id_list'].loc[0,'Value']]\n",
    "translation_enzyme_sector = TransEnzymeSector(id_list=id_list,\n",
    "                                                tps_0=[translational_info[translational_info.Parameter == 'tps_0'].loc[1,'Value']],\n",
    "                                                tps_mu=[translational_info[translational_info.Parameter == 'tps_mu'].loc[2,'Value']],\n",
    "                                                mol_mass=[translational_info[translational_info.Parameter == 'mol_mass'].loc[3,'Value']])"
   ]
  },
  {
   "cell_type": "code",
   "execution_count": 7,
   "id": "5f19c2d1",
   "metadata": {},
   "outputs": [],
   "source": [
    "#load the unused enzyme information\n",
    "unused_protein_info = pd.read_excel(pam_info_file, sheet_name='ExcessEnzymes')\n",
    "\n",
    "ups_0 = unused_protein_info[unused_protein_info.Parameter == 'ups_0'].loc[2,'Value']\n",
    "smax = unused_protein_info[unused_protein_info.Parameter == 's_max_uptake'].loc[1,'Value']\n",
    "id_list =[unused_protein_info[translational_info.Parameter == 'id_list'].loc[0,'Value']]\n",
    "\n",
    "\n",
    "unused_protein_sector = UnusedEnzymeSector(id_list=id_list,\n",
    "                                            ups_mu=[ups_0/smax],\n",
    "                                            ups_0=[ups_0],\n",
    "                                            mol_mass=[unused_protein_info[unused_protein_info.Parameter == 'mol_mass'].loc[3,'Value']])"
   ]
  },
  {
   "cell_type": "code",
   "execution_count": 8,
   "id": "ae9a100d",
   "metadata": {
    "scrolled": true
   },
   "outputs": [
    {
     "name": "stdout",
     "output_type": "stream",
     "text": [
      "Set parameter Username\n",
      "Academic license - for non-commercial use only - expires 2024-03-07\n",
      "Read LP format model from file /tmp/tmpl8hgnuhf.lp\n",
      "Reading time = 0.01 seconds\n",
      ": 1877 rows, 5424 columns, 21150 nonzeros\n",
      "Setting up the proteome allocation model iML1515\n",
      "\n",
      "Add total condition-dependent protein constraint\n",
      "\tTotal protein concentration: 0.258 g/gDW\n",
      "\n",
      "Add active protein sector\n",
      "\n"
     ]
    },
    {
     "name": "stderr",
     "output_type": "stream",
     "text": [
      "/home/samiralvdb/.local/lib/python3.10/site-packages/PAModelpy/PAModel.py:222: UserWarning: Molar mass for E332 is invalid: 0.0\n",
      "  warnings.warn(f'Molar mass for {enz.id} is invalid: {molmass}')\n"
     ]
    },
    {
     "name": "stdout",
     "output_type": "stream",
     "text": [
      "Add the following protein sector: TranslationalProteinSector\n",
      "\n",
      "Add the following protein sector: \n",
      "\n",
      "Done with setting up the proteome allocation model iML1515\n",
      "\n"
     ]
    }
   ],
   "source": [
    "#load the genome-scale information\n",
    "model = read_sbml_model(os.path.join(MODEL_DIR, 'iML1515.xml'))\n",
    "\n",
    "#load the PAM with the genome-scale information and the information about the enzyme sectors\n",
    "pamodel = PAModel(id_or_model=model, \n",
    "                  p_tot=TOTAL_PROTEIN_CONCENTRATION,\n",
    "                   active_sector=active_enzyme_sector, \n",
    "                  translational_sector=translation_enzyme_sector,\n",
    "                  unused_sector=unused_protein_sector,\n",
    "                        sensitivity =True\n",
    "                 )"
   ]
  },
  {
   "cell_type": "markdown",
   "id": "01337941",
   "metadata": {},
   "source": [
    "## 2. Testing and validating the PAM\n",
    "To see if the PAM is working we can run some dummy simulations. Also, the PAMValidator module has functions which allow for easy visualization of the model predictions vs measured experimental data."
   ]
  },
  {
   "cell_type": "code",
   "execution_count": 9,
   "id": "89fab034",
   "metadata": {},
   "outputs": [
    {
     "name": "stdout",
     "output_type": "stream",
     "text": [
      "Protein allocation model test case was successful.\n",
      "\n",
      "Optimal objective function value:  0.7479665512499333 \n",
      "\n",
      "Predicted glucose uptake rate:  -10.0\n"
     ]
    }
   ],
   "source": [
    "#first test the model\n",
    "pamodel.test()"
   ]
  },
  {
   "cell_type": "code",
   "execution_count": 10,
   "id": "63a66e23",
   "metadata": {},
   "outputs": [
    {
     "name": "stdout",
     "output_type": "stream",
     "text": [
      "Protein allocation model test case was successful.\n",
      "\n",
      "Optimal objective function value:  0.40412477292088256 \n",
      "\n",
      "Predicted glucose uptake rate:  -5.0\n"
     ]
    }
   ],
   "source": [
    "#test the model with a different glucose uptake\n",
    "pamodel.test(5)"
   ]
  },
  {
   "cell_type": "code",
   "execution_count": 12,
   "id": "fb36c273",
   "metadata": {},
   "outputs": [
    {
     "name": "stdout",
     "output_type": "stream",
     "text": [
      "Running simulations to validate the model...\n",
      "\n"
     ]
    },
    {
     "name": "stderr",
     "output_type": "stream",
     "text": [
      "/home/samiralvdb/.local/lib/python3.10/site-packages/cobra/util/solver.py:554: UserWarning: Solver status is 'infeasible'.\n",
      "  warn(f\"Solver status is '{status}'.\", UserWarning)\n"
     ]
    },
    {
     "name": "stdout",
     "output_type": "stream",
     "text": [
      "Done running simulations\n",
      "\n",
      "Done running simulations\n",
      "\n",
      "Done running simulations\n",
      "\n",
      "Done running simulations\n",
      "\n",
      "Done running simulations\n",
      "\n",
      "Done running simulations\n",
      "\n",
      "Done running simulations\n",
      "\n",
      "Done running simulations\n",
      "\n",
      "Done running simulations\n",
      "\n",
      "Done running simulations\n",
      "\n",
      "Done running simulations\n",
      "\n",
      "Done running simulations\n",
      "\n",
      "Done running simulations\n",
      "\n",
      "Done running simulations\n",
      "\n",
      "Done running simulations\n",
      "\n",
      "Done running simulations\n",
      "\n",
      "Done running simulations\n",
      "\n",
      "Done running simulations\n",
      "\n",
      "Done running simulations\n",
      "\n",
      "Done running simulations\n",
      "\n",
      "Done running simulations\n",
      "\n",
      "Done running simulations\n",
      "\n"
     ]
    },
    {
     "data": {
      "text/html": [
       "<div>\n",
       "<style scoped>\n",
       "    .dataframe tbody tr th:only-of-type {\n",
       "        vertical-align: middle;\n",
       "    }\n",
       "\n",
       "    .dataframe tbody tr th {\n",
       "        vertical-align: top;\n",
       "    }\n",
       "\n",
       "    .dataframe thead th {\n",
       "        text-align: right;\n",
       "    }\n",
       "</style>\n",
       "<table border=\"1\" class=\"dataframe\">\n",
       "  <thead>\n",
       "    <tr style=\"text-align: right;\">\n",
       "      <th></th>\n",
       "      <th>Y_biomass</th>\n",
       "      <th>Y_acetate</th>\n",
       "      <th>Y_co2</th>\n",
       "      <th>BIOMASS_Ec_iML1515_core_75p37M</th>\n",
       "      <th>EX_glc__D_e</th>\n",
       "      <th>EX_ac_e</th>\n",
       "      <th>EX_co2_e</th>\n",
       "      <th>EX_o2_e</th>\n",
       "      <th>PGI</th>\n",
       "      <th>G6PDH2r</th>\n",
       "      <th>EDA</th>\n",
       "      <th>CS</th>\n",
       "      <th>ICL</th>\n",
       "      <th>PPC</th>\n",
       "      <th>ME1</th>\n",
       "      <th>ME2</th>\n",
       "    </tr>\n",
       "  </thead>\n",
       "  <tbody>\n",
       "    <tr>\n",
       "      <th>0</th>\n",
       "      <td>-0.206710</td>\n",
       "      <td>-0.000000</td>\n",
       "      <td>-24.819544</td>\n",
       "      <td>0.018620</td>\n",
       "      <td>-0.5</td>\n",
       "      <td>0.000000</td>\n",
       "      <td>2.235693</td>\n",
       "      <td>-2.195954</td>\n",
       "      <td>0.500000</td>\n",
       "      <td>0.000000</td>\n",
       "      <td>0.0</td>\n",
       "      <td>0.738792</td>\n",
       "      <td>0.055111</td>\n",
       "      <td>0.000000</td>\n",
       "      <td>0.0</td>\n",
       "      <td>0.0</td>\n",
       "    </tr>\n",
       "    <tr>\n",
       "      <th>1</th>\n",
       "      <td>-0.346899</td>\n",
       "      <td>-0.000000</td>\n",
       "      <td>-19.065120</td>\n",
       "      <td>0.062496</td>\n",
       "      <td>-1.0</td>\n",
       "      <td>0.000000</td>\n",
       "      <td>3.434693</td>\n",
       "      <td>-3.301312</td>\n",
       "      <td>1.000000</td>\n",
       "      <td>0.000000</td>\n",
       "      <td>0.0</td>\n",
       "      <td>1.123284</td>\n",
       "      <td>0.184974</td>\n",
       "      <td>0.000000</td>\n",
       "      <td>0.0</td>\n",
       "      <td>0.0</td>\n",
       "    </tr>\n",
       "    <tr>\n",
       "      <th>2</th>\n",
       "      <td>-0.393588</td>\n",
       "      <td>-0.000000</td>\n",
       "      <td>-17.148651</td>\n",
       "      <td>0.106361</td>\n",
       "      <td>-1.5</td>\n",
       "      <td>0.000000</td>\n",
       "      <td>4.634146</td>\n",
       "      <td>-4.407146</td>\n",
       "      <td>1.500000</td>\n",
       "      <td>0.000000</td>\n",
       "      <td>0.0</td>\n",
       "      <td>1.507932</td>\n",
       "      <td>0.314804</td>\n",
       "      <td>0.000000</td>\n",
       "      <td>0.0</td>\n",
       "      <td>0.0</td>\n",
       "    </tr>\n",
       "    <tr>\n",
       "      <th>3</th>\n",
       "      <td>-0.416891</td>\n",
       "      <td>-0.000000</td>\n",
       "      <td>-16.192092</td>\n",
       "      <td>0.150211</td>\n",
       "      <td>-2.0</td>\n",
       "      <td>0.000000</td>\n",
       "      <td>5.834201</td>\n",
       "      <td>-5.513615</td>\n",
       "      <td>2.000000</td>\n",
       "      <td>0.000000</td>\n",
       "      <td>0.0</td>\n",
       "      <td>1.892785</td>\n",
       "      <td>0.444591</td>\n",
       "      <td>0.000000</td>\n",
       "      <td>0.0</td>\n",
       "      <td>0.0</td>\n",
       "    </tr>\n",
       "    <tr>\n",
       "      <th>4</th>\n",
       "      <td>-0.429852</td>\n",
       "      <td>-0.000000</td>\n",
       "      <td>-15.660067</td>\n",
       "      <td>0.193601</td>\n",
       "      <td>-2.5</td>\n",
       "      <td>0.000000</td>\n",
       "      <td>7.053133</td>\n",
       "      <td>-6.639941</td>\n",
       "      <td>2.385339</td>\n",
       "      <td>0.114661</td>\n",
       "      <td>0.0</td>\n",
       "      <td>2.332982</td>\n",
       "      <td>0.649562</td>\n",
       "      <td>0.000000</td>\n",
       "      <td>0.0</td>\n",
       "      <td>0.0</td>\n",
       "    </tr>\n",
       "    <tr>\n",
       "      <th>5</th>\n",
       "      <td>-0.437965</td>\n",
       "      <td>-0.000000</td>\n",
       "      <td>-15.327065</td>\n",
       "      <td>0.236706</td>\n",
       "      <td>-3.0</td>\n",
       "      <td>0.000000</td>\n",
       "      <td>8.283783</td>\n",
       "      <td>-7.778595</td>\n",
       "      <td>2.859810</td>\n",
       "      <td>0.140190</td>\n",
       "      <td>0.0</td>\n",
       "      <td>2.851925</td>\n",
       "      <td>0.906933</td>\n",
       "      <td>0.000000</td>\n",
       "      <td>0.0</td>\n",
       "      <td>0.0</td>\n",
       "    </tr>\n",
       "    <tr>\n",
       "      <th>6</th>\n",
       "      <td>-0.443571</td>\n",
       "      <td>-0.000000</td>\n",
       "      <td>-15.096971</td>\n",
       "      <td>0.279691</td>\n",
       "      <td>-3.5</td>\n",
       "      <td>0.000000</td>\n",
       "      <td>9.519328</td>\n",
       "      <td>-8.922399</td>\n",
       "      <td>3.092150</td>\n",
       "      <td>0.407850</td>\n",
       "      <td>0.0</td>\n",
       "      <td>3.294942</td>\n",
       "      <td>1.167070</td>\n",
       "      <td>0.000000</td>\n",
       "      <td>0.0</td>\n",
       "      <td>0.0</td>\n",
       "    </tr>\n",
       "    <tr>\n",
       "      <th>7</th>\n",
       "      <td>-0.447675</td>\n",
       "      <td>-0.000000</td>\n",
       "      <td>-14.928494</td>\n",
       "      <td>0.322605</td>\n",
       "      <td>-4.0</td>\n",
       "      <td>0.000000</td>\n",
       "      <td>10.757824</td>\n",
       "      <td>-10.069306</td>\n",
       "      <td>3.228942</td>\n",
       "      <td>0.771058</td>\n",
       "      <td>0.0</td>\n",
       "      <td>3.710521</td>\n",
       "      <td>1.430399</td>\n",
       "      <td>0.000000</td>\n",
       "      <td>0.0</td>\n",
       "      <td>0.0</td>\n",
       "    </tr>\n",
       "    <tr>\n",
       "      <th>8</th>\n",
       "      <td>-0.450807</td>\n",
       "      <td>-0.000000</td>\n",
       "      <td>-14.799933</td>\n",
       "      <td>0.365470</td>\n",
       "      <td>-4.5</td>\n",
       "      <td>0.000000</td>\n",
       "      <td>11.998327</td>\n",
       "      <td>-11.218326</td>\n",
       "      <td>3.376947</td>\n",
       "      <td>1.123053</td>\n",
       "      <td>0.0</td>\n",
       "      <td>4.126325</td>\n",
       "      <td>1.689388</td>\n",
       "      <td>0.000000</td>\n",
       "      <td>0.0</td>\n",
       "      <td>0.0</td>\n",
       "    </tr>\n",
       "    <tr>\n",
       "      <th>9</th>\n",
       "      <td>-0.446627</td>\n",
       "      <td>-0.000000</td>\n",
       "      <td>-14.971491</td>\n",
       "      <td>0.402313</td>\n",
       "      <td>-5.0</td>\n",
       "      <td>0.000000</td>\n",
       "      <td>13.486010</td>\n",
       "      <td>-12.627377</td>\n",
       "      <td>4.301473</td>\n",
       "      <td>0.698527</td>\n",
       "      <td>0.0</td>\n",
       "      <td>4.814257</td>\n",
       "      <td>0.197746</td>\n",
       "      <td>1.661949</td>\n",
       "      <td>0.0</td>\n",
       "      <td>0.0</td>\n",
       "    </tr>\n",
       "    <tr>\n",
       "      <th>10</th>\n",
       "      <td>-0.440899</td>\n",
       "      <td>-0.363553</td>\n",
       "      <td>-14.479531</td>\n",
       "      <td>0.436868</td>\n",
       "      <td>-5.5</td>\n",
       "      <td>0.360229</td>\n",
       "      <td>14.347150</td>\n",
       "      <td>-13.414768</td>\n",
       "      <td>4.741476</td>\n",
       "      <td>0.758524</td>\n",
       "      <td>0.0</td>\n",
       "      <td>5.008620</td>\n",
       "      <td>0.000000</td>\n",
       "      <td>2.019426</td>\n",
       "      <td>0.0</td>\n",
       "      <td>0.0</td>\n",
       "    </tr>\n",
       "    <tr>\n",
       "      <th>11</th>\n",
       "      <td>-0.435924</td>\n",
       "      <td>-0.710934</td>\n",
       "      <td>-13.988957</td>\n",
       "      <td>0.471206</td>\n",
       "      <td>-6.0</td>\n",
       "      <td>0.768473</td>\n",
       "      <td>15.121157</td>\n",
       "      <td>-14.115488</td>\n",
       "      <td>5.181855</td>\n",
       "      <td>0.818145</td>\n",
       "      <td>0.0</td>\n",
       "      <td>5.157761</td>\n",
       "      <td>0.000000</td>\n",
       "      <td>2.178155</td>\n",
       "      <td>0.0</td>\n",
       "      <td>0.0</td>\n",
       "    </tr>\n",
       "    <tr>\n",
       "      <th>12</th>\n",
       "      <td>-0.431715</td>\n",
       "      <td>-1.004871</td>\n",
       "      <td>-13.573855</td>\n",
       "      <td>0.505544</td>\n",
       "      <td>-6.5</td>\n",
       "      <td>1.176717</td>\n",
       "      <td>15.895164</td>\n",
       "      <td>-14.816209</td>\n",
       "      <td>5.622234</td>\n",
       "      <td>0.877766</td>\n",
       "      <td>0.0</td>\n",
       "      <td>5.306903</td>\n",
       "      <td>0.000000</td>\n",
       "      <td>2.336884</td>\n",
       "      <td>0.0</td>\n",
       "      <td>0.0</td>\n",
       "    </tr>\n",
       "    <tr>\n",
       "      <th>13</th>\n",
       "      <td>-0.428108</td>\n",
       "      <td>-1.256818</td>\n",
       "      <td>-13.218054</td>\n",
       "      <td>0.539883</td>\n",
       "      <td>-7.0</td>\n",
       "      <td>1.584962</td>\n",
       "      <td>16.669171</td>\n",
       "      <td>-15.516930</td>\n",
       "      <td>6.062614</td>\n",
       "      <td>0.937386</td>\n",
       "      <td>0.0</td>\n",
       "      <td>5.456044</td>\n",
       "      <td>0.000000</td>\n",
       "      <td>2.495613</td>\n",
       "      <td>0.0</td>\n",
       "      <td>0.0</td>\n",
       "    </tr>\n",
       "    <tr>\n",
       "      <th>14</th>\n",
       "      <td>-0.424981</td>\n",
       "      <td>-1.475171</td>\n",
       "      <td>-12.909693</td>\n",
       "      <td>0.574221</td>\n",
       "      <td>-7.5</td>\n",
       "      <td>1.993206</td>\n",
       "      <td>17.443178</td>\n",
       "      <td>-16.217651</td>\n",
       "      <td>6.502993</td>\n",
       "      <td>0.997007</td>\n",
       "      <td>0.0</td>\n",
       "      <td>5.605186</td>\n",
       "      <td>0.000000</td>\n",
       "      <td>2.654342</td>\n",
       "      <td>0.0</td>\n",
       "      <td>0.0</td>\n",
       "    </tr>\n",
       "    <tr>\n",
       "      <th>15</th>\n",
       "      <td>-0.422245</td>\n",
       "      <td>-1.666231</td>\n",
       "      <td>-12.639877</td>\n",
       "      <td>0.608559</td>\n",
       "      <td>-8.0</td>\n",
       "      <td>2.401450</td>\n",
       "      <td>18.217185</td>\n",
       "      <td>-16.918372</td>\n",
       "      <td>6.943372</td>\n",
       "      <td>1.056628</td>\n",
       "      <td>0.0</td>\n",
       "      <td>5.754327</td>\n",
       "      <td>0.000000</td>\n",
       "      <td>2.813071</td>\n",
       "      <td>0.0</td>\n",
       "      <td>0.0</td>\n",
       "    </tr>\n",
       "    <tr>\n",
       "      <th>16</th>\n",
       "      <td>-0.419831</td>\n",
       "      <td>-1.834813</td>\n",
       "      <td>-12.401804</td>\n",
       "      <td>0.642897</td>\n",
       "      <td>-8.5</td>\n",
       "      <td>2.809695</td>\n",
       "      <td>18.991192</td>\n",
       "      <td>-17.619093</td>\n",
       "      <td>7.383751</td>\n",
       "      <td>1.116249</td>\n",
       "      <td>0.0</td>\n",
       "      <td>5.903468</td>\n",
       "      <td>0.000000</td>\n",
       "      <td>2.971800</td>\n",
       "      <td>0.0</td>\n",
       "      <td>0.0</td>\n",
       "    </tr>\n",
       "    <tr>\n",
       "      <th>17</th>\n",
       "      <td>-0.417685</td>\n",
       "      <td>-1.984663</td>\n",
       "      <td>-12.190184</td>\n",
       "      <td>0.677236</td>\n",
       "      <td>-9.0</td>\n",
       "      <td>3.217939</td>\n",
       "      <td>19.765199</td>\n",
       "      <td>-18.319813</td>\n",
       "      <td>7.824131</td>\n",
       "      <td>1.175869</td>\n",
       "      <td>0.0</td>\n",
       "      <td>6.052610</td>\n",
       "      <td>0.000000</td>\n",
       "      <td>3.130529</td>\n",
       "      <td>0.0</td>\n",
       "      <td>0.0</td>\n",
       "    </tr>\n",
       "    <tr>\n",
       "      <th>18</th>\n",
       "      <td>-0.415765</td>\n",
       "      <td>-2.118740</td>\n",
       "      <td>-12.000839</td>\n",
       "      <td>0.711574</td>\n",
       "      <td>-9.5</td>\n",
       "      <td>3.626183</td>\n",
       "      <td>20.539206</td>\n",
       "      <td>-19.020534</td>\n",
       "      <td>8.264510</td>\n",
       "      <td>1.235490</td>\n",
       "      <td>0.0</td>\n",
       "      <td>6.201751</td>\n",
       "      <td>0.000000</td>\n",
       "      <td>3.289258</td>\n",
       "      <td>0.0</td>\n",
       "      <td>0.0</td>\n",
       "    </tr>\n",
       "    <tr>\n",
       "      <th>19</th>\n",
       "      <td>-0.414037</td>\n",
       "      <td>-2.239409</td>\n",
       "      <td>-11.830429</td>\n",
       "      <td>0.745912</td>\n",
       "      <td>-10.0</td>\n",
       "      <td>4.034428</td>\n",
       "      <td>21.313213</td>\n",
       "      <td>-19.721255</td>\n",
       "      <td>8.704889</td>\n",
       "      <td>1.295111</td>\n",
       "      <td>0.0</td>\n",
       "      <td>6.350893</td>\n",
       "      <td>0.000000</td>\n",
       "      <td>3.447987</td>\n",
       "      <td>0.0</td>\n",
       "      <td>0.0</td>\n",
       "    </tr>\n",
       "    <tr>\n",
       "      <th>20</th>\n",
       "      <td>-0.412474</td>\n",
       "      <td>-2.348586</td>\n",
       "      <td>-11.676248</td>\n",
       "      <td>0.780250</td>\n",
       "      <td>-10.5</td>\n",
       "      <td>4.442672</td>\n",
       "      <td>22.087220</td>\n",
       "      <td>-20.421976</td>\n",
       "      <td>9.145268</td>\n",
       "      <td>1.354732</td>\n",
       "      <td>0.0</td>\n",
       "      <td>6.500034</td>\n",
       "      <td>0.000000</td>\n",
       "      <td>3.606716</td>\n",
       "      <td>0.0</td>\n",
       "      <td>0.0</td>\n",
       "    </tr>\n",
       "  </tbody>\n",
       "</table>\n",
       "</div>"
      ],
      "text/plain": [
       "    Y_biomass  Y_acetate      Y_co2  BIOMASS_Ec_iML1515_core_75p37M  \\\n",
       "0   -0.206710  -0.000000 -24.819544                        0.018620   \n",
       "1   -0.346899  -0.000000 -19.065120                        0.062496   \n",
       "2   -0.393588  -0.000000 -17.148651                        0.106361   \n",
       "3   -0.416891  -0.000000 -16.192092                        0.150211   \n",
       "4   -0.429852  -0.000000 -15.660067                        0.193601   \n",
       "5   -0.437965  -0.000000 -15.327065                        0.236706   \n",
       "6   -0.443571  -0.000000 -15.096971                        0.279691   \n",
       "7   -0.447675  -0.000000 -14.928494                        0.322605   \n",
       "8   -0.450807  -0.000000 -14.799933                        0.365470   \n",
       "9   -0.446627  -0.000000 -14.971491                        0.402313   \n",
       "10  -0.440899  -0.363553 -14.479531                        0.436868   \n",
       "11  -0.435924  -0.710934 -13.988957                        0.471206   \n",
       "12  -0.431715  -1.004871 -13.573855                        0.505544   \n",
       "13  -0.428108  -1.256818 -13.218054                        0.539883   \n",
       "14  -0.424981  -1.475171 -12.909693                        0.574221   \n",
       "15  -0.422245  -1.666231 -12.639877                        0.608559   \n",
       "16  -0.419831  -1.834813 -12.401804                        0.642897   \n",
       "17  -0.417685  -1.984663 -12.190184                        0.677236   \n",
       "18  -0.415765  -2.118740 -12.000839                        0.711574   \n",
       "19  -0.414037  -2.239409 -11.830429                        0.745912   \n",
       "20  -0.412474  -2.348586 -11.676248                        0.780250   \n",
       "\n",
       "    EX_glc__D_e   EX_ac_e   EX_co2_e    EX_o2_e       PGI   G6PDH2r  EDA  \\\n",
       "0          -0.5  0.000000   2.235693  -2.195954  0.500000  0.000000  0.0   \n",
       "1          -1.0  0.000000   3.434693  -3.301312  1.000000  0.000000  0.0   \n",
       "2          -1.5  0.000000   4.634146  -4.407146  1.500000  0.000000  0.0   \n",
       "3          -2.0  0.000000   5.834201  -5.513615  2.000000  0.000000  0.0   \n",
       "4          -2.5  0.000000   7.053133  -6.639941  2.385339  0.114661  0.0   \n",
       "5          -3.0  0.000000   8.283783  -7.778595  2.859810  0.140190  0.0   \n",
       "6          -3.5  0.000000   9.519328  -8.922399  3.092150  0.407850  0.0   \n",
       "7          -4.0  0.000000  10.757824 -10.069306  3.228942  0.771058  0.0   \n",
       "8          -4.5  0.000000  11.998327 -11.218326  3.376947  1.123053  0.0   \n",
       "9          -5.0  0.000000  13.486010 -12.627377  4.301473  0.698527  0.0   \n",
       "10         -5.5  0.360229  14.347150 -13.414768  4.741476  0.758524  0.0   \n",
       "11         -6.0  0.768473  15.121157 -14.115488  5.181855  0.818145  0.0   \n",
       "12         -6.5  1.176717  15.895164 -14.816209  5.622234  0.877766  0.0   \n",
       "13         -7.0  1.584962  16.669171 -15.516930  6.062614  0.937386  0.0   \n",
       "14         -7.5  1.993206  17.443178 -16.217651  6.502993  0.997007  0.0   \n",
       "15         -8.0  2.401450  18.217185 -16.918372  6.943372  1.056628  0.0   \n",
       "16         -8.5  2.809695  18.991192 -17.619093  7.383751  1.116249  0.0   \n",
       "17         -9.0  3.217939  19.765199 -18.319813  7.824131  1.175869  0.0   \n",
       "18         -9.5  3.626183  20.539206 -19.020534  8.264510  1.235490  0.0   \n",
       "19        -10.0  4.034428  21.313213 -19.721255  8.704889  1.295111  0.0   \n",
       "20        -10.5  4.442672  22.087220 -20.421976  9.145268  1.354732  0.0   \n",
       "\n",
       "          CS       ICL       PPC  ME1  ME2  \n",
       "0   0.738792  0.055111  0.000000  0.0  0.0  \n",
       "1   1.123284  0.184974  0.000000  0.0  0.0  \n",
       "2   1.507932  0.314804  0.000000  0.0  0.0  \n",
       "3   1.892785  0.444591  0.000000  0.0  0.0  \n",
       "4   2.332982  0.649562  0.000000  0.0  0.0  \n",
       "5   2.851925  0.906933  0.000000  0.0  0.0  \n",
       "6   3.294942  1.167070  0.000000  0.0  0.0  \n",
       "7   3.710521  1.430399  0.000000  0.0  0.0  \n",
       "8   4.126325  1.689388  0.000000  0.0  0.0  \n",
       "9   4.814257  0.197746  1.661949  0.0  0.0  \n",
       "10  5.008620  0.000000  2.019426  0.0  0.0  \n",
       "11  5.157761  0.000000  2.178155  0.0  0.0  \n",
       "12  5.306903  0.000000  2.336884  0.0  0.0  \n",
       "13  5.456044  0.000000  2.495613  0.0  0.0  \n",
       "14  5.605186  0.000000  2.654342  0.0  0.0  \n",
       "15  5.754327  0.000000  2.813071  0.0  0.0  \n",
       "16  5.903468  0.000000  2.971800  0.0  0.0  \n",
       "17  6.052610  0.000000  3.130529  0.0  0.0  \n",
       "18  6.201751  0.000000  3.289258  0.0  0.0  \n",
       "19  6.350893  0.000000  3.447987  0.0  0.0  \n",
       "20  6.500034  0.000000  3.606716  0.0  0.0  "
      ]
     },
     "metadata": {},
     "output_type": "display_data"
    },
    {
     "name": "stdout",
     "output_type": "stream",
     "text": [
      "Plotting the results against reference values. \n",
      "\n"
     ]
    },
    {
     "ename": "NameError",
     "evalue": "name 'configuration' is not defined",
     "output_type": "error",
     "traceback": [
      "\u001b[0;31m---------------------------------------------------------------------------\u001b[0m",
      "\u001b[0;31mNameError\u001b[0m                                 Traceback (most recent call last)",
      "\u001b[0;32m/tmp/ipykernel_10030/3808014326.py\u001b[0m in \u001b[0;36m<module>\u001b[0;34m\u001b[0m\n\u001b[1;32m      3\u001b[0m \u001b[0mvalidator\u001b[0m \u001b[0;34m=\u001b[0m \u001b[0mPAMValidator\u001b[0m\u001b[0;34m(\u001b[0m\u001b[0mpamodel\u001b[0m\u001b[0;34m,\u001b[0m \u001b[0mvalid_data_file\u001b[0m\u001b[0;34m)\u001b[0m\u001b[0;34m\u001b[0m\u001b[0;34m\u001b[0m\u001b[0m\n\u001b[1;32m      4\u001b[0m \u001b[0;31m#model flux rates of biomass formation, acetate, CO2 and O2 vs glucose uptake rate for a range of growth rates\u001b[0m\u001b[0;34m\u001b[0m\u001b[0;34m\u001b[0m\u001b[0m\n\u001b[0;32m----> 5\u001b[0;31m \u001b[0mvalidator\u001b[0m\u001b[0;34m.\u001b[0m\u001b[0mvalidate_range\u001b[0m\u001b[0;34m(\u001b[0m\u001b[0;34m)\u001b[0m\u001b[0;34m\u001b[0m\u001b[0;34m\u001b[0m\u001b[0m\n\u001b[0m",
      "\u001b[0;32m~/.local/lib/python3.10/site-packages/PAModelpy/PAMValidator.py\u001b[0m in \u001b[0;36mvalidate_range\u001b[0;34m(self, c_uptake_rxn, pfba, show, save)\u001b[0m\n\u001b[1;32m     98\u001b[0m                 \u001b[0mprint\u001b[0m\u001b[0;34m(\u001b[0m\u001b[0mtabulate\u001b[0m\u001b[0;34m(\u001b[0m\u001b[0mself\u001b[0m\u001b[0;34m.\u001b[0m\u001b[0mresults\u001b[0m\u001b[0;34m,\u001b[0m \u001b[0mheaders\u001b[0m\u001b[0;34m=\u001b[0m\u001b[0;34m'keys'\u001b[0m\u001b[0;34m,\u001b[0m \u001b[0mtablefmt\u001b[0m\u001b[0;34m=\u001b[0m\u001b[0;34m'psql'\u001b[0m\u001b[0;34m)\u001b[0m\u001b[0;34m)\u001b[0m\u001b[0;34m\u001b[0m\u001b[0;34m\u001b[0m\u001b[0m\n\u001b[1;32m     99\u001b[0m             \u001b[0;32mif\u001b[0m \u001b[0mshow\u001b[0m\u001b[0;34m:\u001b[0m\u001b[0;34m\u001b[0m\u001b[0;34m\u001b[0m\u001b[0m\n\u001b[0;32m--> 100\u001b[0;31m                 \u001b[0mself\u001b[0m\u001b[0;34m.\u001b[0m\u001b[0mplot_vs_mu\u001b[0m\u001b[0;34m(\u001b[0m\u001b[0mc_uptake_rxn\u001b[0m\u001b[0;34m)\u001b[0m\u001b[0;34m\u001b[0m\u001b[0;34m\u001b[0m\u001b[0m\n\u001b[0m\u001b[1;32m    101\u001b[0m                 \u001b[0;32mif\u001b[0m \u001b[0mself\u001b[0m\u001b[0;34m.\u001b[0m\u001b[0m_additional_rxns\u001b[0m \u001b[0;34m!=\u001b[0m \u001b[0;34m[\u001b[0m\u001b[0;34m]\u001b[0m\u001b[0;34m:\u001b[0m\u001b[0;34m\u001b[0m\u001b[0;34m\u001b[0m\u001b[0m\n\u001b[1;32m    102\u001b[0m                     \u001b[0mself\u001b[0m\u001b[0;34m.\u001b[0m\u001b[0mcustom_plot\u001b[0m\u001b[0;34m(\u001b[0m\u001b[0mself\u001b[0m\u001b[0;34m.\u001b[0m\u001b[0m_additional_rxns\u001b[0m\u001b[0;34m,\u001b[0m \u001b[0mc_uptake_rxn\u001b[0m\u001b[0;34m=\u001b[0m\u001b[0mc_uptake_rxn\u001b[0m\u001b[0;34m)\u001b[0m\u001b[0;34m\u001b[0m\u001b[0;34m\u001b[0m\u001b[0m\n",
      "\u001b[0;32m~/.local/lib/python3.10/site-packages/PAModelpy/PAMValidator.py\u001b[0m in \u001b[0;36mplot_vs_mu\u001b[0;34m(self, c_uptake_rxn)\u001b[0m\n\u001b[1;32m    339\u001b[0m \u001b[0;34m\u001b[0m\u001b[0m\n\u001b[1;32m    340\u001b[0m         \u001b[0mself\u001b[0m\u001b[0;34m.\u001b[0m\u001b[0mresults\u001b[0m\u001b[0;34m[\u001b[0m\u001b[0mc_uptake_rxn\u001b[0m\u001b[0;34m]\u001b[0m \u001b[0;34m=\u001b[0m \u001b[0mabs\u001b[0m\u001b[0;34m(\u001b[0m\u001b[0mself\u001b[0m\u001b[0;34m.\u001b[0m\u001b[0mresults\u001b[0m\u001b[0;34m[\u001b[0m\u001b[0mc_uptake_rxn\u001b[0m\u001b[0;34m]\u001b[0m\u001b[0;34m)\u001b[0m\u001b[0;34m\u001b[0m\u001b[0;34m\u001b[0m\u001b[0m\n\u001b[0;32m--> 341\u001b[0;31m         \u001b[0mself\u001b[0m\u001b[0;34m.\u001b[0m\u001b[0mresults\u001b[0m\u001b[0;34m[\u001b[0m\u001b[0mconfiguration\u001b[0m\u001b[0;34m.\u001b[0m\u001b[0mOXYGEN_UPTAKE_RXNID\u001b[0m\u001b[0;34m]\u001b[0m \u001b[0;34m=\u001b[0m \u001b[0mabs\u001b[0m\u001b[0;34m(\u001b[0m\u001b[0mself\u001b[0m\u001b[0;34m.\u001b[0m\u001b[0mresults\u001b[0m\u001b[0;34m[\u001b[0m\u001b[0mconfiguration\u001b[0m\u001b[0;34m.\u001b[0m\u001b[0mOXYGEN_UPTAKE_RXNID\u001b[0m\u001b[0;34m]\u001b[0m\u001b[0;34m)\u001b[0m\u001b[0;34m\u001b[0m\u001b[0;34m\u001b[0m\u001b[0m\n\u001b[0m\u001b[1;32m    342\u001b[0m         \u001b[0mself\u001b[0m\u001b[0;34m.\u001b[0m\u001b[0myield_data\u001b[0m\u001b[0;34m[\u001b[0m\u001b[0mc_uptake_rxn\u001b[0m\u001b[0;34m]\u001b[0m \u001b[0;34m=\u001b[0m \u001b[0mabs\u001b[0m\u001b[0;34m(\u001b[0m\u001b[0mself\u001b[0m\u001b[0;34m.\u001b[0m\u001b[0myield_data\u001b[0m\u001b[0;34m[\u001b[0m\u001b[0mc_uptake_rxn\u001b[0m\u001b[0;34m]\u001b[0m\u001b[0;34m)\u001b[0m\u001b[0;34m\u001b[0m\u001b[0;34m\u001b[0m\u001b[0m\n\u001b[1;32m    343\u001b[0m         \u001b[0mself\u001b[0m\u001b[0;34m.\u001b[0m\u001b[0myield_data\u001b[0m\u001b[0;34m[\u001b[0m\u001b[0mself\u001b[0m\u001b[0;34m.\u001b[0m\u001b[0mOXYGEN_UPTAKE_RXNID\u001b[0m\u001b[0;34m]\u001b[0m \u001b[0;34m=\u001b[0m \u001b[0mabs\u001b[0m\u001b[0;34m(\u001b[0m\u001b[0mself\u001b[0m\u001b[0;34m.\u001b[0m\u001b[0myield_data\u001b[0m\u001b[0;34m[\u001b[0m\u001b[0mself\u001b[0m\u001b[0;34m.\u001b[0m\u001b[0mOXYGEN_UPTAKE_RXNID\u001b[0m\u001b[0;34m]\u001b[0m\u001b[0;34m)\u001b[0m\u001b[0;34m\u001b[0m\u001b[0;34m\u001b[0m\u001b[0m\n",
      "\u001b[0;31mNameError\u001b[0m: name 'configuration' is not defined"
     ]
    }
   ],
   "source": [
    "from PAModelpy.PAMValidator import PAMValidator\n",
    "\n",
    "validator = PAMValidator(pamodel, valid_data_file)\n",
    "#model flux rates of biomass formation, acetate, CO2 and O2 vs glucose uptake rate for a range of growth rates\n",
    "validator.validate_range()"
   ]
  },
  {
   "cell_type": "code",
   "execution_count": 11,
   "id": "7e8b2b65",
   "metadata": {},
   "outputs": [
    {
     "name": "stderr",
     "output_type": "stream",
     "text": [
      "/home/samiralvdb/Documents/3_Projects/2_PAMpy/2_PAMpy_Gitlab/Examples/../Package/PAMpy/PAMValidator.py:105: FutureWarning:\n",
      "\n",
      "This dataframe has a column name that matches the 'value_name' column name of the resulting Dataframe. In the future this will raise an error, please set the 'value_name' parameter of DataFrame.melt to a unique name.\n",
      "\n",
      "/home/samiralvdb/.local/lib/python3.10/site-packages/cobra/util/solver.py:554: UserWarning:\n",
      "\n",
      "Solver status is 'infeasible'.\n",
      "\n"
     ]
    },
    {
     "name": "stdout",
     "output_type": "stream",
     "text": [
      "Running simulations to validate the model...\n",
      "\n"
     ]
    },
    {
     "data": {
      "text/html": [
       "<div>\n",
       "<style scoped>\n",
       "    .dataframe tbody tr th:only-of-type {\n",
       "        vertical-align: middle;\n",
       "    }\n",
       "\n",
       "    .dataframe tbody tr th {\n",
       "        vertical-align: top;\n",
       "    }\n",
       "\n",
       "    .dataframe thead th {\n",
       "        text-align: right;\n",
       "    }\n",
       "</style>\n",
       "<table border=\"1\" class=\"dataframe\">\n",
       "  <thead>\n",
       "    <tr style=\"text-align: right;\">\n",
       "      <th></th>\n",
       "      <th>Y_biomass</th>\n",
       "      <th>Y_acetate</th>\n",
       "      <th>Y_co2</th>\n",
       "      <th>BIOMASS_Ec_iML1515_core_75p37M</th>\n",
       "      <th>EX_glc__D_e</th>\n",
       "      <th>EX_ac_e</th>\n",
       "      <th>EX_co2_e</th>\n",
       "      <th>EX_o2_e</th>\n",
       "      <th>PGI</th>\n",
       "      <th>G6PDH2r</th>\n",
       "      <th>EDA</th>\n",
       "      <th>CS</th>\n",
       "      <th>ICL</th>\n",
       "      <th>PPC</th>\n",
       "      <th>ME1</th>\n",
       "      <th>ME2</th>\n",
       "      <th>FUM</th>\n",
       "    </tr>\n",
       "  </thead>\n",
       "  <tbody>\n",
       "    <tr>\n",
       "      <th>0</th>\n",
       "      <td>-0.206692</td>\n",
       "      <td>-0.000000</td>\n",
       "      <td>-24.820305</td>\n",
       "      <td>0.018618</td>\n",
       "      <td>-0.5</td>\n",
       "      <td>0.000000</td>\n",
       "      <td>2.235762</td>\n",
       "      <td>-2.196026</td>\n",
       "      <td>0.500000</td>\n",
       "      <td>0.000000</td>\n",
       "      <td>0.0</td>\n",
       "      <td>0.738815</td>\n",
       "      <td>0.055106</td>\n",
       "      <td>0.000000</td>\n",
       "      <td>0.0</td>\n",
       "      <td>0.0</td>\n",
       "      <td>0.738212</td>\n",
       "    </tr>\n",
       "    <tr>\n",
       "      <th>1</th>\n",
       "      <td>-0.346112</td>\n",
       "      <td>-0.000000</td>\n",
       "      <td>-19.097431</td>\n",
       "      <td>0.062354</td>\n",
       "      <td>-1.0</td>\n",
       "      <td>0.000000</td>\n",
       "      <td>3.440514</td>\n",
       "      <td>-3.307436</td>\n",
       "      <td>1.000000</td>\n",
       "      <td>0.000000</td>\n",
       "      <td>0.0</td>\n",
       "      <td>1.125274</td>\n",
       "      <td>0.184554</td>\n",
       "      <td>0.000000</td>\n",
       "      <td>0.0</td>\n",
       "      <td>0.0</td>\n",
       "      <td>1.123254</td>\n",
       "    </tr>\n",
       "    <tr>\n",
       "      <th>2</th>\n",
       "      <td>-0.392545</td>\n",
       "      <td>-0.000000</td>\n",
       "      <td>-17.191454</td>\n",
       "      <td>0.106079</td>\n",
       "      <td>-1.5</td>\n",
       "      <td>0.000000</td>\n",
       "      <td>4.645712</td>\n",
       "      <td>-4.419314</td>\n",
       "      <td>1.500000</td>\n",
       "      <td>0.000000</td>\n",
       "      <td>0.0</td>\n",
       "      <td>1.511885</td>\n",
       "      <td>0.313970</td>\n",
       "      <td>0.000000</td>\n",
       "      <td>0.0</td>\n",
       "      <td>0.0</td>\n",
       "      <td>1.508448</td>\n",
       "    </tr>\n",
       "    <tr>\n",
       "      <th>3</th>\n",
       "      <td>-0.415374</td>\n",
       "      <td>-0.000000</td>\n",
       "      <td>-16.254365</td>\n",
       "      <td>0.149664</td>\n",
       "      <td>-2.0</td>\n",
       "      <td>0.000000</td>\n",
       "      <td>5.856639</td>\n",
       "      <td>-5.537219</td>\n",
       "      <td>1.911361</td>\n",
       "      <td>0.088639</td>\n",
       "      <td>0.0</td>\n",
       "      <td>1.898786</td>\n",
       "      <td>0.462683</td>\n",
       "      <td>0.000000</td>\n",
       "      <td>0.0</td>\n",
       "      <td>0.0</td>\n",
       "      <td>1.893937</td>\n",
       "    </tr>\n",
       "    <tr>\n",
       "      <th>4</th>\n",
       "      <td>-0.427383</td>\n",
       "      <td>-0.000000</td>\n",
       "      <td>-15.761410</td>\n",
       "      <td>0.192489</td>\n",
       "      <td>-2.5</td>\n",
       "      <td>0.000000</td>\n",
       "      <td>7.098777</td>\n",
       "      <td>-6.687958</td>\n",
       "      <td>2.385998</td>\n",
       "      <td>0.114002</td>\n",
       "      <td>0.0</td>\n",
       "      <td>2.446234</td>\n",
       "      <td>0.743765</td>\n",
       "      <td>0.000000</td>\n",
       "      <td>0.0</td>\n",
       "      <td>0.0</td>\n",
       "      <td>2.439997</td>\n",
       "    </tr>\n",
       "    <tr>\n",
       "      <th>5</th>\n",
       "      <td>-0.435157</td>\n",
       "      <td>-0.000000</td>\n",
       "      <td>-15.442336</td>\n",
       "      <td>0.235188</td>\n",
       "      <td>-3.0</td>\n",
       "      <td>0.000000</td>\n",
       "      <td>8.346083</td>\n",
       "      <td>-7.844134</td>\n",
       "      <td>2.715818</td>\n",
       "      <td>0.284182</td>\n",
       "      <td>0.0</td>\n",
       "      <td>2.953818</td>\n",
       "      <td>1.031122</td>\n",
       "      <td>0.000000</td>\n",
       "      <td>0.0</td>\n",
       "      <td>0.0</td>\n",
       "      <td>2.946198</td>\n",
       "    </tr>\n",
       "    <tr>\n",
       "      <th>6</th>\n",
       "      <td>-0.436441</td>\n",
       "      <td>-0.000000</td>\n",
       "      <td>-15.389601</td>\n",
       "      <td>0.275196</td>\n",
       "      <td>-3.5</td>\n",
       "      <td>0.000000</td>\n",
       "      <td>9.703845</td>\n",
       "      <td>-9.116509</td>\n",
       "      <td>3.022183</td>\n",
       "      <td>0.477817</td>\n",
       "      <td>0.0</td>\n",
       "      <td>3.452768</td>\n",
       "      <td>0.586598</td>\n",
       "      <td>0.685499</td>\n",
       "      <td>0.0</td>\n",
       "      <td>0.0</td>\n",
       "      <td>3.443851</td>\n",
       "    </tr>\n",
       "    <tr>\n",
       "      <th>7</th>\n",
       "      <td>-0.425920</td>\n",
       "      <td>-0.584139</td>\n",
       "      <td>-14.653195</td>\n",
       "      <td>0.306928</td>\n",
       "      <td>-4.0</td>\n",
       "      <td>0.420944</td>\n",
       "      <td>10.559437</td>\n",
       "      <td>-9.904378</td>\n",
       "      <td>3.467087</td>\n",
       "      <td>0.532913</td>\n",
       "      <td>0.0</td>\n",
       "      <td>3.622805</td>\n",
       "      <td>0.000000</td>\n",
       "      <td>1.418779</td>\n",
       "      <td>0.0</td>\n",
       "      <td>0.0</td>\n",
       "      <td>3.612860</td>\n",
       "    </tr>\n",
       "    <tr>\n",
       "      <th>8</th>\n",
       "      <td>-0.417298</td>\n",
       "      <td>-1.197238</td>\n",
       "      <td>-13.780907</td>\n",
       "      <td>0.338304</td>\n",
       "      <td>-4.5</td>\n",
       "      <td>0.970603</td>\n",
       "      <td>11.172201</td>\n",
       "      <td>-10.450177</td>\n",
       "      <td>3.912610</td>\n",
       "      <td>0.587390</td>\n",
       "      <td>0.0</td>\n",
       "      <td>3.668713</td>\n",
       "      <td>0.000000</td>\n",
       "      <td>1.563816</td>\n",
       "      <td>0.0</td>\n",
       "      <td>0.0</td>\n",
       "      <td>3.657752</td>\n",
       "    </tr>\n",
       "    <tr>\n",
       "      <th>9</th>\n",
       "      <td>-0.410401</td>\n",
       "      <td>-1.687717</td>\n",
       "      <td>-13.083076</td>\n",
       "      <td>0.369681</td>\n",
       "      <td>-5.0</td>\n",
       "      <td>1.520261</td>\n",
       "      <td>11.784966</td>\n",
       "      <td>-10.995977</td>\n",
       "      <td>4.358132</td>\n",
       "      <td>0.641868</td>\n",
       "      <td>0.0</td>\n",
       "      <td>3.714620</td>\n",
       "      <td>0.000000</td>\n",
       "      <td>1.708852</td>\n",
       "      <td>0.0</td>\n",
       "      <td>0.0</td>\n",
       "      <td>3.702643</td>\n",
       "    </tr>\n",
       "    <tr>\n",
       "      <th>10</th>\n",
       "      <td>-0.404757</td>\n",
       "      <td>-2.089018</td>\n",
       "      <td>-12.512124</td>\n",
       "      <td>0.401057</td>\n",
       "      <td>-5.5</td>\n",
       "      <td>2.069919</td>\n",
       "      <td>12.397730</td>\n",
       "      <td>-11.541777</td>\n",
       "      <td>4.803654</td>\n",
       "      <td>0.696346</td>\n",
       "      <td>0.0</td>\n",
       "      <td>3.760528</td>\n",
       "      <td>0.000000</td>\n",
       "      <td>1.853889</td>\n",
       "      <td>0.0</td>\n",
       "      <td>0.0</td>\n",
       "      <td>3.747534</td>\n",
       "    </tr>\n",
       "    <tr>\n",
       "      <th>11</th>\n",
       "      <td>-0.400054</td>\n",
       "      <td>-2.423436</td>\n",
       "      <td>-12.036330</td>\n",
       "      <td>0.432433</td>\n",
       "      <td>-6.0</td>\n",
       "      <td>2.619577</td>\n",
       "      <td>13.010494</td>\n",
       "      <td>-12.087577</td>\n",
       "      <td>5.249176</td>\n",
       "      <td>0.750824</td>\n",
       "      <td>0.0</td>\n",
       "      <td>3.806436</td>\n",
       "      <td>0.000000</td>\n",
       "      <td>1.998926</td>\n",
       "      <td>0.0</td>\n",
       "      <td>0.0</td>\n",
       "      <td>3.792425</td>\n",
       "    </tr>\n",
       "    <tr>\n",
       "      <th>12</th>\n",
       "      <td>-0.396075</td>\n",
       "      <td>-2.706404</td>\n",
       "      <td>-11.633736</td>\n",
       "      <td>0.463809</td>\n",
       "      <td>-6.5</td>\n",
       "      <td>3.169235</td>\n",
       "      <td>13.623259</td>\n",
       "      <td>-12.633377</td>\n",
       "      <td>5.694698</td>\n",
       "      <td>0.805302</td>\n",
       "      <td>0.0</td>\n",
       "      <td>3.852344</td>\n",
       "      <td>0.000000</td>\n",
       "      <td>2.143963</td>\n",
       "      <td>0.0</td>\n",
       "      <td>0.0</td>\n",
       "      <td>3.837317</td>\n",
       "    </tr>\n",
       "    <tr>\n",
       "      <th>13</th>\n",
       "      <td>-0.392640</td>\n",
       "      <td>-2.948885</td>\n",
       "      <td>-11.289779</td>\n",
       "      <td>0.495155</td>\n",
       "      <td>-7.0</td>\n",
       "      <td>3.718813</td>\n",
       "      <td>14.237441</td>\n",
       "      <td>-13.180660</td>\n",
       "      <td>6.043107</td>\n",
       "      <td>0.956893</td>\n",
       "      <td>0.0</td>\n",
       "      <td>3.866338</td>\n",
       "      <td>0.000000</td>\n",
       "      <td>2.288858</td>\n",
       "      <td>0.0</td>\n",
       "      <td>0.0</td>\n",
       "      <td>3.850295</td>\n",
       "    </tr>\n",
       "    <tr>\n",
       "      <th>14</th>\n",
       "      <td>-0.389614</td>\n",
       "      <td>-3.158908</td>\n",
       "      <td>-10.993922</td>\n",
       "      <td>0.526435</td>\n",
       "      <td>-7.5</td>\n",
       "      <td>4.268219</td>\n",
       "      <td>14.854648</td>\n",
       "      <td>-13.731108</td>\n",
       "      <td>6.184313</td>\n",
       "      <td>1.315687</td>\n",
       "      <td>0.0</td>\n",
       "      <td>3.812241</td>\n",
       "      <td>0.000000</td>\n",
       "      <td>2.433452</td>\n",
       "      <td>0.0</td>\n",
       "      <td>0.0</td>\n",
       "      <td>3.795184</td>\n",
       "    </tr>\n",
       "    <tr>\n",
       "      <th>15</th>\n",
       "      <td>-0.386967</td>\n",
       "      <td>-3.342678</td>\n",
       "      <td>-10.735048</td>\n",
       "      <td>0.557715</td>\n",
       "      <td>-8.0</td>\n",
       "      <td>4.817625</td>\n",
       "      <td>15.471856</td>\n",
       "      <td>-14.281555</td>\n",
       "      <td>6.325519</td>\n",
       "      <td>1.674481</td>\n",
       "      <td>0.0</td>\n",
       "      <td>3.758143</td>\n",
       "      <td>0.000000</td>\n",
       "      <td>2.578045</td>\n",
       "      <td>0.0</td>\n",
       "      <td>0.0</td>\n",
       "      <td>3.740073</td>\n",
       "    </tr>\n",
       "    <tr>\n",
       "      <th>16</th>\n",
       "      <td>-0.384631</td>\n",
       "      <td>-3.504828</td>\n",
       "      <td>-10.506629</td>\n",
       "      <td>0.588996</td>\n",
       "      <td>-8.5</td>\n",
       "      <td>5.367031</td>\n",
       "      <td>16.089063</td>\n",
       "      <td>-14.832003</td>\n",
       "      <td>6.466725</td>\n",
       "      <td>2.033275</td>\n",
       "      <td>0.0</td>\n",
       "      <td>3.704046</td>\n",
       "      <td>0.000000</td>\n",
       "      <td>2.722638</td>\n",
       "      <td>0.0</td>\n",
       "      <td>0.0</td>\n",
       "      <td>3.684963</td>\n",
       "    </tr>\n",
       "    <tr>\n",
       "      <th>17</th>\n",
       "      <td>-0.382555</td>\n",
       "      <td>-3.648961</td>\n",
       "      <td>-10.303590</td>\n",
       "      <td>0.620276</td>\n",
       "      <td>-9.0</td>\n",
       "      <td>5.916437</td>\n",
       "      <td>16.706270</td>\n",
       "      <td>-15.382451</td>\n",
       "      <td>6.607931</td>\n",
       "      <td>2.392069</td>\n",
       "      <td>0.0</td>\n",
       "      <td>3.649949</td>\n",
       "      <td>0.000000</td>\n",
       "      <td>2.867232</td>\n",
       "      <td>0.0</td>\n",
       "      <td>0.0</td>\n",
       "      <td>3.629852</td>\n",
       "    </tr>\n",
       "    <tr>\n",
       "      <th>18</th>\n",
       "      <td>-0.380697</td>\n",
       "      <td>-3.777923</td>\n",
       "      <td>-10.121923</td>\n",
       "      <td>0.651556</td>\n",
       "      <td>-9.5</td>\n",
       "      <td>6.465842</td>\n",
       "      <td>17.323478</td>\n",
       "      <td>-15.932898</td>\n",
       "      <td>6.749137</td>\n",
       "      <td>2.750863</td>\n",
       "      <td>0.0</td>\n",
       "      <td>3.595852</td>\n",
       "      <td>0.000000</td>\n",
       "      <td>3.011825</td>\n",
       "      <td>0.0</td>\n",
       "      <td>0.0</td>\n",
       "      <td>3.574741</td>\n",
       "    </tr>\n",
       "    <tr>\n",
       "      <th>19</th>\n",
       "      <td>-0.379025</td>\n",
       "      <td>-3.893988</td>\n",
       "      <td>-9.958423</td>\n",
       "      <td>0.682836</td>\n",
       "      <td>-10.0</td>\n",
       "      <td>7.015248</td>\n",
       "      <td>17.940685</td>\n",
       "      <td>-16.483346</td>\n",
       "      <td>6.890344</td>\n",
       "      <td>3.109656</td>\n",
       "      <td>0.0</td>\n",
       "      <td>3.541754</td>\n",
       "      <td>0.000000</td>\n",
       "      <td>3.156419</td>\n",
       "      <td>0.0</td>\n",
       "      <td>0.0</td>\n",
       "      <td>3.519630</td>\n",
       "    </tr>\n",
       "    <tr>\n",
       "      <th>20</th>\n",
       "      <td>-0.377513</td>\n",
       "      <td>-3.998999</td>\n",
       "      <td>-9.810495</td>\n",
       "      <td>0.714117</td>\n",
       "      <td>-10.5</td>\n",
       "      <td>7.564654</td>\n",
       "      <td>18.557892</td>\n",
       "      <td>-17.033794</td>\n",
       "      <td>7.031550</td>\n",
       "      <td>3.468450</td>\n",
       "      <td>0.0</td>\n",
       "      <td>3.487657</td>\n",
       "      <td>0.000000</td>\n",
       "      <td>3.301012</td>\n",
       "      <td>0.0</td>\n",
       "      <td>0.0</td>\n",
       "      <td>3.464520</td>\n",
       "    </tr>\n",
       "  </tbody>\n",
       "</table>\n",
       "</div>"
      ],
      "text/plain": [
       "    Y_biomass  Y_acetate      Y_co2  BIOMASS_Ec_iML1515_core_75p37M  \\\n",
       "0   -0.206692  -0.000000 -24.820305                        0.018618   \n",
       "1   -0.346112  -0.000000 -19.097431                        0.062354   \n",
       "2   -0.392545  -0.000000 -17.191454                        0.106079   \n",
       "3   -0.415374  -0.000000 -16.254365                        0.149664   \n",
       "4   -0.427383  -0.000000 -15.761410                        0.192489   \n",
       "5   -0.435157  -0.000000 -15.442336                        0.235188   \n",
       "6   -0.436441  -0.000000 -15.389601                        0.275196   \n",
       "7   -0.425920  -0.584139 -14.653195                        0.306928   \n",
       "8   -0.417298  -1.197238 -13.780907                        0.338304   \n",
       "9   -0.410401  -1.687717 -13.083076                        0.369681   \n",
       "10  -0.404757  -2.089018 -12.512124                        0.401057   \n",
       "11  -0.400054  -2.423436 -12.036330                        0.432433   \n",
       "12  -0.396075  -2.706404 -11.633736                        0.463809   \n",
       "13  -0.392640  -2.948885 -11.289779                        0.495155   \n",
       "14  -0.389614  -3.158908 -10.993922                        0.526435   \n",
       "15  -0.386967  -3.342678 -10.735048                        0.557715   \n",
       "16  -0.384631  -3.504828 -10.506629                        0.588996   \n",
       "17  -0.382555  -3.648961 -10.303590                        0.620276   \n",
       "18  -0.380697  -3.777923 -10.121923                        0.651556   \n",
       "19  -0.379025  -3.893988  -9.958423                        0.682836   \n",
       "20  -0.377513  -3.998999  -9.810495                        0.714117   \n",
       "\n",
       "    EX_glc__D_e   EX_ac_e   EX_co2_e    EX_o2_e       PGI   G6PDH2r  EDA  \\\n",
       "0          -0.5  0.000000   2.235762  -2.196026  0.500000  0.000000  0.0   \n",
       "1          -1.0  0.000000   3.440514  -3.307436  1.000000  0.000000  0.0   \n",
       "2          -1.5  0.000000   4.645712  -4.419314  1.500000  0.000000  0.0   \n",
       "3          -2.0  0.000000   5.856639  -5.537219  1.911361  0.088639  0.0   \n",
       "4          -2.5  0.000000   7.098777  -6.687958  2.385998  0.114002  0.0   \n",
       "5          -3.0  0.000000   8.346083  -7.844134  2.715818  0.284182  0.0   \n",
       "6          -3.5  0.000000   9.703845  -9.116509  3.022183  0.477817  0.0   \n",
       "7          -4.0  0.420944  10.559437  -9.904378  3.467087  0.532913  0.0   \n",
       "8          -4.5  0.970603  11.172201 -10.450177  3.912610  0.587390  0.0   \n",
       "9          -5.0  1.520261  11.784966 -10.995977  4.358132  0.641868  0.0   \n",
       "10         -5.5  2.069919  12.397730 -11.541777  4.803654  0.696346  0.0   \n",
       "11         -6.0  2.619577  13.010494 -12.087577  5.249176  0.750824  0.0   \n",
       "12         -6.5  3.169235  13.623259 -12.633377  5.694698  0.805302  0.0   \n",
       "13         -7.0  3.718813  14.237441 -13.180660  6.043107  0.956893  0.0   \n",
       "14         -7.5  4.268219  14.854648 -13.731108  6.184313  1.315687  0.0   \n",
       "15         -8.0  4.817625  15.471856 -14.281555  6.325519  1.674481  0.0   \n",
       "16         -8.5  5.367031  16.089063 -14.832003  6.466725  2.033275  0.0   \n",
       "17         -9.0  5.916437  16.706270 -15.382451  6.607931  2.392069  0.0   \n",
       "18         -9.5  6.465842  17.323478 -15.932898  6.749137  2.750863  0.0   \n",
       "19        -10.0  7.015248  17.940685 -16.483346  6.890344  3.109656  0.0   \n",
       "20        -10.5  7.564654  18.557892 -17.033794  7.031550  3.468450  0.0   \n",
       "\n",
       "          CS       ICL       PPC  ME1  ME2       FUM  \n",
       "0   0.738815  0.055106  0.000000  0.0  0.0  0.738212  \n",
       "1   1.125274  0.184554  0.000000  0.0  0.0  1.123254  \n",
       "2   1.511885  0.313970  0.000000  0.0  0.0  1.508448  \n",
       "3   1.898786  0.462683  0.000000  0.0  0.0  1.893937  \n",
       "4   2.446234  0.743765  0.000000  0.0  0.0  2.439997  \n",
       "5   2.953818  1.031122  0.000000  0.0  0.0  2.946198  \n",
       "6   3.452768  0.586598  0.685499  0.0  0.0  3.443851  \n",
       "7   3.622805  0.000000  1.418779  0.0  0.0  3.612860  \n",
       "8   3.668713  0.000000  1.563816  0.0  0.0  3.657752  \n",
       "9   3.714620  0.000000  1.708852  0.0  0.0  3.702643  \n",
       "10  3.760528  0.000000  1.853889  0.0  0.0  3.747534  \n",
       "11  3.806436  0.000000  1.998926  0.0  0.0  3.792425  \n",
       "12  3.852344  0.000000  2.143963  0.0  0.0  3.837317  \n",
       "13  3.866338  0.000000  2.288858  0.0  0.0  3.850295  \n",
       "14  3.812241  0.000000  2.433452  0.0  0.0  3.795184  \n",
       "15  3.758143  0.000000  2.578045  0.0  0.0  3.740073  \n",
       "16  3.704046  0.000000  2.722638  0.0  0.0  3.684963  \n",
       "17  3.649949  0.000000  2.867232  0.0  0.0  3.629852  \n",
       "18  3.595852  0.000000  3.011825  0.0  0.0  3.574741  \n",
       "19  3.541754  0.000000  3.156419  0.0  0.0  3.519630  \n",
       "20  3.487657  0.000000  3.301012  0.0  0.0  3.464520  "
      ]
     },
     "metadata": {},
     "output_type": "display_data"
    },
    {
     "name": "stderr",
     "output_type": "stream",
     "text": [
      "/home/samiralvdb/Documents/3_Projects/2_PAMpy/2_PAMpy_Gitlab/Examples/../Package/PAMpy/PAMValidator.py:105: FutureWarning:\n",
      "\n",
      "This dataframe has a column name that matches the 'value_name' column name of the resulting Dataframe. In the future this will raise an error, please set the 'value_name' parameter of DataFrame.melt to a unique name.\n",
      "\n",
      "/home/samiralvdb/.local/lib/python3.10/site-packages/cobra/util/solver.py:554: UserWarning:\n",
      "\n",
      "Solver status is 'infeasible'.\n",
      "\n"
     ]
    },
    {
     "name": "stdout",
     "output_type": "stream",
     "text": [
      "Running simulations to validate the model...\n",
      "\n"
     ]
    },
    {
     "data": {
      "text/html": [
       "<div>\n",
       "<style scoped>\n",
       "    .dataframe tbody tr th:only-of-type {\n",
       "        vertical-align: middle;\n",
       "    }\n",
       "\n",
       "    .dataframe tbody tr th {\n",
       "        vertical-align: top;\n",
       "    }\n",
       "\n",
       "    .dataframe thead th {\n",
       "        text-align: right;\n",
       "    }\n",
       "</style>\n",
       "<table border=\"1\" class=\"dataframe\">\n",
       "  <thead>\n",
       "    <tr style=\"text-align: right;\">\n",
       "      <th></th>\n",
       "      <th>Y_biomass</th>\n",
       "      <th>Y_acetate</th>\n",
       "      <th>Y_co2</th>\n",
       "      <th>BIOMASS_Ec_iML1515_core_75p37M</th>\n",
       "      <th>EX_glc__D_e</th>\n",
       "      <th>EX_ac_e</th>\n",
       "      <th>EX_co2_e</th>\n",
       "      <th>EX_o2_e</th>\n",
       "      <th>PGI</th>\n",
       "      <th>G6PDH2r</th>\n",
       "      <th>EDA</th>\n",
       "      <th>CS</th>\n",
       "      <th>ICL</th>\n",
       "      <th>PPC</th>\n",
       "      <th>ME1</th>\n",
       "      <th>ME2</th>\n",
       "      <th>FUM</th>\n",
       "    </tr>\n",
       "  </thead>\n",
       "  <tbody>\n",
       "    <tr>\n",
       "      <th>0</th>\n",
       "      <td>-0.206692</td>\n",
       "      <td>-0.000000</td>\n",
       "      <td>-24.820305</td>\n",
       "      <td>0.018618</td>\n",
       "      <td>-0.5</td>\n",
       "      <td>0.000000</td>\n",
       "      <td>2.235762</td>\n",
       "      <td>-2.196026</td>\n",
       "      <td>0.500000</td>\n",
       "      <td>0.000000</td>\n",
       "      <td>0.0</td>\n",
       "      <td>0.738815</td>\n",
       "      <td>0.055106</td>\n",
       "      <td>0.000000</td>\n",
       "      <td>0.0</td>\n",
       "      <td>0.0</td>\n",
       "      <td>0.738212</td>\n",
       "    </tr>\n",
       "    <tr>\n",
       "      <th>1</th>\n",
       "      <td>-0.346112</td>\n",
       "      <td>-0.000000</td>\n",
       "      <td>-19.097431</td>\n",
       "      <td>0.062354</td>\n",
       "      <td>-1.0</td>\n",
       "      <td>0.000000</td>\n",
       "      <td>3.440514</td>\n",
       "      <td>-3.307436</td>\n",
       "      <td>1.000000</td>\n",
       "      <td>0.000000</td>\n",
       "      <td>0.0</td>\n",
       "      <td>1.125274</td>\n",
       "      <td>0.184554</td>\n",
       "      <td>0.000000</td>\n",
       "      <td>0.0</td>\n",
       "      <td>0.0</td>\n",
       "      <td>1.123254</td>\n",
       "    </tr>\n",
       "    <tr>\n",
       "      <th>2</th>\n",
       "      <td>-0.392545</td>\n",
       "      <td>-0.000000</td>\n",
       "      <td>-17.191454</td>\n",
       "      <td>0.106079</td>\n",
       "      <td>-1.5</td>\n",
       "      <td>0.000000</td>\n",
       "      <td>4.645712</td>\n",
       "      <td>-4.419314</td>\n",
       "      <td>1.500000</td>\n",
       "      <td>0.000000</td>\n",
       "      <td>0.0</td>\n",
       "      <td>1.511885</td>\n",
       "      <td>0.313970</td>\n",
       "      <td>0.000000</td>\n",
       "      <td>0.0</td>\n",
       "      <td>0.0</td>\n",
       "      <td>1.508448</td>\n",
       "    </tr>\n",
       "    <tr>\n",
       "      <th>3</th>\n",
       "      <td>-0.415374</td>\n",
       "      <td>-0.000000</td>\n",
       "      <td>-16.254365</td>\n",
       "      <td>0.149664</td>\n",
       "      <td>-2.0</td>\n",
       "      <td>0.000000</td>\n",
       "      <td>5.856639</td>\n",
       "      <td>-5.537219</td>\n",
       "      <td>1.911361</td>\n",
       "      <td>0.088639</td>\n",
       "      <td>0.0</td>\n",
       "      <td>1.898786</td>\n",
       "      <td>0.462683</td>\n",
       "      <td>0.000000</td>\n",
       "      <td>0.0</td>\n",
       "      <td>0.0</td>\n",
       "      <td>1.893937</td>\n",
       "    </tr>\n",
       "    <tr>\n",
       "      <th>4</th>\n",
       "      <td>-0.427383</td>\n",
       "      <td>-0.000000</td>\n",
       "      <td>-15.761410</td>\n",
       "      <td>0.192489</td>\n",
       "      <td>-2.5</td>\n",
       "      <td>0.000000</td>\n",
       "      <td>7.098777</td>\n",
       "      <td>-6.687958</td>\n",
       "      <td>2.385998</td>\n",
       "      <td>0.114002</td>\n",
       "      <td>0.0</td>\n",
       "      <td>2.446234</td>\n",
       "      <td>0.743765</td>\n",
       "      <td>0.000000</td>\n",
       "      <td>0.0</td>\n",
       "      <td>0.0</td>\n",
       "      <td>2.439997</td>\n",
       "    </tr>\n",
       "    <tr>\n",
       "      <th>5</th>\n",
       "      <td>-0.435157</td>\n",
       "      <td>-0.000000</td>\n",
       "      <td>-15.442336</td>\n",
       "      <td>0.235188</td>\n",
       "      <td>-3.0</td>\n",
       "      <td>0.000000</td>\n",
       "      <td>8.346083</td>\n",
       "      <td>-7.844134</td>\n",
       "      <td>2.715818</td>\n",
       "      <td>0.284182</td>\n",
       "      <td>0.0</td>\n",
       "      <td>2.953818</td>\n",
       "      <td>1.031122</td>\n",
       "      <td>0.000000</td>\n",
       "      <td>0.0</td>\n",
       "      <td>0.0</td>\n",
       "      <td>2.946198</td>\n",
       "    </tr>\n",
       "    <tr>\n",
       "      <th>6</th>\n",
       "      <td>-0.436441</td>\n",
       "      <td>-0.000000</td>\n",
       "      <td>-15.389601</td>\n",
       "      <td>0.275196</td>\n",
       "      <td>-3.5</td>\n",
       "      <td>0.000000</td>\n",
       "      <td>9.703845</td>\n",
       "      <td>-9.116509</td>\n",
       "      <td>3.022183</td>\n",
       "      <td>0.477817</td>\n",
       "      <td>0.0</td>\n",
       "      <td>3.452768</td>\n",
       "      <td>0.586598</td>\n",
       "      <td>0.685499</td>\n",
       "      <td>0.0</td>\n",
       "      <td>0.0</td>\n",
       "      <td>3.443851</td>\n",
       "    </tr>\n",
       "    <tr>\n",
       "      <th>7</th>\n",
       "      <td>-0.425920</td>\n",
       "      <td>-0.584139</td>\n",
       "      <td>-14.653195</td>\n",
       "      <td>0.306928</td>\n",
       "      <td>-4.0</td>\n",
       "      <td>0.420944</td>\n",
       "      <td>10.559437</td>\n",
       "      <td>-9.904378</td>\n",
       "      <td>3.467087</td>\n",
       "      <td>0.532913</td>\n",
       "      <td>0.0</td>\n",
       "      <td>3.622805</td>\n",
       "      <td>0.000000</td>\n",
       "      <td>1.418779</td>\n",
       "      <td>0.0</td>\n",
       "      <td>0.0</td>\n",
       "      <td>3.612860</td>\n",
       "    </tr>\n",
       "    <tr>\n",
       "      <th>8</th>\n",
       "      <td>-0.417298</td>\n",
       "      <td>-1.197238</td>\n",
       "      <td>-13.780907</td>\n",
       "      <td>0.338304</td>\n",
       "      <td>-4.5</td>\n",
       "      <td>0.970603</td>\n",
       "      <td>11.172201</td>\n",
       "      <td>-10.450177</td>\n",
       "      <td>3.912610</td>\n",
       "      <td>0.587390</td>\n",
       "      <td>0.0</td>\n",
       "      <td>3.668713</td>\n",
       "      <td>0.000000</td>\n",
       "      <td>1.563816</td>\n",
       "      <td>0.0</td>\n",
       "      <td>0.0</td>\n",
       "      <td>3.657752</td>\n",
       "    </tr>\n",
       "    <tr>\n",
       "      <th>9</th>\n",
       "      <td>-0.410401</td>\n",
       "      <td>-1.687717</td>\n",
       "      <td>-13.083076</td>\n",
       "      <td>0.369681</td>\n",
       "      <td>-5.0</td>\n",
       "      <td>1.520261</td>\n",
       "      <td>11.784966</td>\n",
       "      <td>-10.995977</td>\n",
       "      <td>4.358132</td>\n",
       "      <td>0.641868</td>\n",
       "      <td>0.0</td>\n",
       "      <td>3.714620</td>\n",
       "      <td>0.000000</td>\n",
       "      <td>1.708852</td>\n",
       "      <td>0.0</td>\n",
       "      <td>0.0</td>\n",
       "      <td>3.702643</td>\n",
       "    </tr>\n",
       "    <tr>\n",
       "      <th>10</th>\n",
       "      <td>-0.404757</td>\n",
       "      <td>-2.089018</td>\n",
       "      <td>-12.512124</td>\n",
       "      <td>0.401057</td>\n",
       "      <td>-5.5</td>\n",
       "      <td>2.069919</td>\n",
       "      <td>12.397730</td>\n",
       "      <td>-11.541777</td>\n",
       "      <td>4.803654</td>\n",
       "      <td>0.696346</td>\n",
       "      <td>0.0</td>\n",
       "      <td>3.760528</td>\n",
       "      <td>0.000000</td>\n",
       "      <td>1.853889</td>\n",
       "      <td>0.0</td>\n",
       "      <td>0.0</td>\n",
       "      <td>3.747534</td>\n",
       "    </tr>\n",
       "    <tr>\n",
       "      <th>11</th>\n",
       "      <td>-0.400054</td>\n",
       "      <td>-2.423436</td>\n",
       "      <td>-12.036330</td>\n",
       "      <td>0.432433</td>\n",
       "      <td>-6.0</td>\n",
       "      <td>2.619577</td>\n",
       "      <td>13.010494</td>\n",
       "      <td>-12.087577</td>\n",
       "      <td>5.249176</td>\n",
       "      <td>0.750824</td>\n",
       "      <td>0.0</td>\n",
       "      <td>3.806436</td>\n",
       "      <td>0.000000</td>\n",
       "      <td>1.998926</td>\n",
       "      <td>0.0</td>\n",
       "      <td>0.0</td>\n",
       "      <td>3.792425</td>\n",
       "    </tr>\n",
       "    <tr>\n",
       "      <th>12</th>\n",
       "      <td>-0.396075</td>\n",
       "      <td>-2.706404</td>\n",
       "      <td>-11.633736</td>\n",
       "      <td>0.463809</td>\n",
       "      <td>-6.5</td>\n",
       "      <td>3.169235</td>\n",
       "      <td>13.623259</td>\n",
       "      <td>-12.633377</td>\n",
       "      <td>5.694698</td>\n",
       "      <td>0.805302</td>\n",
       "      <td>0.0</td>\n",
       "      <td>3.852344</td>\n",
       "      <td>0.000000</td>\n",
       "      <td>2.143963</td>\n",
       "      <td>0.0</td>\n",
       "      <td>0.0</td>\n",
       "      <td>3.837317</td>\n",
       "    </tr>\n",
       "    <tr>\n",
       "      <th>13</th>\n",
       "      <td>-0.392640</td>\n",
       "      <td>-2.948885</td>\n",
       "      <td>-11.289779</td>\n",
       "      <td>0.495155</td>\n",
       "      <td>-7.0</td>\n",
       "      <td>3.718813</td>\n",
       "      <td>14.237441</td>\n",
       "      <td>-13.180660</td>\n",
       "      <td>6.043107</td>\n",
       "      <td>0.956893</td>\n",
       "      <td>0.0</td>\n",
       "      <td>3.866338</td>\n",
       "      <td>0.000000</td>\n",
       "      <td>2.288858</td>\n",
       "      <td>0.0</td>\n",
       "      <td>0.0</td>\n",
       "      <td>3.850295</td>\n",
       "    </tr>\n",
       "    <tr>\n",
       "      <th>14</th>\n",
       "      <td>-0.389614</td>\n",
       "      <td>-3.158908</td>\n",
       "      <td>-10.993922</td>\n",
       "      <td>0.526435</td>\n",
       "      <td>-7.5</td>\n",
       "      <td>4.268219</td>\n",
       "      <td>14.854648</td>\n",
       "      <td>-13.731108</td>\n",
       "      <td>6.184313</td>\n",
       "      <td>1.315687</td>\n",
       "      <td>0.0</td>\n",
       "      <td>3.812241</td>\n",
       "      <td>0.000000</td>\n",
       "      <td>2.433452</td>\n",
       "      <td>0.0</td>\n",
       "      <td>0.0</td>\n",
       "      <td>3.795184</td>\n",
       "    </tr>\n",
       "    <tr>\n",
       "      <th>15</th>\n",
       "      <td>-0.386967</td>\n",
       "      <td>-3.342678</td>\n",
       "      <td>-10.735048</td>\n",
       "      <td>0.557715</td>\n",
       "      <td>-8.0</td>\n",
       "      <td>4.817625</td>\n",
       "      <td>15.471856</td>\n",
       "      <td>-14.281555</td>\n",
       "      <td>6.325519</td>\n",
       "      <td>1.674481</td>\n",
       "      <td>0.0</td>\n",
       "      <td>3.758143</td>\n",
       "      <td>0.000000</td>\n",
       "      <td>2.578045</td>\n",
       "      <td>0.0</td>\n",
       "      <td>0.0</td>\n",
       "      <td>3.740073</td>\n",
       "    </tr>\n",
       "    <tr>\n",
       "      <th>16</th>\n",
       "      <td>-0.384631</td>\n",
       "      <td>-3.504828</td>\n",
       "      <td>-10.506629</td>\n",
       "      <td>0.588996</td>\n",
       "      <td>-8.5</td>\n",
       "      <td>5.367031</td>\n",
       "      <td>16.089063</td>\n",
       "      <td>-14.832003</td>\n",
       "      <td>6.466725</td>\n",
       "      <td>2.033275</td>\n",
       "      <td>0.0</td>\n",
       "      <td>3.704046</td>\n",
       "      <td>0.000000</td>\n",
       "      <td>2.722638</td>\n",
       "      <td>0.0</td>\n",
       "      <td>0.0</td>\n",
       "      <td>3.684963</td>\n",
       "    </tr>\n",
       "    <tr>\n",
       "      <th>17</th>\n",
       "      <td>-0.382555</td>\n",
       "      <td>-3.648961</td>\n",
       "      <td>-10.303590</td>\n",
       "      <td>0.620276</td>\n",
       "      <td>-9.0</td>\n",
       "      <td>5.916437</td>\n",
       "      <td>16.706270</td>\n",
       "      <td>-15.382451</td>\n",
       "      <td>6.607931</td>\n",
       "      <td>2.392069</td>\n",
       "      <td>0.0</td>\n",
       "      <td>3.649949</td>\n",
       "      <td>0.000000</td>\n",
       "      <td>2.867232</td>\n",
       "      <td>0.0</td>\n",
       "      <td>0.0</td>\n",
       "      <td>3.629852</td>\n",
       "    </tr>\n",
       "    <tr>\n",
       "      <th>18</th>\n",
       "      <td>-0.380697</td>\n",
       "      <td>-3.777923</td>\n",
       "      <td>-10.121923</td>\n",
       "      <td>0.651556</td>\n",
       "      <td>-9.5</td>\n",
       "      <td>6.465842</td>\n",
       "      <td>17.323478</td>\n",
       "      <td>-15.932898</td>\n",
       "      <td>6.749137</td>\n",
       "      <td>2.750863</td>\n",
       "      <td>0.0</td>\n",
       "      <td>3.595852</td>\n",
       "      <td>0.000000</td>\n",
       "      <td>3.011825</td>\n",
       "      <td>0.0</td>\n",
       "      <td>0.0</td>\n",
       "      <td>3.574741</td>\n",
       "    </tr>\n",
       "    <tr>\n",
       "      <th>19</th>\n",
       "      <td>-0.379025</td>\n",
       "      <td>-3.893988</td>\n",
       "      <td>-9.958423</td>\n",
       "      <td>0.682836</td>\n",
       "      <td>-10.0</td>\n",
       "      <td>7.015248</td>\n",
       "      <td>17.940685</td>\n",
       "      <td>-16.483346</td>\n",
       "      <td>6.890344</td>\n",
       "      <td>3.109656</td>\n",
       "      <td>0.0</td>\n",
       "      <td>3.541754</td>\n",
       "      <td>0.000000</td>\n",
       "      <td>3.156419</td>\n",
       "      <td>0.0</td>\n",
       "      <td>0.0</td>\n",
       "      <td>3.519630</td>\n",
       "    </tr>\n",
       "    <tr>\n",
       "      <th>20</th>\n",
       "      <td>-0.377513</td>\n",
       "      <td>-3.998999</td>\n",
       "      <td>-9.810495</td>\n",
       "      <td>0.714117</td>\n",
       "      <td>-10.5</td>\n",
       "      <td>7.564654</td>\n",
       "      <td>18.557892</td>\n",
       "      <td>-17.033794</td>\n",
       "      <td>7.031550</td>\n",
       "      <td>3.468450</td>\n",
       "      <td>0.0</td>\n",
       "      <td>3.487657</td>\n",
       "      <td>0.000000</td>\n",
       "      <td>3.301012</td>\n",
       "      <td>0.0</td>\n",
       "      <td>0.0</td>\n",
       "      <td>3.464520</td>\n",
       "    </tr>\n",
       "  </tbody>\n",
       "</table>\n",
       "</div>"
      ],
      "text/plain": [
       "    Y_biomass  Y_acetate      Y_co2  BIOMASS_Ec_iML1515_core_75p37M  \\\n",
       "0   -0.206692  -0.000000 -24.820305                        0.018618   \n",
       "1   -0.346112  -0.000000 -19.097431                        0.062354   \n",
       "2   -0.392545  -0.000000 -17.191454                        0.106079   \n",
       "3   -0.415374  -0.000000 -16.254365                        0.149664   \n",
       "4   -0.427383  -0.000000 -15.761410                        0.192489   \n",
       "5   -0.435157  -0.000000 -15.442336                        0.235188   \n",
       "6   -0.436441  -0.000000 -15.389601                        0.275196   \n",
       "7   -0.425920  -0.584139 -14.653195                        0.306928   \n",
       "8   -0.417298  -1.197238 -13.780907                        0.338304   \n",
       "9   -0.410401  -1.687717 -13.083076                        0.369681   \n",
       "10  -0.404757  -2.089018 -12.512124                        0.401057   \n",
       "11  -0.400054  -2.423436 -12.036330                        0.432433   \n",
       "12  -0.396075  -2.706404 -11.633736                        0.463809   \n",
       "13  -0.392640  -2.948885 -11.289779                        0.495155   \n",
       "14  -0.389614  -3.158908 -10.993922                        0.526435   \n",
       "15  -0.386967  -3.342678 -10.735048                        0.557715   \n",
       "16  -0.384631  -3.504828 -10.506629                        0.588996   \n",
       "17  -0.382555  -3.648961 -10.303590                        0.620276   \n",
       "18  -0.380697  -3.777923 -10.121923                        0.651556   \n",
       "19  -0.379025  -3.893988  -9.958423                        0.682836   \n",
       "20  -0.377513  -3.998999  -9.810495                        0.714117   \n",
       "\n",
       "    EX_glc__D_e   EX_ac_e   EX_co2_e    EX_o2_e       PGI   G6PDH2r  EDA  \\\n",
       "0          -0.5  0.000000   2.235762  -2.196026  0.500000  0.000000  0.0   \n",
       "1          -1.0  0.000000   3.440514  -3.307436  1.000000  0.000000  0.0   \n",
       "2          -1.5  0.000000   4.645712  -4.419314  1.500000  0.000000  0.0   \n",
       "3          -2.0  0.000000   5.856639  -5.537219  1.911361  0.088639  0.0   \n",
       "4          -2.5  0.000000   7.098777  -6.687958  2.385998  0.114002  0.0   \n",
       "5          -3.0  0.000000   8.346083  -7.844134  2.715818  0.284182  0.0   \n",
       "6          -3.5  0.000000   9.703845  -9.116509  3.022183  0.477817  0.0   \n",
       "7          -4.0  0.420944  10.559437  -9.904378  3.467087  0.532913  0.0   \n",
       "8          -4.5  0.970603  11.172201 -10.450177  3.912610  0.587390  0.0   \n",
       "9          -5.0  1.520261  11.784966 -10.995977  4.358132  0.641868  0.0   \n",
       "10         -5.5  2.069919  12.397730 -11.541777  4.803654  0.696346  0.0   \n",
       "11         -6.0  2.619577  13.010494 -12.087577  5.249176  0.750824  0.0   \n",
       "12         -6.5  3.169235  13.623259 -12.633377  5.694698  0.805302  0.0   \n",
       "13         -7.0  3.718813  14.237441 -13.180660  6.043107  0.956893  0.0   \n",
       "14         -7.5  4.268219  14.854648 -13.731108  6.184313  1.315687  0.0   \n",
       "15         -8.0  4.817625  15.471856 -14.281555  6.325519  1.674481  0.0   \n",
       "16         -8.5  5.367031  16.089063 -14.832003  6.466725  2.033275  0.0   \n",
       "17         -9.0  5.916437  16.706270 -15.382451  6.607931  2.392069  0.0   \n",
       "18         -9.5  6.465842  17.323478 -15.932898  6.749137  2.750863  0.0   \n",
       "19        -10.0  7.015248  17.940685 -16.483346  6.890344  3.109656  0.0   \n",
       "20        -10.5  7.564654  18.557892 -17.033794  7.031550  3.468450  0.0   \n",
       "\n",
       "          CS       ICL       PPC  ME1  ME2       FUM  \n",
       "0   0.738815  0.055106  0.000000  0.0  0.0  0.738212  \n",
       "1   1.125274  0.184554  0.000000  0.0  0.0  1.123254  \n",
       "2   1.511885  0.313970  0.000000  0.0  0.0  1.508448  \n",
       "3   1.898786  0.462683  0.000000  0.0  0.0  1.893937  \n",
       "4   2.446234  0.743765  0.000000  0.0  0.0  2.439997  \n",
       "5   2.953818  1.031122  0.000000  0.0  0.0  2.946198  \n",
       "6   3.452768  0.586598  0.685499  0.0  0.0  3.443851  \n",
       "7   3.622805  0.000000  1.418779  0.0  0.0  3.612860  \n",
       "8   3.668713  0.000000  1.563816  0.0  0.0  3.657752  \n",
       "9   3.714620  0.000000  1.708852  0.0  0.0  3.702643  \n",
       "10  3.760528  0.000000  1.853889  0.0  0.0  3.747534  \n",
       "11  3.806436  0.000000  1.998926  0.0  0.0  3.792425  \n",
       "12  3.852344  0.000000  2.143963  0.0  0.0  3.837317  \n",
       "13  3.866338  0.000000  2.288858  0.0  0.0  3.850295  \n",
       "14  3.812241  0.000000  2.433452  0.0  0.0  3.795184  \n",
       "15  3.758143  0.000000  2.578045  0.0  0.0  3.740073  \n",
       "16  3.704046  0.000000  2.722638  0.0  0.0  3.684963  \n",
       "17  3.649949  0.000000  2.867232  0.0  0.0  3.629852  \n",
       "18  3.595852  0.000000  3.011825  0.0  0.0  3.574741  \n",
       "19  3.541754  0.000000  3.156419  0.0  0.0  3.519630  \n",
       "20  3.487657  0.000000  3.301012  0.0  0.0  3.464520  "
      ]
     },
     "metadata": {},
     "output_type": "display_data"
    },
    {
     "name": "stdout",
     "output_type": "stream",
     "text": [
      "Plotting the results against reference values. \n",
      "\n"
     ]
    },
    {
     "data": {
      "application/vnd.plotly.v1+json": {
       "config": {
        "plotlyServerURL": "https://plot.ly"
       },
       "data": [
        {
         "marker": {
          "color": "blue"
         },
         "mode": "lines",
         "showlegend": false,
         "type": "scatter",
         "x": [
          0.5,
          1,
          1.5,
          2,
          2.5,
          3,
          3.5,
          4,
          4.5,
          5,
          5.5,
          6,
          6.5,
          7,
          7.5,
          8,
          8.5,
          9,
          9.5,
          10,
          10.5
         ],
         "xaxis": "x",
         "y": [
          0.0186183486889983,
          0.062354031549836056,
          0.10607889388288391,
          0.14966419294324043,
          0.19248912277060642,
          0.23518814317730058,
          0.27519624386807845,
          0.30692813449310585,
          0.3383043450271773,
          0.3696805555612475,
          0.4010567660953158,
          0.4324329766293881,
          0.46380918716345787,
          0.49515477869950614,
          0.5264350415892212,
          0.5577153044789543,
          0.5889955673686824,
          0.6202758302584112,
          0.6515560931481446,
          0.6828363560378724,
          0.7141166189276009
         ],
         "yaxis": "y"
        },
        {
         "line": {
          "color": "black",
          "dash": "dash",
          "width": 1
         },
         "mode": "markers",
         "showlegend": false,
         "type": "scatter",
         "x": [
          3.026939763898698,
          3.329633740288568,
          3.6191671090093127,
          4.060528951571425,
          5.0448996064978315,
          5.285132921092965,
          6.581834137779729,
          6.902899217671422,
          7.6,
          0.9,
          1.2,
          1.1,
          1.7,
          1.8,
          2,
          2.8,
          4.2,
          4.6,
          5.7,
          5.8,
          2.66,
          3.81,
          4.91,
          6.24,
          2.78,
          3.25,
          4.36,
          5.52,
          6.24,
          1.52,
          2.47,
          4.25,
          5.65,
          9.53,
          6.65,
          0.699705641075134,
          1.20466562342739,
          2.15426613631507,
          3.34514445647004,
          4.69285335134874,
          5.94577453622959,
          7.87427358145883,
          1.52,
          2.47,
          4.25,
          5.65,
          11.3,
          2.3,
          8.59,
          7.81,
          7.54,
          9.53,
          9.65
         ],
         "xaxis": "x",
         "y": [
          0.24,
          0.24,
          0.3,
          0.3,
          0.4,
          0.4,
          0.51,
          0.51,
          0.65,
          0.04,
          0.05,
          0.06,
          0.09,
          0.09,
          0.11,
          0.19,
          0.29,
          0.31,
          0.4,
          0.41,
          0.21,
          0.31,
          0.41,
          0.51,
          0.22,
          0.26,
          0.36,
          0.46,
          0.51,
          0.1,
          0.2,
          0.3,
          0.4,
          0.73,
          0.61,
          0.053081052066559324,
          0.10184034966643697,
          0.19179894179894202,
          0.29827191166321626,
          0.41134192163177646,
          0.4960317460317463,
          0.6022629399585918,
          0.1,
          0.2,
          0.3,
          0.4,
          0.85,
          0.12,
          0.69,
          0.59,
          0.61,
          0.73,
          0.65
         ],
         "yaxis": "y"
        },
        {
         "marker": {
          "color": "blue"
         },
         "mode": "lines",
         "showlegend": false,
         "type": "scatter",
         "x": [
          0.5,
          1,
          1.5,
          2,
          2.5,
          3,
          3.5,
          4,
          4.5,
          5,
          5.5,
          6,
          6.5,
          7,
          7.5,
          8,
          8.5,
          9,
          9.5,
          10,
          10.5
         ],
         "xaxis": "x2",
         "y": [
          0,
          0,
          0,
          0,
          0,
          0,
          0,
          0.4209443192102853,
          0.9706025317993028,
          1.520260744388349,
          2.0699189569774434,
          2.6195771695664387,
          3.1692353821555077,
          3.718813070286813,
          4.268218951562289,
          4.817624832837351,
          5.367030714112494,
          5.916436595387616,
          6.465842476662678,
          7.015248357937821,
          7.564654239212954
         ],
         "yaxis": "y2"
        },
        {
         "line": {
          "color": "black",
          "dash": "dash",
          "width": 1
         },
         "mode": "markers",
         "showlegend": false,
         "type": "scatter",
         "x": [
          3.026939763898698,
          3.329633740288568,
          3.6191671090093127,
          4.060528951571425,
          5.0448996064978315,
          5.285132921092965,
          6.581834137779729,
          6.902899217671422,
          7.6,
          0.9,
          1.2,
          1.1,
          1.7,
          1.8,
          2,
          2.8,
          4.2,
          4.6,
          5.7,
          5.8,
          2.66,
          3.81,
          4.91,
          6.24,
          2.78,
          3.25,
          4.36,
          5.52,
          6.24,
          1.52,
          2.47,
          4.25,
          5.65,
          9.53,
          6.65,
          0.699705641075134,
          1.20466562342739,
          2.15426613631507,
          3.34514445647004,
          4.69285335134874,
          5.94577453622959,
          7.87427358145883,
          1.52,
          2.47,
          4.25,
          5.65,
          11.3,
          2.3,
          8.59,
          7.81,
          7.54,
          9.53,
          9.65
         ],
         "xaxis": "x2",
         "y": [
          0,
          0,
          0.159,
          0.27,
          0.68,
          0.6240000000000001,
          1.6575,
          1.7085000000000001,
          4.8,
          0,
          0,
          0,
          0,
          0,
          0,
          0,
          0,
          0,
          0,
          0,
          null,
          null,
          null,
          null,
          null,
          null,
          null,
          null,
          null,
          0,
          0,
          0,
          0,
          3.49,
          2.95,
          0,
          0,
          0,
          0,
          0.15509028470145123,
          1.8416971308297332,
          6.1094494294893105,
          null,
          null,
          null,
          null,
          7.1,
          0,
          3.91,
          3.26,
          2.72,
          3.49,
          6.83
         ],
         "yaxis": "y2"
        },
        {
         "marker": {
          "color": "blue"
         },
         "mode": "lines",
         "showlegend": false,
         "type": "scatter",
         "x": [
          0.5,
          1,
          1.5,
          2,
          2.5,
          3,
          3.5,
          4,
          4.5,
          5,
          5.5,
          6,
          6.5,
          7,
          7.5,
          8,
          8.5,
          9,
          9.5,
          10,
          10.5
         ],
         "xaxis": "x3",
         "y": [
          2.196025976470401,
          3.3074357232757663,
          4.419313986856089,
          5.537218854860839,
          6.6879578954590215,
          7.844133941488963,
          9.11650895843593,
          9.904377642738382,
          10.450177475111445,
          10.995977307484509,
          11.541777139857459,
          12.087576972230636,
          12.6333768046037,
          13.180659871775447,
          13.731107566392097,
          14.281555261009316,
          14.832002955626422,
          15.382450650243527,
          15.932898344860746,
          16.48334603947785,
          17.033793734094957
         ],
         "yaxis": "y3"
        },
        {
         "line": {
          "color": "black",
          "dash": "dash",
          "width": 1
         },
         "mode": "markers",
         "showlegend": false,
         "type": "scatter",
         "x": [
          3.026939763898698,
          3.329633740288568,
          3.6191671090093127,
          4.060528951571425,
          5.0448996064978315,
          5.285132921092965,
          6.581834137779729,
          6.902899217671422,
          7.6,
          0.9,
          1.2,
          1.1,
          1.7,
          1.8,
          2,
          2.8,
          4.2,
          4.6,
          5.7,
          5.8,
          2.66,
          3.81,
          4.91,
          6.24,
          2.78,
          3.25,
          4.36,
          5.52,
          6.24,
          1.52,
          2.47,
          4.25,
          5.65,
          9.53,
          6.65,
          0.699705641075134,
          1.20466562342739,
          2.15426613631507,
          3.34514445647004,
          4.69285335134874,
          5.94577453622959,
          7.87427358145883,
          1.52,
          2.47,
          4.25,
          5.65,
          11.3,
          2.3,
          8.59,
          7.81,
          7.54,
          9.53,
          9.65
         ],
         "xaxis": "x3",
         "y": [
          null,
          null,
          null,
          null,
          null,
          null,
          null,
          null,
          null,
          null,
          null,
          null,
          null,
          null,
          null,
          null,
          null,
          null,
          null,
          null,
          null,
          null,
          null,
          null,
          null,
          null,
          null,
          null,
          null,
          null,
          null,
          null,
          null,
          null,
          null,
          2.16183574879227,
          2.88647342995169,
          4.7463768115942,
          10,
          10.6400966183575,
          15.3743961352657,
          13.1884057971015,
          4.75,
          6.64,
          12.58,
          16.82,
          18.8,
          8.7,
          null,
          null,
          null,
          null,
          null
         ],
         "yaxis": "y3"
        },
        {
         "marker": {
          "color": "blue"
         },
         "mode": "lines",
         "showlegend": false,
         "type": "scatter",
         "x": [
          0.5,
          1,
          1.5,
          2,
          2.5,
          3,
          3.5,
          4,
          4.5,
          5,
          5.5,
          6,
          6.5,
          7,
          7.5,
          8,
          8.5,
          9,
          9.5,
          10,
          10.5
         ],
         "xaxis": "x4",
         "y": [
          2.235761954430537,
          3.4405144098097944,
          4.645712176612844,
          5.856638685832877,
          7.098776554552842,
          8.346082707342134,
          9.70384475313574,
          10.559437018747417,
          11.172201324507455,
          11.784965630267493,
          12.397729936027417,
          13.010494241787569,
          13.623258547547493,
          14.237440739708745,
          14.854648132076136,
          15.471855524444095,
          16.089062916811827,
          16.706270309179672,
          17.323477701547517,
          17.940685093915363,
          18.557892486283095
         ],
         "yaxis": "y4"
        },
        {
         "line": {
          "color": "black",
          "dash": "dash",
          "width": 1
         },
         "mode": "markers",
         "showlegend": false,
         "type": "scatter",
         "x": [
          3.026939763898698,
          3.329633740288568,
          3.6191671090093127,
          4.060528951571425,
          5.0448996064978315,
          5.285132921092965,
          6.581834137779729,
          6.902899217671422,
          7.6,
          0.9,
          1.2,
          1.1,
          1.7,
          1.8,
          2,
          2.8,
          4.2,
          4.6,
          5.7,
          5.8,
          2.66,
          3.81,
          4.91,
          6.24,
          2.78,
          3.25,
          4.36,
          5.52,
          6.24,
          1.52,
          2.47,
          4.25,
          5.65,
          9.53,
          6.65,
          0.699705641075134,
          1.20466562342739,
          2.15426613631507,
          3.34514445647004,
          4.69285335134874,
          5.94577453622959,
          7.87427358145883,
          1.52,
          2.47,
          4.25,
          5.65,
          11.3,
          2.3,
          8.59,
          7.81,
          7.54,
          9.53,
          9.65
         ],
         "xaxis": "x4",
         "y": [
          6.6144,
          7.2288,
          8.265,
          8.157,
          10.496,
          9.544,
          null,
          10.8069,
          null,
          null,
          null,
          null,
          null,
          null,
          null,
          null,
          null,
          null,
          null,
          null,
          null,
          null,
          null,
          null,
          null,
          null,
          null,
          null,
          null,
          null,
          null,
          null,
          null,
          null,
          null,
          1.9871489766777723,
          2.8081865778200856,
          4.53117563065207,
          6.590909090909091,
          8.689909566872917,
          10.298667301285102,
          8.57686815801999,
          4.6968,
          6.8913,
          13.107000000000001,
          17.3568,
          19.6,
          9,
          null,
          null,
          null,
          null,
          null
         ],
         "yaxis": "y4"
        }
       ],
       "layout": {
        "annotations": [
         {
          "font": {
           "size": 16
          },
          "showarrow": false,
          "text": "Glucose consumption",
          "x": 0.225,
          "xanchor": "center",
          "xref": "paper",
          "y": 1,
          "yanchor": "bottom",
          "yref": "paper"
         },
         {
          "font": {
           "size": 16
          },
          "showarrow": false,
          "text": "Acetate production",
          "x": 0.775,
          "xanchor": "center",
          "xref": "paper",
          "y": 1,
          "yanchor": "bottom",
          "yref": "paper"
         },
         {
          "font": {
           "size": 16
          },
          "showarrow": false,
          "text": "O2 consumption",
          "x": 0.225,
          "xanchor": "center",
          "xref": "paper",
          "y": 0.375,
          "yanchor": "bottom",
          "yref": "paper"
         },
         {
          "font": {
           "size": 16
          },
          "showarrow": false,
          "text": "CO2 production",
          "x": 0.775,
          "xanchor": "center",
          "xref": "paper",
          "y": 0.375,
          "yanchor": "bottom",
          "yref": "paper"
         }
        ],
        "autosize": true,
        "template": {
         "data": {
          "bar": [
           {
            "error_x": {
             "color": "#2a3f5f"
            },
            "error_y": {
             "color": "#2a3f5f"
            },
            "marker": {
             "line": {
              "color": "#E5ECF6",
              "width": 0.5
             },
             "pattern": {
              "fillmode": "overlay",
              "size": 10,
              "solidity": 0.2
             }
            },
            "type": "bar"
           }
          ],
          "barpolar": [
           {
            "marker": {
             "line": {
              "color": "#E5ECF6",
              "width": 0.5
             },
             "pattern": {
              "fillmode": "overlay",
              "size": 10,
              "solidity": 0.2
             }
            },
            "type": "barpolar"
           }
          ],
          "carpet": [
           {
            "aaxis": {
             "endlinecolor": "#2a3f5f",
             "gridcolor": "white",
             "linecolor": "white",
             "minorgridcolor": "white",
             "startlinecolor": "#2a3f5f"
            },
            "baxis": {
             "endlinecolor": "#2a3f5f",
             "gridcolor": "white",
             "linecolor": "white",
             "minorgridcolor": "white",
             "startlinecolor": "#2a3f5f"
            },
            "type": "carpet"
           }
          ],
          "choropleth": [
           {
            "colorbar": {
             "outlinewidth": 0,
             "ticks": ""
            },
            "type": "choropleth"
           }
          ],
          "contour": [
           {
            "colorbar": {
             "outlinewidth": 0,
             "ticks": ""
            },
            "colorscale": [
             [
              0,
              "#0d0887"
             ],
             [
              0.1111111111111111,
              "#46039f"
             ],
             [
              0.2222222222222222,
              "#7201a8"
             ],
             [
              0.3333333333333333,
              "#9c179e"
             ],
             [
              0.4444444444444444,
              "#bd3786"
             ],
             [
              0.5555555555555556,
              "#d8576b"
             ],
             [
              0.6666666666666666,
              "#ed7953"
             ],
             [
              0.7777777777777778,
              "#fb9f3a"
             ],
             [
              0.8888888888888888,
              "#fdca26"
             ],
             [
              1,
              "#f0f921"
             ]
            ],
            "type": "contour"
           }
          ],
          "contourcarpet": [
           {
            "colorbar": {
             "outlinewidth": 0,
             "ticks": ""
            },
            "type": "contourcarpet"
           }
          ],
          "heatmap": [
           {
            "colorbar": {
             "outlinewidth": 0,
             "ticks": ""
            },
            "colorscale": [
             [
              0,
              "#0d0887"
             ],
             [
              0.1111111111111111,
              "#46039f"
             ],
             [
              0.2222222222222222,
              "#7201a8"
             ],
             [
              0.3333333333333333,
              "#9c179e"
             ],
             [
              0.4444444444444444,
              "#bd3786"
             ],
             [
              0.5555555555555556,
              "#d8576b"
             ],
             [
              0.6666666666666666,
              "#ed7953"
             ],
             [
              0.7777777777777778,
              "#fb9f3a"
             ],
             [
              0.8888888888888888,
              "#fdca26"
             ],
             [
              1,
              "#f0f921"
             ]
            ],
            "type": "heatmap"
           }
          ],
          "heatmapgl": [
           {
            "colorbar": {
             "outlinewidth": 0,
             "ticks": ""
            },
            "colorscale": [
             [
              0,
              "#0d0887"
             ],
             [
              0.1111111111111111,
              "#46039f"
             ],
             [
              0.2222222222222222,
              "#7201a8"
             ],
             [
              0.3333333333333333,
              "#9c179e"
             ],
             [
              0.4444444444444444,
              "#bd3786"
             ],
             [
              0.5555555555555556,
              "#d8576b"
             ],
             [
              0.6666666666666666,
              "#ed7953"
             ],
             [
              0.7777777777777778,
              "#fb9f3a"
             ],
             [
              0.8888888888888888,
              "#fdca26"
             ],
             [
              1,
              "#f0f921"
             ]
            ],
            "type": "heatmapgl"
           }
          ],
          "histogram": [
           {
            "marker": {
             "pattern": {
              "fillmode": "overlay",
              "size": 10,
              "solidity": 0.2
             }
            },
            "type": "histogram"
           }
          ],
          "histogram2d": [
           {
            "colorbar": {
             "outlinewidth": 0,
             "ticks": ""
            },
            "colorscale": [
             [
              0,
              "#0d0887"
             ],
             [
              0.1111111111111111,
              "#46039f"
             ],
             [
              0.2222222222222222,
              "#7201a8"
             ],
             [
              0.3333333333333333,
              "#9c179e"
             ],
             [
              0.4444444444444444,
              "#bd3786"
             ],
             [
              0.5555555555555556,
              "#d8576b"
             ],
             [
              0.6666666666666666,
              "#ed7953"
             ],
             [
              0.7777777777777778,
              "#fb9f3a"
             ],
             [
              0.8888888888888888,
              "#fdca26"
             ],
             [
              1,
              "#f0f921"
             ]
            ],
            "type": "histogram2d"
           }
          ],
          "histogram2dcontour": [
           {
            "colorbar": {
             "outlinewidth": 0,
             "ticks": ""
            },
            "colorscale": [
             [
              0,
              "#0d0887"
             ],
             [
              0.1111111111111111,
              "#46039f"
             ],
             [
              0.2222222222222222,
              "#7201a8"
             ],
             [
              0.3333333333333333,
              "#9c179e"
             ],
             [
              0.4444444444444444,
              "#bd3786"
             ],
             [
              0.5555555555555556,
              "#d8576b"
             ],
             [
              0.6666666666666666,
              "#ed7953"
             ],
             [
              0.7777777777777778,
              "#fb9f3a"
             ],
             [
              0.8888888888888888,
              "#fdca26"
             ],
             [
              1,
              "#f0f921"
             ]
            ],
            "type": "histogram2dcontour"
           }
          ],
          "mesh3d": [
           {
            "colorbar": {
             "outlinewidth": 0,
             "ticks": ""
            },
            "type": "mesh3d"
           }
          ],
          "parcoords": [
           {
            "line": {
             "colorbar": {
              "outlinewidth": 0,
              "ticks": ""
             }
            },
            "type": "parcoords"
           }
          ],
          "pie": [
           {
            "automargin": true,
            "type": "pie"
           }
          ],
          "scatter": [
           {
            "fillpattern": {
             "fillmode": "overlay",
             "size": 10,
             "solidity": 0.2
            },
            "type": "scatter"
           }
          ],
          "scatter3d": [
           {
            "line": {
             "colorbar": {
              "outlinewidth": 0,
              "ticks": ""
             }
            },
            "marker": {
             "colorbar": {
              "outlinewidth": 0,
              "ticks": ""
             }
            },
            "type": "scatter3d"
           }
          ],
          "scattercarpet": [
           {
            "marker": {
             "colorbar": {
              "outlinewidth": 0,
              "ticks": ""
             }
            },
            "type": "scattercarpet"
           }
          ],
          "scattergeo": [
           {
            "marker": {
             "colorbar": {
              "outlinewidth": 0,
              "ticks": ""
             }
            },
            "type": "scattergeo"
           }
          ],
          "scattergl": [
           {
            "marker": {
             "colorbar": {
              "outlinewidth": 0,
              "ticks": ""
             }
            },
            "type": "scattergl"
           }
          ],
          "scattermapbox": [
           {
            "marker": {
             "colorbar": {
              "outlinewidth": 0,
              "ticks": ""
             }
            },
            "type": "scattermapbox"
           }
          ],
          "scatterpolar": [
           {
            "marker": {
             "colorbar": {
              "outlinewidth": 0,
              "ticks": ""
             }
            },
            "type": "scatterpolar"
           }
          ],
          "scatterpolargl": [
           {
            "marker": {
             "colorbar": {
              "outlinewidth": 0,
              "ticks": ""
             }
            },
            "type": "scatterpolargl"
           }
          ],
          "scatterternary": [
           {
            "marker": {
             "colorbar": {
              "outlinewidth": 0,
              "ticks": ""
             }
            },
            "type": "scatterternary"
           }
          ],
          "surface": [
           {
            "colorbar": {
             "outlinewidth": 0,
             "ticks": ""
            },
            "colorscale": [
             [
              0,
              "#0d0887"
             ],
             [
              0.1111111111111111,
              "#46039f"
             ],
             [
              0.2222222222222222,
              "#7201a8"
             ],
             [
              0.3333333333333333,
              "#9c179e"
             ],
             [
              0.4444444444444444,
              "#bd3786"
             ],
             [
              0.5555555555555556,
              "#d8576b"
             ],
             [
              0.6666666666666666,
              "#ed7953"
             ],
             [
              0.7777777777777778,
              "#fb9f3a"
             ],
             [
              0.8888888888888888,
              "#fdca26"
             ],
             [
              1,
              "#f0f921"
             ]
            ],
            "type": "surface"
           }
          ],
          "table": [
           {
            "cells": {
             "fill": {
              "color": "#EBF0F8"
             },
             "line": {
              "color": "white"
             }
            },
            "header": {
             "fill": {
              "color": "#C8D4E3"
             },
             "line": {
              "color": "white"
             }
            },
            "type": "table"
           }
          ]
         },
         "layout": {
          "annotationdefaults": {
           "arrowcolor": "#2a3f5f",
           "arrowhead": 0,
           "arrowwidth": 1
          },
          "autotypenumbers": "strict",
          "coloraxis": {
           "colorbar": {
            "outlinewidth": 0,
            "ticks": ""
           }
          },
          "colorscale": {
           "diverging": [
            [
             0,
             "#8e0152"
            ],
            [
             0.1,
             "#c51b7d"
            ],
            [
             0.2,
             "#de77ae"
            ],
            [
             0.3,
             "#f1b6da"
            ],
            [
             0.4,
             "#fde0ef"
            ],
            [
             0.5,
             "#f7f7f7"
            ],
            [
             0.6,
             "#e6f5d0"
            ],
            [
             0.7,
             "#b8e186"
            ],
            [
             0.8,
             "#7fbc41"
            ],
            [
             0.9,
             "#4d9221"
            ],
            [
             1,
             "#276419"
            ]
           ],
           "sequential": [
            [
             0,
             "#0d0887"
            ],
            [
             0.1111111111111111,
             "#46039f"
            ],
            [
             0.2222222222222222,
             "#7201a8"
            ],
            [
             0.3333333333333333,
             "#9c179e"
            ],
            [
             0.4444444444444444,
             "#bd3786"
            ],
            [
             0.5555555555555556,
             "#d8576b"
            ],
            [
             0.6666666666666666,
             "#ed7953"
            ],
            [
             0.7777777777777778,
             "#fb9f3a"
            ],
            [
             0.8888888888888888,
             "#fdca26"
            ],
            [
             1,
             "#f0f921"
            ]
           ],
           "sequentialminus": [
            [
             0,
             "#0d0887"
            ],
            [
             0.1111111111111111,
             "#46039f"
            ],
            [
             0.2222222222222222,
             "#7201a8"
            ],
            [
             0.3333333333333333,
             "#9c179e"
            ],
            [
             0.4444444444444444,
             "#bd3786"
            ],
            [
             0.5555555555555556,
             "#d8576b"
            ],
            [
             0.6666666666666666,
             "#ed7953"
            ],
            [
             0.7777777777777778,
             "#fb9f3a"
            ],
            [
             0.8888888888888888,
             "#fdca26"
            ],
            [
             1,
             "#f0f921"
            ]
           ]
          },
          "colorway": [
           "#636efa",
           "#EF553B",
           "#00cc96",
           "#ab63fa",
           "#FFA15A",
           "#19d3f3",
           "#FF6692",
           "#B6E880",
           "#FF97FF",
           "#FECB52"
          ],
          "font": {
           "color": "#2a3f5f"
          },
          "geo": {
           "bgcolor": "white",
           "lakecolor": "white",
           "landcolor": "#E5ECF6",
           "showlakes": true,
           "showland": true,
           "subunitcolor": "white"
          },
          "hoverlabel": {
           "align": "left"
          },
          "hovermode": "closest",
          "mapbox": {
           "style": "light"
          },
          "paper_bgcolor": "white",
          "plot_bgcolor": "#E5ECF6",
          "polar": {
           "angularaxis": {
            "gridcolor": "white",
            "linecolor": "white",
            "ticks": ""
           },
           "bgcolor": "#E5ECF6",
           "radialaxis": {
            "gridcolor": "white",
            "linecolor": "white",
            "ticks": ""
           }
          },
          "scene": {
           "xaxis": {
            "backgroundcolor": "#E5ECF6",
            "gridcolor": "white",
            "gridwidth": 2,
            "linecolor": "white",
            "showbackground": true,
            "ticks": "",
            "zerolinecolor": "white"
           },
           "yaxis": {
            "backgroundcolor": "#E5ECF6",
            "gridcolor": "white",
            "gridwidth": 2,
            "linecolor": "white",
            "showbackground": true,
            "ticks": "",
            "zerolinecolor": "white"
           },
           "zaxis": {
            "backgroundcolor": "#E5ECF6",
            "gridcolor": "white",
            "gridwidth": 2,
            "linecolor": "white",
            "showbackground": true,
            "ticks": "",
            "zerolinecolor": "white"
           }
          },
          "shapedefaults": {
           "line": {
            "color": "#2a3f5f"
           }
          },
          "ternary": {
           "aaxis": {
            "gridcolor": "white",
            "linecolor": "white",
            "ticks": ""
           },
           "baxis": {
            "gridcolor": "white",
            "linecolor": "white",
            "ticks": ""
           },
           "bgcolor": "#E5ECF6",
           "caxis": {
            "gridcolor": "white",
            "linecolor": "white",
            "ticks": ""
           }
          },
          "title": {
           "x": 0.05
          },
          "xaxis": {
           "automargin": true,
           "gridcolor": "white",
           "linecolor": "white",
           "ticks": "",
           "title": {
            "standoff": 15
           },
           "zerolinecolor": "white",
           "zerolinewidth": 2
          },
          "yaxis": {
           "automargin": true,
           "gridcolor": "white",
           "linecolor": "white",
           "ticks": "",
           "title": {
            "standoff": 15
           },
           "zerolinecolor": "white",
           "zerolinewidth": 2
          }
         }
        },
        "xaxis": {
         "anchor": "y",
         "autorange": true,
         "domain": [
          0,
          0.45
         ],
         "range": [
          -0.0052812146966175755,
          12.004986855771753
         ],
         "title": {
          "text": "Glucose consumption [mmol/gdw/h]"
         },
         "type": "linear"
        },
        "xaxis2": {
         "anchor": "y2",
         "autorange": true,
         "domain": [
          0.55,
          1
         ],
         "range": [
          -0.0052812146966176865,
          12.004986855771753
         ],
         "title": {
          "text": "Glucose consumption [mmol/gdw/h]"
         },
         "type": "linear"
        },
        "xaxis3": {
         "anchor": "y3",
         "autorange": true,
         "domain": [
          0,
          0.45
         ],
         "range": [
          -0.0052812146966175755,
          12.004986855771753
         ],
         "title": {
          "text": "Glucose consumption [mmol/gdw/h]"
         },
         "type": "linear"
        },
        "xaxis4": {
         "anchor": "y4",
         "autorange": true,
         "domain": [
          0.55,
          1
         ],
         "range": [
          -0.0052812146966176865,
          12.004986855771753
         ],
         "title": {
          "text": "Glucose consumption [mmol/gdw/h]"
         },
         "type": "linear"
        },
        "yaxis": {
         "anchor": "x",
         "autorange": true,
         "domain": [
          0.625,
          1
         ],
         "range": [
          0.0186183486889983,
          0.85
         ],
         "title": {
          "text": "Growth rate [1/h]"
         },
         "type": "linear"
        },
        "yaxis2": {
         "anchor": "x2",
         "autorange": true,
         "domain": [
          0.625,
          1
         ],
         "range": [
          0,
          7.564654239212954
         ],
         "title": {
          "text": "Acetate production rate [mmol/gdw/h]"
         },
         "type": "linear"
        },
        "yaxis3": {
         "anchor": "x3",
         "autorange": true,
         "domain": [
          0,
          0.375
         ],
         "range": [
          2.16183574879227,
          18.8
         ],
         "title": {
          "text": "O2 consumption rate [mmol/gdw/h]"
         },
         "type": "linear"
        },
        "yaxis4": {
         "anchor": "x4",
         "autorange": true,
         "domain": [
          0,
          0.375
         ],
         "range": [
          1.9871489766777723,
          19.6
         ],
         "title": {
          "text": "CO2 production rate [mmol/gdw/h]"
         },
         "type": "linear"
        }
       }
      },
      "image/png": "[encoded data removed]",
      "text/html": [
       "<div>                            <div id=\"0fbc7bf7-c694-45a1-8a72-00c3a6453312\" class=\"plotly-graph-div\" style=\"height:525px; width:100%;\"></div>            <script type=\"text/javascript\">                require([\"plotly\"], function(Plotly) {                    window.PLOTLYENV=window.PLOTLYENV || {};                                    if (document.getElementById(\"0fbc7bf7-c694-45a1-8a72-00c3a6453312\")) {                    Plotly.newPlot(                        \"0fbc7bf7-c694-45a1-8a72-00c3a6453312\",                        [{\"marker\":{\"color\":\"blue\"},\"mode\":\"lines\",\"showlegend\":false,\"x\":[0.5,1.0,1.5,2.0,2.5,3.0,3.5,4.0,4.5,5.0,5.5,6.0,6.5,7.0,7.5,8.0,8.5,9.0,9.5,10.0,10.5],\"y\":[0.0186183486889983,0.062354031549836056,0.10607889388288391,0.14966419294324043,0.19248912277060642,0.23518814317730058,0.27519624386807845,0.30692813449310585,0.3383043450271773,0.3696805555612475,0.4010567660953158,0.4324329766293881,0.46380918716345787,0.49515477869950614,0.5264350415892212,0.5577153044789543,0.5889955673686824,0.6202758302584112,0.6515560931481446,0.6828363560378724,0.7141166189276009],\"type\":\"scatter\",\"xaxis\":\"x\",\"yaxis\":\"y\"},{\"line\":{\"color\":\"black\",\"dash\":\"dash\",\"width\":1},\"mode\":\"markers\",\"showlegend\":false,\"x\":[3.026939763898698,3.329633740288568,3.6191671090093127,4.060528951571425,5.0448996064978315,5.285132921092965,6.581834137779729,6.902899217671422,7.6,0.9,1.2,1.1,1.7,1.8,2.0,2.8,4.2,4.6,5.7,5.8,2.66,3.81,4.91,6.24,2.78,3.25,4.36,5.52,6.24,1.52,2.47,4.25,5.65,9.53,6.65,0.699705641075134,1.20466562342739,2.15426613631507,3.34514445647004,4.69285335134874,5.94577453622959,7.87427358145883,1.52,2.47,4.25,5.65,11.3,2.3,8.59,7.81,7.54,9.53,9.65],\"y\":[0.24,0.24,0.3,0.3,0.4,0.4,0.51,0.51,0.65,0.04,0.05,0.06,0.09,0.09,0.11,0.19,0.29,0.31,0.4,0.41,0.21,0.31,0.41,0.51,0.22,0.26,0.36,0.46,0.51,0.1,0.2,0.3,0.4,0.73,0.61,0.053081052066559324,0.10184034966643697,0.19179894179894202,0.29827191166321626,0.41134192163177646,0.4960317460317463,0.6022629399585918,0.1,0.2,0.3,0.4,0.85,0.12,0.69,0.59,0.61,0.73,0.65],\"type\":\"scatter\",\"xaxis\":\"x\",\"yaxis\":\"y\"},{\"marker\":{\"color\":\"blue\"},\"mode\":\"lines\",\"showlegend\":false,\"x\":[0.5,1.0,1.5,2.0,2.5,3.0,3.5,4.0,4.5,5.0,5.5,6.0,6.5,7.0,7.5,8.0,8.5,9.0,9.5,10.0,10.5],\"y\":[0.0,0.0,0.0,0.0,0.0,0.0,0.0,0.4209443192102853,0.9706025317993028,1.520260744388349,2.0699189569774434,2.6195771695664387,3.1692353821555077,3.718813070286813,4.268218951562289,4.817624832837351,5.367030714112494,5.916436595387616,6.465842476662678,7.015248357937821,7.564654239212954],\"type\":\"scatter\",\"xaxis\":\"x2\",\"yaxis\":\"y2\"},{\"line\":{\"color\":\"black\",\"dash\":\"dash\",\"width\":1},\"mode\":\"markers\",\"showlegend\":false,\"x\":[3.026939763898698,3.329633740288568,3.6191671090093127,4.060528951571425,5.0448996064978315,5.285132921092965,6.581834137779729,6.902899217671422,7.6,0.9,1.2,1.1,1.7,1.8,2.0,2.8,4.2,4.6,5.7,5.8,2.66,3.81,4.91,6.24,2.78,3.25,4.36,5.52,6.24,1.52,2.47,4.25,5.65,9.53,6.65,0.699705641075134,1.20466562342739,2.15426613631507,3.34514445647004,4.69285335134874,5.94577453622959,7.87427358145883,1.52,2.47,4.25,5.65,11.3,2.3,8.59,7.81,7.54,9.53,9.65],\"y\":[0.0,0.0,0.159,0.27,0.68,0.6240000000000001,1.6575,1.7085000000000001,4.8,0.0,0.0,0.0,0.0,0.0,0.0,0.0,0.0,0.0,0.0,0.0,null,null,null,null,null,null,null,null,null,0.0,0.0,0.0,0.0,3.49,2.95,0.0,0.0,0.0,0.0,0.15509028470145123,1.8416971308297332,6.1094494294893105,null,null,null,null,7.1,0.0,3.91,3.26,2.72,3.49,6.83],\"type\":\"scatter\",\"xaxis\":\"x2\",\"yaxis\":\"y2\"},{\"marker\":{\"color\":\"blue\"},\"mode\":\"lines\",\"showlegend\":false,\"x\":[0.5,1.0,1.5,2.0,2.5,3.0,3.5,4.0,4.5,5.0,5.5,6.0,6.5,7.0,7.5,8.0,8.5,9.0,9.5,10.0,10.5],\"y\":[2.196025976470401,3.3074357232757663,4.419313986856089,5.537218854860839,6.6879578954590215,7.844133941488963,9.11650895843593,9.904377642738382,10.450177475111445,10.995977307484509,11.541777139857459,12.087576972230636,12.6333768046037,13.180659871775447,13.731107566392097,14.281555261009316,14.832002955626422,15.382450650243527,15.932898344860746,16.48334603947785,17.033793734094957],\"type\":\"scatter\",\"xaxis\":\"x3\",\"yaxis\":\"y3\"},{\"line\":{\"color\":\"black\",\"dash\":\"dash\",\"width\":1},\"mode\":\"markers\",\"showlegend\":false,\"x\":[3.026939763898698,3.329633740288568,3.6191671090093127,4.060528951571425,5.0448996064978315,5.285132921092965,6.581834137779729,6.902899217671422,7.6,0.9,1.2,1.1,1.7,1.8,2.0,2.8,4.2,4.6,5.7,5.8,2.66,3.81,4.91,6.24,2.78,3.25,4.36,5.52,6.24,1.52,2.47,4.25,5.65,9.53,6.65,0.699705641075134,1.20466562342739,2.15426613631507,3.34514445647004,4.69285335134874,5.94577453622959,7.87427358145883,1.52,2.47,4.25,5.65,11.3,2.3,8.59,7.81,7.54,9.53,9.65],\"y\":[null,null,null,null,null,null,null,null,null,null,null,null,null,null,null,null,null,null,null,null,null,null,null,null,null,null,null,null,null,null,null,null,null,null,null,2.16183574879227,2.88647342995169,4.7463768115942,10.0,10.6400966183575,15.3743961352657,13.1884057971015,4.75,6.64,12.58,16.82,18.8,8.7,null,null,null,null,null],\"type\":\"scatter\",\"xaxis\":\"x3\",\"yaxis\":\"y3\"},{\"marker\":{\"color\":\"blue\"},\"mode\":\"lines\",\"showlegend\":false,\"x\":[0.5,1.0,1.5,2.0,2.5,3.0,3.5,4.0,4.5,5.0,5.5,6.0,6.5,7.0,7.5,8.0,8.5,9.0,9.5,10.0,10.5],\"y\":[2.235761954430537,3.4405144098097944,4.645712176612844,5.856638685832877,7.098776554552842,8.346082707342134,9.70384475313574,10.559437018747417,11.172201324507455,11.784965630267493,12.397729936027417,13.010494241787569,13.623258547547493,14.237440739708745,14.854648132076136,15.471855524444095,16.089062916811827,16.706270309179672,17.323477701547517,17.940685093915363,18.557892486283095],\"type\":\"scatter\",\"xaxis\":\"x4\",\"yaxis\":\"y4\"},{\"line\":{\"color\":\"black\",\"dash\":\"dash\",\"width\":1},\"mode\":\"markers\",\"showlegend\":false,\"x\":[3.026939763898698,3.329633740288568,3.6191671090093127,4.060528951571425,5.0448996064978315,5.285132921092965,6.581834137779729,6.902899217671422,7.6,0.9,1.2,1.1,1.7,1.8,2.0,2.8,4.2,4.6,5.7,5.8,2.66,3.81,4.91,6.24,2.78,3.25,4.36,5.52,6.24,1.52,2.47,4.25,5.65,9.53,6.65,0.699705641075134,1.20466562342739,2.15426613631507,3.34514445647004,4.69285335134874,5.94577453622959,7.87427358145883,1.52,2.47,4.25,5.65,11.3,2.3,8.59,7.81,7.54,9.53,9.65],\"y\":[6.6144,7.2288,8.265,8.157,10.496,9.544,null,10.8069,null,null,null,null,null,null,null,null,null,null,null,null,null,null,null,null,null,null,null,null,null,null,null,null,null,null,null,1.9871489766777723,2.8081865778200856,4.53117563065207,6.590909090909091,8.689909566872917,10.298667301285102,8.57686815801999,4.6968,6.8913,13.107000000000001,17.3568,19.6,9.0,null,null,null,null,null],\"type\":\"scatter\",\"xaxis\":\"x4\",\"yaxis\":\"y4\"}],                        {\"template\":{\"data\":{\"histogram2dcontour\":[{\"type\":\"histogram2dcontour\",\"colorbar\":{\"outlinewidth\":0,\"ticks\":\"\"},\"colorscale\":[[0.0,\"#0d0887\"],[0.1111111111111111,\"#46039f\"],[0.2222222222222222,\"#7201a8\"],[0.3333333333333333,\"#9c179e\"],[0.4444444444444444,\"#bd3786\"],[0.5555555555555556,\"#d8576b\"],[0.6666666666666666,\"#ed7953\"],[0.7777777777777778,\"#fb9f3a\"],[0.8888888888888888,\"#fdca26\"],[1.0,\"#f0f921\"]]}],\"choropleth\":[{\"type\":\"choropleth\",\"colorbar\":{\"outlinewidth\":0,\"ticks\":\"\"}}],\"histogram2d\":[{\"type\":\"histogram2d\",\"colorbar\":{\"outlinewidth\":0,\"ticks\":\"\"},\"colorscale\":[[0.0,\"#0d0887\"],[0.1111111111111111,\"#46039f\"],[0.2222222222222222,\"#7201a8\"],[0.3333333333333333,\"#9c179e\"],[0.4444444444444444,\"#bd3786\"],[0.5555555555555556,\"#d8576b\"],[0.6666666666666666,\"#ed7953\"],[0.7777777777777778,\"#fb9f3a\"],[0.8888888888888888,\"#fdca26\"],[1.0,\"#f0f921\"]]}],\"heatmap\":[{\"type\":\"heatmap\",\"colorbar\":{\"outlinewidth\":0,\"ticks\":\"\"},\"colorscale\":[[0.0,\"#0d0887\"],[0.1111111111111111,\"#46039f\"],[0.2222222222222222,\"#7201a8\"],[0.3333333333333333,\"#9c179e\"],[0.4444444444444444,\"#bd3786\"],[0.5555555555555556,\"#d8576b\"],[0.6666666666666666,\"#ed7953\"],[0.7777777777777778,\"#fb9f3a\"],[0.8888888888888888,\"#fdca26\"],[1.0,\"#f0f921\"]]}],\"heatmapgl\":[{\"type\":\"heatmapgl\",\"colorbar\":{\"outlinewidth\":0,\"ticks\":\"\"},\"colorscale\":[[0.0,\"#0d0887\"],[0.1111111111111111,\"#46039f\"],[0.2222222222222222,\"#7201a8\"],[0.3333333333333333,\"#9c179e\"],[0.4444444444444444,\"#bd3786\"],[0.5555555555555556,\"#d8576b\"],[0.6666666666666666,\"#ed7953\"],[0.7777777777777778,\"#fb9f3a\"],[0.8888888888888888,\"#fdca26\"],[1.0,\"#f0f921\"]]}],\"contourcarpet\":[{\"type\":\"contourcarpet\",\"colorbar\":{\"outlinewidth\":0,\"ticks\":\"\"}}],\"contour\":[{\"type\":\"contour\",\"colorbar\":{\"outlinewidth\":0,\"ticks\":\"\"},\"colorscale\":[[0.0,\"#0d0887\"],[0.1111111111111111,\"#46039f\"],[0.2222222222222222,\"#7201a8\"],[0.3333333333333333,\"#9c179e\"],[0.4444444444444444,\"#bd3786\"],[0.5555555555555556,\"#d8576b\"],[0.6666666666666666,\"#ed7953\"],[0.7777777777777778,\"#fb9f3a\"],[0.8888888888888888,\"#fdca26\"],[1.0,\"#f0f921\"]]}],\"surface\":[{\"type\":\"surface\",\"colorbar\":{\"outlinewidth\":0,\"ticks\":\"\"},\"colorscale\":[[0.0,\"#0d0887\"],[0.1111111111111111,\"#46039f\"],[0.2222222222222222,\"#7201a8\"],[0.3333333333333333,\"#9c179e\"],[0.4444444444444444,\"#bd3786\"],[0.5555555555555556,\"#d8576b\"],[0.6666666666666666,\"#ed7953\"],[0.7777777777777778,\"#fb9f3a\"],[0.8888888888888888,\"#fdca26\"],[1.0,\"#f0f921\"]]}],\"mesh3d\":[{\"type\":\"mesh3d\",\"colorbar\":{\"outlinewidth\":0,\"ticks\":\"\"}}],\"scatter\":[{\"fillpattern\":{\"fillmode\":\"overlay\",\"size\":10,\"solidity\":0.2},\"type\":\"scatter\"}],\"parcoords\":[{\"type\":\"parcoords\",\"line\":{\"colorbar\":{\"outlinewidth\":0,\"ticks\":\"\"}}}],\"scatterpolargl\":[{\"type\":\"scatterpolargl\",\"marker\":{\"colorbar\":{\"outlinewidth\":0,\"ticks\":\"\"}}}],\"bar\":[{\"error_x\":{\"color\":\"#2a3f5f\"},\"error_y\":{\"color\":\"#2a3f5f\"},\"marker\":{\"line\":{\"color\":\"#E5ECF6\",\"width\":0.5},\"pattern\":{\"fillmode\":\"overlay\",\"size\":10,\"solidity\":0.2}},\"type\":\"bar\"}],\"scattergeo\":[{\"type\":\"scattergeo\",\"marker\":{\"colorbar\":{\"outlinewidth\":0,\"ticks\":\"\"}}}],\"scatterpolar\":[{\"type\":\"scatterpolar\",\"marker\":{\"colorbar\":{\"outlinewidth\":0,\"ticks\":\"\"}}}],\"histogram\":[{\"marker\":{\"pattern\":{\"fillmode\":\"overlay\",\"size\":10,\"solidity\":0.2}},\"type\":\"histogram\"}],\"scattergl\":[{\"type\":\"scattergl\",\"marker\":{\"colorbar\":{\"outlinewidth\":0,\"ticks\":\"\"}}}],\"scatter3d\":[{\"type\":\"scatter3d\",\"line\":{\"colorbar\":{\"outlinewidth\":0,\"ticks\":\"\"}},\"marker\":{\"colorbar\":{\"outlinewidth\":0,\"ticks\":\"\"}}}],\"scattermapbox\":[{\"type\":\"scattermapbox\",\"marker\":{\"colorbar\":{\"outlinewidth\":0,\"ticks\":\"\"}}}],\"scatterternary\":[{\"type\":\"scatterternary\",\"marker\":{\"colorbar\":{\"outlinewidth\":0,\"ticks\":\"\"}}}],\"scattercarpet\":[{\"type\":\"scattercarpet\",\"marker\":{\"colorbar\":{\"outlinewidth\":0,\"ticks\":\"\"}}}],\"carpet\":[{\"aaxis\":{\"endlinecolor\":\"#2a3f5f\",\"gridcolor\":\"white\",\"linecolor\":\"white\",\"minorgridcolor\":\"white\",\"startlinecolor\":\"#2a3f5f\"},\"baxis\":{\"endlinecolor\":\"#2a3f5f\",\"gridcolor\":\"white\",\"linecolor\":\"white\",\"minorgridcolor\":\"white\",\"startlinecolor\":\"#2a3f5f\"},\"type\":\"carpet\"}],\"table\":[{\"cells\":{\"fill\":{\"color\":\"#EBF0F8\"},\"line\":{\"color\":\"white\"}},\"header\":{\"fill\":{\"color\":\"#C8D4E3\"},\"line\":{\"color\":\"white\"}},\"type\":\"table\"}],\"barpolar\":[{\"marker\":{\"line\":{\"color\":\"#E5ECF6\",\"width\":0.5},\"pattern\":{\"fillmode\":\"overlay\",\"size\":10,\"solidity\":0.2}},\"type\":\"barpolar\"}],\"pie\":[{\"automargin\":true,\"type\":\"pie\"}]},\"layout\":{\"autotypenumbers\":\"strict\",\"colorway\":[\"#636efa\",\"#EF553B\",\"#00cc96\",\"#ab63fa\",\"#FFA15A\",\"#19d3f3\",\"#FF6692\",\"#B6E880\",\"#FF97FF\",\"#FECB52\"],\"font\":{\"color\":\"#2a3f5f\"},\"hovermode\":\"closest\",\"hoverlabel\":{\"align\":\"left\"},\"paper_bgcolor\":\"white\",\"plot_bgcolor\":\"#E5ECF6\",\"polar\":{\"bgcolor\":\"#E5ECF6\",\"angularaxis\":{\"gridcolor\":\"white\",\"linecolor\":\"white\",\"ticks\":\"\"},\"radialaxis\":{\"gridcolor\":\"white\",\"linecolor\":\"white\",\"ticks\":\"\"}},\"ternary\":{\"bgcolor\":\"#E5ECF6\",\"aaxis\":{\"gridcolor\":\"white\",\"linecolor\":\"white\",\"ticks\":\"\"},\"baxis\":{\"gridcolor\":\"white\",\"linecolor\":\"white\",\"ticks\":\"\"},\"caxis\":{\"gridcolor\":\"white\",\"linecolor\":\"white\",\"ticks\":\"\"}},\"coloraxis\":{\"colorbar\":{\"outlinewidth\":0,\"ticks\":\"\"}},\"colorscale\":{\"sequential\":[[0.0,\"#0d0887\"],[0.1111111111111111,\"#46039f\"],[0.2222222222222222,\"#7201a8\"],[0.3333333333333333,\"#9c179e\"],[0.4444444444444444,\"#bd3786\"],[0.5555555555555556,\"#d8576b\"],[0.6666666666666666,\"#ed7953\"],[0.7777777777777778,\"#fb9f3a\"],[0.8888888888888888,\"#fdca26\"],[1.0,\"#f0f921\"]],\"sequentialminus\":[[0.0,\"#0d0887\"],[0.1111111111111111,\"#46039f\"],[0.2222222222222222,\"#7201a8\"],[0.3333333333333333,\"#9c179e\"],[0.4444444444444444,\"#bd3786\"],[0.5555555555555556,\"#d8576b\"],[0.6666666666666666,\"#ed7953\"],[0.7777777777777778,\"#fb9f3a\"],[0.8888888888888888,\"#fdca26\"],[1.0,\"#f0f921\"]],\"diverging\":[[0,\"#8e0152\"],[0.1,\"#c51b7d\"],[0.2,\"#de77ae\"],[0.3,\"#f1b6da\"],[0.4,\"#fde0ef\"],[0.5,\"#f7f7f7\"],[0.6,\"#e6f5d0\"],[0.7,\"#b8e186\"],[0.8,\"#7fbc41\"],[0.9,\"#4d9221\"],[1,\"#276419\"]]},\"xaxis\":{\"gridcolor\":\"white\",\"linecolor\":\"white\",\"ticks\":\"\",\"title\":{\"standoff\":15},\"zerolinecolor\":\"white\",\"automargin\":true,\"zerolinewidth\":2},\"yaxis\":{\"gridcolor\":\"white\",\"linecolor\":\"white\",\"ticks\":\"\",\"title\":{\"standoff\":15},\"zerolinecolor\":\"white\",\"automargin\":true,\"zerolinewidth\":2},\"scene\":{\"xaxis\":{\"backgroundcolor\":\"#E5ECF6\",\"gridcolor\":\"white\",\"linecolor\":\"white\",\"showbackground\":true,\"ticks\":\"\",\"zerolinecolor\":\"white\",\"gridwidth\":2},\"yaxis\":{\"backgroundcolor\":\"#E5ECF6\",\"gridcolor\":\"white\",\"linecolor\":\"white\",\"showbackground\":true,\"ticks\":\"\",\"zerolinecolor\":\"white\",\"gridwidth\":2},\"zaxis\":{\"backgroundcolor\":\"#E5ECF6\",\"gridcolor\":\"white\",\"linecolor\":\"white\",\"showbackground\":true,\"ticks\":\"\",\"zerolinecolor\":\"white\",\"gridwidth\":2}},\"shapedefaults\":{\"line\":{\"color\":\"#2a3f5f\"}},\"annotationdefaults\":{\"arrowcolor\":\"#2a3f5f\",\"arrowhead\":0,\"arrowwidth\":1},\"geo\":{\"bgcolor\":\"white\",\"landcolor\":\"#E5ECF6\",\"subunitcolor\":\"white\",\"showland\":true,\"showlakes\":true,\"lakecolor\":\"white\"},\"title\":{\"x\":0.05},\"mapbox\":{\"style\":\"light\"}}},\"xaxis\":{\"anchor\":\"y\",\"domain\":[0.0,0.45],\"title\":{\"text\":\"Glucose consumption [mmol/gdw/h]\"}},\"yaxis\":{\"anchor\":\"x\",\"domain\":[0.625,1.0],\"title\":{\"text\":\"Growth rate [1/h]\"}},\"xaxis2\":{\"anchor\":\"y2\",\"domain\":[0.55,1.0],\"title\":{\"text\":\"Glucose consumption [mmol/gdw/h]\"}},\"yaxis2\":{\"anchor\":\"x2\",\"domain\":[0.625,1.0],\"title\":{\"text\":\"Acetate production rate [mmol/gdw/h]\"}},\"xaxis3\":{\"anchor\":\"y3\",\"domain\":[0.0,0.45],\"title\":{\"text\":\"Glucose consumption [mmol/gdw/h]\"}},\"yaxis3\":{\"anchor\":\"x3\",\"domain\":[0.0,0.375],\"title\":{\"text\":\"O2 consumption rate [mmol/gdw/h]\"}},\"xaxis4\":{\"anchor\":\"y4\",\"domain\":[0.55,1.0],\"title\":{\"text\":\"Glucose consumption [mmol/gdw/h]\"}},\"yaxis4\":{\"anchor\":\"x4\",\"domain\":[0.0,0.375],\"title\":{\"text\":\"CO2 production rate [mmol/gdw/h]\"}},\"annotations\":[{\"font\":{\"size\":16},\"showarrow\":false,\"text\":\"Glucose consumption\",\"x\":0.225,\"xanchor\":\"center\",\"xref\":\"paper\",\"y\":1.0,\"yanchor\":\"bottom\",\"yref\":\"paper\"},{\"font\":{\"size\":16},\"showarrow\":false,\"text\":\"Acetate production\",\"x\":0.775,\"xanchor\":\"center\",\"xref\":\"paper\",\"y\":1.0,\"yanchor\":\"bottom\",\"yref\":\"paper\"},{\"font\":{\"size\":16},\"showarrow\":false,\"text\":\"O2 consumption\",\"x\":0.225,\"xanchor\":\"center\",\"xref\":\"paper\",\"y\":0.375,\"yanchor\":\"bottom\",\"yref\":\"paper\"},{\"font\":{\"size\":16},\"showarrow\":false,\"text\":\"CO2 production\",\"x\":0.775,\"xanchor\":\"center\",\"xref\":\"paper\",\"y\":0.375,\"yanchor\":\"bottom\",\"yref\":\"paper\"}]},                        {\"responsive\": true}                    ).then(function(){\n",
       "                            \n",
       "var gd = document.getElementById('0fbc7bf7-c694-45a1-8a72-00c3a6453312');\n",
       "var x = new MutationObserver(function (mutations, observer) {{\n",
       "        var display = window.getComputedStyle(gd).display;\n",
       "        if (!display || display === 'none') {{\n",
       "            console.log([gd, 'removed!']);\n",
       "            Plotly.purge(gd);\n",
       "            observer.disconnect();\n",
       "        }}\n",
       "}});\n",
       "\n",
       "// Listen for the removal of the full notebook cells\n",
       "var notebookContainer = gd.closest('#notebook-container');\n",
       "if (notebookContainer) {{\n",
       "    x.observe(notebookContainer, {childList: true});\n",
       "}}\n",
       "\n",
       "// Listen for the clearing of the current output cell\n",
       "var outputEl = gd.closest('.output');\n",
       "if (outputEl) {{\n",
       "    x.observe(outputEl, {childList: true});\n",
       "}}\n",
       "\n",
       "                        })                };                });            </script>        </div>"
      ]
     },
     "metadata": {},
     "output_type": "display_data"
    },
    {
     "data": {
      "application/vnd.plotly.v1+json": {
       "config": {
        "plotlyServerURL": "https://plot.ly"
       },
       "data": [
        {
         "marker": {
          "color": "blue"
         },
         "mode": "lines",
         "showlegend": false,
         "type": "scatter",
         "x": [
          0.5,
          1,
          1.5,
          2,
          2.5,
          3,
          3.5,
          4,
          4.5,
          5,
          5.5,
          6,
          6.5,
          7,
          7.5,
          8,
          8.5,
          9,
          9.5,
          10,
          10.5
         ],
         "xaxis": "x",
         "y": [
          0.7382117588806456,
          1.1232535035949387,
          1.5084477099125804,
          1.893936943561191,
          2.4399973160677058,
          2.9461976422729625,
          3.443851391993083,
          3.612860347255141,
          3.6577515883688543,
          3.70264282948255,
          3.747534070596219,
          3.79242531170995,
          3.8373165528236286,
          3.850294959431508,
          3.7951841922551193,
          3.74007342507907,
          3.684962657902982,
          3.6298518907269095,
          3.5747411235508673,
          3.5196303563747695,
          3.4645195891986913
         ],
         "yaxis": "y"
        }
       ],
       "layout": {
        "annotations": [
         {
          "font": {
           "size": 16
          },
          "showarrow": false,
          "text": "FUM",
          "x": 0.5,
          "xanchor": "center",
          "xref": "paper",
          "y": 1,
          "yanchor": "bottom",
          "yref": "paper"
         }
        ],
        "autosize": true,
        "template": {
         "data": {
          "bar": [
           {
            "error_x": {
             "color": "#2a3f5f"
            },
            "error_y": {
             "color": "#2a3f5f"
            },
            "marker": {
             "line": {
              "color": "#E5ECF6",
              "width": 0.5
             },
             "pattern": {
              "fillmode": "overlay",
              "size": 10,
              "solidity": 0.2
             }
            },
            "type": "bar"
           }
          ],
          "barpolar": [
           {
            "marker": {
             "line": {
              "color": "#E5ECF6",
              "width": 0.5
             },
             "pattern": {
              "fillmode": "overlay",
              "size": 10,
              "solidity": 0.2
             }
            },
            "type": "barpolar"
           }
          ],
          "carpet": [
           {
            "aaxis": {
             "endlinecolor": "#2a3f5f",
             "gridcolor": "white",
             "linecolor": "white",
             "minorgridcolor": "white",
             "startlinecolor": "#2a3f5f"
            },
            "baxis": {
             "endlinecolor": "#2a3f5f",
             "gridcolor": "white",
             "linecolor": "white",
             "minorgridcolor": "white",
             "startlinecolor": "#2a3f5f"
            },
            "type": "carpet"
           }
          ],
          "choropleth": [
           {
            "colorbar": {
             "outlinewidth": 0,
             "ticks": ""
            },
            "type": "choropleth"
           }
          ],
          "contour": [
           {
            "colorbar": {
             "outlinewidth": 0,
             "ticks": ""
            },
            "colorscale": [
             [
              0,
              "#0d0887"
             ],
             [
              0.1111111111111111,
              "#46039f"
             ],
             [
              0.2222222222222222,
              "#7201a8"
             ],
             [
              0.3333333333333333,
              "#9c179e"
             ],
             [
              0.4444444444444444,
              "#bd3786"
             ],
             [
              0.5555555555555556,
              "#d8576b"
             ],
             [
              0.6666666666666666,
              "#ed7953"
             ],
             [
              0.7777777777777778,
              "#fb9f3a"
             ],
             [
              0.8888888888888888,
              "#fdca26"
             ],
             [
              1,
              "#f0f921"
             ]
            ],
            "type": "contour"
           }
          ],
          "contourcarpet": [
           {
            "colorbar": {
             "outlinewidth": 0,
             "ticks": ""
            },
            "type": "contourcarpet"
           }
          ],
          "heatmap": [
           {
            "colorbar": {
             "outlinewidth": 0,
             "ticks": ""
            },
            "colorscale": [
             [
              0,
              "#0d0887"
             ],
             [
              0.1111111111111111,
              "#46039f"
             ],
             [
              0.2222222222222222,
              "#7201a8"
             ],
             [
              0.3333333333333333,
              "#9c179e"
             ],
             [
              0.4444444444444444,
              "#bd3786"
             ],
             [
              0.5555555555555556,
              "#d8576b"
             ],
             [
              0.6666666666666666,
              "#ed7953"
             ],
             [
              0.7777777777777778,
              "#fb9f3a"
             ],
             [
              0.8888888888888888,
              "#fdca26"
             ],
             [
              1,
              "#f0f921"
             ]
            ],
            "type": "heatmap"
           }
          ],
          "heatmapgl": [
           {
            "colorbar": {
             "outlinewidth": 0,
             "ticks": ""
            },
            "colorscale": [
             [
              0,
              "#0d0887"
             ],
             [
              0.1111111111111111,
              "#46039f"
             ],
             [
              0.2222222222222222,
              "#7201a8"
             ],
             [
              0.3333333333333333,
              "#9c179e"
             ],
             [
              0.4444444444444444,
              "#bd3786"
             ],
             [
              0.5555555555555556,
              "#d8576b"
             ],
             [
              0.6666666666666666,
              "#ed7953"
             ],
             [
              0.7777777777777778,
              "#fb9f3a"
             ],
             [
              0.8888888888888888,
              "#fdca26"
             ],
             [
              1,
              "#f0f921"
             ]
            ],
            "type": "heatmapgl"
           }
          ],
          "histogram": [
           {
            "marker": {
             "pattern": {
              "fillmode": "overlay",
              "size": 10,
              "solidity": 0.2
             }
            },
            "type": "histogram"
           }
          ],
          "histogram2d": [
           {
            "colorbar": {
             "outlinewidth": 0,
             "ticks": ""
            },
            "colorscale": [
             [
              0,
              "#0d0887"
             ],
             [
              0.1111111111111111,
              "#46039f"
             ],
             [
              0.2222222222222222,
              "#7201a8"
             ],
             [
              0.3333333333333333,
              "#9c179e"
             ],
             [
              0.4444444444444444,
              "#bd3786"
             ],
             [
              0.5555555555555556,
              "#d8576b"
             ],
             [
              0.6666666666666666,
              "#ed7953"
             ],
             [
              0.7777777777777778,
              "#fb9f3a"
             ],
             [
              0.8888888888888888,
              "#fdca26"
             ],
             [
              1,
              "#f0f921"
             ]
            ],
            "type": "histogram2d"
           }
          ],
          "histogram2dcontour": [
           {
            "colorbar": {
             "outlinewidth": 0,
             "ticks": ""
            },
            "colorscale": [
             [
              0,
              "#0d0887"
             ],
             [
              0.1111111111111111,
              "#46039f"
             ],
             [
              0.2222222222222222,
              "#7201a8"
             ],
             [
              0.3333333333333333,
              "#9c179e"
             ],
             [
              0.4444444444444444,
              "#bd3786"
             ],
             [
              0.5555555555555556,
              "#d8576b"
             ],
             [
              0.6666666666666666,
              "#ed7953"
             ],
             [
              0.7777777777777778,
              "#fb9f3a"
             ],
             [
              0.8888888888888888,
              "#fdca26"
             ],
             [
              1,
              "#f0f921"
             ]
            ],
            "type": "histogram2dcontour"
           }
          ],
          "mesh3d": [
           {
            "colorbar": {
             "outlinewidth": 0,
             "ticks": ""
            },
            "type": "mesh3d"
           }
          ],
          "parcoords": [
           {
            "line": {
             "colorbar": {
              "outlinewidth": 0,
              "ticks": ""
             }
            },
            "type": "parcoords"
           }
          ],
          "pie": [
           {
            "automargin": true,
            "type": "pie"
           }
          ],
          "scatter": [
           {
            "fillpattern": {
             "fillmode": "overlay",
             "size": 10,
             "solidity": 0.2
            },
            "type": "scatter"
           }
          ],
          "scatter3d": [
           {
            "line": {
             "colorbar": {
              "outlinewidth": 0,
              "ticks": ""
             }
            },
            "marker": {
             "colorbar": {
              "outlinewidth": 0,
              "ticks": ""
             }
            },
            "type": "scatter3d"
           }
          ],
          "scattercarpet": [
           {
            "marker": {
             "colorbar": {
              "outlinewidth": 0,
              "ticks": ""
             }
            },
            "type": "scattercarpet"
           }
          ],
          "scattergeo": [
           {
            "marker": {
             "colorbar": {
              "outlinewidth": 0,
              "ticks": ""
             }
            },
            "type": "scattergeo"
           }
          ],
          "scattergl": [
           {
            "marker": {
             "colorbar": {
              "outlinewidth": 0,
              "ticks": ""
             }
            },
            "type": "scattergl"
           }
          ],
          "scattermapbox": [
           {
            "marker": {
             "colorbar": {
              "outlinewidth": 0,
              "ticks": ""
             }
            },
            "type": "scattermapbox"
           }
          ],
          "scatterpolar": [
           {
            "marker": {
             "colorbar": {
              "outlinewidth": 0,
              "ticks": ""
             }
            },
            "type": "scatterpolar"
           }
          ],
          "scatterpolargl": [
           {
            "marker": {
             "colorbar": {
              "outlinewidth": 0,
              "ticks": ""
             }
            },
            "type": "scatterpolargl"
           }
          ],
          "scatterternary": [
           {
            "marker": {
             "colorbar": {
              "outlinewidth": 0,
              "ticks": ""
             }
            },
            "type": "scatterternary"
           }
          ],
          "surface": [
           {
            "colorbar": {
             "outlinewidth": 0,
             "ticks": ""
            },
            "colorscale": [
             [
              0,
              "#0d0887"
             ],
             [
              0.1111111111111111,
              "#46039f"
             ],
             [
              0.2222222222222222,
              "#7201a8"
             ],
             [
              0.3333333333333333,
              "#9c179e"
             ],
             [
              0.4444444444444444,
              "#bd3786"
             ],
             [
              0.5555555555555556,
              "#d8576b"
             ],
             [
              0.6666666666666666,
              "#ed7953"
             ],
             [
              0.7777777777777778,
              "#fb9f3a"
             ],
             [
              0.8888888888888888,
              "#fdca26"
             ],
             [
              1,
              "#f0f921"
             ]
            ],
            "type": "surface"
           }
          ],
          "table": [
           {
            "cells": {
             "fill": {
              "color": "#EBF0F8"
             },
             "line": {
              "color": "white"
             }
            },
            "header": {
             "fill": {
              "color": "#C8D4E3"
             },
             "line": {
              "color": "white"
             }
            },
            "type": "table"
           }
          ]
         },
         "layout": {
          "annotationdefaults": {
           "arrowcolor": "#2a3f5f",
           "arrowhead": 0,
           "arrowwidth": 1
          },
          "autotypenumbers": "strict",
          "coloraxis": {
           "colorbar": {
            "outlinewidth": 0,
            "ticks": ""
           }
          },
          "colorscale": {
           "diverging": [
            [
             0,
             "#8e0152"
            ],
            [
             0.1,
             "#c51b7d"
            ],
            [
             0.2,
             "#de77ae"
            ],
            [
             0.3,
             "#f1b6da"
            ],
            [
             0.4,
             "#fde0ef"
            ],
            [
             0.5,
             "#f7f7f7"
            ],
            [
             0.6,
             "#e6f5d0"
            ],
            [
             0.7,
             "#b8e186"
            ],
            [
             0.8,
             "#7fbc41"
            ],
            [
             0.9,
             "#4d9221"
            ],
            [
             1,
             "#276419"
            ]
           ],
           "sequential": [
            [
             0,
             "#0d0887"
            ],
            [
             0.1111111111111111,
             "#46039f"
            ],
            [
             0.2222222222222222,
             "#7201a8"
            ],
            [
             0.3333333333333333,
             "#9c179e"
            ],
            [
             0.4444444444444444,
             "#bd3786"
            ],
            [
             0.5555555555555556,
             "#d8576b"
            ],
            [
             0.6666666666666666,
             "#ed7953"
            ],
            [
             0.7777777777777778,
             "#fb9f3a"
            ],
            [
             0.8888888888888888,
             "#fdca26"
            ],
            [
             1,
             "#f0f921"
            ]
           ],
           "sequentialminus": [
            [
             0,
             "#0d0887"
            ],
            [
             0.1111111111111111,
             "#46039f"
            ],
            [
             0.2222222222222222,
             "#7201a8"
            ],
            [
             0.3333333333333333,
             "#9c179e"
            ],
            [
             0.4444444444444444,
             "#bd3786"
            ],
            [
             0.5555555555555556,
             "#d8576b"
            ],
            [
             0.6666666666666666,
             "#ed7953"
            ],
            [
             0.7777777777777778,
             "#fb9f3a"
            ],
            [
             0.8888888888888888,
             "#fdca26"
            ],
            [
             1,
             "#f0f921"
            ]
           ]
          },
          "colorway": [
           "#636efa",
           "#EF553B",
           "#00cc96",
           "#ab63fa",
           "#FFA15A",
           "#19d3f3",
           "#FF6692",
           "#B6E880",
           "#FF97FF",
           "#FECB52"
          ],
          "font": {
           "color": "#2a3f5f"
          },
          "geo": {
           "bgcolor": "white",
           "lakecolor": "white",
           "landcolor": "#E5ECF6",
           "showlakes": true,
           "showland": true,
           "subunitcolor": "white"
          },
          "hoverlabel": {
           "align": "left"
          },
          "hovermode": "closest",
          "mapbox": {
           "style": "light"
          },
          "paper_bgcolor": "white",
          "plot_bgcolor": "#E5ECF6",
          "polar": {
           "angularaxis": {
            "gridcolor": "white",
            "linecolor": "white",
            "ticks": ""
           },
           "bgcolor": "#E5ECF6",
           "radialaxis": {
            "gridcolor": "white",
            "linecolor": "white",
            "ticks": ""
           }
          },
          "scene": {
           "xaxis": {
            "backgroundcolor": "#E5ECF6",
            "gridcolor": "white",
            "gridwidth": 2,
            "linecolor": "white",
            "showbackground": true,
            "ticks": "",
            "zerolinecolor": "white"
           },
           "yaxis": {
            "backgroundcolor": "#E5ECF6",
            "gridcolor": "white",
            "gridwidth": 2,
            "linecolor": "white",
            "showbackground": true,
            "ticks": "",
            "zerolinecolor": "white"
           },
           "zaxis": {
            "backgroundcolor": "#E5ECF6",
            "gridcolor": "white",
            "gridwidth": 2,
            "linecolor": "white",
            "showbackground": true,
            "ticks": "",
            "zerolinecolor": "white"
           }
          },
          "shapedefaults": {
           "line": {
            "color": "#2a3f5f"
           }
          },
          "ternary": {
           "aaxis": {
            "gridcolor": "white",
            "linecolor": "white",
            "ticks": ""
           },
           "baxis": {
            "gridcolor": "white",
            "linecolor": "white",
            "ticks": ""
           },
           "bgcolor": "#E5ECF6",
           "caxis": {
            "gridcolor": "white",
            "linecolor": "white",
            "ticks": ""
           }
          },
          "title": {
           "x": 0.05
          },
          "xaxis": {
           "automargin": true,
           "gridcolor": "white",
           "linecolor": "white",
           "ticks": "",
           "title": {
            "standoff": 15
           },
           "zerolinecolor": "white",
           "zerolinewidth": 2
          },
          "yaxis": {
           "automargin": true,
           "gridcolor": "white",
           "linecolor": "white",
           "ticks": "",
           "title": {
            "standoff": 15
           },
           "zerolinecolor": "white",
           "zerolinewidth": 2
          }
         }
        },
        "xaxis": {
         "anchor": "y",
         "autorange": true,
         "domain": [
          0,
          1
         ],
         "range": [
          0.5,
          10.5
         ],
         "title": {
          "text": "EX_glc__D_e [mmol/gdw/h]"
         },
         "type": "linear"
        },
        "yaxis": {
         "anchor": "x",
         "autorange": true,
         "domain": [
          0,
          1
         ],
         "range": [
          0.565318247738931,
          4.023188470573222
         ],
         "title": {
          "text": "FUM [mmol/gdw/h]"
         },
         "type": "linear"
        }
       }
      },
      "image/png": "[encoded data removed]",
      "text/html": [
       "<div>                            <div id=\"783d0a50-9e04-4b7d-8bad-cbcd98bbd7d9\" class=\"plotly-graph-div\" style=\"height:525px; width:100%;\"></div>            <script type=\"text/javascript\">                require([\"plotly\"], function(Plotly) {                    window.PLOTLYENV=window.PLOTLYENV || {};                                    if (document.getElementById(\"783d0a50-9e04-4b7d-8bad-cbcd98bbd7d9\")) {                    Plotly.newPlot(                        \"783d0a50-9e04-4b7d-8bad-cbcd98bbd7d9\",                        [{\"marker\":{\"color\":\"blue\"},\"mode\":\"lines\",\"showlegend\":false,\"x\":[0.5,1.0,1.5,2.0,2.5,3.0,3.5,4.0,4.5,5.0,5.5,6.0,6.5,7.0,7.5,8.0,8.5,9.0,9.5,10.0,10.5],\"y\":[0.7382117588806456,1.1232535035949387,1.5084477099125804,1.893936943561191,2.4399973160677058,2.9461976422729625,3.443851391993083,3.612860347255141,3.6577515883688543,3.70264282948255,3.747534070596219,3.79242531170995,3.8373165528236286,3.850294959431508,3.7951841922551193,3.74007342507907,3.684962657902982,3.6298518907269095,3.5747411235508673,3.5196303563747695,3.4645195891986913],\"type\":\"scatter\",\"xaxis\":\"x\",\"yaxis\":\"y\"}],                        {\"template\":{\"data\":{\"histogram2dcontour\":[{\"type\":\"histogram2dcontour\",\"colorbar\":{\"outlinewidth\":0,\"ticks\":\"\"},\"colorscale\":[[0.0,\"#0d0887\"],[0.1111111111111111,\"#46039f\"],[0.2222222222222222,\"#7201a8\"],[0.3333333333333333,\"#9c179e\"],[0.4444444444444444,\"#bd3786\"],[0.5555555555555556,\"#d8576b\"],[0.6666666666666666,\"#ed7953\"],[0.7777777777777778,\"#fb9f3a\"],[0.8888888888888888,\"#fdca26\"],[1.0,\"#f0f921\"]]}],\"choropleth\":[{\"type\":\"choropleth\",\"colorbar\":{\"outlinewidth\":0,\"ticks\":\"\"}}],\"histogram2d\":[{\"type\":\"histogram2d\",\"colorbar\":{\"outlinewidth\":0,\"ticks\":\"\"},\"colorscale\":[[0.0,\"#0d0887\"],[0.1111111111111111,\"#46039f\"],[0.2222222222222222,\"#7201a8\"],[0.3333333333333333,\"#9c179e\"],[0.4444444444444444,\"#bd3786\"],[0.5555555555555556,\"#d8576b\"],[0.6666666666666666,\"#ed7953\"],[0.7777777777777778,\"#fb9f3a\"],[0.8888888888888888,\"#fdca26\"],[1.0,\"#f0f921\"]]}],\"heatmap\":[{\"type\":\"heatmap\",\"colorbar\":{\"outlinewidth\":0,\"ticks\":\"\"},\"colorscale\":[[0.0,\"#0d0887\"],[0.1111111111111111,\"#46039f\"],[0.2222222222222222,\"#7201a8\"],[0.3333333333333333,\"#9c179e\"],[0.4444444444444444,\"#bd3786\"],[0.5555555555555556,\"#d8576b\"],[0.6666666666666666,\"#ed7953\"],[0.7777777777777778,\"#fb9f3a\"],[0.8888888888888888,\"#fdca26\"],[1.0,\"#f0f921\"]]}],\"heatmapgl\":[{\"type\":\"heatmapgl\",\"colorbar\":{\"outlinewidth\":0,\"ticks\":\"\"},\"colorscale\":[[0.0,\"#0d0887\"],[0.1111111111111111,\"#46039f\"],[0.2222222222222222,\"#7201a8\"],[0.3333333333333333,\"#9c179e\"],[0.4444444444444444,\"#bd3786\"],[0.5555555555555556,\"#d8576b\"],[0.6666666666666666,\"#ed7953\"],[0.7777777777777778,\"#fb9f3a\"],[0.8888888888888888,\"#fdca26\"],[1.0,\"#f0f921\"]]}],\"contourcarpet\":[{\"type\":\"contourcarpet\",\"colorbar\":{\"outlinewidth\":0,\"ticks\":\"\"}}],\"contour\":[{\"type\":\"contour\",\"colorbar\":{\"outlinewidth\":0,\"ticks\":\"\"},\"colorscale\":[[0.0,\"#0d0887\"],[0.1111111111111111,\"#46039f\"],[0.2222222222222222,\"#7201a8\"],[0.3333333333333333,\"#9c179e\"],[0.4444444444444444,\"#bd3786\"],[0.5555555555555556,\"#d8576b\"],[0.6666666666666666,\"#ed7953\"],[0.7777777777777778,\"#fb9f3a\"],[0.8888888888888888,\"#fdca26\"],[1.0,\"#f0f921\"]]}],\"surface\":[{\"type\":\"surface\",\"colorbar\":{\"outlinewidth\":0,\"ticks\":\"\"},\"colorscale\":[[0.0,\"#0d0887\"],[0.1111111111111111,\"#46039f\"],[0.2222222222222222,\"#7201a8\"],[0.3333333333333333,\"#9c179e\"],[0.4444444444444444,\"#bd3786\"],[0.5555555555555556,\"#d8576b\"],[0.6666666666666666,\"#ed7953\"],[0.7777777777777778,\"#fb9f3a\"],[0.8888888888888888,\"#fdca26\"],[1.0,\"#f0f921\"]]}],\"mesh3d\":[{\"type\":\"mesh3d\",\"colorbar\":{\"outlinewidth\":0,\"ticks\":\"\"}}],\"scatter\":[{\"fillpattern\":{\"fillmode\":\"overlay\",\"size\":10,\"solidity\":0.2},\"type\":\"scatter\"}],\"parcoords\":[{\"type\":\"parcoords\",\"line\":{\"colorbar\":{\"outlinewidth\":0,\"ticks\":\"\"}}}],\"scatterpolargl\":[{\"type\":\"scatterpolargl\",\"marker\":{\"colorbar\":{\"outlinewidth\":0,\"ticks\":\"\"}}}],\"bar\":[{\"error_x\":{\"color\":\"#2a3f5f\"},\"error_y\":{\"color\":\"#2a3f5f\"},\"marker\":{\"line\":{\"color\":\"#E5ECF6\",\"width\":0.5},\"pattern\":{\"fillmode\":\"overlay\",\"size\":10,\"solidity\":0.2}},\"type\":\"bar\"}],\"scattergeo\":[{\"type\":\"scattergeo\",\"marker\":{\"colorbar\":{\"outlinewidth\":0,\"ticks\":\"\"}}}],\"scatterpolar\":[{\"type\":\"scatterpolar\",\"marker\":{\"colorbar\":{\"outlinewidth\":0,\"ticks\":\"\"}}}],\"histogram\":[{\"marker\":{\"pattern\":{\"fillmode\":\"overlay\",\"size\":10,\"solidity\":0.2}},\"type\":\"histogram\"}],\"scattergl\":[{\"type\":\"scattergl\",\"marker\":{\"colorbar\":{\"outlinewidth\":0,\"ticks\":\"\"}}}],\"scatter3d\":[{\"type\":\"scatter3d\",\"line\":{\"colorbar\":{\"outlinewidth\":0,\"ticks\":\"\"}},\"marker\":{\"colorbar\":{\"outlinewidth\":0,\"ticks\":\"\"}}}],\"scattermapbox\":[{\"type\":\"scattermapbox\",\"marker\":{\"colorbar\":{\"outlinewidth\":0,\"ticks\":\"\"}}}],\"scatterternary\":[{\"type\":\"scatterternary\",\"marker\":{\"colorbar\":{\"outlinewidth\":0,\"ticks\":\"\"}}}],\"scattercarpet\":[{\"type\":\"scattercarpet\",\"marker\":{\"colorbar\":{\"outlinewidth\":0,\"ticks\":\"\"}}}],\"carpet\":[{\"aaxis\":{\"endlinecolor\":\"#2a3f5f\",\"gridcolor\":\"white\",\"linecolor\":\"white\",\"minorgridcolor\":\"white\",\"startlinecolor\":\"#2a3f5f\"},\"baxis\":{\"endlinecolor\":\"#2a3f5f\",\"gridcolor\":\"white\",\"linecolor\":\"white\",\"minorgridcolor\":\"white\",\"startlinecolor\":\"#2a3f5f\"},\"type\":\"carpet\"}],\"table\":[{\"cells\":{\"fill\":{\"color\":\"#EBF0F8\"},\"line\":{\"color\":\"white\"}},\"header\":{\"fill\":{\"color\":\"#C8D4E3\"},\"line\":{\"color\":\"white\"}},\"type\":\"table\"}],\"barpolar\":[{\"marker\":{\"line\":{\"color\":\"#E5ECF6\",\"width\":0.5},\"pattern\":{\"fillmode\":\"overlay\",\"size\":10,\"solidity\":0.2}},\"type\":\"barpolar\"}],\"pie\":[{\"automargin\":true,\"type\":\"pie\"}]},\"layout\":{\"autotypenumbers\":\"strict\",\"colorway\":[\"#636efa\",\"#EF553B\",\"#00cc96\",\"#ab63fa\",\"#FFA15A\",\"#19d3f3\",\"#FF6692\",\"#B6E880\",\"#FF97FF\",\"#FECB52\"],\"font\":{\"color\":\"#2a3f5f\"},\"hovermode\":\"closest\",\"hoverlabel\":{\"align\":\"left\"},\"paper_bgcolor\":\"white\",\"plot_bgcolor\":\"#E5ECF6\",\"polar\":{\"bgcolor\":\"#E5ECF6\",\"angularaxis\":{\"gridcolor\":\"white\",\"linecolor\":\"white\",\"ticks\":\"\"},\"radialaxis\":{\"gridcolor\":\"white\",\"linecolor\":\"white\",\"ticks\":\"\"}},\"ternary\":{\"bgcolor\":\"#E5ECF6\",\"aaxis\":{\"gridcolor\":\"white\",\"linecolor\":\"white\",\"ticks\":\"\"},\"baxis\":{\"gridcolor\":\"white\",\"linecolor\":\"white\",\"ticks\":\"\"},\"caxis\":{\"gridcolor\":\"white\",\"linecolor\":\"white\",\"ticks\":\"\"}},\"coloraxis\":{\"colorbar\":{\"outlinewidth\":0,\"ticks\":\"\"}},\"colorscale\":{\"sequential\":[[0.0,\"#0d0887\"],[0.1111111111111111,\"#46039f\"],[0.2222222222222222,\"#7201a8\"],[0.3333333333333333,\"#9c179e\"],[0.4444444444444444,\"#bd3786\"],[0.5555555555555556,\"#d8576b\"],[0.6666666666666666,\"#ed7953\"],[0.7777777777777778,\"#fb9f3a\"],[0.8888888888888888,\"#fdca26\"],[1.0,\"#f0f921\"]],\"sequentialminus\":[[0.0,\"#0d0887\"],[0.1111111111111111,\"#46039f\"],[0.2222222222222222,\"#7201a8\"],[0.3333333333333333,\"#9c179e\"],[0.4444444444444444,\"#bd3786\"],[0.5555555555555556,\"#d8576b\"],[0.6666666666666666,\"#ed7953\"],[0.7777777777777778,\"#fb9f3a\"],[0.8888888888888888,\"#fdca26\"],[1.0,\"#f0f921\"]],\"diverging\":[[0,\"#8e0152\"],[0.1,\"#c51b7d\"],[0.2,\"#de77ae\"],[0.3,\"#f1b6da\"],[0.4,\"#fde0ef\"],[0.5,\"#f7f7f7\"],[0.6,\"#e6f5d0\"],[0.7,\"#b8e186\"],[0.8,\"#7fbc41\"],[0.9,\"#4d9221\"],[1,\"#276419\"]]},\"xaxis\":{\"gridcolor\":\"white\",\"linecolor\":\"white\",\"ticks\":\"\",\"title\":{\"standoff\":15},\"zerolinecolor\":\"white\",\"automargin\":true,\"zerolinewidth\":2},\"yaxis\":{\"gridcolor\":\"white\",\"linecolor\":\"white\",\"ticks\":\"\",\"title\":{\"standoff\":15},\"zerolinecolor\":\"white\",\"automargin\":true,\"zerolinewidth\":2},\"scene\":{\"xaxis\":{\"backgroundcolor\":\"#E5ECF6\",\"gridcolor\":\"white\",\"linecolor\":\"white\",\"showbackground\":true,\"ticks\":\"\",\"zerolinecolor\":\"white\",\"gridwidth\":2},\"yaxis\":{\"backgroundcolor\":\"#E5ECF6\",\"gridcolor\":\"white\",\"linecolor\":\"white\",\"showbackground\":true,\"ticks\":\"\",\"zerolinecolor\":\"white\",\"gridwidth\":2},\"zaxis\":{\"backgroundcolor\":\"#E5ECF6\",\"gridcolor\":\"white\",\"linecolor\":\"white\",\"showbackground\":true,\"ticks\":\"\",\"zerolinecolor\":\"white\",\"gridwidth\":2}},\"shapedefaults\":{\"line\":{\"color\":\"#2a3f5f\"}},\"annotationdefaults\":{\"arrowcolor\":\"#2a3f5f\",\"arrowhead\":0,\"arrowwidth\":1},\"geo\":{\"bgcolor\":\"white\",\"landcolor\":\"#E5ECF6\",\"subunitcolor\":\"white\",\"showland\":true,\"showlakes\":true,\"lakecolor\":\"white\"},\"title\":{\"x\":0.05},\"mapbox\":{\"style\":\"light\"}}},\"xaxis\":{\"anchor\":\"y\",\"domain\":[0.0,1.0],\"title\":{\"text\":\"EX_glc__D_e [mmol/gdw/h]\"}},\"yaxis\":{\"anchor\":\"x\",\"domain\":[0.0,1.0],\"title\":{\"text\":\"FUM [mmol/gdw/h]\"}},\"annotations\":[{\"font\":{\"size\":16},\"showarrow\":false,\"text\":\"FUM\",\"x\":0.5,\"xanchor\":\"center\",\"xref\":\"paper\",\"y\":1.0,\"yanchor\":\"bottom\",\"yref\":\"paper\"}]},                        {\"responsive\": true}                    ).then(function(){\n",
       "                            \n",
       "var gd = document.getElementById('783d0a50-9e04-4b7d-8bad-cbcd98bbd7d9');\n",
       "var x = new MutationObserver(function (mutations, observer) {{\n",
       "        var display = window.getComputedStyle(gd).display;\n",
       "        if (!display || display === 'none') {{\n",
       "            console.log([gd, 'removed!']);\n",
       "            Plotly.purge(gd);\n",
       "            observer.disconnect();\n",
       "        }}\n",
       "}});\n",
       "\n",
       "// Listen for the removal of the full notebook cells\n",
       "var notebookContainer = gd.closest('#notebook-container');\n",
       "if (notebookContainer) {{\n",
       "    x.observe(notebookContainer, {childList: true});\n",
       "}}\n",
       "\n",
       "// Listen for the clearing of the current output cell\n",
       "var outputEl = gd.closest('.output');\n",
       "if (outputEl) {{\n",
       "    x.observe(outputEl, {childList: true});\n",
       "}}\n",
       "\n",
       "                        })                };                });            </script>        </div>"
      ]
     },
     "metadata": {},
     "output_type": "display_data"
    }
   ],
   "source": [
    "#you can also add custom reactions or variables which you would like to store and save them to a csv file.\n",
    "#for example the translationalProteinSector variable\n",
    "validator.add_rxn_to_save(\"FUM\") #should remain constant\n",
    "validator.validate_range(show=False, save=True)\n",
    "\n",
    "#or plot the custom reactions directly\n",
    "validator.validate_range(pfba = False, show=True, save=False)"
   ]
  },
  {
   "cell_type": "markdown",
   "id": "568c992d",
   "metadata": {},
   "source": [
    "## 3. Changing carbon source\n",
    "\n",
    "The model cannot only do simulations for glucose limiting conditions. Also other carbon sources can be used. However, the translational and unused protein sector are calibrated for glucose limited conditions. We recommend recalibrating these sectors for the desired carbon source for more accurate simulations. *see Tranlational_sector_config.ipynb in the scripts folder*\n",
    "\n",
    "Here we will use glycerol limitation as an example."
   ]
  },
  {
   "cell_type": "code",
   "execution_count": 6,
   "id": "38e2c35c",
   "metadata": {},
   "outputs": [
    {
     "name": "stdout",
     "output_type": "stream",
     "text": [
      "Set parameter Username\n",
      "Academic license - for non-commercial use only - expires 2024-03-07\n",
      "Read LP format model from file /tmp/tmpy6lq582p.lp\n",
      "Reading time = 0.01 seconds\n",
      ": 1877 rows, 5424 columns, 21150 nonzeros\n",
      "Setting up the proteome allocation model iML1515\n",
      "\n",
      "Add total condition-dependent protein constraint\n",
      "\tTotal protein concentration: 0.258 g/gDW\n",
      "\n",
      "Add active protein sector\n",
      "\n"
     ]
    },
    {
     "name": "stderr",
     "output_type": "stream",
     "text": [
      "/home/samiralvdb/Documents/3_Projects/2_PAMpy/2_PAMpy_Gitlab/Examples/../Package/PAMpy/PAModel.py:211: UserWarning: Molar mass for E332 is invalid: 0.0\n",
      "  warnings.warn(f'Molar mass for {enz.id} is invalid: {molmass}')\n"
     ]
    },
    {
     "name": "stdout",
     "output_type": "stream",
     "text": [
      "Add the following protein sector: TranslationalProteinSector\n",
      "\n",
      "Add the following protein sector: UnusedEnzymeSector\n",
      "\n",
      "Done with setting up the proteome allocation model iML1515\n",
      "\n"
     ]
    }
   ],
   "source": [
    "#create the model dependend on glycerol uptake\n",
    "#load the genome-scale information\n",
    "model = read_sbml_model(os.path.join(MODEL_DIR, 'iML1515.xml'))\n",
    "\n",
    "#load the unused enzyme information\n",
    "unused_protein_info = pd.read_excel(pam_info_file, sheet_name='ExcessEnzymes')\n",
    "\n",
    "ups_0 = unused_protein_info[unused_protein_info.Parameter == 'ups_0'].loc[2,'Value']\n",
    "smax = unused_protein_info[unused_protein_info.Parameter == 's_max_uptake'].loc[1,'Value']\n",
    "# id_list = ['EX_glyc_e']\n",
    "id_list =[unused_protein_info[translational_info.Parameter == 'id_list'].loc[0,'Value']]\n",
    "\n",
    "\n",
    "unused_protein_sector_glyc = PAMpy.UnusedEnzymeSector(id_list=['EX_glyc_e'],\n",
    "                                            ups_mu=[ups_0/smax],\n",
    "                                            ups_0=[ups_0],\n",
    "                                            mol_mass=[unused_protein_info[unused_protein_info.Parameter == 'mol_mass'].loc[3,'Value']])\n",
    "\n",
    "#load the PAM with the genome-scale information and the information about the enzyme sectors\n",
    "pamodel_glyc = PAMpy.PAModel(id_or_model=model, \n",
    "                  p_tot=TOTAL_PROTEIN_CONCENTRATION,\n",
    "                   active_sector=active_enzyme_sector, \n",
    "                  translational_sector=translation_enzyme_sector,\n",
    "                  unused_sector=unused_protein_sector_glyc,\n",
    "                        sensitivity =False\n",
    "                 )"
   ]
  },
  {
   "cell_type": "code",
   "execution_count": 7,
   "id": "02195648",
   "metadata": {},
   "outputs": [
    {
     "name": "stdout",
     "output_type": "stream",
     "text": [
      "Running simulations to validate the model...\n",
      "\n"
     ]
    },
    {
     "name": "stderr",
     "output_type": "stream",
     "text": [
      "/home/samiralvdb/.local/lib/python3.10/site-packages/cobra/util/solver.py:554: UserWarning: Solver status is 'infeasible'.\n",
      "  warn(f\"Solver status is '{status}'.\", UserWarning)\n",
      "/home/samiralvdb/.local/lib/python3.10/site-packages/cobra/util/solver.py:554: UserWarning: Solver status is 'infeasible'.\n",
      "  warn(f\"Solver status is '{status}'.\", UserWarning)\n"
     ]
    },
    {
     "name": "stdout",
     "output_type": "stream",
     "text": [
      "BIOMASS_Ec_iML1515_core_75p37M     0.025561\n",
      "Y_biomass                          5.550749\n",
      "EX_glyc_e                         -1.000000\n",
      "EX_ac_e                            0.000000\n",
      "Y_acetate                         -0.000000\n",
      "EX_co2_e                           1.950852\n",
      "Y_co2                            -10.828686\n",
      "EX_o2_e                           -2.396305\n",
      "PGI                                0.000000\n",
      "G6PDH2r                            0.000000\n",
      "EDA                                0.000000\n",
      "CS                                 0.641453\n",
      "ICL                                0.075665\n",
      "PPC                                0.000000\n",
      "ME1                                0.000000\n",
      "ME2                                0.000000\n",
      "dtype: float64\n",
      "BIOMASS_Ec_iML1515_core_75p37M    0.025561\n",
      "EX_glyc_e                        -1.000000\n",
      "EX_ac_e                           0.000000\n",
      "EX_co2_e                          1.950852\n",
      "EX_o2_e                          -2.396305\n",
      "PGI                               0.000000\n",
      "G6PDH2r                           0.000000\n",
      "EDA                               0.000000\n",
      "CS                                0.641453\n",
      "ICL                               0.075665\n",
      "PPC                               0.000000\n",
      "ME1                               0.000000\n",
      "ME2                               0.000000\n",
      "dtype: float64\n",
      "BIOMASS_Ec_iML1515_core_75p37M    0.051522\n",
      "Y_biomass                         5.550749\n",
      "EX_glyc_e                        -1.500000\n",
      "EX_ac_e                           0.000000\n",
      "Y_acetate                        -0.000000\n",
      "EX_co2_e                          2.385257\n",
      "Y_co2                            -8.826640\n",
      "EX_o2_e                          -3.025308\n",
      "PGI                               0.000000\n",
      "G6PDH2r                           0.000000\n",
      "EDA                               0.000000\n",
      "CS                                0.777286\n",
      "ICL                               0.152517\n",
      "PPC                               0.000000\n",
      "ME1                               0.000000\n",
      "ME2                               0.000000\n",
      "dtype: float64\n",
      "BIOMASS_Ec_iML1515_core_75p37M    0.051522\n",
      "EX_glyc_e                        -1.500000\n",
      "EX_ac_e                           0.000000\n",
      "EX_co2_e                          2.385257\n",
      "EX_o2_e                          -3.025308\n",
      "PGI                               0.000000\n",
      "G6PDH2r                           0.000000\n",
      "EDA                               0.000000\n",
      "CS                                0.777286\n",
      "ICL                               0.152517\n",
      "PPC                               0.000000\n",
      "ME1                               0.000000\n",
      "ME2                               0.000000\n",
      "dtype: float64\n",
      "BIOMASS_Ec_iML1515_core_75p37M    0.077495\n",
      "Y_biomass                         5.550749\n",
      "EX_glyc_e                        -2.000000\n",
      "EX_ac_e                           0.000000\n",
      "Y_acetate                        -0.000000\n",
      "EX_co2_e                          2.819199\n",
      "Y_co2                            -7.824332\n",
      "EX_o2_e                          -3.653823\n",
      "PGI                               0.000000\n",
      "G6PDH2r                           0.000000\n",
      "EDA                               0.000000\n",
      "CS                                0.912961\n",
      "ICL                               0.229402\n",
      "PPC                               0.000000\n",
      "ME1                               0.000000\n",
      "ME2                               0.000000\n",
      "dtype: float64\n",
      "BIOMASS_Ec_iML1515_core_75p37M    0.077495\n",
      "EX_glyc_e                        -2.000000\n",
      "EX_ac_e                           0.000000\n",
      "EX_co2_e                          2.819199\n",
      "EX_o2_e                          -3.653823\n",
      "PGI                               0.000000\n",
      "G6PDH2r                           0.000000\n",
      "EDA                               0.000000\n",
      "CS                                0.912961\n",
      "ICL                               0.229402\n",
      "PPC                               0.000000\n",
      "ME1                               0.000000\n",
      "ME2                               0.000000\n",
      "dtype: float64\n",
      "BIOMASS_Ec_iML1515_core_75p37M    0.103450\n",
      "Y_biomass                         5.550749\n",
      "EX_glyc_e                        -2.500000\n",
      "EX_ac_e                           0.000000\n",
      "Y_acetate                        -0.000000\n",
      "EX_co2_e                          3.253612\n",
      "Y_co2                            -7.223994\n",
      "EX_o2_e                          -4.282825\n",
      "PGI                               0.000000\n",
      "G6PDH2r                           0.000000\n",
      "EDA                               0.000000\n",
      "CS                                1.048761\n",
      "ICL                               0.306190\n",
      "PPC                               0.000000\n",
      "ME1                               0.000000\n",
      "ME2                               0.000000\n",
      "dtype: float64\n",
      "BIOMASS_Ec_iML1515_core_75p37M    0.103450\n",
      "EX_glyc_e                        -2.500000\n",
      "EX_ac_e                           0.000000\n",
      "EX_co2_e                          3.253612\n",
      "EX_o2_e                          -4.282825\n",
      "PGI                               0.000000\n",
      "G6PDH2r                           0.000000\n",
      "EDA                               0.000000\n",
      "CS                                1.048761\n",
      "ICL                               0.306190\n",
      "PPC                               0.000000\n",
      "ME1                               0.000000\n",
      "ME2                               0.000000\n",
      "dtype: float64\n",
      "BIOMASS_Ec_iML1515_core_75p37M    0.129144\n",
      "Y_biomass                         5.550749\n",
      "EX_glyc_e                        -3.000000\n",
      "EX_ac_e                           0.000000\n",
      "Y_acetate                        -0.000000\n",
      "EX_co2_e                          3.698953\n",
      "Y_co2                            -6.843985\n",
      "EX_o2_e                          -4.923328\n",
      "PGI                               0.000000\n",
      "G6PDH2r                           0.000000\n",
      "EDA                               0.000000\n",
      "CS                                1.188321\n",
      "ICL                               0.382237\n",
      "PPC                               0.000000\n",
      "ME1                               0.000000\n",
      "ME2                               0.000000\n",
      "dtype: float64\n",
      "BIOMASS_Ec_iML1515_core_75p37M    0.129144\n",
      "EX_glyc_e                        -3.000000\n",
      "EX_ac_e                           0.000000\n",
      "EX_co2_e                          3.698953\n",
      "EX_o2_e                          -4.923328\n",
      "PGI                               0.000000\n",
      "G6PDH2r                           0.000000\n",
      "EDA                               0.000000\n",
      "CS                                1.188321\n",
      "ICL                               0.382237\n",
      "PPC                               0.000000\n",
      "ME1                               0.000000\n",
      "ME2                               0.000000\n",
      "dtype: float64\n",
      "BIOMASS_Ec_iML1515_core_75p37M    0.154837\n",
      "Y_biomass                         5.550749\n",
      "EX_glyc_e                        -3.500000\n",
      "EX_ac_e                           0.000000\n",
      "Y_acetate                        -0.000000\n",
      "EX_co2_e                          4.144292\n",
      "Y_co2                            -6.572550\n",
      "EX_o2_e                          -5.563832\n",
      "PGI                               0.000000\n",
      "G6PDH2r                           0.000000\n",
      "EDA                               0.000000\n",
      "CS                                1.327882\n",
      "ICL                               0.458284\n",
      "PPC                               0.000000\n",
      "ME1                               0.000000\n",
      "ME2                               0.000000\n",
      "dtype: float64\n",
      "BIOMASS_Ec_iML1515_core_75p37M    0.154837\n",
      "EX_glyc_e                        -3.500000\n",
      "EX_ac_e                           0.000000\n",
      "EX_co2_e                          4.144292\n",
      "EX_o2_e                          -5.563832\n",
      "PGI                               0.000000\n",
      "G6PDH2r                           0.000000\n",
      "EDA                               0.000000\n",
      "CS                                1.327882\n",
      "ICL                               0.458284\n",
      "PPC                               0.000000\n",
      "ME1                               0.000000\n",
      "ME2                               0.000000\n",
      "dtype: float64\n",
      "BIOMASS_Ec_iML1515_core_75p37M    0.180531\n",
      "Y_biomass                         5.550749\n",
      "EX_glyc_e                        -4.000000\n",
      "EX_ac_e                           0.000000\n",
      "Y_acetate                        -0.000000\n",
      "EX_co2_e                          4.589632\n",
      "Y_co2                            -6.368974\n",
      "EX_o2_e                          -6.204336\n",
      "PGI                               0.000000\n",
      "G6PDH2r                           0.000000\n",
      "EDA                               0.000000\n",
      "CS                                1.467443\n",
      "ICL                               0.534331\n",
      "PPC                               0.000000\n",
      "ME1                               0.000000\n",
      "ME2                               0.000000\n",
      "dtype: float64\n",
      "BIOMASS_Ec_iML1515_core_75p37M    0.180531\n",
      "EX_glyc_e                        -4.000000\n",
      "EX_ac_e                           0.000000\n",
      "EX_co2_e                          4.589632\n",
      "EX_o2_e                          -6.204336\n",
      "PGI                               0.000000\n",
      "G6PDH2r                           0.000000\n",
      "EDA                               0.000000\n",
      "CS                                1.467443\n",
      "ICL                               0.534331\n",
      "PPC                               0.000000\n",
      "ME1                               0.000000\n",
      "ME2                               0.000000\n",
      "dtype: float64\n",
      "BIOMASS_Ec_iML1515_core_75p37M    0.206224\n",
      "Y_biomass                         5.550749\n",
      "EX_glyc_e                        -4.500000\n",
      "EX_ac_e                           0.000000\n",
      "Y_acetate                        -0.000000\n",
      "EX_co2_e                          5.034972\n",
      "Y_co2                            -6.210637\n",
      "EX_o2_e                          -6.844839\n",
      "PGI                               0.000000\n",
      "G6PDH2r                           0.000000\n",
      "EDA                               0.000000\n",
      "CS                                1.607004\n",
      "ICL                               0.610378\n",
      "PPC                               0.000000\n",
      "ME1                               0.000000\n",
      "ME2                               0.000000\n",
      "dtype: float64\n",
      "BIOMASS_Ec_iML1515_core_75p37M    0.206224\n",
      "EX_glyc_e                        -4.500000\n",
      "EX_ac_e                           0.000000\n",
      "EX_co2_e                          5.034972\n",
      "EX_o2_e                          -6.844839\n",
      "PGI                               0.000000\n",
      "G6PDH2r                           0.000000\n",
      "EDA                               0.000000\n",
      "CS                                1.607004\n",
      "ICL                               0.610378\n",
      "PPC                               0.000000\n",
      "ME1                               0.000000\n",
      "ME2                               0.000000\n",
      "dtype: float64\n",
      "BIOMASS_Ec_iML1515_core_75p37M    0.231918\n",
      "Y_biomass                         5.550749\n",
      "EX_glyc_e                        -5.000000\n",
      "EX_ac_e                           0.000000\n",
      "Y_acetate                        -0.000000\n",
      "EX_co2_e                          5.480312\n",
      "Y_co2                            -6.083967\n",
      "EX_o2_e                          -7.485343\n",
      "PGI                               0.000000\n",
      "G6PDH2r                           0.000000\n",
      "EDA                               0.000000\n",
      "CS                                1.746565\n",
      "ICL                               0.686426\n",
      "PPC                               0.000000\n",
      "ME1                               0.000000\n",
      "ME2                               0.000000\n",
      "dtype: float64\n",
      "BIOMASS_Ec_iML1515_core_75p37M    0.231918\n",
      "EX_glyc_e                        -5.000000\n",
      "EX_ac_e                           0.000000\n",
      "EX_co2_e                          5.480312\n",
      "EX_o2_e                          -7.485343\n",
      "PGI                               0.000000\n",
      "G6PDH2r                           0.000000\n",
      "EDA                               0.000000\n",
      "CS                                1.746565\n",
      "ICL                               0.686426\n",
      "PPC                               0.000000\n",
      "ME1                               0.000000\n",
      "ME2                               0.000000\n",
      "dtype: float64\n",
      "BIOMASS_Ec_iML1515_core_75p37M    0.257612\n",
      "Y_biomass                         5.550749\n",
      "EX_glyc_e                        -5.500000\n",
      "EX_ac_e                           0.000000\n",
      "Y_acetate                        -0.000000\n",
      "EX_co2_e                          5.925652\n",
      "Y_co2                            -5.980328\n",
      "EX_o2_e                          -8.125846\n",
      "PGI                               0.000000\n",
      "G6PDH2r                           0.000000\n",
      "EDA                               0.000000\n",
      "CS                                1.886126\n",
      "ICL                               0.762473\n",
      "PPC                               0.000000\n",
      "ME1                               0.000000\n",
      "ME2                               0.000000\n",
      "dtype: float64\n",
      "BIOMASS_Ec_iML1515_core_75p37M    0.257612\n",
      "EX_glyc_e                        -5.500000\n",
      "EX_ac_e                           0.000000\n",
      "EX_co2_e                          5.925652\n",
      "EX_o2_e                          -8.125846\n",
      "PGI                               0.000000\n",
      "G6PDH2r                           0.000000\n",
      "EDA                               0.000000\n",
      "CS                                1.886126\n",
      "ICL                               0.762473\n",
      "PPC                               0.000000\n",
      "ME1                               0.000000\n",
      "ME2                               0.000000\n",
      "dtype: float64\n",
      "BIOMASS_Ec_iML1515_core_75p37M    0.283305\n",
      "Y_biomass                         5.550749\n",
      "EX_glyc_e                        -6.000000\n",
      "EX_ac_e                           0.000000\n",
      "Y_acetate                        -0.000000\n",
      "EX_co2_e                          6.370992\n",
      "Y_co2                            -5.893963\n",
      "EX_o2_e                          -8.766350\n",
      "PGI                               0.000000\n",
      "G6PDH2r                           0.000000\n",
      "EDA                               0.000000\n",
      "CS                                2.025687\n",
      "ICL                               0.838520\n",
      "PPC                               0.000000\n",
      "ME1                               0.000000\n",
      "ME2                               0.000000\n",
      "dtype: float64\n",
      "BIOMASS_Ec_iML1515_core_75p37M    0.283305\n",
      "EX_glyc_e                        -6.000000\n",
      "EX_ac_e                           0.000000\n",
      "EX_co2_e                          6.370992\n",
      "EX_o2_e                          -8.766350\n",
      "PGI                               0.000000\n",
      "G6PDH2r                           0.000000\n",
      "EDA                               0.000000\n",
      "CS                                2.025687\n",
      "ICL                               0.838520\n",
      "PPC                               0.000000\n",
      "ME1                               0.000000\n",
      "ME2                               0.000000\n",
      "dtype: float64\n",
      "BIOMASS_Ec_iML1515_core_75p37M    0.308999\n",
      "Y_biomass                         5.550749\n",
      "EX_glyc_e                        -6.500000\n",
      "EX_ac_e                           0.000000\n",
      "Y_acetate                        -0.000000\n",
      "EX_co2_e                          6.816332\n",
      "Y_co2                            -5.820884\n",
      "EX_o2_e                          -9.406854\n",
      "PGI                               0.000000\n",
      "G6PDH2r                           0.000000\n",
      "EDA                               0.000000\n",
      "CS                                2.165247\n",
      "ICL                               0.914567\n",
      "PPC                               0.000000\n",
      "ME1                               0.000000\n",
      "ME2                               0.000000\n",
      "dtype: float64\n",
      "BIOMASS_Ec_iML1515_core_75p37M    0.308999\n",
      "EX_glyc_e                        -6.500000\n",
      "EX_ac_e                           0.000000\n",
      "EX_co2_e                          6.816332\n",
      "EX_o2_e                          -9.406854\n",
      "PGI                               0.000000\n",
      "G6PDH2r                           0.000000\n",
      "EDA                               0.000000\n",
      "CS                                2.165247\n",
      "ICL                               0.914567\n",
      "PPC                               0.000000\n",
      "ME1                               0.000000\n",
      "ME2                               0.000000\n",
      "dtype: float64\n",
      "BIOMASS_Ec_iML1515_core_75p37M     0.334584\n",
      "Y_biomass                          5.550749\n",
      "EX_glyc_e                         -7.000000\n",
      "EX_ac_e                            0.000000\n",
      "Y_acetate                         -0.000000\n",
      "EX_co2_e                           7.266129\n",
      "Y_co2                             -5.761779\n",
      "EX_o2_e                          -10.052046\n",
      "PGI                                0.000000\n",
      "G6PDH2r                            0.000000\n",
      "EDA                                0.000000\n",
      "CS                                 2.340917\n",
      "ICL                                1.006617\n",
      "PPC                                0.000000\n",
      "ME1                                0.000000\n",
      "ME2                                0.000000\n",
      "dtype: float64\n",
      "BIOMASS_Ec_iML1515_core_75p37M     0.334584\n",
      "EX_glyc_e                         -7.000000\n",
      "EX_ac_e                            0.000000\n",
      "EX_co2_e                           7.266129\n",
      "EX_o2_e                          -10.052046\n",
      "PGI                                0.000000\n",
      "G6PDH2r                            0.000000\n",
      "EDA                                0.000000\n",
      "CS                                 2.340917\n",
      "ICL                                1.006617\n",
      "PPC                                0.000000\n",
      "ME1                                0.000000\n",
      "ME2                                0.000000\n",
      "dtype: float64\n",
      "BIOMASS_Ec_iML1515_core_75p37M     0.360037\n",
      "Y_biomass                          5.550749\n",
      "EX_glyc_e                         -7.500000\n",
      "EX_ac_e                            0.000000\n",
      "Y_acetate                         -0.000000\n",
      "EX_co2_e                           7.721339\n",
      "Y_co2                             -5.714562\n",
      "EX_o2_e                          -10.702933\n",
      "PGI                                0.000000\n",
      "G6PDH2r                            0.000000\n",
      "EDA                                0.000000\n",
      "CS                                 2.527562\n",
      "ICL                                1.124274\n",
      "PPC                                0.000000\n",
      "ME1                                0.000000\n",
      "ME2                                0.000000\n",
      "dtype: float64\n",
      "BIOMASS_Ec_iML1515_core_75p37M     0.360037\n",
      "EX_glyc_e                         -7.500000\n",
      "EX_ac_e                            0.000000\n",
      "EX_co2_e                           7.721339\n",
      "EX_o2_e                          -10.702933\n",
      "PGI                                0.000000\n",
      "G6PDH2r                            0.000000\n",
      "EDA                                0.000000\n",
      "CS                                 2.527562\n",
      "ICL                                1.124274\n",
      "PPC                                0.000000\n",
      "ME1                                0.000000\n",
      "ME2                                0.000000\n",
      "dtype: float64\n"
     ]
    },
    {
     "name": "stdout",
     "output_type": "stream",
     "text": [
      "BIOMASS_Ec_iML1515_core_75p37M     0.385490\n",
      "Y_biomass                          5.550749\n",
      "EX_glyc_e                         -8.000000\n",
      "EX_ac_e                            0.000000\n",
      "Y_acetate                         -0.000000\n",
      "EX_co2_e                           8.176550\n",
      "Y_co2                             -5.673246\n",
      "EX_o2_e                          -11.353820\n",
      "PGI                                0.000000\n",
      "G6PDH2r                            0.000000\n",
      "EDA                                0.000000\n",
      "CS                                 2.714207\n",
      "ICL                                1.241931\n",
      "PPC                                0.000000\n",
      "ME1                                0.000000\n",
      "ME2                                0.000000\n",
      "dtype: float64\n",
      "BIOMASS_Ec_iML1515_core_75p37M     0.385490\n",
      "EX_glyc_e                         -8.000000\n",
      "EX_ac_e                            0.000000\n",
      "EX_co2_e                           8.176550\n",
      "EX_o2_e                          -11.353820\n",
      "PGI                                0.000000\n",
      "G6PDH2r                            0.000000\n",
      "EDA                                0.000000\n",
      "CS                                 2.714207\n",
      "ICL                                1.241931\n",
      "PPC                                0.000000\n",
      "ME1                                0.000000\n",
      "ME2                                0.000000\n",
      "dtype: float64\n",
      "BIOMASS_Ec_iML1515_core_75p37M     0.410943\n",
      "Y_biomass                          5.550749\n",
      "EX_glyc_e                         -8.500000\n",
      "EX_ac_e                            0.000000\n",
      "Y_acetate                         -0.000000\n",
      "EX_co2_e                           8.631760\n",
      "Y_co2                             -5.636792\n",
      "EX_o2_e                          -12.004707\n",
      "PGI                                0.000000\n",
      "G6PDH2r                            0.000000\n",
      "EDA                                0.000000\n",
      "CS                                 2.900852\n",
      "ICL                                1.359589\n",
      "PPC                                0.000000\n",
      "ME1                                0.000000\n",
      "ME2                                0.000000\n",
      "dtype: float64\n",
      "BIOMASS_Ec_iML1515_core_75p37M     0.410943\n",
      "EX_glyc_e                         -8.500000\n",
      "EX_ac_e                            0.000000\n",
      "EX_co2_e                           8.631760\n",
      "EX_o2_e                          -12.004707\n",
      "PGI                                0.000000\n",
      "G6PDH2r                            0.000000\n",
      "EDA                                0.000000\n",
      "CS                                 2.900852\n",
      "ICL                                1.359589\n",
      "PPC                                0.000000\n",
      "ME1                                0.000000\n",
      "ME2                                0.000000\n",
      "dtype: float64\n",
      "BIOMASS_Ec_iML1515_core_75p37M     0.436396\n",
      "Y_biomass                          5.550749\n",
      "EX_glyc_e                         -9.000000\n",
      "EX_ac_e                            0.000000\n",
      "Y_acetate                         -0.000000\n",
      "EX_co2_e                           9.086970\n",
      "Y_co2                             -5.604387\n",
      "EX_o2_e                          -12.655595\n",
      "PGI                                0.000000\n",
      "G6PDH2r                            0.000000\n",
      "EDA                                0.000000\n",
      "CS                                 3.087497\n",
      "ICL                                1.477246\n",
      "PPC                                0.000000\n",
      "ME1                                0.000000\n",
      "ME2                                0.000000\n",
      "dtype: float64\n",
      "BIOMASS_Ec_iML1515_core_75p37M     0.436396\n",
      "EX_glyc_e                         -9.000000\n",
      "EX_ac_e                            0.000000\n",
      "EX_co2_e                           9.086970\n",
      "EX_o2_e                          -12.655595\n",
      "PGI                                0.000000\n",
      "G6PDH2r                            0.000000\n",
      "EDA                                0.000000\n",
      "CS                                 3.087497\n",
      "ICL                                1.477246\n",
      "PPC                                0.000000\n",
      "ME1                                0.000000\n",
      "ME2                                0.000000\n",
      "dtype: float64\n",
      "BIOMASS_Ec_iML1515_core_75p37M     0.461849\n",
      "Y_biomass                          5.550749\n",
      "EX_glyc_e                         -9.500000\n",
      "EX_ac_e                            0.000000\n",
      "Y_acetate                         -0.000000\n",
      "EX_co2_e                           9.542180\n",
      "Y_co2                             -5.575394\n",
      "EX_o2_e                          -13.306482\n",
      "PGI                                0.000000\n",
      "G6PDH2r                            0.000000\n",
      "EDA                                0.000000\n",
      "CS                                 3.274142\n",
      "ICL                                1.594903\n",
      "PPC                                0.000000\n",
      "ME1                                0.000000\n",
      "ME2                                0.000000\n",
      "dtype: float64\n",
      "BIOMASS_Ec_iML1515_core_75p37M     0.461849\n",
      "EX_glyc_e                         -9.500000\n",
      "EX_ac_e                            0.000000\n",
      "EX_co2_e                           9.542180\n",
      "EX_o2_e                          -13.306482\n",
      "PGI                                0.000000\n",
      "G6PDH2r                            0.000000\n",
      "EDA                                0.000000\n",
      "CS                                 3.274142\n",
      "ICL                                1.594903\n",
      "PPC                                0.000000\n",
      "ME1                                0.000000\n",
      "ME2                                0.000000\n",
      "dtype: float64\n",
      "BIOMASS_Ec_iML1515_core_75p37M     0.487302\n",
      "Y_biomass                          5.550749\n",
      "EX_glyc_e                        -10.000000\n",
      "EX_ac_e                            0.000000\n",
      "Y_acetate                         -0.000000\n",
      "EX_co2_e                           9.997391\n",
      "Y_co2                             -5.549300\n",
      "EX_o2_e                          -13.957369\n",
      "PGI                                0.000000\n",
      "G6PDH2r                            0.000000\n",
      "EDA                                0.000000\n",
      "CS                                 3.460787\n",
      "ICL                                1.712560\n",
      "PPC                                0.000000\n",
      "ME1                                0.000000\n",
      "ME2                                0.000000\n",
      "dtype: float64\n",
      "BIOMASS_Ec_iML1515_core_75p37M     0.487302\n",
      "EX_glyc_e                        -10.000000\n",
      "EX_ac_e                            0.000000\n",
      "EX_co2_e                           9.997391\n",
      "EX_o2_e                          -13.957369\n",
      "PGI                                0.000000\n",
      "G6PDH2r                            0.000000\n",
      "EDA                                0.000000\n",
      "CS                                 3.460787\n",
      "ICL                                1.712560\n",
      "PPC                                0.000000\n",
      "ME1                                0.000000\n",
      "ME2                                0.000000\n",
      "dtype: float64\n",
      "BIOMASS_Ec_iML1515_core_75p37M     0.512755\n",
      "Y_biomass                          5.550749\n",
      "EX_glyc_e                        -10.500000\n",
      "EX_ac_e                            0.000000\n",
      "Y_acetate                         -0.000000\n",
      "EX_co2_e                          10.452601\n",
      "Y_co2                             -5.525692\n",
      "EX_o2_e                          -14.608256\n",
      "PGI                                0.000000\n",
      "G6PDH2r                            0.000000\n",
      "EDA                                0.000000\n",
      "CS                                 3.647432\n",
      "ICL                                1.830218\n",
      "PPC                                0.000000\n",
      "ME1                                0.000000\n",
      "ME2                                0.000000\n",
      "dtype: float64\n",
      "BIOMASS_Ec_iML1515_core_75p37M     0.512755\n",
      "EX_glyc_e                        -10.500000\n",
      "EX_ac_e                            0.000000\n",
      "EX_co2_e                          10.452601\n",
      "EX_o2_e                          -14.608256\n",
      "PGI                                0.000000\n",
      "G6PDH2r                            0.000000\n",
      "EDA                                0.000000\n",
      "CS                                 3.647432\n",
      "ICL                                1.830218\n",
      "PPC                                0.000000\n",
      "ME1                                0.000000\n",
      "ME2                                0.000000\n",
      "dtype: float64\n"
     ]
    },
    {
     "data": {
      "text/html": [
       "<div>\n",
       "<style scoped>\n",
       "    .dataframe tbody tr th:only-of-type {\n",
       "        vertical-align: middle;\n",
       "    }\n",
       "\n",
       "    .dataframe tbody tr th {\n",
       "        vertical-align: top;\n",
       "    }\n",
       "\n",
       "    .dataframe thead th {\n",
       "        text-align: right;\n",
       "    }\n",
       "</style>\n",
       "<table border=\"1\" class=\"dataframe\">\n",
       "  <thead>\n",
       "    <tr style=\"text-align: right;\">\n",
       "      <th></th>\n",
       "      <th>BIOMASS_Ec_iML1515_core_75p37M</th>\n",
       "      <th>EX_glyc_e</th>\n",
       "      <th>EX_ac_e</th>\n",
       "      <th>EX_co2_e</th>\n",
       "      <th>EX_o2_e</th>\n",
       "      <th>PGI</th>\n",
       "      <th>G6PDH2r</th>\n",
       "      <th>EDA</th>\n",
       "      <th>CS</th>\n",
       "      <th>ICL</th>\n",
       "      <th>PPC</th>\n",
       "      <th>ME1</th>\n",
       "      <th>ME2</th>\n",
       "    </tr>\n",
       "  </thead>\n",
       "  <tbody>\n",
       "    <tr>\n",
       "      <th>0</th>\n",
       "      <td>0.025561</td>\n",
       "      <td>-1.0</td>\n",
       "      <td>0.0</td>\n",
       "      <td>1.950852</td>\n",
       "      <td>-2.396305</td>\n",
       "      <td>0.0</td>\n",
       "      <td>0.0</td>\n",
       "      <td>0.0</td>\n",
       "      <td>0.641453</td>\n",
       "      <td>0.075665</td>\n",
       "      <td>0.0</td>\n",
       "      <td>0.0</td>\n",
       "      <td>0.0</td>\n",
       "    </tr>\n",
       "    <tr>\n",
       "      <th>1</th>\n",
       "      <td>0.051522</td>\n",
       "      <td>-1.5</td>\n",
       "      <td>0.0</td>\n",
       "      <td>2.385257</td>\n",
       "      <td>-3.025308</td>\n",
       "      <td>0.0</td>\n",
       "      <td>0.0</td>\n",
       "      <td>0.0</td>\n",
       "      <td>0.777286</td>\n",
       "      <td>0.152517</td>\n",
       "      <td>0.0</td>\n",
       "      <td>0.0</td>\n",
       "      <td>0.0</td>\n",
       "    </tr>\n",
       "    <tr>\n",
       "      <th>2</th>\n",
       "      <td>0.077495</td>\n",
       "      <td>-2.0</td>\n",
       "      <td>0.0</td>\n",
       "      <td>2.819199</td>\n",
       "      <td>-3.653823</td>\n",
       "      <td>0.0</td>\n",
       "      <td>0.0</td>\n",
       "      <td>0.0</td>\n",
       "      <td>0.912961</td>\n",
       "      <td>0.229402</td>\n",
       "      <td>0.0</td>\n",
       "      <td>0.0</td>\n",
       "      <td>0.0</td>\n",
       "    </tr>\n",
       "    <tr>\n",
       "      <th>3</th>\n",
       "      <td>0.103450</td>\n",
       "      <td>-2.5</td>\n",
       "      <td>0.0</td>\n",
       "      <td>3.253612</td>\n",
       "      <td>-4.282825</td>\n",
       "      <td>0.0</td>\n",
       "      <td>0.0</td>\n",
       "      <td>0.0</td>\n",
       "      <td>1.048761</td>\n",
       "      <td>0.306190</td>\n",
       "      <td>0.0</td>\n",
       "      <td>0.0</td>\n",
       "      <td>0.0</td>\n",
       "    </tr>\n",
       "    <tr>\n",
       "      <th>4</th>\n",
       "      <td>0.129144</td>\n",
       "      <td>-3.0</td>\n",
       "      <td>0.0</td>\n",
       "      <td>3.698953</td>\n",
       "      <td>-4.923328</td>\n",
       "      <td>0.0</td>\n",
       "      <td>0.0</td>\n",
       "      <td>0.0</td>\n",
       "      <td>1.188321</td>\n",
       "      <td>0.382237</td>\n",
       "      <td>0.0</td>\n",
       "      <td>0.0</td>\n",
       "      <td>0.0</td>\n",
       "    </tr>\n",
       "    <tr>\n",
       "      <th>5</th>\n",
       "      <td>0.154837</td>\n",
       "      <td>-3.5</td>\n",
       "      <td>0.0</td>\n",
       "      <td>4.144292</td>\n",
       "      <td>-5.563832</td>\n",
       "      <td>0.0</td>\n",
       "      <td>0.0</td>\n",
       "      <td>0.0</td>\n",
       "      <td>1.327882</td>\n",
       "      <td>0.458284</td>\n",
       "      <td>0.0</td>\n",
       "      <td>0.0</td>\n",
       "      <td>0.0</td>\n",
       "    </tr>\n",
       "    <tr>\n",
       "      <th>6</th>\n",
       "      <td>0.180531</td>\n",
       "      <td>-4.0</td>\n",
       "      <td>0.0</td>\n",
       "      <td>4.589632</td>\n",
       "      <td>-6.204336</td>\n",
       "      <td>0.0</td>\n",
       "      <td>0.0</td>\n",
       "      <td>0.0</td>\n",
       "      <td>1.467443</td>\n",
       "      <td>0.534331</td>\n",
       "      <td>0.0</td>\n",
       "      <td>0.0</td>\n",
       "      <td>0.0</td>\n",
       "    </tr>\n",
       "    <tr>\n",
       "      <th>7</th>\n",
       "      <td>0.206224</td>\n",
       "      <td>-4.5</td>\n",
       "      <td>0.0</td>\n",
       "      <td>5.034972</td>\n",
       "      <td>-6.844839</td>\n",
       "      <td>0.0</td>\n",
       "      <td>0.0</td>\n",
       "      <td>0.0</td>\n",
       "      <td>1.607004</td>\n",
       "      <td>0.610378</td>\n",
       "      <td>0.0</td>\n",
       "      <td>0.0</td>\n",
       "      <td>0.0</td>\n",
       "    </tr>\n",
       "    <tr>\n",
       "      <th>8</th>\n",
       "      <td>0.231918</td>\n",
       "      <td>-5.0</td>\n",
       "      <td>0.0</td>\n",
       "      <td>5.480312</td>\n",
       "      <td>-7.485343</td>\n",
       "      <td>0.0</td>\n",
       "      <td>0.0</td>\n",
       "      <td>0.0</td>\n",
       "      <td>1.746565</td>\n",
       "      <td>0.686426</td>\n",
       "      <td>0.0</td>\n",
       "      <td>0.0</td>\n",
       "      <td>0.0</td>\n",
       "    </tr>\n",
       "    <tr>\n",
       "      <th>9</th>\n",
       "      <td>0.257612</td>\n",
       "      <td>-5.5</td>\n",
       "      <td>0.0</td>\n",
       "      <td>5.925652</td>\n",
       "      <td>-8.125846</td>\n",
       "      <td>0.0</td>\n",
       "      <td>0.0</td>\n",
       "      <td>0.0</td>\n",
       "      <td>1.886126</td>\n",
       "      <td>0.762473</td>\n",
       "      <td>0.0</td>\n",
       "      <td>0.0</td>\n",
       "      <td>0.0</td>\n",
       "    </tr>\n",
       "    <tr>\n",
       "      <th>10</th>\n",
       "      <td>0.283305</td>\n",
       "      <td>-6.0</td>\n",
       "      <td>0.0</td>\n",
       "      <td>6.370992</td>\n",
       "      <td>-8.766350</td>\n",
       "      <td>0.0</td>\n",
       "      <td>0.0</td>\n",
       "      <td>0.0</td>\n",
       "      <td>2.025687</td>\n",
       "      <td>0.838520</td>\n",
       "      <td>0.0</td>\n",
       "      <td>0.0</td>\n",
       "      <td>0.0</td>\n",
       "    </tr>\n",
       "    <tr>\n",
       "      <th>11</th>\n",
       "      <td>0.308999</td>\n",
       "      <td>-6.5</td>\n",
       "      <td>0.0</td>\n",
       "      <td>6.816332</td>\n",
       "      <td>-9.406854</td>\n",
       "      <td>0.0</td>\n",
       "      <td>0.0</td>\n",
       "      <td>0.0</td>\n",
       "      <td>2.165247</td>\n",
       "      <td>0.914567</td>\n",
       "      <td>0.0</td>\n",
       "      <td>0.0</td>\n",
       "      <td>0.0</td>\n",
       "    </tr>\n",
       "    <tr>\n",
       "      <th>12</th>\n",
       "      <td>0.334584</td>\n",
       "      <td>-7.0</td>\n",
       "      <td>0.0</td>\n",
       "      <td>7.266129</td>\n",
       "      <td>-10.052046</td>\n",
       "      <td>0.0</td>\n",
       "      <td>0.0</td>\n",
       "      <td>0.0</td>\n",
       "      <td>2.340917</td>\n",
       "      <td>1.006617</td>\n",
       "      <td>0.0</td>\n",
       "      <td>0.0</td>\n",
       "      <td>0.0</td>\n",
       "    </tr>\n",
       "    <tr>\n",
       "      <th>13</th>\n",
       "      <td>0.360037</td>\n",
       "      <td>-7.5</td>\n",
       "      <td>0.0</td>\n",
       "      <td>7.721339</td>\n",
       "      <td>-10.702933</td>\n",
       "      <td>0.0</td>\n",
       "      <td>0.0</td>\n",
       "      <td>0.0</td>\n",
       "      <td>2.527562</td>\n",
       "      <td>1.124274</td>\n",
       "      <td>0.0</td>\n",
       "      <td>0.0</td>\n",
       "      <td>0.0</td>\n",
       "    </tr>\n",
       "    <tr>\n",
       "      <th>14</th>\n",
       "      <td>0.385490</td>\n",
       "      <td>-8.0</td>\n",
       "      <td>0.0</td>\n",
       "      <td>8.176550</td>\n",
       "      <td>-11.353820</td>\n",
       "      <td>0.0</td>\n",
       "      <td>0.0</td>\n",
       "      <td>0.0</td>\n",
       "      <td>2.714207</td>\n",
       "      <td>1.241931</td>\n",
       "      <td>0.0</td>\n",
       "      <td>0.0</td>\n",
       "      <td>0.0</td>\n",
       "    </tr>\n",
       "    <tr>\n",
       "      <th>15</th>\n",
       "      <td>0.410943</td>\n",
       "      <td>-8.5</td>\n",
       "      <td>0.0</td>\n",
       "      <td>8.631760</td>\n",
       "      <td>-12.004707</td>\n",
       "      <td>0.0</td>\n",
       "      <td>0.0</td>\n",
       "      <td>0.0</td>\n",
       "      <td>2.900852</td>\n",
       "      <td>1.359589</td>\n",
       "      <td>0.0</td>\n",
       "      <td>0.0</td>\n",
       "      <td>0.0</td>\n",
       "    </tr>\n",
       "    <tr>\n",
       "      <th>16</th>\n",
       "      <td>0.436396</td>\n",
       "      <td>-9.0</td>\n",
       "      <td>0.0</td>\n",
       "      <td>9.086970</td>\n",
       "      <td>-12.655595</td>\n",
       "      <td>0.0</td>\n",
       "      <td>0.0</td>\n",
       "      <td>0.0</td>\n",
       "      <td>3.087497</td>\n",
       "      <td>1.477246</td>\n",
       "      <td>0.0</td>\n",
       "      <td>0.0</td>\n",
       "      <td>0.0</td>\n",
       "    </tr>\n",
       "    <tr>\n",
       "      <th>17</th>\n",
       "      <td>0.461849</td>\n",
       "      <td>-9.5</td>\n",
       "      <td>0.0</td>\n",
       "      <td>9.542180</td>\n",
       "      <td>-13.306482</td>\n",
       "      <td>0.0</td>\n",
       "      <td>0.0</td>\n",
       "      <td>0.0</td>\n",
       "      <td>3.274142</td>\n",
       "      <td>1.594903</td>\n",
       "      <td>0.0</td>\n",
       "      <td>0.0</td>\n",
       "      <td>0.0</td>\n",
       "    </tr>\n",
       "    <tr>\n",
       "      <th>18</th>\n",
       "      <td>0.487302</td>\n",
       "      <td>-10.0</td>\n",
       "      <td>0.0</td>\n",
       "      <td>9.997391</td>\n",
       "      <td>-13.957369</td>\n",
       "      <td>0.0</td>\n",
       "      <td>0.0</td>\n",
       "      <td>0.0</td>\n",
       "      <td>3.460787</td>\n",
       "      <td>1.712560</td>\n",
       "      <td>0.0</td>\n",
       "      <td>0.0</td>\n",
       "      <td>0.0</td>\n",
       "    </tr>\n",
       "    <tr>\n",
       "      <th>19</th>\n",
       "      <td>0.512755</td>\n",
       "      <td>-10.5</td>\n",
       "      <td>0.0</td>\n",
       "      <td>10.452601</td>\n",
       "      <td>-14.608256</td>\n",
       "      <td>0.0</td>\n",
       "      <td>0.0</td>\n",
       "      <td>0.0</td>\n",
       "      <td>3.647432</td>\n",
       "      <td>1.830218</td>\n",
       "      <td>0.0</td>\n",
       "      <td>0.0</td>\n",
       "      <td>0.0</td>\n",
       "    </tr>\n",
       "  </tbody>\n",
       "</table>\n",
       "</div>"
      ],
      "text/plain": [
       "    BIOMASS_Ec_iML1515_core_75p37M  EX_glyc_e  EX_ac_e   EX_co2_e    EX_o2_e  \\\n",
       "0                         0.025561       -1.0      0.0   1.950852  -2.396305   \n",
       "1                         0.051522       -1.5      0.0   2.385257  -3.025308   \n",
       "2                         0.077495       -2.0      0.0   2.819199  -3.653823   \n",
       "3                         0.103450       -2.5      0.0   3.253612  -4.282825   \n",
       "4                         0.129144       -3.0      0.0   3.698953  -4.923328   \n",
       "5                         0.154837       -3.5      0.0   4.144292  -5.563832   \n",
       "6                         0.180531       -4.0      0.0   4.589632  -6.204336   \n",
       "7                         0.206224       -4.5      0.0   5.034972  -6.844839   \n",
       "8                         0.231918       -5.0      0.0   5.480312  -7.485343   \n",
       "9                         0.257612       -5.5      0.0   5.925652  -8.125846   \n",
       "10                        0.283305       -6.0      0.0   6.370992  -8.766350   \n",
       "11                        0.308999       -6.5      0.0   6.816332  -9.406854   \n",
       "12                        0.334584       -7.0      0.0   7.266129 -10.052046   \n",
       "13                        0.360037       -7.5      0.0   7.721339 -10.702933   \n",
       "14                        0.385490       -8.0      0.0   8.176550 -11.353820   \n",
       "15                        0.410943       -8.5      0.0   8.631760 -12.004707   \n",
       "16                        0.436396       -9.0      0.0   9.086970 -12.655595   \n",
       "17                        0.461849       -9.5      0.0   9.542180 -13.306482   \n",
       "18                        0.487302      -10.0      0.0   9.997391 -13.957369   \n",
       "19                        0.512755      -10.5      0.0  10.452601 -14.608256   \n",
       "\n",
       "    PGI  G6PDH2r  EDA        CS       ICL  PPC  ME1  ME2  \n",
       "0   0.0      0.0  0.0  0.641453  0.075665  0.0  0.0  0.0  \n",
       "1   0.0      0.0  0.0  0.777286  0.152517  0.0  0.0  0.0  \n",
       "2   0.0      0.0  0.0  0.912961  0.229402  0.0  0.0  0.0  \n",
       "3   0.0      0.0  0.0  1.048761  0.306190  0.0  0.0  0.0  \n",
       "4   0.0      0.0  0.0  1.188321  0.382237  0.0  0.0  0.0  \n",
       "5   0.0      0.0  0.0  1.327882  0.458284  0.0  0.0  0.0  \n",
       "6   0.0      0.0  0.0  1.467443  0.534331  0.0  0.0  0.0  \n",
       "7   0.0      0.0  0.0  1.607004  0.610378  0.0  0.0  0.0  \n",
       "8   0.0      0.0  0.0  1.746565  0.686426  0.0  0.0  0.0  \n",
       "9   0.0      0.0  0.0  1.886126  0.762473  0.0  0.0  0.0  \n",
       "10  0.0      0.0  0.0  2.025687  0.838520  0.0  0.0  0.0  \n",
       "11  0.0      0.0  0.0  2.165247  0.914567  0.0  0.0  0.0  \n",
       "12  0.0      0.0  0.0  2.340917  1.006617  0.0  0.0  0.0  \n",
       "13  0.0      0.0  0.0  2.527562  1.124274  0.0  0.0  0.0  \n",
       "14  0.0      0.0  0.0  2.714207  1.241931  0.0  0.0  0.0  \n",
       "15  0.0      0.0  0.0  2.900852  1.359589  0.0  0.0  0.0  \n",
       "16  0.0      0.0  0.0  3.087497  1.477246  0.0  0.0  0.0  \n",
       "17  0.0      0.0  0.0  3.274142  1.594903  0.0  0.0  0.0  \n",
       "18  0.0      0.0  0.0  3.460787  1.712560  0.0  0.0  0.0  \n",
       "19  0.0      0.0  0.0  3.647432  1.830218  0.0  0.0  0.0  "
      ]
     },
     "metadata": {},
     "output_type": "display_data"
    },
    {
     "name": "stdout",
     "output_type": "stream",
     "text": [
      "Plotting the results against reference values. \n",
      "\n"
     ]
    },
    {
     "data": {
      "application/vnd.plotly.v1+json": {
       "config": {
        "plotlyServerURL": "https://plot.ly"
       },
       "data": [
        {
         "marker": {
          "color": "blue"
         },
         "mode": "lines",
         "showlegend": false,
         "type": "scatter",
         "x": [
          1,
          1.5,
          2,
          2.5,
          3,
          3.5,
          4,
          4.5,
          5,
          5.5,
          6,
          6.5,
          7,
          7.5,
          8,
          8.5,
          9,
          9.5,
          10,
          10.5
         ],
         "xaxis": "x",
         "y": [
          0.025560717958998506,
          0.05152204556991683,
          0.07749469736953919,
          0.10345023303611676,
          0.12914379496487252,
          0.1548373581076057,
          0.1805309212503394,
          0.2062244843930732,
          0.2319180475358058,
          0.25761161067853994,
          0.28330517382127396,
          0.30899873696400737,
          0.33458372681164256,
          0.36003682965915584,
          0.38548993250667024,
          0.4109430353541836,
          0.43639613820169687,
          0.46184924104921177,
          0.4873023438967241,
          0.5127554467442388
         ],
         "yaxis": "y"
        },
        {
         "line": {
          "color": "black",
          "dash": "dash",
          "width": 1
         },
         "mode": "markers",
         "showlegend": false,
         "type": "scatter",
         "x": [
          4.94483364720653
         ],
         "xaxis": "x",
         "y": [
          0.49
         ],
         "yaxis": "y"
        },
        {
         "marker": {
          "color": "blue"
         },
         "mode": "lines",
         "showlegend": false,
         "type": "scatter",
         "x": [
          1,
          1.5,
          2,
          2.5,
          3,
          3.5,
          4,
          4.5,
          5,
          5.5,
          6,
          6.5,
          7,
          7.5,
          8,
          8.5,
          9,
          9.5,
          10,
          10.5
         ],
         "xaxis": "x2",
         "y": [
          0,
          0,
          0,
          0,
          0,
          0,
          0,
          0,
          0,
          0,
          0,
          0,
          0,
          0,
          0,
          0,
          0,
          0,
          0,
          0
         ],
         "yaxis": "y2"
        },
        {
         "line": {
          "color": "black",
          "dash": "dash",
          "width": 1
         },
         "mode": "markers",
         "showlegend": false,
         "type": "scatter",
         "x": [
          4.94483364720653
         ],
         "xaxis": "x2",
         "y": [
          0.5970002640036
         ],
         "yaxis": "y2"
        },
        {
         "marker": {
          "color": "blue"
         },
         "mode": "lines",
         "showlegend": false,
         "type": "scatter",
         "x": [
          1,
          1.5,
          2,
          2.5,
          3,
          3.5,
          4,
          4.5,
          5,
          5.5,
          6,
          6.5,
          7,
          7.5,
          8,
          8.5,
          9,
          9.5,
          10,
          10.5
         ],
         "xaxis": "x3",
         "y": [
          2.396304595731047,
          3.02530762018411,
          3.653823410792231,
          4.282824502787562,
          4.923328207654142,
          5.563831860098961,
          6.204335512543783,
          6.844839164988606,
          7.485342817433422,
          8.125846469878248,
          8.766350122323072,
          9.40685377476789,
          10.052045826158674,
          10.702933006096238,
          11.353820186033813,
          12.004707365971376,
          12.655594545908944,
          13.306481725846515,
          13.957368905784078,
          14.608256085721644
         ],
         "yaxis": "y3"
        },
        {
         "line": {
          "color": "black",
          "dash": "dash",
          "width": 1
         },
         "mode": "markers",
         "showlegend": false,
         "type": "scatter",
         "x": [
          4.94483364720653
         ],
         "xaxis": "x3",
         "y": [
          null
         ],
         "yaxis": "y3"
        },
        {
         "marker": {
          "color": "blue"
         },
         "mode": "lines",
         "showlegend": false,
         "type": "scatter",
         "x": [
          1,
          1.5,
          2,
          2.5,
          3,
          3.5,
          4,
          4.5,
          5,
          5.5,
          6,
          6.5,
          7,
          7.5,
          8,
          8.5,
          9,
          9.5,
          10,
          10.5
         ],
         "xaxis": "x4",
         "y": [
          1.950851538485965,
          2.3852567216322402,
          2.819198683620121,
          3.2536124902183796,
          3.698952512623243,
          4.144292485197276,
          4.589632457771316,
          5.0349724303453565,
          5.480312402919382,
          5.925652375493427,
          6.3709923480674675,
          6.816332320641501,
          7.266128970312186,
          7.721339269556882,
          8.17654956880159,
          8.63175986804629,
          9.08697016729099,
          9.542180466535712,
          9.997390765780404,
          10.45260106502512
         ],
         "yaxis": "y4"
        },
        {
         "line": {
          "color": "black",
          "dash": "dash",
          "width": 1
         },
         "mode": "markers",
         "showlegend": false,
         "type": "scatter",
         "x": [
          4.94483364720653
         ],
         "xaxis": "x4",
         "y": [
          0
         ],
         "yaxis": "y4"
        }
       ],
       "layout": {
        "annotations": [
         {
          "font": {
           "size": 16
          },
          "showarrow": false,
          "text": "Glucose consumption",
          "x": 0.225,
          "xanchor": "center",
          "xref": "paper",
          "y": 1,
          "yanchor": "bottom",
          "yref": "paper"
         },
         {
          "font": {
           "size": 16
          },
          "showarrow": false,
          "text": "Acetate production",
          "x": 0.775,
          "xanchor": "center",
          "xref": "paper",
          "y": 1,
          "yanchor": "bottom",
          "yref": "paper"
         },
         {
          "font": {
           "size": 16
          },
          "showarrow": false,
          "text": "O2 consumption",
          "x": 0.225,
          "xanchor": "center",
          "xref": "paper",
          "y": 0.375,
          "yanchor": "bottom",
          "yref": "paper"
         },
         {
          "font": {
           "size": 16
          },
          "showarrow": false,
          "text": "CO2 production",
          "x": 0.775,
          "xanchor": "center",
          "xref": "paper",
          "y": 0.375,
          "yanchor": "bottom",
          "yref": "paper"
         }
        ],
        "autosize": true,
        "template": {
         "data": {
          "bar": [
           {
            "error_x": {
             "color": "#2a3f5f"
            },
            "error_y": {
             "color": "#2a3f5f"
            },
            "marker": {
             "line": {
              "color": "#E5ECF6",
              "width": 0.5
             },
             "pattern": {
              "fillmode": "overlay",
              "size": 10,
              "solidity": 0.2
             }
            },
            "type": "bar"
           }
          ],
          "barpolar": [
           {
            "marker": {
             "line": {
              "color": "#E5ECF6",
              "width": 0.5
             },
             "pattern": {
              "fillmode": "overlay",
              "size": 10,
              "solidity": 0.2
             }
            },
            "type": "barpolar"
           }
          ],
          "carpet": [
           {
            "aaxis": {
             "endlinecolor": "#2a3f5f",
             "gridcolor": "white",
             "linecolor": "white",
             "minorgridcolor": "white",
             "startlinecolor": "#2a3f5f"
            },
            "baxis": {
             "endlinecolor": "#2a3f5f",
             "gridcolor": "white",
             "linecolor": "white",
             "minorgridcolor": "white",
             "startlinecolor": "#2a3f5f"
            },
            "type": "carpet"
           }
          ],
          "choropleth": [
           {
            "colorbar": {
             "outlinewidth": 0,
             "ticks": ""
            },
            "type": "choropleth"
           }
          ],
          "contour": [
           {
            "colorbar": {
             "outlinewidth": 0,
             "ticks": ""
            },
            "colorscale": [
             [
              0,
              "#0d0887"
             ],
             [
              0.1111111111111111,
              "#46039f"
             ],
             [
              0.2222222222222222,
              "#7201a8"
             ],
             [
              0.3333333333333333,
              "#9c179e"
             ],
             [
              0.4444444444444444,
              "#bd3786"
             ],
             [
              0.5555555555555556,
              "#d8576b"
             ],
             [
              0.6666666666666666,
              "#ed7953"
             ],
             [
              0.7777777777777778,
              "#fb9f3a"
             ],
             [
              0.8888888888888888,
              "#fdca26"
             ],
             [
              1,
              "#f0f921"
             ]
            ],
            "type": "contour"
           }
          ],
          "contourcarpet": [
           {
            "colorbar": {
             "outlinewidth": 0,
             "ticks": ""
            },
            "type": "contourcarpet"
           }
          ],
          "heatmap": [
           {
            "colorbar": {
             "outlinewidth": 0,
             "ticks": ""
            },
            "colorscale": [
             [
              0,
              "#0d0887"
             ],
             [
              0.1111111111111111,
              "#46039f"
             ],
             [
              0.2222222222222222,
              "#7201a8"
             ],
             [
              0.3333333333333333,
              "#9c179e"
             ],
             [
              0.4444444444444444,
              "#bd3786"
             ],
             [
              0.5555555555555556,
              "#d8576b"
             ],
             [
              0.6666666666666666,
              "#ed7953"
             ],
             [
              0.7777777777777778,
              "#fb9f3a"
             ],
             [
              0.8888888888888888,
              "#fdca26"
             ],
             [
              1,
              "#f0f921"
             ]
            ],
            "type": "heatmap"
           }
          ],
          "heatmapgl": [
           {
            "colorbar": {
             "outlinewidth": 0,
             "ticks": ""
            },
            "colorscale": [
             [
              0,
              "#0d0887"
             ],
             [
              0.1111111111111111,
              "#46039f"
             ],
             [
              0.2222222222222222,
              "#7201a8"
             ],
             [
              0.3333333333333333,
              "#9c179e"
             ],
             [
              0.4444444444444444,
              "#bd3786"
             ],
             [
              0.5555555555555556,
              "#d8576b"
             ],
             [
              0.6666666666666666,
              "#ed7953"
             ],
             [
              0.7777777777777778,
              "#fb9f3a"
             ],
             [
              0.8888888888888888,
              "#fdca26"
             ],
             [
              1,
              "#f0f921"
             ]
            ],
            "type": "heatmapgl"
           }
          ],
          "histogram": [
           {
            "marker": {
             "pattern": {
              "fillmode": "overlay",
              "size": 10,
              "solidity": 0.2
             }
            },
            "type": "histogram"
           }
          ],
          "histogram2d": [
           {
            "colorbar": {
             "outlinewidth": 0,
             "ticks": ""
            },
            "colorscale": [
             [
              0,
              "#0d0887"
             ],
             [
              0.1111111111111111,
              "#46039f"
             ],
             [
              0.2222222222222222,
              "#7201a8"
             ],
             [
              0.3333333333333333,
              "#9c179e"
             ],
             [
              0.4444444444444444,
              "#bd3786"
             ],
             [
              0.5555555555555556,
              "#d8576b"
             ],
             [
              0.6666666666666666,
              "#ed7953"
             ],
             [
              0.7777777777777778,
              "#fb9f3a"
             ],
             [
              0.8888888888888888,
              "#fdca26"
             ],
             [
              1,
              "#f0f921"
             ]
            ],
            "type": "histogram2d"
           }
          ],
          "histogram2dcontour": [
           {
            "colorbar": {
             "outlinewidth": 0,
             "ticks": ""
            },
            "colorscale": [
             [
              0,
              "#0d0887"
             ],
             [
              0.1111111111111111,
              "#46039f"
             ],
             [
              0.2222222222222222,
              "#7201a8"
             ],
             [
              0.3333333333333333,
              "#9c179e"
             ],
             [
              0.4444444444444444,
              "#bd3786"
             ],
             [
              0.5555555555555556,
              "#d8576b"
             ],
             [
              0.6666666666666666,
              "#ed7953"
             ],
             [
              0.7777777777777778,
              "#fb9f3a"
             ],
             [
              0.8888888888888888,
              "#fdca26"
             ],
             [
              1,
              "#f0f921"
             ]
            ],
            "type": "histogram2dcontour"
           }
          ],
          "mesh3d": [
           {
            "colorbar": {
             "outlinewidth": 0,
             "ticks": ""
            },
            "type": "mesh3d"
           }
          ],
          "parcoords": [
           {
            "line": {
             "colorbar": {
              "outlinewidth": 0,
              "ticks": ""
             }
            },
            "type": "parcoords"
           }
          ],
          "pie": [
           {
            "automargin": true,
            "type": "pie"
           }
          ],
          "scatter": [
           {
            "fillpattern": {
             "fillmode": "overlay",
             "size": 10,
             "solidity": 0.2
            },
            "type": "scatter"
           }
          ],
          "scatter3d": [
           {
            "line": {
             "colorbar": {
              "outlinewidth": 0,
              "ticks": ""
             }
            },
            "marker": {
             "colorbar": {
              "outlinewidth": 0,
              "ticks": ""
             }
            },
            "type": "scatter3d"
           }
          ],
          "scattercarpet": [
           {
            "marker": {
             "colorbar": {
              "outlinewidth": 0,
              "ticks": ""
             }
            },
            "type": "scattercarpet"
           }
          ],
          "scattergeo": [
           {
            "marker": {
             "colorbar": {
              "outlinewidth": 0,
              "ticks": ""
             }
            },
            "type": "scattergeo"
           }
          ],
          "scattergl": [
           {
            "marker": {
             "colorbar": {
              "outlinewidth": 0,
              "ticks": ""
             }
            },
            "type": "scattergl"
           }
          ],
          "scattermapbox": [
           {
            "marker": {
             "colorbar": {
              "outlinewidth": 0,
              "ticks": ""
             }
            },
            "type": "scattermapbox"
           }
          ],
          "scatterpolar": [
           {
            "marker": {
             "colorbar": {
              "outlinewidth": 0,
              "ticks": ""
             }
            },
            "type": "scatterpolar"
           }
          ],
          "scatterpolargl": [
           {
            "marker": {
             "colorbar": {
              "outlinewidth": 0,
              "ticks": ""
             }
            },
            "type": "scatterpolargl"
           }
          ],
          "scatterternary": [
           {
            "marker": {
             "colorbar": {
              "outlinewidth": 0,
              "ticks": ""
             }
            },
            "type": "scatterternary"
           }
          ],
          "surface": [
           {
            "colorbar": {
             "outlinewidth": 0,
             "ticks": ""
            },
            "colorscale": [
             [
              0,
              "#0d0887"
             ],
             [
              0.1111111111111111,
              "#46039f"
             ],
             [
              0.2222222222222222,
              "#7201a8"
             ],
             [
              0.3333333333333333,
              "#9c179e"
             ],
             [
              0.4444444444444444,
              "#bd3786"
             ],
             [
              0.5555555555555556,
              "#d8576b"
             ],
             [
              0.6666666666666666,
              "#ed7953"
             ],
             [
              0.7777777777777778,
              "#fb9f3a"
             ],
             [
              0.8888888888888888,
              "#fdca26"
             ],
             [
              1,
              "#f0f921"
             ]
            ],
            "type": "surface"
           }
          ],
          "table": [
           {
            "cells": {
             "fill": {
              "color": "#EBF0F8"
             },
             "line": {
              "color": "white"
             }
            },
            "header": {
             "fill": {
              "color": "#C8D4E3"
             },
             "line": {
              "color": "white"
             }
            },
            "type": "table"
           }
          ]
         },
         "layout": {
          "annotationdefaults": {
           "arrowcolor": "#2a3f5f",
           "arrowhead": 0,
           "arrowwidth": 1
          },
          "autotypenumbers": "strict",
          "coloraxis": {
           "colorbar": {
            "outlinewidth": 0,
            "ticks": ""
           }
          },
          "colorscale": {
           "diverging": [
            [
             0,
             "#8e0152"
            ],
            [
             0.1,
             "#c51b7d"
            ],
            [
             0.2,
             "#de77ae"
            ],
            [
             0.3,
             "#f1b6da"
            ],
            [
             0.4,
             "#fde0ef"
            ],
            [
             0.5,
             "#f7f7f7"
            ],
            [
             0.6,
             "#e6f5d0"
            ],
            [
             0.7,
             "#b8e186"
            ],
            [
             0.8,
             "#7fbc41"
            ],
            [
             0.9,
             "#4d9221"
            ],
            [
             1,
             "#276419"
            ]
           ],
           "sequential": [
            [
             0,
             "#0d0887"
            ],
            [
             0.1111111111111111,
             "#46039f"
            ],
            [
             0.2222222222222222,
             "#7201a8"
            ],
            [
             0.3333333333333333,
             "#9c179e"
            ],
            [
             0.4444444444444444,
             "#bd3786"
            ],
            [
             0.5555555555555556,
             "#d8576b"
            ],
            [
             0.6666666666666666,
             "#ed7953"
            ],
            [
             0.7777777777777778,
             "#fb9f3a"
            ],
            [
             0.8888888888888888,
             "#fdca26"
            ],
            [
             1,
             "#f0f921"
            ]
           ],
           "sequentialminus": [
            [
             0,
             "#0d0887"
            ],
            [
             0.1111111111111111,
             "#46039f"
            ],
            [
             0.2222222222222222,
             "#7201a8"
            ],
            [
             0.3333333333333333,
             "#9c179e"
            ],
            [
             0.4444444444444444,
             "#bd3786"
            ],
            [
             0.5555555555555556,
             "#d8576b"
            ],
            [
             0.6666666666666666,
             "#ed7953"
            ],
            [
             0.7777777777777778,
             "#fb9f3a"
            ],
            [
             0.8888888888888888,
             "#fdca26"
            ],
            [
             1,
             "#f0f921"
            ]
           ]
          },
          "colorway": [
           "#636efa",
           "#EF553B",
           "#00cc96",
           "#ab63fa",
           "#FFA15A",
           "#19d3f3",
           "#FF6692",
           "#B6E880",
           "#FF97FF",
           "#FECB52"
          ],
          "font": {
           "color": "#2a3f5f"
          },
          "geo": {
           "bgcolor": "white",
           "lakecolor": "white",
           "landcolor": "#E5ECF6",
           "showlakes": true,
           "showland": true,
           "subunitcolor": "white"
          },
          "hoverlabel": {
           "align": "left"
          },
          "hovermode": "closest",
          "mapbox": {
           "style": "light"
          },
          "paper_bgcolor": "white",
          "plot_bgcolor": "#E5ECF6",
          "polar": {
           "angularaxis": {
            "gridcolor": "white",
            "linecolor": "white",
            "ticks": ""
           },
           "bgcolor": "#E5ECF6",
           "radialaxis": {
            "gridcolor": "white",
            "linecolor": "white",
            "ticks": ""
           }
          },
          "scene": {
           "xaxis": {
            "backgroundcolor": "#E5ECF6",
            "gridcolor": "white",
            "gridwidth": 2,
            "linecolor": "white",
            "showbackground": true,
            "ticks": "",
            "zerolinecolor": "white"
           },
           "yaxis": {
            "backgroundcolor": "#E5ECF6",
            "gridcolor": "white",
            "gridwidth": 2,
            "linecolor": "white",
            "showbackground": true,
            "ticks": "",
            "zerolinecolor": "white"
           },
           "zaxis": {
            "backgroundcolor": "#E5ECF6",
            "gridcolor": "white",
            "gridwidth": 2,
            "linecolor": "white",
            "showbackground": true,
            "ticks": "",
            "zerolinecolor": "white"
           }
          },
          "shapedefaults": {
           "line": {
            "color": "#2a3f5f"
           }
          },
          "ternary": {
           "aaxis": {
            "gridcolor": "white",
            "linecolor": "white",
            "ticks": ""
           },
           "baxis": {
            "gridcolor": "white",
            "linecolor": "white",
            "ticks": ""
           },
           "bgcolor": "#E5ECF6",
           "caxis": {
            "gridcolor": "white",
            "linecolor": "white",
            "ticks": ""
           }
          },
          "title": {
           "x": 0.05
          },
          "xaxis": {
           "automargin": true,
           "gridcolor": "white",
           "linecolor": "white",
           "ticks": "",
           "title": {
            "standoff": 15
           },
           "zerolinecolor": "white",
           "zerolinewidth": 2
          },
          "yaxis": {
           "automargin": true,
           "gridcolor": "white",
           "linecolor": "white",
           "ticks": "",
           "title": {
            "standoff": 15
           },
           "zerolinecolor": "white",
           "zerolinewidth": 2
          }
         }
        },
        "xaxis": {
         "anchor": "y",
         "autorange": true,
         "domain": [
          0,
          0.45
         ],
         "range": [
          1,
          10.5
         ],
         "title": {
          "text": "Glucose consumption [mmol/gdw/h]"
         },
         "type": "linear"
        },
        "xaxis2": {
         "anchor": "y2",
         "autorange": true,
         "domain": [
          0.55,
          1
         ],
         "range": [
          1,
          10.5
         ],
         "title": {
          "text": "Glucose consumption [mmol/gdw/h]"
         },
         "type": "linear"
        },
        "xaxis3": {
         "anchor": "y3",
         "autorange": true,
         "domain": [
          0,
          0.45
         ],
         "range": [
          1,
          10.5
         ],
         "title": {
          "text": "Glucose consumption [mmol/gdw/h]"
         },
         "type": "linear"
        },
        "xaxis4": {
         "anchor": "y4",
         "autorange": true,
         "domain": [
          0.55,
          1
         ],
         "range": [
          1,
          10.5
         ],
         "title": {
          "text": "Glucose consumption [mmol/gdw/h]"
         },
         "type": "linear"
        },
        "yaxis": {
         "anchor": "x",
         "autorange": true,
         "domain": [
          0.625,
          1
         ],
         "range": [
          -0.0015056558624037333,
          0.539821820565641
         ],
         "title": {
          "text": "Growth rate [1/h]"
         },
         "type": "linear"
        },
        "yaxis2": {
         "anchor": "x2",
         "autorange": true,
         "domain": [
          0.625,
          1
         ],
         "range": [
          0,
          0.5970002640036
         ],
         "title": {
          "text": "Acetate production rate [mmol/gdw/h]"
         },
         "type": "linear"
        },
        "yaxis3": {
         "anchor": "x3",
         "autorange": true,
         "domain": [
          0,
          0.375
         ],
         "range": [
          1.7178628462871248,
          15.286697835165565
         ],
         "title": {
          "text": "O2 consumption rate [mmol/gdw/h]"
         },
         "type": "linear"
        },
        "yaxis4": {
         "anchor": "x4",
         "autorange": true,
         "domain": [
          0,
          0.375
         ],
         "range": [
          0,
          10.45260106502512
         ],
         "title": {
          "text": "CO2 production rate [mmol/gdw/h]"
         },
         "type": "linear"
        }
       }
      },
      "image/png": "[encoded data removed]",
      "text/html": [
       "<div>                            <div id=\"9dac88fb-5e4d-48ee-ace8-60c3a7493b09\" class=\"plotly-graph-div\" style=\"height:525px; width:100%;\"></div>            <script type=\"text/javascript\">                require([\"plotly\"], function(Plotly) {                    window.PLOTLYENV=window.PLOTLYENV || {};                                    if (document.getElementById(\"9dac88fb-5e4d-48ee-ace8-60c3a7493b09\")) {                    Plotly.newPlot(                        \"9dac88fb-5e4d-48ee-ace8-60c3a7493b09\",                        [{\"marker\":{\"color\":\"blue\"},\"mode\":\"lines\",\"showlegend\":false,\"x\":[1.0,1.5,2.0,2.5,3.0,3.5,4.0,4.5,5.0,5.5,6.0,6.5,7.0,7.5,8.0,8.5,9.0,9.5,10.0,10.5],\"y\":[0.025560717958998506,0.05152204556991683,0.07749469736953919,0.10345023303611676,0.12914379496487252,0.1548373581076057,0.1805309212503394,0.2062244843930732,0.2319180475358058,0.25761161067853994,0.28330517382127396,0.30899873696400737,0.33458372681164256,0.36003682965915584,0.38548993250667024,0.4109430353541836,0.43639613820169687,0.46184924104921177,0.4873023438967241,0.5127554467442388],\"type\":\"scatter\",\"xaxis\":\"x\",\"yaxis\":\"y\"},{\"line\":{\"color\":\"black\",\"dash\":\"dash\",\"width\":1},\"mode\":\"markers\",\"showlegend\":false,\"x\":[4.94483364720653],\"y\":[0.49],\"type\":\"scatter\",\"xaxis\":\"x\",\"yaxis\":\"y\"},{\"marker\":{\"color\":\"blue\"},\"mode\":\"lines\",\"showlegend\":false,\"x\":[1.0,1.5,2.0,2.5,3.0,3.5,4.0,4.5,5.0,5.5,6.0,6.5,7.0,7.5,8.0,8.5,9.0,9.5,10.0,10.5],\"y\":[0.0,0.0,0.0,0.0,0.0,0.0,0.0,0.0,0.0,0.0,0.0,0.0,0.0,0.0,0.0,0.0,0.0,0.0,0.0,0.0],\"type\":\"scatter\",\"xaxis\":\"x2\",\"yaxis\":\"y2\"},{\"line\":{\"color\":\"black\",\"dash\":\"dash\",\"width\":1},\"mode\":\"markers\",\"showlegend\":false,\"x\":[4.94483364720653],\"y\":[0.5970002640036],\"type\":\"scatter\",\"xaxis\":\"x2\",\"yaxis\":\"y2\"},{\"marker\":{\"color\":\"blue\"},\"mode\":\"lines\",\"showlegend\":false,\"x\":[1.0,1.5,2.0,2.5,3.0,3.5,4.0,4.5,5.0,5.5,6.0,6.5,7.0,7.5,8.0,8.5,9.0,9.5,10.0,10.5],\"y\":[2.396304595731047,3.02530762018411,3.653823410792231,4.282824502787562,4.923328207654142,5.563831860098961,6.204335512543783,6.844839164988606,7.485342817433422,8.125846469878248,8.766350122323072,9.40685377476789,10.052045826158674,10.702933006096238,11.353820186033813,12.004707365971376,12.655594545908944,13.306481725846515,13.957368905784078,14.608256085721644],\"type\":\"scatter\",\"xaxis\":\"x3\",\"yaxis\":\"y3\"},{\"line\":{\"color\":\"black\",\"dash\":\"dash\",\"width\":1},\"mode\":\"markers\",\"showlegend\":false,\"x\":[4.94483364720653],\"y\":[null],\"type\":\"scatter\",\"xaxis\":\"x3\",\"yaxis\":\"y3\"},{\"marker\":{\"color\":\"blue\"},\"mode\":\"lines\",\"showlegend\":false,\"x\":[1.0,1.5,2.0,2.5,3.0,3.5,4.0,4.5,5.0,5.5,6.0,6.5,7.0,7.5,8.0,8.5,9.0,9.5,10.0,10.5],\"y\":[1.950851538485965,2.3852567216322402,2.819198683620121,3.2536124902183796,3.698952512623243,4.144292485197276,4.589632457771316,5.0349724303453565,5.480312402919382,5.925652375493427,6.3709923480674675,6.816332320641501,7.266128970312186,7.721339269556882,8.17654956880159,8.63175986804629,9.08697016729099,9.542180466535712,9.997390765780404,10.45260106502512],\"type\":\"scatter\",\"xaxis\":\"x4\",\"yaxis\":\"y4\"},{\"line\":{\"color\":\"black\",\"dash\":\"dash\",\"width\":1},\"mode\":\"markers\",\"showlegend\":false,\"x\":[4.94483364720653],\"y\":[0],\"type\":\"scatter\",\"xaxis\":\"x4\",\"yaxis\":\"y4\"}],                        {\"template\":{\"data\":{\"histogram2dcontour\":[{\"type\":\"histogram2dcontour\",\"colorbar\":{\"outlinewidth\":0,\"ticks\":\"\"},\"colorscale\":[[0.0,\"#0d0887\"],[0.1111111111111111,\"#46039f\"],[0.2222222222222222,\"#7201a8\"],[0.3333333333333333,\"#9c179e\"],[0.4444444444444444,\"#bd3786\"],[0.5555555555555556,\"#d8576b\"],[0.6666666666666666,\"#ed7953\"],[0.7777777777777778,\"#fb9f3a\"],[0.8888888888888888,\"#fdca26\"],[1.0,\"#f0f921\"]]}],\"choropleth\":[{\"type\":\"choropleth\",\"colorbar\":{\"outlinewidth\":0,\"ticks\":\"\"}}],\"histogram2d\":[{\"type\":\"histogram2d\",\"colorbar\":{\"outlinewidth\":0,\"ticks\":\"\"},\"colorscale\":[[0.0,\"#0d0887\"],[0.1111111111111111,\"#46039f\"],[0.2222222222222222,\"#7201a8\"],[0.3333333333333333,\"#9c179e\"],[0.4444444444444444,\"#bd3786\"],[0.5555555555555556,\"#d8576b\"],[0.6666666666666666,\"#ed7953\"],[0.7777777777777778,\"#fb9f3a\"],[0.8888888888888888,\"#fdca26\"],[1.0,\"#f0f921\"]]}],\"heatmap\":[{\"type\":\"heatmap\",\"colorbar\":{\"outlinewidth\":0,\"ticks\":\"\"},\"colorscale\":[[0.0,\"#0d0887\"],[0.1111111111111111,\"#46039f\"],[0.2222222222222222,\"#7201a8\"],[0.3333333333333333,\"#9c179e\"],[0.4444444444444444,\"#bd3786\"],[0.5555555555555556,\"#d8576b\"],[0.6666666666666666,\"#ed7953\"],[0.7777777777777778,\"#fb9f3a\"],[0.8888888888888888,\"#fdca26\"],[1.0,\"#f0f921\"]]}],\"heatmapgl\":[{\"type\":\"heatmapgl\",\"colorbar\":{\"outlinewidth\":0,\"ticks\":\"\"},\"colorscale\":[[0.0,\"#0d0887\"],[0.1111111111111111,\"#46039f\"],[0.2222222222222222,\"#7201a8\"],[0.3333333333333333,\"#9c179e\"],[0.4444444444444444,\"#bd3786\"],[0.5555555555555556,\"#d8576b\"],[0.6666666666666666,\"#ed7953\"],[0.7777777777777778,\"#fb9f3a\"],[0.8888888888888888,\"#fdca26\"],[1.0,\"#f0f921\"]]}],\"contourcarpet\":[{\"type\":\"contourcarpet\",\"colorbar\":{\"outlinewidth\":0,\"ticks\":\"\"}}],\"contour\":[{\"type\":\"contour\",\"colorbar\":{\"outlinewidth\":0,\"ticks\":\"\"},\"colorscale\":[[0.0,\"#0d0887\"],[0.1111111111111111,\"#46039f\"],[0.2222222222222222,\"#7201a8\"],[0.3333333333333333,\"#9c179e\"],[0.4444444444444444,\"#bd3786\"],[0.5555555555555556,\"#d8576b\"],[0.6666666666666666,\"#ed7953\"],[0.7777777777777778,\"#fb9f3a\"],[0.8888888888888888,\"#fdca26\"],[1.0,\"#f0f921\"]]}],\"surface\":[{\"type\":\"surface\",\"colorbar\":{\"outlinewidth\":0,\"ticks\":\"\"},\"colorscale\":[[0.0,\"#0d0887\"],[0.1111111111111111,\"#46039f\"],[0.2222222222222222,\"#7201a8\"],[0.3333333333333333,\"#9c179e\"],[0.4444444444444444,\"#bd3786\"],[0.5555555555555556,\"#d8576b\"],[0.6666666666666666,\"#ed7953\"],[0.7777777777777778,\"#fb9f3a\"],[0.8888888888888888,\"#fdca26\"],[1.0,\"#f0f921\"]]}],\"mesh3d\":[{\"type\":\"mesh3d\",\"colorbar\":{\"outlinewidth\":0,\"ticks\":\"\"}}],\"scatter\":[{\"fillpattern\":{\"fillmode\":\"overlay\",\"size\":10,\"solidity\":0.2},\"type\":\"scatter\"}],\"parcoords\":[{\"type\":\"parcoords\",\"line\":{\"colorbar\":{\"outlinewidth\":0,\"ticks\":\"\"}}}],\"scatterpolargl\":[{\"type\":\"scatterpolargl\",\"marker\":{\"colorbar\":{\"outlinewidth\":0,\"ticks\":\"\"}}}],\"bar\":[{\"error_x\":{\"color\":\"#2a3f5f\"},\"error_y\":{\"color\":\"#2a3f5f\"},\"marker\":{\"line\":{\"color\":\"#E5ECF6\",\"width\":0.5},\"pattern\":{\"fillmode\":\"overlay\",\"size\":10,\"solidity\":0.2}},\"type\":\"bar\"}],\"scattergeo\":[{\"type\":\"scattergeo\",\"marker\":{\"colorbar\":{\"outlinewidth\":0,\"ticks\":\"\"}}}],\"scatterpolar\":[{\"type\":\"scatterpolar\",\"marker\":{\"colorbar\":{\"outlinewidth\":0,\"ticks\":\"\"}}}],\"histogram\":[{\"marker\":{\"pattern\":{\"fillmode\":\"overlay\",\"size\":10,\"solidity\":0.2}},\"type\":\"histogram\"}],\"scattergl\":[{\"type\":\"scattergl\",\"marker\":{\"colorbar\":{\"outlinewidth\":0,\"ticks\":\"\"}}}],\"scatter3d\":[{\"type\":\"scatter3d\",\"line\":{\"colorbar\":{\"outlinewidth\":0,\"ticks\":\"\"}},\"marker\":{\"colorbar\":{\"outlinewidth\":0,\"ticks\":\"\"}}}],\"scattermapbox\":[{\"type\":\"scattermapbox\",\"marker\":{\"colorbar\":{\"outlinewidth\":0,\"ticks\":\"\"}}}],\"scatterternary\":[{\"type\":\"scatterternary\",\"marker\":{\"colorbar\":{\"outlinewidth\":0,\"ticks\":\"\"}}}],\"scattercarpet\":[{\"type\":\"scattercarpet\",\"marker\":{\"colorbar\":{\"outlinewidth\":0,\"ticks\":\"\"}}}],\"carpet\":[{\"aaxis\":{\"endlinecolor\":\"#2a3f5f\",\"gridcolor\":\"white\",\"linecolor\":\"white\",\"minorgridcolor\":\"white\",\"startlinecolor\":\"#2a3f5f\"},\"baxis\":{\"endlinecolor\":\"#2a3f5f\",\"gridcolor\":\"white\",\"linecolor\":\"white\",\"minorgridcolor\":\"white\",\"startlinecolor\":\"#2a3f5f\"},\"type\":\"carpet\"}],\"table\":[{\"cells\":{\"fill\":{\"color\":\"#EBF0F8\"},\"line\":{\"color\":\"white\"}},\"header\":{\"fill\":{\"color\":\"#C8D4E3\"},\"line\":{\"color\":\"white\"}},\"type\":\"table\"}],\"barpolar\":[{\"marker\":{\"line\":{\"color\":\"#E5ECF6\",\"width\":0.5},\"pattern\":{\"fillmode\":\"overlay\",\"size\":10,\"solidity\":0.2}},\"type\":\"barpolar\"}],\"pie\":[{\"automargin\":true,\"type\":\"pie\"}]},\"layout\":{\"autotypenumbers\":\"strict\",\"colorway\":[\"#636efa\",\"#EF553B\",\"#00cc96\",\"#ab63fa\",\"#FFA15A\",\"#19d3f3\",\"#FF6692\",\"#B6E880\",\"#FF97FF\",\"#FECB52\"],\"font\":{\"color\":\"#2a3f5f\"},\"hovermode\":\"closest\",\"hoverlabel\":{\"align\":\"left\"},\"paper_bgcolor\":\"white\",\"plot_bgcolor\":\"#E5ECF6\",\"polar\":{\"bgcolor\":\"#E5ECF6\",\"angularaxis\":{\"gridcolor\":\"white\",\"linecolor\":\"white\",\"ticks\":\"\"},\"radialaxis\":{\"gridcolor\":\"white\",\"linecolor\":\"white\",\"ticks\":\"\"}},\"ternary\":{\"bgcolor\":\"#E5ECF6\",\"aaxis\":{\"gridcolor\":\"white\",\"linecolor\":\"white\",\"ticks\":\"\"},\"baxis\":{\"gridcolor\":\"white\",\"linecolor\":\"white\",\"ticks\":\"\"},\"caxis\":{\"gridcolor\":\"white\",\"linecolor\":\"white\",\"ticks\":\"\"}},\"coloraxis\":{\"colorbar\":{\"outlinewidth\":0,\"ticks\":\"\"}},\"colorscale\":{\"sequential\":[[0.0,\"#0d0887\"],[0.1111111111111111,\"#46039f\"],[0.2222222222222222,\"#7201a8\"],[0.3333333333333333,\"#9c179e\"],[0.4444444444444444,\"#bd3786\"],[0.5555555555555556,\"#d8576b\"],[0.6666666666666666,\"#ed7953\"],[0.7777777777777778,\"#fb9f3a\"],[0.8888888888888888,\"#fdca26\"],[1.0,\"#f0f921\"]],\"sequentialminus\":[[0.0,\"#0d0887\"],[0.1111111111111111,\"#46039f\"],[0.2222222222222222,\"#7201a8\"],[0.3333333333333333,\"#9c179e\"],[0.4444444444444444,\"#bd3786\"],[0.5555555555555556,\"#d8576b\"],[0.6666666666666666,\"#ed7953\"],[0.7777777777777778,\"#fb9f3a\"],[0.8888888888888888,\"#fdca26\"],[1.0,\"#f0f921\"]],\"diverging\":[[0,\"#8e0152\"],[0.1,\"#c51b7d\"],[0.2,\"#de77ae\"],[0.3,\"#f1b6da\"],[0.4,\"#fde0ef\"],[0.5,\"#f7f7f7\"],[0.6,\"#e6f5d0\"],[0.7,\"#b8e186\"],[0.8,\"#7fbc41\"],[0.9,\"#4d9221\"],[1,\"#276419\"]]},\"xaxis\":{\"gridcolor\":\"white\",\"linecolor\":\"white\",\"ticks\":\"\",\"title\":{\"standoff\":15},\"zerolinecolor\":\"white\",\"automargin\":true,\"zerolinewidth\":2},\"yaxis\":{\"gridcolor\":\"white\",\"linecolor\":\"white\",\"ticks\":\"\",\"title\":{\"standoff\":15},\"zerolinecolor\":\"white\",\"automargin\":true,\"zerolinewidth\":2},\"scene\":{\"xaxis\":{\"backgroundcolor\":\"#E5ECF6\",\"gridcolor\":\"white\",\"linecolor\":\"white\",\"showbackground\":true,\"ticks\":\"\",\"zerolinecolor\":\"white\",\"gridwidth\":2},\"yaxis\":{\"backgroundcolor\":\"#E5ECF6\",\"gridcolor\":\"white\",\"linecolor\":\"white\",\"showbackground\":true,\"ticks\":\"\",\"zerolinecolor\":\"white\",\"gridwidth\":2},\"zaxis\":{\"backgroundcolor\":\"#E5ECF6\",\"gridcolor\":\"white\",\"linecolor\":\"white\",\"showbackground\":true,\"ticks\":\"\",\"zerolinecolor\":\"white\",\"gridwidth\":2}},\"shapedefaults\":{\"line\":{\"color\":\"#2a3f5f\"}},\"annotationdefaults\":{\"arrowcolor\":\"#2a3f5f\",\"arrowhead\":0,\"arrowwidth\":1},\"geo\":{\"bgcolor\":\"white\",\"landcolor\":\"#E5ECF6\",\"subunitcolor\":\"white\",\"showland\":true,\"showlakes\":true,\"lakecolor\":\"white\"},\"title\":{\"x\":0.05},\"mapbox\":{\"style\":\"light\"}}},\"xaxis\":{\"anchor\":\"y\",\"domain\":[0.0,0.45],\"title\":{\"text\":\"Glucose consumption [mmol/gdw/h]\"}},\"yaxis\":{\"anchor\":\"x\",\"domain\":[0.625,1.0],\"title\":{\"text\":\"Growth rate [1/h]\"}},\"xaxis2\":{\"anchor\":\"y2\",\"domain\":[0.55,1.0],\"title\":{\"text\":\"Glucose consumption [mmol/gdw/h]\"}},\"yaxis2\":{\"anchor\":\"x2\",\"domain\":[0.625,1.0],\"title\":{\"text\":\"Acetate production rate [mmol/gdw/h]\"}},\"xaxis3\":{\"anchor\":\"y3\",\"domain\":[0.0,0.45],\"title\":{\"text\":\"Glucose consumption [mmol/gdw/h]\"}},\"yaxis3\":{\"anchor\":\"x3\",\"domain\":[0.0,0.375],\"title\":{\"text\":\"O2 consumption rate [mmol/gdw/h]\"}},\"xaxis4\":{\"anchor\":\"y4\",\"domain\":[0.55,1.0],\"title\":{\"text\":\"Glucose consumption [mmol/gdw/h]\"}},\"yaxis4\":{\"anchor\":\"x4\",\"domain\":[0.0,0.375],\"title\":{\"text\":\"CO2 production rate [mmol/gdw/h]\"}},\"annotations\":[{\"font\":{\"size\":16},\"showarrow\":false,\"text\":\"Glucose consumption\",\"x\":0.225,\"xanchor\":\"center\",\"xref\":\"paper\",\"y\":1.0,\"yanchor\":\"bottom\",\"yref\":\"paper\"},{\"font\":{\"size\":16},\"showarrow\":false,\"text\":\"Acetate production\",\"x\":0.775,\"xanchor\":\"center\",\"xref\":\"paper\",\"y\":1.0,\"yanchor\":\"bottom\",\"yref\":\"paper\"},{\"font\":{\"size\":16},\"showarrow\":false,\"text\":\"O2 consumption\",\"x\":0.225,\"xanchor\":\"center\",\"xref\":\"paper\",\"y\":0.375,\"yanchor\":\"bottom\",\"yref\":\"paper\"},{\"font\":{\"size\":16},\"showarrow\":false,\"text\":\"CO2 production\",\"x\":0.775,\"xanchor\":\"center\",\"xref\":\"paper\",\"y\":0.375,\"yanchor\":\"bottom\",\"yref\":\"paper\"}]},                        {\"responsive\": true}                    ).then(function(){\n",
       "                            \n",
       "var gd = document.getElementById('9dac88fb-5e4d-48ee-ace8-60c3a7493b09');\n",
       "var x = new MutationObserver(function (mutations, observer) {{\n",
       "        var display = window.getComputedStyle(gd).display;\n",
       "        if (!display || display === 'none') {{\n",
       "            console.log([gd, 'removed!']);\n",
       "            Plotly.purge(gd);\n",
       "            observer.disconnect();\n",
       "        }}\n",
       "}});\n",
       "\n",
       "// Listen for the removal of the full notebook cells\n",
       "var notebookContainer = gd.closest('#notebook-container');\n",
       "if (notebookContainer) {{\n",
       "    x.observe(notebookContainer, {childList: true});\n",
       "}}\n",
       "\n",
       "// Listen for the clearing of the current output cell\n",
       "var outputEl = gd.closest('.output');\n",
       "if (outputEl) {{\n",
       "    x.observe(outputEl, {childList: true});\n",
       "}}\n",
       "\n",
       "                        })                };                });            </script>        </div>"
      ]
     },
     "metadata": {},
     "output_type": "display_data"
    },
    {
     "data": {
      "application/vnd.plotly.v1+json": {
       "config": {
        "plotlyServerURL": "https://plot.ly"
       },
       "data": [
        {
         "marker": {
          "color": "blue"
         },
         "mode": "lines",
         "showlegend": false,
         "type": "scatter",
         "x": [
          1,
          1.5,
          2,
          2.5,
          3,
          3.5,
          4,
          4.5,
          5,
          5.5,
          6,
          6.5,
          7,
          7.5,
          8,
          8.5,
          9,
          9.5,
          10,
          10.5
         ],
         "xaxis": "x",
         "y": [
          0.025560717958998506,
          0.05152204556991683,
          0.07749469736953919,
          0.10345023303611676,
          0.12914379496487252,
          0.1548373581076057,
          0.1805309212503394,
          0.2062244843930732,
          0.2319180475358058,
          0.25761161067853994,
          0.28330517382127396,
          0.30899873696400737,
          0.33458372681164256,
          0.36003682965915584,
          0.38548993250667024,
          0.4109430353541836,
          0.43639613820169687,
          0.46184924104921177,
          0.4873023438967241,
          0.5127554467442388
         ],
         "yaxis": "y"
        },
        {
         "line": {
          "color": "black",
          "dash": "dash",
          "width": 1
         },
         "mode": "markers",
         "showlegend": false,
         "type": "scatter",
         "x": [
          4.94483364720653
         ],
         "xaxis": "x",
         "y": [
          0.49
         ],
         "yaxis": "y"
        },
        {
         "marker": {
          "color": "blue"
         },
         "mode": "lines",
         "showlegend": false,
         "type": "scatter",
         "x": [
          1,
          1.5,
          2,
          2.5,
          3,
          3.5,
          4,
          4.5,
          5,
          5.5,
          6,
          6.5,
          7,
          7.5,
          8,
          8.5,
          9,
          9.5,
          10,
          10.5
         ],
         "xaxis": "x2",
         "y": [
          0,
          0,
          0,
          0,
          0,
          0,
          0,
          0,
          0,
          0,
          0,
          0,
          0,
          0,
          0,
          0,
          0,
          0,
          0,
          0
         ],
         "yaxis": "y2"
        },
        {
         "line": {
          "color": "black",
          "dash": "dash",
          "width": 1
         },
         "mode": "markers",
         "showlegend": false,
         "type": "scatter",
         "x": [
          4.94483364720653
         ],
         "xaxis": "x2",
         "y": [
          0.5970002640036
         ],
         "yaxis": "y2"
        },
        {
         "marker": {
          "color": "blue"
         },
         "mode": "lines",
         "showlegend": false,
         "type": "scatter",
         "x": [
          1,
          1.5,
          2,
          2.5,
          3,
          3.5,
          4,
          4.5,
          5,
          5.5,
          6,
          6.5,
          7,
          7.5,
          8,
          8.5,
          9,
          9.5,
          10,
          10.5
         ],
         "xaxis": "x3",
         "y": [
          2.396304595731047,
          3.02530762018411,
          3.653823410792231,
          4.282824502787562,
          4.923328207654142,
          5.563831860098961,
          6.204335512543783,
          6.844839164988606,
          7.485342817433422,
          8.125846469878248,
          8.766350122323072,
          9.40685377476789,
          10.052045826158674,
          10.702933006096238,
          11.353820186033813,
          12.004707365971376,
          12.655594545908944,
          13.306481725846515,
          13.957368905784078,
          14.608256085721644
         ],
         "yaxis": "y3"
        },
        {
         "line": {
          "color": "black",
          "dash": "dash",
          "width": 1
         },
         "mode": "markers",
         "showlegend": false,
         "type": "scatter",
         "x": [
          4.94483364720653
         ],
         "xaxis": "x3",
         "y": [
          null
         ],
         "yaxis": "y3"
        },
        {
         "marker": {
          "color": "blue"
         },
         "mode": "lines",
         "showlegend": false,
         "type": "scatter",
         "x": [
          1,
          1.5,
          2,
          2.5,
          3,
          3.5,
          4,
          4.5,
          5,
          5.5,
          6,
          6.5,
          7,
          7.5,
          8,
          8.5,
          9,
          9.5,
          10,
          10.5
         ],
         "xaxis": "x4",
         "y": [
          1.950851538485965,
          2.3852567216322402,
          2.819198683620121,
          3.2536124902183796,
          3.698952512623243,
          4.144292485197276,
          4.589632457771316,
          5.0349724303453565,
          5.480312402919382,
          5.925652375493427,
          6.3709923480674675,
          6.816332320641501,
          7.266128970312186,
          7.721339269556882,
          8.17654956880159,
          8.63175986804629,
          9.08697016729099,
          9.542180466535712,
          9.997390765780404,
          10.45260106502512
         ],
         "yaxis": "y4"
        },
        {
         "line": {
          "color": "black",
          "dash": "dash",
          "width": 1
         },
         "mode": "markers",
         "showlegend": false,
         "type": "scatter",
         "x": [
          4.94483364720653
         ],
         "xaxis": "x4",
         "y": [
          0
         ],
         "yaxis": "y4"
        }
       ],
       "layout": {
        "annotations": [
         {
          "font": {
           "size": 16
          },
          "showarrow": false,
          "text": "Glucose consumption",
          "x": 0.225,
          "xanchor": "center",
          "xref": "paper",
          "y": 1,
          "yanchor": "bottom",
          "yref": "paper"
         },
         {
          "font": {
           "size": 16
          },
          "showarrow": false,
          "text": "Acetate production",
          "x": 0.775,
          "xanchor": "center",
          "xref": "paper",
          "y": 1,
          "yanchor": "bottom",
          "yref": "paper"
         },
         {
          "font": {
           "size": 16
          },
          "showarrow": false,
          "text": "O2 consumption",
          "x": 0.225,
          "xanchor": "center",
          "xref": "paper",
          "y": 0.375,
          "yanchor": "bottom",
          "yref": "paper"
         },
         {
          "font": {
           "size": 16
          },
          "showarrow": false,
          "text": "CO2 production",
          "x": 0.775,
          "xanchor": "center",
          "xref": "paper",
          "y": 0.375,
          "yanchor": "bottom",
          "yref": "paper"
         }
        ],
        "template": {
         "data": {
          "bar": [
           {
            "error_x": {
             "color": "#2a3f5f"
            },
            "error_y": {
             "color": "#2a3f5f"
            },
            "marker": {
             "line": {
              "color": "#E5ECF6",
              "width": 0.5
             },
             "pattern": {
              "fillmode": "overlay",
              "size": 10,
              "solidity": 0.2
             }
            },
            "type": "bar"
           }
          ],
          "barpolar": [
           {
            "marker": {
             "line": {
              "color": "#E5ECF6",
              "width": 0.5
             },
             "pattern": {
              "fillmode": "overlay",
              "size": 10,
              "solidity": 0.2
             }
            },
            "type": "barpolar"
           }
          ],
          "carpet": [
           {
            "aaxis": {
             "endlinecolor": "#2a3f5f",
             "gridcolor": "white",
             "linecolor": "white",
             "minorgridcolor": "white",
             "startlinecolor": "#2a3f5f"
            },
            "baxis": {
             "endlinecolor": "#2a3f5f",
             "gridcolor": "white",
             "linecolor": "white",
             "minorgridcolor": "white",
             "startlinecolor": "#2a3f5f"
            },
            "type": "carpet"
           }
          ],
          "choropleth": [
           {
            "colorbar": {
             "outlinewidth": 0,
             "ticks": ""
            },
            "type": "choropleth"
           }
          ],
          "contour": [
           {
            "colorbar": {
             "outlinewidth": 0,
             "ticks": ""
            },
            "colorscale": [
             [
              0,
              "#0d0887"
             ],
             [
              0.1111111111111111,
              "#46039f"
             ],
             [
              0.2222222222222222,
              "#7201a8"
             ],
             [
              0.3333333333333333,
              "#9c179e"
             ],
             [
              0.4444444444444444,
              "#bd3786"
             ],
             [
              0.5555555555555556,
              "#d8576b"
             ],
             [
              0.6666666666666666,
              "#ed7953"
             ],
             [
              0.7777777777777778,
              "#fb9f3a"
             ],
             [
              0.8888888888888888,
              "#fdca26"
             ],
             [
              1,
              "#f0f921"
             ]
            ],
            "type": "contour"
           }
          ],
          "contourcarpet": [
           {
            "colorbar": {
             "outlinewidth": 0,
             "ticks": ""
            },
            "type": "contourcarpet"
           }
          ],
          "heatmap": [
           {
            "colorbar": {
             "outlinewidth": 0,
             "ticks": ""
            },
            "colorscale": [
             [
              0,
              "#0d0887"
             ],
             [
              0.1111111111111111,
              "#46039f"
             ],
             [
              0.2222222222222222,
              "#7201a8"
             ],
             [
              0.3333333333333333,
              "#9c179e"
             ],
             [
              0.4444444444444444,
              "#bd3786"
             ],
             [
              0.5555555555555556,
              "#d8576b"
             ],
             [
              0.6666666666666666,
              "#ed7953"
             ],
             [
              0.7777777777777778,
              "#fb9f3a"
             ],
             [
              0.8888888888888888,
              "#fdca26"
             ],
             [
              1,
              "#f0f921"
             ]
            ],
            "type": "heatmap"
           }
          ],
          "heatmapgl": [
           {
            "colorbar": {
             "outlinewidth": 0,
             "ticks": ""
            },
            "colorscale": [
             [
              0,
              "#0d0887"
             ],
             [
              0.1111111111111111,
              "#46039f"
             ],
             [
              0.2222222222222222,
              "#7201a8"
             ],
             [
              0.3333333333333333,
              "#9c179e"
             ],
             [
              0.4444444444444444,
              "#bd3786"
             ],
             [
              0.5555555555555556,
              "#d8576b"
             ],
             [
              0.6666666666666666,
              "#ed7953"
             ],
             [
              0.7777777777777778,
              "#fb9f3a"
             ],
             [
              0.8888888888888888,
              "#fdca26"
             ],
             [
              1,
              "#f0f921"
             ]
            ],
            "type": "heatmapgl"
           }
          ],
          "histogram": [
           {
            "marker": {
             "pattern": {
              "fillmode": "overlay",
              "size": 10,
              "solidity": 0.2
             }
            },
            "type": "histogram"
           }
          ],
          "histogram2d": [
           {
            "colorbar": {
             "outlinewidth": 0,
             "ticks": ""
            },
            "colorscale": [
             [
              0,
              "#0d0887"
             ],
             [
              0.1111111111111111,
              "#46039f"
             ],
             [
              0.2222222222222222,
              "#7201a8"
             ],
             [
              0.3333333333333333,
              "#9c179e"
             ],
             [
              0.4444444444444444,
              "#bd3786"
             ],
             [
              0.5555555555555556,
              "#d8576b"
             ],
             [
              0.6666666666666666,
              "#ed7953"
             ],
             [
              0.7777777777777778,
              "#fb9f3a"
             ],
             [
              0.8888888888888888,
              "#fdca26"
             ],
             [
              1,
              "#f0f921"
             ]
            ],
            "type": "histogram2d"
           }
          ],
          "histogram2dcontour": [
           {
            "colorbar": {
             "outlinewidth": 0,
             "ticks": ""
            },
            "colorscale": [
             [
              0,
              "#0d0887"
             ],
             [
              0.1111111111111111,
              "#46039f"
             ],
             [
              0.2222222222222222,
              "#7201a8"
             ],
             [
              0.3333333333333333,
              "#9c179e"
             ],
             [
              0.4444444444444444,
              "#bd3786"
             ],
             [
              0.5555555555555556,
              "#d8576b"
             ],
             [
              0.6666666666666666,
              "#ed7953"
             ],
             [
              0.7777777777777778,
              "#fb9f3a"
             ],
             [
              0.8888888888888888,
              "#fdca26"
             ],
             [
              1,
              "#f0f921"
             ]
            ],
            "type": "histogram2dcontour"
           }
          ],
          "mesh3d": [
           {
            "colorbar": {
             "outlinewidth": 0,
             "ticks": ""
            },
            "type": "mesh3d"
           }
          ],
          "parcoords": [
           {
            "line": {
             "colorbar": {
              "outlinewidth": 0,
              "ticks": ""
             }
            },
            "type": "parcoords"
           }
          ],
          "pie": [
           {
            "automargin": true,
            "type": "pie"
           }
          ],
          "scatter": [
           {
            "fillpattern": {
             "fillmode": "overlay",
             "size": 10,
             "solidity": 0.2
            },
            "type": "scatter"
           }
          ],
          "scatter3d": [
           {
            "line": {
             "colorbar": {
              "outlinewidth": 0,
              "ticks": ""
             }
            },
            "marker": {
             "colorbar": {
              "outlinewidth": 0,
              "ticks": ""
             }
            },
            "type": "scatter3d"
           }
          ],
          "scattercarpet": [
           {
            "marker": {
             "colorbar": {
              "outlinewidth": 0,
              "ticks": ""
             }
            },
            "type": "scattercarpet"
           }
          ],
          "scattergeo": [
           {
            "marker": {
             "colorbar": {
              "outlinewidth": 0,
              "ticks": ""
             }
            },
            "type": "scattergeo"
           }
          ],
          "scattergl": [
           {
            "marker": {
             "colorbar": {
              "outlinewidth": 0,
              "ticks": ""
             }
            },
            "type": "scattergl"
           }
          ],
          "scattermapbox": [
           {
            "marker": {
             "colorbar": {
              "outlinewidth": 0,
              "ticks": ""
             }
            },
            "type": "scattermapbox"
           }
          ],
          "scatterpolar": [
           {
            "marker": {
             "colorbar": {
              "outlinewidth": 0,
              "ticks": ""
             }
            },
            "type": "scatterpolar"
           }
          ],
          "scatterpolargl": [
           {
            "marker": {
             "colorbar": {
              "outlinewidth": 0,
              "ticks": ""
             }
            },
            "type": "scatterpolargl"
           }
          ],
          "scatterternary": [
           {
            "marker": {
             "colorbar": {
              "outlinewidth": 0,
              "ticks": ""
             }
            },
            "type": "scatterternary"
           }
          ],
          "surface": [
           {
            "colorbar": {
             "outlinewidth": 0,
             "ticks": ""
            },
            "colorscale": [
             [
              0,
              "#0d0887"
             ],
             [
              0.1111111111111111,
              "#46039f"
             ],
             [
              0.2222222222222222,
              "#7201a8"
             ],
             [
              0.3333333333333333,
              "#9c179e"
             ],
             [
              0.4444444444444444,
              "#bd3786"
             ],
             [
              0.5555555555555556,
              "#d8576b"
             ],
             [
              0.6666666666666666,
              "#ed7953"
             ],
             [
              0.7777777777777778,
              "#fb9f3a"
             ],
             [
              0.8888888888888888,
              "#fdca26"
             ],
             [
              1,
              "#f0f921"
             ]
            ],
            "type": "surface"
           }
          ],
          "table": [
           {
            "cells": {
             "fill": {
              "color": "#EBF0F8"
             },
             "line": {
              "color": "white"
             }
            },
            "header": {
             "fill": {
              "color": "#C8D4E3"
             },
             "line": {
              "color": "white"
             }
            },
            "type": "table"
           }
          ]
         },
         "layout": {
          "annotationdefaults": {
           "arrowcolor": "#2a3f5f",
           "arrowhead": 0,
           "arrowwidth": 1
          },
          "autotypenumbers": "strict",
          "coloraxis": {
           "colorbar": {
            "outlinewidth": 0,
            "ticks": ""
           }
          },
          "colorscale": {
           "diverging": [
            [
             0,
             "#8e0152"
            ],
            [
             0.1,
             "#c51b7d"
            ],
            [
             0.2,
             "#de77ae"
            ],
            [
             0.3,
             "#f1b6da"
            ],
            [
             0.4,
             "#fde0ef"
            ],
            [
             0.5,
             "#f7f7f7"
            ],
            [
             0.6,
             "#e6f5d0"
            ],
            [
             0.7,
             "#b8e186"
            ],
            [
             0.8,
             "#7fbc41"
            ],
            [
             0.9,
             "#4d9221"
            ],
            [
             1,
             "#276419"
            ]
           ],
           "sequential": [
            [
             0,
             "#0d0887"
            ],
            [
             0.1111111111111111,
             "#46039f"
            ],
            [
             0.2222222222222222,
             "#7201a8"
            ],
            [
             0.3333333333333333,
             "#9c179e"
            ],
            [
             0.4444444444444444,
             "#bd3786"
            ],
            [
             0.5555555555555556,
             "#d8576b"
            ],
            [
             0.6666666666666666,
             "#ed7953"
            ],
            [
             0.7777777777777778,
             "#fb9f3a"
            ],
            [
             0.8888888888888888,
             "#fdca26"
            ],
            [
             1,
             "#f0f921"
            ]
           ],
           "sequentialminus": [
            [
             0,
             "#0d0887"
            ],
            [
             0.1111111111111111,
             "#46039f"
            ],
            [
             0.2222222222222222,
             "#7201a8"
            ],
            [
             0.3333333333333333,
             "#9c179e"
            ],
            [
             0.4444444444444444,
             "#bd3786"
            ],
            [
             0.5555555555555556,
             "#d8576b"
            ],
            [
             0.6666666666666666,
             "#ed7953"
            ],
            [
             0.7777777777777778,
             "#fb9f3a"
            ],
            [
             0.8888888888888888,
             "#fdca26"
            ],
            [
             1,
             "#f0f921"
            ]
           ]
          },
          "colorway": [
           "#636efa",
           "#EF553B",
           "#00cc96",
           "#ab63fa",
           "#FFA15A",
           "#19d3f3",
           "#FF6692",
           "#B6E880",
           "#FF97FF",
           "#FECB52"
          ],
          "font": {
           "color": "#2a3f5f"
          },
          "geo": {
           "bgcolor": "white",
           "lakecolor": "white",
           "landcolor": "#E5ECF6",
           "showlakes": true,
           "showland": true,
           "subunitcolor": "white"
          },
          "hoverlabel": {
           "align": "left"
          },
          "hovermode": "closest",
          "mapbox": {
           "style": "light"
          },
          "paper_bgcolor": "white",
          "plot_bgcolor": "#E5ECF6",
          "polar": {
           "angularaxis": {
            "gridcolor": "white",
            "linecolor": "white",
            "ticks": ""
           },
           "bgcolor": "#E5ECF6",
           "radialaxis": {
            "gridcolor": "white",
            "linecolor": "white",
            "ticks": ""
           }
          },
          "scene": {
           "xaxis": {
            "backgroundcolor": "#E5ECF6",
            "gridcolor": "white",
            "gridwidth": 2,
            "linecolor": "white",
            "showbackground": true,
            "ticks": "",
            "zerolinecolor": "white"
           },
           "yaxis": {
            "backgroundcolor": "#E5ECF6",
            "gridcolor": "white",
            "gridwidth": 2,
            "linecolor": "white",
            "showbackground": true,
            "ticks": "",
            "zerolinecolor": "white"
           },
           "zaxis": {
            "backgroundcolor": "#E5ECF6",
            "gridcolor": "white",
            "gridwidth": 2,
            "linecolor": "white",
            "showbackground": true,
            "ticks": "",
            "zerolinecolor": "white"
           }
          },
          "shapedefaults": {
           "line": {
            "color": "#2a3f5f"
           }
          },
          "ternary": {
           "aaxis": {
            "gridcolor": "white",
            "linecolor": "white",
            "ticks": ""
           },
           "baxis": {
            "gridcolor": "white",
            "linecolor": "white",
            "ticks": ""
           },
           "bgcolor": "#E5ECF6",
           "caxis": {
            "gridcolor": "white",
            "linecolor": "white",
            "ticks": ""
           }
          },
          "title": {
           "x": 0.05
          },
          "xaxis": {
           "automargin": true,
           "gridcolor": "white",
           "linecolor": "white",
           "ticks": "",
           "title": {
            "standoff": 15
           },
           "zerolinecolor": "white",
           "zerolinewidth": 2
          },
          "yaxis": {
           "automargin": true,
           "gridcolor": "white",
           "linecolor": "white",
           "ticks": "",
           "title": {
            "standoff": 15
           },
           "zerolinecolor": "white",
           "zerolinewidth": 2
          }
         }
        },
        "xaxis": {
         "anchor": "y",
         "domain": [
          0,
          0.45
         ],
         "title": {
          "text": "Glucose consumption [mmol/gdw/h]"
         }
        },
        "xaxis2": {
         "anchor": "y2",
         "domain": [
          0.55,
          1
         ],
         "title": {
          "text": "Glucose consumption [mmol/gdw/h]"
         }
        },
        "xaxis3": {
         "anchor": "y3",
         "domain": [
          0,
          0.45
         ],
         "title": {
          "text": "Glucose consumption [mmol/gdw/h]"
         }
        },
        "xaxis4": {
         "anchor": "y4",
         "domain": [
          0.55,
          1
         ],
         "title": {
          "text": "Glucose consumption [mmol/gdw/h]"
         }
        },
        "yaxis": {
         "anchor": "x",
         "domain": [
          0.625,
          1
         ],
         "title": {
          "text": "Growth rate [1/h]"
         }
        },
        "yaxis2": {
         "anchor": "x2",
         "domain": [
          0.625,
          1
         ],
         "title": {
          "text": "Acetate production rate [mmol/gdw/h]"
         }
        },
        "yaxis3": {
         "anchor": "x3",
         "domain": [
          0,
          0.375
         ],
         "title": {
          "text": "O2 consumption rate [mmol/gdw/h]"
         }
        },
        "yaxis4": {
         "anchor": "x4",
         "domain": [
          0,
          0.375
         ],
         "title": {
          "text": "CO2 production rate [mmol/gdw/h]"
         }
        }
       }
      },
      "text/html": [
       "<div>                            <div id=\"9dac88fb-5e4d-48ee-ace8-60c3a7493b09\" class=\"plotly-graph-div\" style=\"height:525px; width:100%;\"></div>            <script type=\"text/javascript\">                require([\"plotly\"], function(Plotly) {                    window.PLOTLYENV=window.PLOTLYENV || {};                                    if (document.getElementById(\"9dac88fb-5e4d-48ee-ace8-60c3a7493b09\")) {                    Plotly.newPlot(                        \"9dac88fb-5e4d-48ee-ace8-60c3a7493b09\",                        [{\"marker\":{\"color\":\"blue\"},\"mode\":\"lines\",\"showlegend\":false,\"x\":[1.0,1.5,2.0,2.5,3.0,3.5,4.0,4.5,5.0,5.5,6.0,6.5,7.0,7.5,8.0,8.5,9.0,9.5,10.0,10.5],\"y\":[0.025560717958998506,0.05152204556991683,0.07749469736953919,0.10345023303611676,0.12914379496487252,0.1548373581076057,0.1805309212503394,0.2062244843930732,0.2319180475358058,0.25761161067853994,0.28330517382127396,0.30899873696400737,0.33458372681164256,0.36003682965915584,0.38548993250667024,0.4109430353541836,0.43639613820169687,0.46184924104921177,0.4873023438967241,0.5127554467442388],\"type\":\"scatter\",\"xaxis\":\"x\",\"yaxis\":\"y\"},{\"line\":{\"color\":\"black\",\"dash\":\"dash\",\"width\":1},\"mode\":\"markers\",\"showlegend\":false,\"x\":[4.94483364720653],\"y\":[0.49],\"type\":\"scatter\",\"xaxis\":\"x\",\"yaxis\":\"y\"},{\"marker\":{\"color\":\"blue\"},\"mode\":\"lines\",\"showlegend\":false,\"x\":[1.0,1.5,2.0,2.5,3.0,3.5,4.0,4.5,5.0,5.5,6.0,6.5,7.0,7.5,8.0,8.5,9.0,9.5,10.0,10.5],\"y\":[0.0,0.0,0.0,0.0,0.0,0.0,0.0,0.0,0.0,0.0,0.0,0.0,0.0,0.0,0.0,0.0,0.0,0.0,0.0,0.0],\"type\":\"scatter\",\"xaxis\":\"x2\",\"yaxis\":\"y2\"},{\"line\":{\"color\":\"black\",\"dash\":\"dash\",\"width\":1},\"mode\":\"markers\",\"showlegend\":false,\"x\":[4.94483364720653],\"y\":[0.5970002640036],\"type\":\"scatter\",\"xaxis\":\"x2\",\"yaxis\":\"y2\"},{\"marker\":{\"color\":\"blue\"},\"mode\":\"lines\",\"showlegend\":false,\"x\":[1.0,1.5,2.0,2.5,3.0,3.5,4.0,4.5,5.0,5.5,6.0,6.5,7.0,7.5,8.0,8.5,9.0,9.5,10.0,10.5],\"y\":[2.396304595731047,3.02530762018411,3.653823410792231,4.282824502787562,4.923328207654142,5.563831860098961,6.204335512543783,6.844839164988606,7.485342817433422,8.125846469878248,8.766350122323072,9.40685377476789,10.052045826158674,10.702933006096238,11.353820186033813,12.004707365971376,12.655594545908944,13.306481725846515,13.957368905784078,14.608256085721644],\"type\":\"scatter\",\"xaxis\":\"x3\",\"yaxis\":\"y3\"},{\"line\":{\"color\":\"black\",\"dash\":\"dash\",\"width\":1},\"mode\":\"markers\",\"showlegend\":false,\"x\":[4.94483364720653],\"y\":[null],\"type\":\"scatter\",\"xaxis\":\"x3\",\"yaxis\":\"y3\"},{\"marker\":{\"color\":\"blue\"},\"mode\":\"lines\",\"showlegend\":false,\"x\":[1.0,1.5,2.0,2.5,3.0,3.5,4.0,4.5,5.0,5.5,6.0,6.5,7.0,7.5,8.0,8.5,9.0,9.5,10.0,10.5],\"y\":[1.950851538485965,2.3852567216322402,2.819198683620121,3.2536124902183796,3.698952512623243,4.144292485197276,4.589632457771316,5.0349724303453565,5.480312402919382,5.925652375493427,6.3709923480674675,6.816332320641501,7.266128970312186,7.721339269556882,8.17654956880159,8.63175986804629,9.08697016729099,9.542180466535712,9.997390765780404,10.45260106502512],\"type\":\"scatter\",\"xaxis\":\"x4\",\"yaxis\":\"y4\"},{\"line\":{\"color\":\"black\",\"dash\":\"dash\",\"width\":1},\"mode\":\"markers\",\"showlegend\":false,\"x\":[4.94483364720653],\"y\":[0],\"type\":\"scatter\",\"xaxis\":\"x4\",\"yaxis\":\"y4\"}],                        {\"template\":{\"data\":{\"histogram2dcontour\":[{\"type\":\"histogram2dcontour\",\"colorbar\":{\"outlinewidth\":0,\"ticks\":\"\"},\"colorscale\":[[0.0,\"#0d0887\"],[0.1111111111111111,\"#46039f\"],[0.2222222222222222,\"#7201a8\"],[0.3333333333333333,\"#9c179e\"],[0.4444444444444444,\"#bd3786\"],[0.5555555555555556,\"#d8576b\"],[0.6666666666666666,\"#ed7953\"],[0.7777777777777778,\"#fb9f3a\"],[0.8888888888888888,\"#fdca26\"],[1.0,\"#f0f921\"]]}],\"choropleth\":[{\"type\":\"choropleth\",\"colorbar\":{\"outlinewidth\":0,\"ticks\":\"\"}}],\"histogram2d\":[{\"type\":\"histogram2d\",\"colorbar\":{\"outlinewidth\":0,\"ticks\":\"\"},\"colorscale\":[[0.0,\"#0d0887\"],[0.1111111111111111,\"#46039f\"],[0.2222222222222222,\"#7201a8\"],[0.3333333333333333,\"#9c179e\"],[0.4444444444444444,\"#bd3786\"],[0.5555555555555556,\"#d8576b\"],[0.6666666666666666,\"#ed7953\"],[0.7777777777777778,\"#fb9f3a\"],[0.8888888888888888,\"#fdca26\"],[1.0,\"#f0f921\"]]}],\"heatmap\":[{\"type\":\"heatmap\",\"colorbar\":{\"outlinewidth\":0,\"ticks\":\"\"},\"colorscale\":[[0.0,\"#0d0887\"],[0.1111111111111111,\"#46039f\"],[0.2222222222222222,\"#7201a8\"],[0.3333333333333333,\"#9c179e\"],[0.4444444444444444,\"#bd3786\"],[0.5555555555555556,\"#d8576b\"],[0.6666666666666666,\"#ed7953\"],[0.7777777777777778,\"#fb9f3a\"],[0.8888888888888888,\"#fdca26\"],[1.0,\"#f0f921\"]]}],\"heatmapgl\":[{\"type\":\"heatmapgl\",\"colorbar\":{\"outlinewidth\":0,\"ticks\":\"\"},\"colorscale\":[[0.0,\"#0d0887\"],[0.1111111111111111,\"#46039f\"],[0.2222222222222222,\"#7201a8\"],[0.3333333333333333,\"#9c179e\"],[0.4444444444444444,\"#bd3786\"],[0.5555555555555556,\"#d8576b\"],[0.6666666666666666,\"#ed7953\"],[0.7777777777777778,\"#fb9f3a\"],[0.8888888888888888,\"#fdca26\"],[1.0,\"#f0f921\"]]}],\"contourcarpet\":[{\"type\":\"contourcarpet\",\"colorbar\":{\"outlinewidth\":0,\"ticks\":\"\"}}],\"contour\":[{\"type\":\"contour\",\"colorbar\":{\"outlinewidth\":0,\"ticks\":\"\"},\"colorscale\":[[0.0,\"#0d0887\"],[0.1111111111111111,\"#46039f\"],[0.2222222222222222,\"#7201a8\"],[0.3333333333333333,\"#9c179e\"],[0.4444444444444444,\"#bd3786\"],[0.5555555555555556,\"#d8576b\"],[0.6666666666666666,\"#ed7953\"],[0.7777777777777778,\"#fb9f3a\"],[0.8888888888888888,\"#fdca26\"],[1.0,\"#f0f921\"]]}],\"surface\":[{\"type\":\"surface\",\"colorbar\":{\"outlinewidth\":0,\"ticks\":\"\"},\"colorscale\":[[0.0,\"#0d0887\"],[0.1111111111111111,\"#46039f\"],[0.2222222222222222,\"#7201a8\"],[0.3333333333333333,\"#9c179e\"],[0.4444444444444444,\"#bd3786\"],[0.5555555555555556,\"#d8576b\"],[0.6666666666666666,\"#ed7953\"],[0.7777777777777778,\"#fb9f3a\"],[0.8888888888888888,\"#fdca26\"],[1.0,\"#f0f921\"]]}],\"mesh3d\":[{\"type\":\"mesh3d\",\"colorbar\":{\"outlinewidth\":0,\"ticks\":\"\"}}],\"scatter\":[{\"fillpattern\":{\"fillmode\":\"overlay\",\"size\":10,\"solidity\":0.2},\"type\":\"scatter\"}],\"parcoords\":[{\"type\":\"parcoords\",\"line\":{\"colorbar\":{\"outlinewidth\":0,\"ticks\":\"\"}}}],\"scatterpolargl\":[{\"type\":\"scatterpolargl\",\"marker\":{\"colorbar\":{\"outlinewidth\":0,\"ticks\":\"\"}}}],\"bar\":[{\"error_x\":{\"color\":\"#2a3f5f\"},\"error_y\":{\"color\":\"#2a3f5f\"},\"marker\":{\"line\":{\"color\":\"#E5ECF6\",\"width\":0.5},\"pattern\":{\"fillmode\":\"overlay\",\"size\":10,\"solidity\":0.2}},\"type\":\"bar\"}],\"scattergeo\":[{\"type\":\"scattergeo\",\"marker\":{\"colorbar\":{\"outlinewidth\":0,\"ticks\":\"\"}}}],\"scatterpolar\":[{\"type\":\"scatterpolar\",\"marker\":{\"colorbar\":{\"outlinewidth\":0,\"ticks\":\"\"}}}],\"histogram\":[{\"marker\":{\"pattern\":{\"fillmode\":\"overlay\",\"size\":10,\"solidity\":0.2}},\"type\":\"histogram\"}],\"scattergl\":[{\"type\":\"scattergl\",\"marker\":{\"colorbar\":{\"outlinewidth\":0,\"ticks\":\"\"}}}],\"scatter3d\":[{\"type\":\"scatter3d\",\"line\":{\"colorbar\":{\"outlinewidth\":0,\"ticks\":\"\"}},\"marker\":{\"colorbar\":{\"outlinewidth\":0,\"ticks\":\"\"}}}],\"scattermapbox\":[{\"type\":\"scattermapbox\",\"marker\":{\"colorbar\":{\"outlinewidth\":0,\"ticks\":\"\"}}}],\"scatterternary\":[{\"type\":\"scatterternary\",\"marker\":{\"colorbar\":{\"outlinewidth\":0,\"ticks\":\"\"}}}],\"scattercarpet\":[{\"type\":\"scattercarpet\",\"marker\":{\"colorbar\":{\"outlinewidth\":0,\"ticks\":\"\"}}}],\"carpet\":[{\"aaxis\":{\"endlinecolor\":\"#2a3f5f\",\"gridcolor\":\"white\",\"linecolor\":\"white\",\"minorgridcolor\":\"white\",\"startlinecolor\":\"#2a3f5f\"},\"baxis\":{\"endlinecolor\":\"#2a3f5f\",\"gridcolor\":\"white\",\"linecolor\":\"white\",\"minorgridcolor\":\"white\",\"startlinecolor\":\"#2a3f5f\"},\"type\":\"carpet\"}],\"table\":[{\"cells\":{\"fill\":{\"color\":\"#EBF0F8\"},\"line\":{\"color\":\"white\"}},\"header\":{\"fill\":{\"color\":\"#C8D4E3\"},\"line\":{\"color\":\"white\"}},\"type\":\"table\"}],\"barpolar\":[{\"marker\":{\"line\":{\"color\":\"#E5ECF6\",\"width\":0.5},\"pattern\":{\"fillmode\":\"overlay\",\"size\":10,\"solidity\":0.2}},\"type\":\"barpolar\"}],\"pie\":[{\"automargin\":true,\"type\":\"pie\"}]},\"layout\":{\"autotypenumbers\":\"strict\",\"colorway\":[\"#636efa\",\"#EF553B\",\"#00cc96\",\"#ab63fa\",\"#FFA15A\",\"#19d3f3\",\"#FF6692\",\"#B6E880\",\"#FF97FF\",\"#FECB52\"],\"font\":{\"color\":\"#2a3f5f\"},\"hovermode\":\"closest\",\"hoverlabel\":{\"align\":\"left\"},\"paper_bgcolor\":\"white\",\"plot_bgcolor\":\"#E5ECF6\",\"polar\":{\"bgcolor\":\"#E5ECF6\",\"angularaxis\":{\"gridcolor\":\"white\",\"linecolor\":\"white\",\"ticks\":\"\"},\"radialaxis\":{\"gridcolor\":\"white\",\"linecolor\":\"white\",\"ticks\":\"\"}},\"ternary\":{\"bgcolor\":\"#E5ECF6\",\"aaxis\":{\"gridcolor\":\"white\",\"linecolor\":\"white\",\"ticks\":\"\"},\"baxis\":{\"gridcolor\":\"white\",\"linecolor\":\"white\",\"ticks\":\"\"},\"caxis\":{\"gridcolor\":\"white\",\"linecolor\":\"white\",\"ticks\":\"\"}},\"coloraxis\":{\"colorbar\":{\"outlinewidth\":0,\"ticks\":\"\"}},\"colorscale\":{\"sequential\":[[0.0,\"#0d0887\"],[0.1111111111111111,\"#46039f\"],[0.2222222222222222,\"#7201a8\"],[0.3333333333333333,\"#9c179e\"],[0.4444444444444444,\"#bd3786\"],[0.5555555555555556,\"#d8576b\"],[0.6666666666666666,\"#ed7953\"],[0.7777777777777778,\"#fb9f3a\"],[0.8888888888888888,\"#fdca26\"],[1.0,\"#f0f921\"]],\"sequentialminus\":[[0.0,\"#0d0887\"],[0.1111111111111111,\"#46039f\"],[0.2222222222222222,\"#7201a8\"],[0.3333333333333333,\"#9c179e\"],[0.4444444444444444,\"#bd3786\"],[0.5555555555555556,\"#d8576b\"],[0.6666666666666666,\"#ed7953\"],[0.7777777777777778,\"#fb9f3a\"],[0.8888888888888888,\"#fdca26\"],[1.0,\"#f0f921\"]],\"diverging\":[[0,\"#8e0152\"],[0.1,\"#c51b7d\"],[0.2,\"#de77ae\"],[0.3,\"#f1b6da\"],[0.4,\"#fde0ef\"],[0.5,\"#f7f7f7\"],[0.6,\"#e6f5d0\"],[0.7,\"#b8e186\"],[0.8,\"#7fbc41\"],[0.9,\"#4d9221\"],[1,\"#276419\"]]},\"xaxis\":{\"gridcolor\":\"white\",\"linecolor\":\"white\",\"ticks\":\"\",\"title\":{\"standoff\":15},\"zerolinecolor\":\"white\",\"automargin\":true,\"zerolinewidth\":2},\"yaxis\":{\"gridcolor\":\"white\",\"linecolor\":\"white\",\"ticks\":\"\",\"title\":{\"standoff\":15},\"zerolinecolor\":\"white\",\"automargin\":true,\"zerolinewidth\":2},\"scene\":{\"xaxis\":{\"backgroundcolor\":\"#E5ECF6\",\"gridcolor\":\"white\",\"linecolor\":\"white\",\"showbackground\":true,\"ticks\":\"\",\"zerolinecolor\":\"white\",\"gridwidth\":2},\"yaxis\":{\"backgroundcolor\":\"#E5ECF6\",\"gridcolor\":\"white\",\"linecolor\":\"white\",\"showbackground\":true,\"ticks\":\"\",\"zerolinecolor\":\"white\",\"gridwidth\":2},\"zaxis\":{\"backgroundcolor\":\"#E5ECF6\",\"gridcolor\":\"white\",\"linecolor\":\"white\",\"showbackground\":true,\"ticks\":\"\",\"zerolinecolor\":\"white\",\"gridwidth\":2}},\"shapedefaults\":{\"line\":{\"color\":\"#2a3f5f\"}},\"annotationdefaults\":{\"arrowcolor\":\"#2a3f5f\",\"arrowhead\":0,\"arrowwidth\":1},\"geo\":{\"bgcolor\":\"white\",\"landcolor\":\"#E5ECF6\",\"subunitcolor\":\"white\",\"showland\":true,\"showlakes\":true,\"lakecolor\":\"white\"},\"title\":{\"x\":0.05},\"mapbox\":{\"style\":\"light\"}}},\"xaxis\":{\"anchor\":\"y\",\"domain\":[0.0,0.45],\"title\":{\"text\":\"Glucose consumption [mmol/gdw/h]\"}},\"yaxis\":{\"anchor\":\"x\",\"domain\":[0.625,1.0],\"title\":{\"text\":\"Growth rate [1/h]\"}},\"xaxis2\":{\"anchor\":\"y2\",\"domain\":[0.55,1.0],\"title\":{\"text\":\"Glucose consumption [mmol/gdw/h]\"}},\"yaxis2\":{\"anchor\":\"x2\",\"domain\":[0.625,1.0],\"title\":{\"text\":\"Acetate production rate [mmol/gdw/h]\"}},\"xaxis3\":{\"anchor\":\"y3\",\"domain\":[0.0,0.45],\"title\":{\"text\":\"Glucose consumption [mmol/gdw/h]\"}},\"yaxis3\":{\"anchor\":\"x3\",\"domain\":[0.0,0.375],\"title\":{\"text\":\"O2 consumption rate [mmol/gdw/h]\"}},\"xaxis4\":{\"anchor\":\"y4\",\"domain\":[0.55,1.0],\"title\":{\"text\":\"Glucose consumption [mmol/gdw/h]\"}},\"yaxis4\":{\"anchor\":\"x4\",\"domain\":[0.0,0.375],\"title\":{\"text\":\"CO2 production rate [mmol/gdw/h]\"}},\"annotations\":[{\"font\":{\"size\":16},\"showarrow\":false,\"text\":\"Glucose consumption\",\"x\":0.225,\"xanchor\":\"center\",\"xref\":\"paper\",\"y\":1.0,\"yanchor\":\"bottom\",\"yref\":\"paper\"},{\"font\":{\"size\":16},\"showarrow\":false,\"text\":\"Acetate production\",\"x\":0.775,\"xanchor\":\"center\",\"xref\":\"paper\",\"y\":1.0,\"yanchor\":\"bottom\",\"yref\":\"paper\"},{\"font\":{\"size\":16},\"showarrow\":false,\"text\":\"O2 consumption\",\"x\":0.225,\"xanchor\":\"center\",\"xref\":\"paper\",\"y\":0.375,\"yanchor\":\"bottom\",\"yref\":\"paper\"},{\"font\":{\"size\":16},\"showarrow\":false,\"text\":\"CO2 production\",\"x\":0.775,\"xanchor\":\"center\",\"xref\":\"paper\",\"y\":0.375,\"yanchor\":\"bottom\",\"yref\":\"paper\"}]},                        {\"responsive\": true}                    ).then(function(){\n",
       "                            \n",
       "var gd = document.getElementById('9dac88fb-5e4d-48ee-ace8-60c3a7493b09');\n",
       "var x = new MutationObserver(function (mutations, observer) {{\n",
       "        var display = window.getComputedStyle(gd).display;\n",
       "        if (!display || display === 'none') {{\n",
       "            console.log([gd, 'removed!']);\n",
       "            Plotly.purge(gd);\n",
       "            observer.disconnect();\n",
       "        }}\n",
       "}});\n",
       "\n",
       "// Listen for the removal of the full notebook cells\n",
       "var notebookContainer = gd.closest('#notebook-container');\n",
       "if (notebookContainer) {{\n",
       "    x.observe(notebookContainer, {childList: true});\n",
       "}}\n",
       "\n",
       "// Listen for the clearing of the current output cell\n",
       "var outputEl = gd.closest('.output');\n",
       "if (outputEl) {{\n",
       "    x.observe(outputEl, {childList: true});\n",
       "}}\n",
       "\n",
       "                        })                };                });            </script>        </div>"
      ]
     },
     "metadata": {},
     "output_type": "display_data"
    }
   ],
   "source": [
    "validator = PAMpy.PAMValidator(pamodel_glyc, valid_data_file_glyc)\n",
    "#model flux rates of biomass formation, acetate, CO2 and O2 vs glucose uptake rate for a range of growth rates\n",
    "validator.validate_range(c_uptake_rxn = 'EX_glyc_e')"
   ]
  },
  {
   "cell_type": "markdown",
   "id": "01aed0a3",
   "metadata": {},
   "source": [
    "## 4. Adding or removing enzymes, reactions or sections\n",
    "After building the model, we can modify it. For example by adding or removing components or by changing the kcat values. More modifications are possible, eg. changing the protein-reaction relations, please have a look in the source code on how they work."
   ]
  },
  {
   "cell_type": "markdown",
   "id": "42e48943",
   "metadata": {},
   "source": [
    "### 4.1 Enzymes"
   ]
  },
  {
   "cell_type": "code",
   "execution_count": 8,
   "id": "6d87f823",
   "metadata": {},
   "outputs": [
    {
     "name": "stdout",
     "output_type": "stream",
     "text": [
      "These are the enzymes associated with FUM: ['4.2.1.2']\n",
      "\n",
      "Enzyme 4.2.1.2 is removed from the model!\n",
      "\n",
      "Protein allocation model test case was successful.\n",
      "\n",
      "Optimal objective function value:  0.6523617852897537 \n",
      "\n",
      "Predicted glucose uptake rate:  -10.0\n"
     ]
    }
   ],
   "source": [
    "#removing the enzymes related to the fumarase reaction from the TCA cycle (fum_c + h2o_c ⇌ mal__L_c)\n",
    "rxn_id = 'FUM'\n",
    "\n",
    "fum_enzymes = pamodel.get_enzymes_with_reaction_id(rxn_id)\n",
    "fum_enzymes_copy = fum_enzymes.copy()\n",
    "fum_enzyme_ids = [enz.id for enz in fum_enzymes]\n",
    "print(f'These are the enzymes associated with {rxn_id}: {fum_enzyme_ids}\\n')\n",
    "#remove the enzyme from the model\n",
    "pamodel.remove_enzymes(fum_enzymes)\n",
    "\n",
    "#check if the protein is removed from the total protein constraint\n",
    "tpc = pamodel.constraints[pamodel.TOTAL_PROTEIN_CONSTRAINT_ID]\n",
    "for enz_id in fum_enzyme_ids:\n",
    "    if pamodel.enzymes.has_id(enz_id):\n",
    "        print(f'Enzyme {enz_id} is still in the model!\\n')\n",
    "    else:\n",
    "        print(f'Enzyme {enz_id} is removed from the model!\\n')\n",
    "\n",
    "#did the model result change?\n",
    "pamodel.test()"
   ]
  },
  {
   "cell_type": "code",
   "execution_count": 9,
   "id": "1e7d9863",
   "metadata": {},
   "outputs": [
    {
     "name": "stdout",
     "output_type": "stream",
     "text": [
      "Enzyme 4.2.1.2 is in the model!\n",
      "\n",
      "Protein allocation model test case was successful.\n",
      "\n",
      "Optimal objective function value:  0.6828394923127412 \n",
      "\n",
      "Predicted glucose uptake rate:  -10.0\n"
     ]
    }
   ],
   "source": [
    "#adding the enzymes back to the model\n",
    "pamodel.add_enzymes(fum_enzymes_copy)\n",
    "\n",
    "#check if the protein is removed from the total protein constraint\n",
    "tpc = pamodel.constraints[pamodel.TOTAL_PROTEIN_CONSTRAINT_ID]\n",
    "\n",
    "for enz_id in fum_enzyme_ids:\n",
    "    if pamodel.enzymes.has_id(enz_id):\n",
    "        print(f'Enzyme {enz_id} is in the model!\\n')\n",
    "    else:\n",
    "        print(f'Enzyme {enz_id} is not in the model!\\n')\n",
    "\n",
    "#did the model result change?\n",
    "pamodel.test()"
   ]
  },
  {
   "cell_type": "code",
   "execution_count": 11,
   "id": "a0a55f17-1599-45c4-b77a-de0c0d60e559",
   "metadata": {},
   "outputs": [
    {
     "name": "stdout",
     "output_type": "stream",
     "text": [
      "1.3.1.76_max: -1000000.0 <= 1.0*1.3.1.76 + 1.0*1.3.1.76_reverse_7c2ff <= 100\n",
      "1.3.1.76_min: -1000000.0 <= -1.0*1.3.1.76 - 1.0*1.3.1.76_reverse_7c2ff <= -10\n",
      "1.3.1.76_max: -1000000.0 <= 1.0*1.3.1.76 + 1.0*1.3.1.76_reverse_7c2ff <= 100\n",
      "1.3.1.76_min: -1000000.0 <= -1.0*1.3.1.76 - 1.0*1.3.1.76_reverse_7c2ff <= -10\n"
     ]
    }
   ],
   "source": [
    "#we can also change the enzyme bounds\n",
    "\n",
    "enz = pamodel.enzymes[1]\n",
    "min = -enz._constraints[enz.id+'_min'].ub\n",
    "max = enz._constraints[enz.id+'_max'].ub\n",
    "\n",
    "print(enz._constraints[enz.id+'_max'])\n",
    "print(enz._constraints[enz.id+'_min'])\n",
    "\n",
    "change_enzyme_bounds(pamodel, enz.id, 10,100)\n",
    "\n",
    "print(enz._constraints[enz.id+'_max'])\n",
    "print(enz._constraints[enz.id+'_min'])\n",
    "\n",
    "#change back\n",
    "change_enzyme_bounds(pamodel, enz.id, min,max)"
   ]
  },
  {
   "cell_type": "markdown",
   "id": "0f5d8b47",
   "metadata": {},
   "source": [
    "### 4.2 Reactions"
   ]
  },
  {
   "cell_type": "code",
   "execution_count": 8,
   "id": "60e4f26f",
   "metadata": {},
   "outputs": [
    {
     "name": "stdout",
     "output_type": "stream",
     "text": [
      "['CE_DTARTD']\n",
      "Variable CE_FUM is removed from the model!\n",
      "\n",
      "Protein allocation model test case was successful.\n",
      "\n",
      "Optimal objective function value:  0.6523610560719434 \n",
      "\n",
      "Predicted glucose uptake rate:  -10.0\n"
     ]
    }
   ],
   "source": [
    "#removing a reaction and the associated catalytic event fom the model\n",
    "rxn_id = 'FUM'\n",
    "rxn = pamodel.reactions.get_by_id(rxn_id)\n",
    "fum_enzymes = pamodel.get_enzymes_with_reaction_id(rxn_id)\n",
    "catalytic_event = [pamodel.catalytic_events.get_by_id('CE_'+rxn_id)].copy()\n",
    "\n",
    "pamodel.remove_reactions(pamodel.reactions.get_by_id(rxn_id))\n",
    "\n",
    "#check if the associated catalytic event is still in the variables of the model\n",
    "try:\n",
    "    var = pamodel.variables[catalytic_event[0].forward_variable]\n",
    "    print(f'Variable {catalytic_event[0].id} is still in the model!\\n')\n",
    "except:\n",
    "    print(f'Variable {catalytic_event[0].id} is removed from the model!\\n')\n",
    "\n",
    "#did the model result change?\n",
    "pamodel.test()"
   ]
  },
  {
   "cell_type": "code",
   "execution_count": 9,
   "id": "72f1e1ee",
   "metadata": {},
   "outputs": [],
   "source": [
    "#adding the reaction back to the model\n",
    "pamodel.add_reactions([rxn])"
   ]
  },
  {
   "cell_type": "code",
   "execution_count": 10,
   "id": "b8942761",
   "metadata": {},
   "outputs": [
    {
     "name": "stdout",
     "output_type": "stream",
     "text": [
      "Enzyme 4.2.1.2 is in the model\n",
      "Variable CE_DTARTD is NOT in the total protein constraint!\n",
      "Variable CE_FUM is NOT in the total protein constraint!\n",
      "Protein allocation model test case was successful.\n",
      "\n",
      "Optimal objective function value:  0.6851081904945704 \n",
      "\n",
      "Predicted glucose uptake rate:  -10.0\n"
     ]
    }
   ],
   "source": [
    "#adding the associated catalytic events to the model\n",
    "pamodel.add_catalytic_events([catalytic_event[0]])\n",
    "\n",
    "#check if enzymes are also in the model and associated with the total protein constraint:\n",
    "tpc = pamodel.constraints[pamodel.TOTAL_PROTEIN_CONSTRAINT_ID]\n",
    "for enz in fum_enzymes:\n",
    "    try:\n",
    "        pamodel.enzymes.get_by_id(enz.id)\n",
    "        print(f'Enzyme {enz.id} is in the model\\n')\n",
    "    except:\n",
    "        print(f'Enzyme {enz.id} is NOT in the model\\n')\n",
    "        \n",
    "#did the results revert?\n",
    "pamodel.test()"
   ]
  },
  {
   "cell_type": "markdown",
   "id": "1b793597",
   "metadata": {},
   "source": [
    "### 4.3 Sectors"
   ]
  },
  {
   "cell_type": "code",
   "execution_count": 16,
   "id": "b1622cca",
   "metadata": {},
   "outputs": [
    {
     "name": "stdout",
     "output_type": "stream",
     "text": [
      "Removing the following protein sector: UnusedEnzymeSector\n",
      "\n",
      "Protein allocation model test case was successful.\n",
      "\n",
      "Optimal objective function value:  0.6753974498883657 \n",
      "\n",
      "Predicted glucose uptake rate:  -10.0\n",
      "The UnusedEnzymeSector is removed from the total protein constraint\n"
     ]
    }
   ],
   "source": [
    "#removing a sector from the model\n",
    "ups = pamodel.sectors.get_by_id('UnusedEnzymeSector')\n",
    "pamodel.remove_sectors([ups])\n",
    "\n",
    "#check the results: do they change upon removal of the enzyme sector?\n",
    "pamodel.test()\n",
    "\n",
    "#check if the protein sector is still related to the total protein constraint in the model\n",
    "tpc = pamodel.constraints[pamodel.TOTAL_PROTEIN_CONSTRAINT_ID]\n",
    "lin_rxn = pamodel.reactions.get_by_id(ups.id_list[0])\n",
    "if tpc.get_linear_coefficients([lin_rxn.forward_variable])[lin_rxn.forward_variable]>0:\n",
    "    print(f'The {ups.id} is still associated with the total protein constraint')\n",
    "else:\n",
    "    print(f'The {ups.id} is removed from the total protein constraint')"
   ]
  },
  {
   "cell_type": "code",
   "execution_count": 17,
   "id": "f5f787ae",
   "metadata": {},
   "outputs": [
    {
     "name": "stdout",
     "output_type": "stream",
     "text": [
      "Add the following protein sector: UnusedEnzymeSector\n",
      "\n",
      "Protein allocation model test case was successful.\n",
      "\n",
      "Optimal objective function value:  0.6828400192152799 \n",
      "\n",
      "Predicted glucose uptake rate:  -10.0\n",
      "The UnusedEnzymeSector is associated with the total protein constraint\n"
     ]
    }
   ],
   "source": [
    "#adding the sector to the model again\n",
    "pamodel.add_sectors([ups])\n",
    "\n",
    "#check the results: do they change upon addition of the enzyme sector?\n",
    "pamodel.test()\n",
    "\n",
    "#check if the protein sector is related to the total protein constraint in the model\n",
    "tpc = pamodel.constraints[pamodel.TOTAL_PROTEIN_CONSTRAINT_ID]\n",
    "lin_rxn = pamodel.reactions.get_by_id(ups.id_list[0])\n",
    "if tpc.get_linear_coefficients([lin_rxn.forward_variable])[lin_rxn.forward_variable]>0:\n",
    "    print(f'The {ups.id} is associated with the total protein constraint')\n",
    "else:\n",
    "    print(f'The {ups.id} is not associated with the total protein constraint')\n"
   ]
  },
  {
   "cell_type": "markdown",
   "id": "10e504d9",
   "metadata": {},
   "source": [
    "## 5. Change kcat values"
   ]
  },
  {
   "cell_type": "code",
   "execution_count": 8,
   "id": "b067e0b1",
   "metadata": {},
   "outputs": [
    {
     "name": "stdout",
     "output_type": "stream",
     "text": [
      "EC_4.2.1.2_f: 0 <= -1.0*4.2.1.2 + 0.241650959354309*DTARTD + 4.62962962962963*FUM <= 0\n",
      "EC_4.2.1.2_f: 0 <= -1.0*4.2.1.2 + 0.241650959354309*DTARTD + 2777.77777777778*FUM <= 0 \n",
      "\n",
      "Protein allocation model test case was successful.\n",
      "\n",
      "Optimal objective function value:  0.652361783183415 \n",
      "\n",
      "Predicted glucose uptake rate:  -10.0\n"
     ]
    }
   ],
   "source": [
    "#get the enzymes related to the reaction of interest\n",
    "ce = pamodel.catalytic_events.get_by_id('CE_FUM')\n",
    "#get the enzyme which kcat we want to change\n",
    "enzyme = ce.enzymes[0]\n",
    "\n",
    "print(enzyme._constraints[f'EC_{enzyme.id}_f']) #for validation\n",
    "\n",
    "#change kcat and print the output to see if our change worked\n",
    "ce.change_kcat_values({enzyme.id:{'f':0.1}})\n",
    "print(enzyme._constraints[f'EC_{enzyme.id}_f'], '\\n')\n",
    "\n",
    "#did result change?\n",
    "pamodel.test()"
   ]
  },
  {
   "cell_type": "code",
   "execution_count": 9,
   "id": "4ad54b05",
   "metadata": {},
   "outputs": [
    {
     "name": "stdout",
     "output_type": "stream",
     "text": [
      "EC_4.2.1.2_f: 0 <= -1.0*4.2.1.2 + 0.241650959354309*DTARTD + 2777.77777777778*FUM <= 0\n",
      "EC_4.2.1.2_f: 0 <= -1.0*4.2.1.2 + 0.241650959354309*DTARTD + 555.555555555556*FUM <= 0 \n",
      "\n",
      "Protein allocation model test case was successful.\n",
      "\n",
      "Optimal objective function value:  0.6523617831834134 \n",
      "\n",
      "Predicted glucose uptake rate:  -10.0\n"
     ]
    }
   ],
   "source": [
    "#or even easier, change it right from the PAModel\n",
    "#first create an imput with enzyme and reaction ids\n",
    "print(enzyme._constraints[f'EC_{enzyme.id}_f']) #for validation\n",
    "to_change = {'FUM':{'f': 0.5}}\n",
    "\n",
    "pamodel.change_kcat_value(enzyme.id, to_change)\n",
    "#did the change work?\n",
    "print(enzyme._constraints[f'EC_{enzyme.id}_f'], '\\n')\n",
    "\n",
    "#did result change?\n",
    "pamodel.test()"
   ]
  }
 ],
 "metadata": {
  "kernelspec": {
   "display_name": "PAMvenv",
   "language": "python",
   "name": "pamvenv"
  },
  "language_info": {
   "codemirror_mode": {
    "name": "ipython",
    "version": 3
   },
   "file_extension": ".py",
   "mimetype": "text/x-python",
   "name": "python",
   "nbconvert_exporter": "python",
   "pygments_lexer": "ipython3",
   "version": "3.10.12"
  }
 },
 "nbformat": 4,
 "nbformat_minor": 5
}

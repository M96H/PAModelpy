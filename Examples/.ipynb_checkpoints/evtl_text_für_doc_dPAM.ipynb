{
 "cells": [
  {
   "cell_type": "markdown",
   "metadata": {},
   "source": [
    "# Documentation of the dFBA/dPAM package \n",
    "\n",
    "In this an example for the usage of the dFBA package. It uses the cobrapy package for optimization of the model and assimulo for solving ODEs. \n",
    "\n"
   ]
  },
  {
   "cell_type": "markdown",
   "metadata": {},
   "source": [
    "First we need to import all things used for the package.\n",
    "Those are the functions 'load_model' and 'set_objective' from the utils file and the DynamicFBA class which includes the function 'simulate' and is used to set parameters."
   ]
  },
  {
   "cell_type": "code",
   "execution_count": null,
   "metadata": {},
   "outputs": [],
   "source": [
    "import \n",
    "from dFBA_package.dFBA.utils import (load_model,\n",
    "                                     set_objective)\n",
    "from dFBA_package.dFBA.dynamic_fba import DynamicFBA"
   ]
  },
  {
   "cell_type": "markdown",
   "metadata": {},
   "source": [
    "Next we need to load the model and set the objective function. \n",
    "In this example we will use the E. coli core model which is included in the example folder. Other models can be load by using its saving path from the explorer.\n",
    "The objective function is set to optimal biomass production. For choosing a different objective function just type the reaction ID of the goal reaction."
   ]
  },
  {
   "cell_type": "code",
   "execution_count": null,
   "metadata": {},
   "outputs": [],
   "source": [
    "# Load the model using its saving path\n",
    "model_path = r'C:\\Users\\User\\Example_path\\model.xml'\n",
    "model = load_model(model_path)\n",
    "\n",
    "# Set the objective function\n",
    "biomass_iML1515_core = 'BIOMASS_Ec_iML1515_core_75p37M'\n",
    "# biomass_iML1515_core = 'BIOMASS_Ecoli_core_w_GAM'\n",
    "objective_function_id = biomass_iML1515_core"
   ]
  },
  {
   "cell_type": "markdown",
   "metadata": {},
   "source": []
  }
 ],
 "metadata": {
  "language_info": {
   "name": "python"
  }
 },
 "nbformat": 4,
 "nbformat_minor": 2
}

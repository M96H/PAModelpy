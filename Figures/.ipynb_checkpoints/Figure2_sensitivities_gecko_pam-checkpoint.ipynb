{
 "cells": [
  {
   "cell_type": "markdown",
   "id": "6d2a8cae-9e89-4faa-9b23-2c97b6186037",
   "metadata": {},
   "source": [
    "# Code to generate figure 2 in the publication\n",
    "analysis of sensitive enzymes and reactions in the model simulations"
   ]
  },
  {
   "cell_type": "code",
   "execution_count": 1,
   "id": "3e02abee-b41a-4257-ae81-9f22b71d17b3",
   "metadata": {},
   "outputs": [
    {
     "name": "stdout",
     "output_type": "stream",
     "text": [
      "Loading PAModelpy modules\n"
     ]
    }
   ],
   "source": [
    "from matplotlib import pyplot as plt\n",
    "import matplotlib\n",
    "import matplotlib.gridspec as gridspec\n",
    "\n",
    "import pandas as pd\n",
    "import numpy as np\n",
    "import os\n",
    "import sys\n",
    "\n",
    "import numpy as np\n",
    "from PIL import Image\n",
    "\n",
    "from PAModelpy.configuration import Config\n",
    "from PAModelpy.EnzymeSectors import ActiveEnzymeSector, UnusedEnzymeSector, TransEnzymeSector, CustomSector\n",
    "\n",
    "sys.path.append('../Scripts/')\n",
    "from pam_generation import set_up_ecoli_pam\n",
    "\n",
    "BIOMASS_RXNID = Config.BIOMASS_REACTION\n",
    "DATA_DIR = os.path.join(os.path.split(os.getcwd())[0], 'Data')\n",
    "PAM_DATA_FILE_PATH = os.path.join(DATA_DIR, 'proteinAllocationModel_iML1515_EnzymaticData_py.xls')\n",
    "glc_uptake_rates = list(np.linspace(0.5, 10, 20))"
   ]
  },
  {
   "cell_type": "markdown",
   "id": "47bbc17e-1d0f-4375-922a-4f630333f787",
   "metadata": {},
   "source": [
    "## sensitivities of GECKO and PAM"
   ]
  },
  {
   "cell_type": "markdown",
   "id": "fd5ff0a1-bc1e-42fe-bc4c-7d93571a5c27",
   "metadata": {},
   "source": [
    "### 1 Usefull functions"
   ]
  },
  {
   "cell_type": "code",
   "execution_count": 2,
   "id": "69b86edc-c37a-420f-9c88-2fa9fd186b59",
   "metadata": {},
   "outputs": [],
   "source": [
    "def calculate_sensitivities(pamodel):\n",
    "    glc_uptake_rates = np.linspace(0.5, 10, 20)\n",
    "    Ccac = []\n",
    "    Cfac = []\n",
    "    y_axis = []\n",
    "    fluxes = []\n",
    "    \n",
    "    # disable pyruvate formate lyase (inhibited by oxygen)\n",
    "    pamodel.change_reaction_bounds(rxn_id = 'PFL', upper_bound = 0)\n",
    "    \n",
    "    for glc in glc_uptake_rates:\n",
    "        print('glucose uptake rate ', glc, ' mmol/gcdw/h')\n",
    "        with pamodel:\n",
    "            # change glucose uptake rate\n",
    "            pamodel.change_reaction_bounds(rxn_id = 'EX_glc__D_e', \n",
    "                                            lower_bound = -glc, upper_bound = -glc)\n",
    "            # solve the model\n",
    "            sol_pam = pamodel.optimize()\n",
    "            fluxes.append(sol_pam.fluxes)\n",
    "            if pamodel.solver.status == 'optimal': y_axis += [glc]\n",
    "            # save data\n",
    "            Ccac_new = list()\n",
    "            \n",
    "            if pamodel.solver.status == 'optimal':\n",
    "                capacity_coeff = pamodel.capacity_allocation_coefficients\n",
    "                for cc in ['UB', 'LB', 'EC_max_f','EC_min_f', 'EC_max_b','EC_min_b', 'sector']:\n",
    "                    Ccac_new += capacity_coeff[capacity_coeff['constraint'] == cc].coefficient.to_list()\n",
    "                \n",
    "                Ccac += [Ccac_new]\n",
    "    \n",
    "                flux_coeff = pamodel.flux_allocation_coefficients\n",
    "                Cfac_new = list()\n",
    "                for fac in ['rxn', 'enzyme', 'sector']:\n",
    "                    Cfac_new += flux_coeff[flux_coeff['constraint'] == fac].coefficient.to_list()\n",
    "                Cfac += [Cfac_new]\n",
    "                \n",
    "                print('Sum of capacity allocation coefficients: \\t \\t \\t \\t \\t \\t', round(sum(Ccac_new),6))\n",
    "                print('Sum of flux allocation coefficients: \\t \\t \\t \\t \\t \\t \\t', round(sum(Cfac_new),6),'\\n')\n",
    "\n",
    "    return {'Ccac':Ccac, 'Cfac':Cfac, 'y_axis':y_axis, 'fluxes':fluxes, 'capacity coefficients':capacity_coeff, 'flux coefficients':flux_coeff}\n",
    "            "
   ]
  },
  {
   "cell_type": "code",
   "execution_count": 3,
   "id": "e47c6d59-277f-41bc-89a6-647ecc476120",
   "metadata": {},
   "outputs": [],
   "source": [
    "def parse_x_axis_heatmap(capacity_coeff, flux_coeff):\n",
    "    x_axis_fac = []\n",
    "    x_axis_cac = []\n",
    "    \n",
    "    for cc in ['UB', 'LB', 'EC_max_f','EC_min_f', 'EC_max_b','EC_min_b', 'sector']:\n",
    "        if cc == 'UB' or cc == 'LB':\n",
    "            x_axis_cac += [coef+'_'+ cc for coef in capacity_coeff[capacity_coeff['constraint'] == cc].rxn_id.to_list()]\n",
    "        else:\n",
    "            x_axis_cac += [coef+'_'+ cc for coef in capacity_coeff[\n",
    "            capacity_coeff['constraint'] == cc].enzyme_id.to_list()]\n",
    "    \n",
    "    for fac in ['rxn', 'enzyme', 'sector']:\n",
    "        if fac == 'rxn':\n",
    "            x_axis_fac += flux_coeff[flux_coeff['constraint'] == fac].rxn_id.to_list()\n",
    "        else:\n",
    "            x_axis_fac += flux_coeff[\n",
    "                flux_coeff['constraint'] == fac].enzyme_id.to_list()\n",
    "    return x_axis_cac, x_axis_fac"
   ]
  },
  {
   "cell_type": "code",
   "execution_count": 4,
   "id": "cf73a888-2270-4ea9-9cc8-4c9e0f5eceaa",
   "metadata": {},
   "outputs": [],
   "source": [
    "def make_heatmap_subfigure(results, cac_matrix, fac_matrix, x_cac, x_fac, yaxis, fig, grdspc, ylabels = True, cbar =True, \n",
    "                           fontsize = 16, vmin = -1.5, vmax = 1.5, annotate = None, phenotype_data = None):\n",
    "    # fig = plt.figure()\n",
    "\n",
    "    if cbar:\n",
    "        gs = gridspec.GridSpecFromSubplotSpec(3, 2, width_ratios=[len(yaxis), 1], \n",
    "                                            height_ratios=[1,len(x_cac), len(x_fac)], hspace =0,\n",
    "                                              subplot_spec=grdspc)\n",
    "    else:\n",
    "        gs = gridspec.GridSpecFromSubplotSpec(3, 1, width_ratios=[len(yaxis)], \n",
    "                                            height_ratios=[1,len(x_cac), len(x_fac)], hspace =0,\n",
    "                                              subplot_spec=grdspc)\n",
    "\n",
    "    # gs = gridspec.GridSpec(3, 2, width_ratios=[len(yaxis), 1], height_ratios=[1,len(x_cac), len(x_fac)], hspace =0)\n",
    "    \n",
    "    fac_ax = fig.add_subplot(gs[2,0]) #FAC heatmap\n",
    "    acetate_ax = fig.add_subplot(gs[0,0]) #acetate production\n",
    "    cac_ax = fig.add_subplot(gs[1,0],sharex = fac_ax) #CAC heatmap\n",
    "    if cbar:\n",
    "        cbar_ax = fig.add_subplot(gs[1:,1]) #colorbar\n",
    "\n",
    "    #add annotation for subfigure (A or B)\n",
    "    if annotate is not None:\n",
    "        acetate_ax.annotate(annotate, xy=(2, 1), xycoords='data',\n",
    "            xytext=(-0.05,1.5), textcoords='axes fraction',\n",
    "            va='top', ha='left', fontsize = fontsize+5, weight = 'bold')\n",
    "\n",
    "    glc_fluxes = [-sim.EX_glc__D_e for sim in results['fluxes']]\n",
    "    \n",
    "    #add arrow indicating growth regime\n",
    "    #1. Find the start of the overflow regime (which is when acetate is being produced)\n",
    "    for i,ac in enumerate([sim.EX_ac_e for sim in results['fluxes']]):\n",
    "        if ac >0.01:\n",
    "            glc_onset = glc_fluxes[i]\n",
    "            break\n",
    "    #2. determine the dx covered by respiration\n",
    "    dx_respiration =  glc_onset-glc_fluxes[0]\n",
    "    #3 create respiration arrow\n",
    "    #forward arrow\n",
    "    acetate_ax.arrow(\n",
    "            glc_fluxes[0], 11, dx_respiration, 0,\n",
    "        linewidth = 2, color = 'purple', label = 'Respiration', length_includes_head = True, head_width = 3, head_length = 0.5\n",
    "    )\n",
    "    #reverse arrow\n",
    "    acetate_ax.arrow(\n",
    "            glc_onset, 11, -dx_respiration, 0, head_starts_at_zero = True,\n",
    "        linewidth = 2, color = 'purple', label = 'Respiration', length_includes_head = True, head_width = 3, head_length = 0.5\n",
    "    )\n",
    "    #annotate\n",
    "    acetate_ax.annotate('Respiration',\n",
    "                       xy=(dx_respiration/2, 15),\n",
    "                         xytext=(10, -10), fontsize = fontsize,\n",
    "                         textcoords='offset points', color = 'purple')\n",
    "    #4. create overflow arrow\n",
    "    #forward arrow\n",
    "    acetate_ax.arrow(\n",
    "        glc_onset, 11, 10-glc_onset,0,\n",
    "        linewidth = 2, color = 'darkgreen', label = 'Overflow', length_includes_head = True,head_width = 3, head_length = 0.5\n",
    "    )\n",
    "    #reverse arrow\n",
    "    acetate_ax.arrow(\n",
    "        10, 11, -(10-glc_onset),0,\n",
    "        linewidth = 2, color = 'darkgreen', label = 'Overflow', length_includes_head = True,head_width = 3, head_length = 0.5\n",
    "    )\n",
    "    #annotate\n",
    "    acetate_ax.annotate('Overflow',fontsize = fontsize,\n",
    "                       xy=((10-glc_onset)/2+glc_onset, 15),\n",
    "                         xytext=(10, -10),\n",
    "                         textcoords='offset points', color = 'darkgreen')\n",
    "    \n",
    "    #acetate graph\n",
    "    acetate_ax.plot([-sim.EX_glc__D_e for sim in results['fluxes']], [sim.EX_ac_e for sim in results['fluxes']], linewidth = 4)\n",
    "    acetate_ax.tick_params(axis='y', labelsize=fontsize)\n",
    "    acetate_ax.set_xlim([0, 10.5])\n",
    "    acetate_ax.set_ylim([-0.5, 15])\n",
    "    acetate_ax.xaxis.set_visible(False)\n",
    "    if ylabels:\n",
    "        acetate_ax.set_ylabel(r'Acetate' '\\n' '[$mmol_{ac}/g_{CDW}/h$]',fontsize =fontsize, rotation = 0)\n",
    "\n",
    "    #add phenotype data if this is given\n",
    "    if phenotype_data is not None:\n",
    "        acetate_ax.scatter(phenotype_data['EX_glc__D_e'], phenotype_data['EX_ac_e'],\n",
    "                   color='purple', marker='o', s=40, linewidths=1.3,\n",
    "                   facecolors=None, zorder=0,\n",
    "                   label='Data')\n",
    "    \n",
    "    #CAC heatmap\n",
    "    im_cac = cac_ax.imshow(cac_matrix, aspect=\"auto\", cmap=\"viridis\", vmin = vmin, vmax =vmax)\n",
    "    cac_ax.set_yticks(np.arange(len(x_cac)), labels=x_cac, fontsize =fontsize)\n",
    "    cac_ax.xaxis.set_visible(False)\n",
    "    if ylabels:\n",
    "        cac_ax.set_ylabel('CAC', fontsize = fontsize)\n",
    "\n",
    "    #Make line between CAC and FAC data more clear\n",
    "    axis = 'bottom'\n",
    "    cac_ax.spines[axis].set_linewidth(10)\n",
    "    cac_ax.spines[axis].set_color(\"black\")\n",
    "    cac_ax.spines[axis].set_zorder(0)\n",
    "    \n",
    "    #FAC heatmap\n",
    "    im_fac = fac_ax.imshow(fac_matrix, aspect=\"auto\", cmap=\"viridis\", vmin = vmin, vmax =vmax)\n",
    "    fac_ax.set_yticks(np.arange(len(x_fac)), labels=x_fac, fontsize =fontsize)\n",
    "    fac_ax.set_xticks(np.arange(len(yaxis)),labels = yaxis, fontsize =fontsize, rotation=45, ha='right')\n",
    "    # fac_ax.set_xlabel('Glucose uptake rate [$mmol_{glc}/g_{CDW}/h$]', fontsize = fontsize)\n",
    "    if ylabels:\n",
    "        fac_ax.set_ylabel('FAC', fontsize = fontsize)\n",
    "        \n",
    "    #colorbar\n",
    "    if cbar:\n",
    "        cbar_ax.xaxis.set_visible(False)\n",
    "        # cbar_ax.yaxis.set_visible(False)\n",
    "        make_scaled_colorbar(ax=cbar_ax, vmin=vmin, vmax=vmax, fig = fig, fontsize = fontsize*1.25)\n",
    "    # fig.set_figwidth(24)\n",
    "    # fig.set_figheight(7)\n",
    "    # fig.align_labels()\n",
    "    return fig"
   ]
  },
  {
   "cell_type": "code",
   "execution_count": 5,
   "id": "f1fc7967-5869-4911-8ed4-2cee897adbd7",
   "metadata": {},
   "outputs": [],
   "source": [
    "def make_scaled_colorbar(ax, fig, vmin =-1, vmax = 1, fontsize = 16, cbarlabel = 'Allocation Coefficient'):\n",
    "    norm = matplotlib.colors.Normalize(vmin=vmin, vmax=vmax)\n",
    "    sm = matplotlib.cm.ScalarMappable(cmap=\"viridis\", norm = norm)\n",
    "    sm.set_array([])\n",
    "    \n",
    "    cbar = fig.colorbar(sm, ax =ax, cax=ax, shrink = 1, fraction = 1)\n",
    "    #setting the fontsize of the colourbar\n",
    "    cbar.set_label(cbarlabel,fontsize=fontsize)\n",
    "    cbar.ax.tick_params(labelsize=fontsize)\n",
    "    cbar.ax.yaxis.get_offset_text().set(size=fontsize)"
   ]
  },
  {
   "cell_type": "code",
   "execution_count": 6,
   "id": "ba775506-b0e9-4fc3-a403-7c68515059e7",
   "metadata": {},
   "outputs": [],
   "source": [
    "#adjust labels for better readibility\n",
    "def adjust_heatmap_labels(labels):\n",
    "    new_labels = labels.copy()\n",
    "\n",
    "    for i, label in enumerate(labels):\n",
    "        if label =='EX_glc__D_e' or label[:-3] == 'EX_glc__D_e':\n",
    "            if label[-1] == 'B': new_labels[i] = 'EX_glc_'+label[-2:]\n",
    "            else: new_labels[i] = 'EX_glc'\n",
    "        if label == 'TotalProteinConstraint_sector':\n",
    "            new_labels[i] = 'Protein pool'\n",
    "        if label[0].isdigit(): #all enzyme ids start with a digit\n",
    "            rxn_ids = pamodel.get_reactions_with_enzyme_id(label)\n",
    "            rxn_name = pamodel.reactions.get_by_id(rxn_ids[-1]).name.split('(')[0]\n",
    "            new_labels[i] = '\\n'.join([part for part in rxn_name.split(' ')])\n",
    "            \n",
    "            # if len(rxn_ids)>2:\n",
    "            #     new_labels[i] = pamodel.reactions.get_by_id(rxn_ids[-1]).name.split('(')[0]\n",
    "            # else:\n",
    "                \n",
    "            #     new_labels[i] = ',\\n'.join([pamodel.reactions.get_by_id(rxn_ids[-1]).name.split('(')[0]for rxn in rxn_ids])\n",
    "    return new_labels"
   ]
  },
  {
   "cell_type": "code",
   "execution_count": 7,
   "id": "f0b9ed5c-3082-4af5-8e58-5f56e30e5f79",
   "metadata": {},
   "outputs": [],
   "source": [
    "def find_nonzero_sensitivities(Cv, x_axis):\n",
    "    indices = []\n",
    "    for row in Cv:\n",
    "        for index, coeff in enumerate(row):\n",
    "            if abs(coeff)>0 and index not in indices:\n",
    "                indices.append(index)\n",
    "    \n",
    "    coeff_nonzero = []\n",
    "    for row in Cv:\n",
    "        coeff_nonzero.append([coeff for i, coeff in enumerate(row) if i in indices])\n",
    "    x_coeff_nonzero = [coeff for i, coeff in enumerate(x_axis) if i in indices]\n",
    "\n",
    "    return coeff_nonzero, x_coeff_nonzero"
   ]
  },
  {
   "cell_type": "code",
   "execution_count": 8,
   "id": "f3415083-0114-49b5-84f1-6d280deeef8f",
   "metadata": {},
   "outputs": [],
   "source": [
    "def find_top5_sensitivities(Cv, x_axis, yaxis):\n",
    "    #top 5 enzymes per simulation\n",
    "    Cv_df = pd.DataFrame(Cv, columns = x_axis, index =yaxis)\n",
    "    largest = list()\n",
    "    for i, row in Cv_df.iterrows():\n",
    "        top5 = abs(row).nlargest()        \n",
    "        if top5.iloc[0]:\n",
    "            largest += [index for index, value in top5.items() if abs(value)>0.05]\n",
    "    \n",
    "    #remove duplicates\n",
    "    largest_list = list(set(largest))\n",
    "\n",
    "    #extract non duplicate top5 enzymes\n",
    "    top5_df = Cv_df[largest_list].T.drop_duplicates().sort_index()\n",
    "    largest_list = top5_df.index.values\n",
    "\n",
    "    top5_matrix = [list(row) for i, row in top5_df.iterrows()]\n",
    "    return top5_matrix, largest_list\n"
   ]
  },
  {
   "cell_type": "markdown",
   "id": "c259d078-bc25-4abc-9725-54b159fcbe79",
   "metadata": {},
   "source": [
    "### 2 Run GECKO simulations\n",
    "#### 2.1 Adjust the total protein constraint for the lack of translational and unused protein"
   ]
  },
  {
   "cell_type": "code",
   "execution_count": 9,
   "id": "edf9d83b-43b2-469d-a031-2a487f22efd7",
   "metadata": {},
   "outputs": [
    {
     "name": "stdout",
     "output_type": "stream",
     "text": [
      "0.11123186965376783  g_p/g_cdw/h\n"
     ]
    }
   ],
   "source": [
    "#calculate average protein which is allocated to sectors (5 mmol_glc/gdw/h and growth rate of 0.35)\n",
    "translational_info = pd.read_excel(PAM_DATA_FILE_PATH , sheet_name='Translational')\n",
    "unused_protein_info = pd.read_excel(PAM_DATA_FILE_PATH, sheet_name = 'ExcessEnzymes')\n",
    "\n",
    "#protein allocated to unused enzymes\n",
    "ups_0 = unused_protein_info[unused_protein_info.Parameter == 'ups_0'].loc[2, 'Value']\n",
    "smax = unused_protein_info[unused_protein_info.Parameter == 's_max_uptake'].loc[1, 'Value']\n",
    "ups_mu = ups_0 / smax\n",
    "\n",
    "ups = ups_0 - (5*ups_mu)\n",
    "\n",
    "#protein allocated to translational enzymes\n",
    "tps_0=translational_info[translational_info.Parameter == 'tps_0'].loc[1,'Value']\n",
    "tps_mu=translational_info[translational_info.Parameter == 'tps_mu'].loc[2,'Value']\n",
    "\n",
    "tps = tps_0 + (0.35*tps_mu)\n",
    "\n",
    "#total protein left for the active enzyme sector\n",
    "total_protein = 0.258 - tps - ups\n",
    "\n",
    "print(total_protein,' g_p/g_cdw/h')"
   ]
  },
  {
   "cell_type": "markdown",
   "id": "54a7cc6d-577a-48cc-bd51-e6965f3484e2",
   "metadata": {},
   "source": [
    "#### 2.2 Build GECKO model"
   ]
  },
  {
   "cell_type": "code",
   "execution_count": 10,
   "id": "41159a71-2c44-4815-a5ec-41c380741133",
   "metadata": {},
   "outputs": [
    {
     "name": "stdout",
     "output_type": "stream",
     "text": [
      "Set parameter Username\n",
      "Academic license - for non-commercial use only - expires 2024-03-07\n",
      "Read LP format model from file /tmp/tmpdz64oa34.lp\n",
      "Reading time = 0.01 seconds\n",
      ": 1877 rows, 5424 columns, 21150 nonzeros\n",
      "Setting up the proteome allocation model iML1515\n",
      "\n",
      "Add total condition-dependent protein constraint\n",
      "\tTotal protein concentration: 0.11123186965376783 g/gDW\n",
      "\n",
      "Add active protein sector\n",
      "\n"
     ]
    },
    {
     "name": "stderr",
     "output_type": "stream",
     "text": [
      "/home/samiralvdb/.local/lib/python3.10/site-packages/PAModelpy/PAModel.py:220: UserWarning: Molar mass for E332 is invalid: 0.0\n",
      "  warnings.warn(f'Molar mass for {enz.id} is invalid: {molmass}')\n"
     ]
    },
    {
     "name": "stdout",
     "output_type": "stream",
     "text": [
      "Done with setting up the proteome allocation model iML1515\n",
      "\n"
     ]
    }
   ],
   "source": [
    "# build the GECKO model with PAModelpy\n",
    "pamodel_gecko = set_up_ecoli_pam(unused_enzymes = False, translational_enzymes = False, total_protein =total_protein)"
   ]
  },
  {
   "cell_type": "markdown",
   "id": "2b696f7d-d722-49ba-b5ff-4ac0e846aa79",
   "metadata": {},
   "source": [
    "#### 2.3 Run simulations for glucose uptake of 0-10 mmol/gcdw/h"
   ]
  },
  {
   "cell_type": "code",
   "execution_count": null,
   "id": "6b9e3329-f635-4e9f-be49-bfe044aeab30",
   "metadata": {},
   "outputs": [
    {
     "name": "stdout",
     "output_type": "stream",
     "text": [
      "glucose uptake rate  0.5  mmol/gcdw/h\n",
      "Sum of capacity allocation coefficients: \t \t \t \t \t \t 1.0\n",
      "Sum of flux allocation coefficients: \t \t \t \t \t \t \t 1.0 \n",
      "\n",
      "glucose uptake rate  1.0  mmol/gcdw/h\n",
      "Sum of capacity allocation coefficients: \t \t \t \t \t \t 1.0\n",
      "Sum of flux allocation coefficients: \t \t \t \t \t \t \t 1.0 \n",
      "\n",
      "glucose uptake rate  1.5  mmol/gcdw/h\n",
      "Sum of capacity allocation coefficients: \t \t \t \t \t \t 1.000057\n",
      "Sum of flux allocation coefficients: \t \t \t \t \t \t \t 0.998937 \n",
      "\n",
      "glucose uptake rate  2.0  mmol/gcdw/h\n",
      "Sum of capacity allocation coefficients: \t \t \t \t \t \t 1.000122\n",
      "Sum of flux allocation coefficients: \t \t \t \t \t \t \t 0.994857 \n",
      "\n",
      "glucose uptake rate  2.5  mmol/gcdw/h\n",
      "Sum of capacity allocation coefficients: \t \t \t \t \t \t 1.000099\n",
      "Sum of flux allocation coefficients: \t \t \t \t \t \t \t 0.994697 \n",
      "\n",
      "glucose uptake rate  3.0  mmol/gcdw/h\n",
      "Sum of capacity allocation coefficients: \t \t \t \t \t \t 1.000084\n",
      "Sum of flux allocation coefficients: \t \t \t \t \t \t \t 0.994546 \n",
      "\n",
      "glucose uptake rate  3.5  mmol/gcdw/h\n",
      "Sum of capacity allocation coefficients: \t \t \t \t \t \t 1.000496\n",
      "Sum of flux allocation coefficients: \t \t \t \t \t \t \t 0.979841 \n",
      "\n",
      "glucose uptake rate  4.0  mmol/gcdw/h\n",
      "Sum of capacity allocation coefficients: \t \t \t \t \t \t 1.000237\n",
      "Sum of flux allocation coefficients: \t \t \t \t \t \t \t 0.975952 \n",
      "\n",
      "glucose uptake rate  4.5  mmol/gcdw/h\n",
      "Sum of capacity allocation coefficients: \t \t \t \t \t \t 1.001654\n",
      "Sum of flux allocation coefficients: \t \t \t \t \t \t \t 0.817211 \n",
      "\n",
      "glucose uptake rate  5.0  mmol/gcdw/h\n",
      "Sum of capacity allocation coefficients: \t \t \t \t \t \t 1.001621\n",
      "Sum of flux allocation coefficients: \t \t \t \t \t \t \t 0.808931 \n",
      "\n",
      "glucose uptake rate  5.5  mmol/gcdw/h\n",
      "Sum of capacity allocation coefficients: \t \t \t \t \t \t 1.001571\n",
      "Sum of flux allocation coefficients: \t \t \t \t \t \t \t 0.80088 \n",
      "\n",
      "glucose uptake rate  6.0  mmol/gcdw/h\n",
      "Sum of capacity allocation coefficients: \t \t \t \t \t \t 1.001525\n",
      "Sum of flux allocation coefficients: \t \t \t \t \t \t \t 0.793303 \n",
      "\n",
      "glucose uptake rate  6.5  mmol/gcdw/h\n",
      "Sum of capacity allocation coefficients: \t \t \t \t \t \t 1.00156\n",
      "Sum of flux allocation coefficients: \t \t \t \t \t \t \t 0.775012 \n",
      "\n",
      "glucose uptake rate  7.0  mmol/gcdw/h\n",
      "Sum of capacity allocation coefficients: \t \t \t \t \t \t 1.001627\n",
      "Sum of flux allocation coefficients: \t \t \t \t \t \t \t 0.759159 \n",
      "\n",
      "glucose uptake rate  7.5  mmol/gcdw/h\n"
     ]
    }
   ],
   "source": [
    "results_gecko = calculate_sensitivities(pamodel_gecko)\n",
    "x_axis_cac_gecko,x_axis_fac_gecko = parse_x_axis_heatmap(results_gecko['capacity coefficients'], results_gecko['flux coefficients'])"
   ]
  },
  {
   "cell_type": "code",
   "execution_count": null,
   "id": "0e45ccd4-69f1-4ca5-96fc-5e9c77523197",
   "metadata": {},
   "outputs": [],
   "source": [
    "cac_nonzero_gecko, x_cac_nonzero_gecko = find_nonzero_sensitivities(results_gecko['Ccac'], x_axis = x_axis_cac_gecko)\n",
    "fac_nonzero_gecko, x_fac_nonzero_gecko = find_nonzero_sensitivities(results_gecko['Cfac'], x_axis = x_axis_fac_gecko)"
   ]
  },
  {
   "cell_type": "code",
   "execution_count": null,
   "id": "afbc2e7e-1b28-452f-8436-7c2aaded748f",
   "metadata": {},
   "outputs": [],
   "source": [
    "for i in ['1.8.1.4']:\n",
    "    for index, name in enumerate(x_fac_nonzero_gecko):\n",
    "        if i == name:\n",
    "            for row in fac_nonzero_gecko:\n",
    "                print(i, row[index])"
   ]
  },
  {
   "cell_type": "code",
   "execution_count": null,
   "id": "d285624b-a4e2-4189-a7c1-c3abd74b7e05",
   "metadata": {},
   "outputs": [],
   "source": [
    "cac_nonzero_gecko_t = np.transpose(np.array(cac_nonzero_gecko))\n",
    "fac_nonzero_gecko_t = np.transpose(np.array(fac_nonzero_gecko))"
   ]
  },
  {
   "cell_type": "code",
   "execution_count": null,
   "id": "54338172-b87a-4b41-9cca-d189c740e15a",
   "metadata": {},
   "outputs": [],
   "source": [
    "cac_top5_gecko, x_cac_top5_gecko = find_top5_sensitivities(results_gecko['Ccac'], x_axis = x_axis_cac_gecko, yaxis = glc_uptake_rates)\n",
    "fac_top5_gecko, x_fac_top5_gecko = find_top5_sensitivities(results_gecko['Cfac'], x_axis = x_axis_fac_gecko, yaxis = glc_uptake_rates)\n",
    "cac_top5_gecko_t = np.transpose(np.array(cac_top5_gecko))\n",
    "fac_top5_gecko_t = np.transpose(np.array(fac_top5_gecko))"
   ]
  },
  {
   "cell_type": "markdown",
   "id": "e58822c2-7c17-4c99-b0c5-cd52c6862db9",
   "metadata": {},
   "source": [
    "### 3 Run PAM simulations\n",
    "#### 3.1 Build PAModel"
   ]
  },
  {
   "cell_type": "code",
   "execution_count": null,
   "id": "bf9cd6cb-6992-4df6-a10b-47405063969e",
   "metadata": {},
   "outputs": [],
   "source": [
    "pamodel = set_up_ecoli_pam()"
   ]
  },
  {
   "cell_type": "markdown",
   "id": "a87b7228-cc6b-42d7-81b1-ed069b20b55d",
   "metadata": {},
   "source": [
    "#### 3.2 Run simulations for glucose uptake of 0-10 mmol/gcdw/h"
   ]
  },
  {
   "cell_type": "code",
   "execution_count": null,
   "id": "191d8735-d3a4-4fc0-afd7-960dc42bb628",
   "metadata": {},
   "outputs": [],
   "source": [
    "results_pam = calculate_sensitivities(pamodel)\n",
    "x_axis_cac_pam,x_axis_fac_pam = parse_x_axis_heatmap(results_pam['capacity coefficients'], results_pam['flux coefficients'])"
   ]
  },
  {
   "cell_type": "code",
   "execution_count": null,
   "id": "3f87f6f6-a880-4adb-b1f8-3daf07f8a9f6",
   "metadata": {},
   "outputs": [],
   "source": [
    "cac_nonzero_pam, x_cac_nonzero_pam = find_nonzero_sensitivities(results_pam['Ccac'], x_axis = x_axis_cac_pam)\n",
    "fac_nonzero_pam, x_fac_nonzero_pam = find_nonzero_sensitivities(results_pam['Cfac'], x_axis = x_axis_fac_pam)\n",
    "cac_nonzero_pam_t = np.transpose(np.array(cac_nonzero_pam))\n",
    "fac_nonzero_pam_t = np.transpose(np.array(fac_nonzero_pam))"
   ]
  },
  {
   "cell_type": "code",
   "execution_count": null,
   "id": "437a2acb-45c7-4902-8ab4-f3bd9c64c797",
   "metadata": {},
   "outputs": [],
   "source": [
    "for i in ['1.2.4.1', '2.3.1.16']:\n",
    "    for index, name in enumerate(x_fac_nonzero_pam):\n",
    "        if i == name:\n",
    "            for row in fac_nonzero_pam:\n",
    "                print(i, row[index])"
   ]
  },
  {
   "cell_type": "code",
   "execution_count": null,
   "id": "b893abf9-cc29-470d-85ab-23e575200079",
   "metadata": {},
   "outputs": [],
   "source": [
    "cac_top5_pam, x_cac_top5_pam = find_top5_sensitivities(results_pam['Ccac'], x_axis = x_axis_cac_pam, yaxis = glc_uptake_rates)\n",
    "fac_top5_pam, x_fac_top5_pam = find_top5_sensitivities(results_pam['Cfac'], x_axis = x_axis_fac_pam, yaxis = glc_uptake_rates)\n",
    "cac_top5_pam_t = np.transpose(np.array(cac_top5_pam))\n",
    "fac_top5_pam_t = np.transpose(np.array(fac_top5_pam))"
   ]
  },
  {
   "cell_type": "markdown",
   "id": "999ba86b-fa39-470a-ad63-9c99da737ee7",
   "metadata": {},
   "source": [
    "### 4 Create plot"
   ]
  },
  {
   "cell_type": "markdown",
   "id": "df74f52e-fdf7-4b82-b797-297bd4a139a7",
   "metadata": {},
   "source": [
    "#### 4.1 Load phenotypic data"
   ]
  },
  {
   "cell_type": "code",
   "execution_count": null,
   "id": "b11ae446-27b5-4e18-b3bb-9553acbb397c",
   "metadata": {},
   "outputs": [],
   "source": [
    "# load phenotype data from excel file\n",
    "pt_data = pd.read_excel(os.path.join(DATA_DIR, 'Ecoli_phenotypes','Ecoli_phenotypes_py_rev.xls'), sheet_name='Yields', index_col=None)\n",
    "pt_data['EX_glc__D_e'] = -pt_data['EX_glc__D_e']\n",
    "\n",
    "# # extract reaction specific data \n",
    "# rxn_to_pt = {}\n",
    "# rxn_transform = {\n",
    "#     'EX_ac_e': 'Acetate_OUT',\n",
    "#     'EX_co2_e': 'CO2_OUT',\n",
    "#     'EX_o2_e': 'O2_IN',\n",
    "#     'BIOMASS_Ecoli_core_w_GAM': 'mu'\n",
    "# }\n",
    "# for rxn_id, pt_id in rxn_transform.items():\n",
    "#     rxn_to_pt[rxn_id] = pt_data[['Glucose_IN', pt_id]].dropna().rename(columns={pt_id: rxn_id})\n"
   ]
  },
  {
   "cell_type": "markdown",
   "id": "1feb4cc2-599f-4947-af30-daa66489dd3f",
   "metadata": {},
   "source": [
    "### 4.2 Load manually created plot with mapped sensitivities"
   ]
  },
  {
   "cell_type": "code",
   "execution_count": null,
   "id": "7280d7de-3ee7-46ef-aa2c-945f4401db78",
   "metadata": {},
   "outputs": [],
   "source": [
    "image_path = 'Figure2_mapped_sensitivities.png'\n",
    "\n",
    "sensitivities_mapped =np.asarray(Image.open(image_path))"
   ]
  },
  {
   "cell_type": "code",
   "execution_count": null,
   "id": "8ce6c775-f714-4534-91ce-9c4cfd4e73c2",
   "metadata": {},
   "outputs": [],
   "source": [
    "#create 1 big plot\n",
    "fontsize = 28\n",
    "width = 50\n",
    "height = 35\n",
    "\n",
    "# gridspec inside gridspec\n",
    "fig = plt.figure(layout = 'constrained')\n",
    "\n",
    "gs0 = gridspec.GridSpec(2, 14, figure=fig, wspace = 10000)\n",
    "gs_gecko = gs0[0,:6]\n",
    "gs_pam = gs0[0,7:]\n",
    "gs_figure = gs0[1,:]\n",
    "\n",
    "#adjust labels for better readibility\n",
    "x_cac_label_gecko = adjust_heatmap_labels(x_cac_nonzero_gecko)\n",
    "x_fac_label_gecko = adjust_heatmap_labels(x_fac_top5_gecko)\n",
    "\n",
    "fig_gecko = make_heatmap_subfigure(results = results_gecko, cac_matrix=cac_nonzero_gecko_t, fac_matrix =fac_top5_gecko,cbar =False,\n",
    "                                   x_cac=x_cac_label_gecko, x_fac=x_fac_label_gecko, yaxis = glc_uptake_rates, fig = fig, grdspc = gs_gecko,\n",
    "                                   annotate = 'A',phenotype_data = pt_data, fontsize = fontsize)\n",
    "# fig_gecko.subplots_adjust(left=0.3)\n",
    "#adjust labels for better readibility\n",
    "x_cac_label_pam = adjust_heatmap_labels(x_cac_nonzero_pam)\n",
    "x_fac_label_pam = adjust_heatmap_labels(x_fac_top5_pam)\n",
    "\n",
    "fig_pam = make_heatmap_subfigure(results = results_pam, cac_matrix=cac_nonzero_pam_t, fac_matrix =fac_top5_pam, ylabels = False,\n",
    "                                   x_cac=x_cac_label_pam, x_fac=x_fac_label_pam, yaxis = glc_uptake_rates, fig = fig, grdspc=gs_pam, \n",
    "                                 annotate = 'B', phenotype_data = pt_data, fontsize = fontsize)\n",
    "\n",
    "#set common x axis title\n",
    "ax_xlabel = fig.add_subplot(gs0[0, :2])\n",
    "ax_xlabel.set_xticks([])\n",
    "ax_xlabel.set_yticks([])\n",
    "ax_xlabel.set_frame_on(False)\n",
    "ax_xlabel.set_xlabel('Glucose uptake rate [$mmol_{glc}/g_{CDW}/h$]', fontsize = fontsize*1.25)\n",
    "ax_xlabel.xaxis.set_label_coords(6, -.1)\n",
    "\n",
    "#add image\n",
    "\n",
    "ax_fig = fig.add_subplot(gs_figure)\n",
    "ax_fig.imshow(sensitivities_mapped)\n",
    "ax_fig.annotate('C', xy=(2, 1), xycoords='data',\n",
    "            xytext=(-0.05,1), textcoords='axes fraction',\n",
    "            va='top', ha='left', fontsize = fontsize*1.5, weight = 'bold')\n",
    "ax_fig.axis('off')\n",
    "ax_fig.set_xticks([])\n",
    "ax_fig.set_yticks([])\n",
    "\n",
    "fig.subplots_adjust(left=0.3)\n",
    "fig.set_figwidth(width)\n",
    "fig.set_figheight(height)\n",
    "fig.align_labels()\n",
    "\n",
    "fig.savefig('Figure2_sensitivities_gecko_pam.png', dpi =200,bbox_inches='tight')"
   ]
  },
  {
   "cell_type": "code",
   "execution_count": null,
   "id": "9f2d9ed8-9c10-4fe5-844a-ee671dd30849",
   "metadata": {},
   "outputs": [],
   "source": [
    "results_gecko['fluxes'][8]['ACONTb']"
   ]
  },
  {
   "cell_type": "code",
   "execution_count": null,
   "id": "ba4342a5-bc2c-473a-bc54-c790626cb48e",
   "metadata": {},
   "outputs": [],
   "source": [
    "results_gecko['fluxes'][8]['ACONTa']"
   ]
  },
  {
   "cell_type": "code",
   "execution_count": null,
   "id": "a10d827a-9c4a-4003-8c4e-829ce41e6ef1",
   "metadata": {},
   "outputs": [],
   "source": [
    "results_gecko['fluxes'][8]['GLCptspp']"
   ]
  },
  {
   "cell_type": "code",
   "execution_count": null,
   "id": "96b29bd1-3c52-46f7-aef4-01cf16328878",
   "metadata": {},
   "outputs": [],
   "source": []
  }
 ],
 "metadata": {
  "kernelspec": {
   "display_name": "PAMvenv",
   "language": "python",
   "name": "pamvenv"
  },
  "language_info": {
   "codemirror_mode": {
    "name": "ipython",
    "version": 3
   },
   "file_extension": ".py",
   "mimetype": "text/x-python",
   "name": "python",
   "nbconvert_exporter": "python",
   "pygments_lexer": "ipython3",
   "version": "3.10.12"
  }
 },
 "nbformat": 4,
 "nbformat_minor": 5
}

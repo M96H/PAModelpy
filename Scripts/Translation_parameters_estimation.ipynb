{
 "cells": [
  {
   "cell_type": "code",
   "execution_count": 1,
   "id": "2b093cef",
   "metadata": {},
   "outputs": [],
   "source": [
    "import pandas as pd\n",
    "import numpy as np\n",
    "import os\n",
    "import matplotlib.pyplot as plt\n",
    "from scipy.stats import norm, sem, linregress"
   ]
  },
  {
   "cell_type": "code",
   "execution_count": 2,
   "id": "9ef98264",
   "metadata": {},
   "outputs": [],
   "source": [
    "DATA_PATH = os.path.join(os.path.split(os.getcwd())[0], 'Data')\n",
    "PARAM_FILE_PATH = os.path.join(DATA_PATH, 'TAModel', 'Balakrishnan-etal_2023_dogma-parameters_tableS6.xlsx')\n",
    "RNA_FILE_PATH = os.path.join(DATA_PATH, 'TAModel', 'Balakrishnan-etal_2023_mrna-vs-growth_fig2a.xlsx')\n",
    "ECOLI_RIBO_DIAMETER = 26 #nm for Ecoli Zhu et al 1997 DOI:9169230\n",
    "DIFFUSION_COEFF_CYTOSOL_MIN = 0.4 #microm^2/s (klumpp et al 2013)\n",
    "DIFFUSION_COEFF_CYTOSOL_MAX = 8 #microm^2/s (klumpp et al 2013)"
   ]
  },
  {
   "cell_type": "code",
   "execution_count": 3,
   "id": "47547b1e",
   "metadata": {},
   "outputs": [],
   "source": [
    "def diffusion_limited_on_rate(diffusion_coefficient, diameter):\n",
    "    return 4*np.pi*diffusion_coefficient*diameter"
   ]
  },
  {
   "cell_type": "code",
   "execution_count": 4,
   "id": "03fc124d",
   "metadata": {},
   "outputs": [],
   "source": [
    "parameter_wt_df = pd.read_excel(PARAM_FILE_PATH, sheet_name = 'reference condition')\n",
    "parameter_clim_df = pd.read_excel(PARAM_FILE_PATH, sheet_name = 'C-limited condition')"
   ]
  },
  {
   "cell_type": "markdown",
   "id": "8c4a026a",
   "metadata": {},
   "source": [
    "## Translation initiation rate distributions"
   ]
  },
  {
   "cell_type": "code",
   "execution_count": 5,
   "id": "1eed2a26",
   "metadata": {},
   "outputs": [],
   "source": [
    "translation_initiation_wt = parameter_wt_df['translation inititation rate αpi (1/min)']\n",
    "translation_initiation_wt = [value/60 for i, value in translation_initiation_wt.items() if isinstance(value, float)]\n",
    "translation_initiation_clim = parameter_clim_df['translation inititation rate αpi (1/min)']\n",
    "translation_initiation_clim = [value/60 for i, value in translation_initiation_clim.items() if isinstance(value, float)]"
   ]
  },
  {
   "cell_type": "code",
   "execution_count": 6,
   "id": "ed657d1c",
   "metadata": {},
   "outputs": [
    {
     "name": "stdout",
     "output_type": "stream",
     "text": [
      "Wildtype\n",
      "Lowest init rate value:  0.0015067721666666666\n",
      "Median init rate value:  0.23945566666666668\n",
      "Highest init rate value:  358.42600000000004\n",
      "Confidence interval:  (0.36377419923900933, 1.4200848181517596)\n",
      "\n",
      "C limited\n",
      "Lowest init rate value:  0.000982628\n",
      "Median init rate value:  0.16632206666666666\n",
      "Highest init rate value:  160.417\n",
      "Confidence interval:  (0.27474858470328484, 0.6811119357398623)\n"
     ]
    }
   ],
   "source": [
    "print('Wildtype')\n",
    "print('Lowest init rate value: ',pd.Series(translation_initiation_wt).min())\n",
    "print('Median init rate value: ', pd.Series(translation_initiation_wt).median())\n",
    "print('Highest init rate value: ', pd.Series(translation_initiation_wt).max())\n",
    "print('Confidence interval: ', norm.interval(alpha=0.95, loc=np.mean(translation_initiation_wt), \n",
    "                                                scale=sem(translation_initiation_wt)))\n",
    "\n",
    "print('\\nC limited')\n",
    "print('Lowest init rate value: ',pd.Series(translation_initiation_clim).min())\n",
    "print('Median init rate value: ', pd.Series(translation_initiation_clim).median())\n",
    "print('Highest init rate value: ', pd.Series(translation_initiation_clim).max())\n",
    "\n",
    "print('Confidence interval: ', norm.interval(alpha=0.95, loc=np.mean(translation_initiation_clim), \n",
    "                                                scale=sem(translation_initiation_clim)))"
   ]
  },
  {
   "cell_type": "code",
   "execution_count": 7,
   "id": "bfd29202",
   "metadata": {},
   "outputs": [
    {
     "name": "stdout",
     "output_type": "stream",
     "text": [
      "calculated diffusion rates for ribosomes are between  130.7  and  2613.8  microm/s\n"
     ]
    }
   ],
   "source": [
    "min_diff_limited_on_rate = diffusion_limited_on_rate(DIFFUSION_COEFF_CYTOSOL_MIN, ECOLI_RIBO_DIAMETER)\n",
    "max_diff_limited_on_rate = diffusion_limited_on_rate(DIFFUSION_COEFF_CYTOSOL_MAX, ECOLI_RIBO_DIAMETER)\n",
    "print('calculated diffusion rates for ribosomes are between ',round(min_diff_limited_on_rate,1), ' and ', round(max_diff_limited_on_rate,1), ' microm/s')"
   ]
  },
  {
   "cell_type": "code",
   "execution_count": 8,
   "id": "a62e2d06",
   "metadata": {},
   "outputs": [
    {
     "data": {
      "image/png": "[encoded data removed]",
      "text/plain": [
       "<Figure size 432x288 with 1 Axes>"
      ]
     },
     "metadata": {
      "needs_background": "light"
     },
     "output_type": "display_data"
    }
   ],
   "source": [
    "#plot histogram\n",
    "bins =100\n",
    "\n",
    "hist, bins = np.histogram(translation_initiation_wt, bins=bins)\n",
    "logbins = np.logspace(np.log10(bins[0]),np.log10(bins[-1]),len(bins))\n",
    "plt.hist(translation_initiation_wt, bins=logbins)\n",
    "plt.hist(translation_initiation_clim, bins= logbins)\n",
    "plt.vlines([min_diff_limited_on_rate, max_diff_limited_on_rate], 0, 150)\n",
    "plt.xscale('log')"
   ]
  },
  {
   "cell_type": "code",
   "execution_count": 9,
   "id": "be15d91d",
   "metadata": {},
   "outputs": [
    {
     "data": {
      "image/png": "[encoded data removed]",
      "text/plain": [
       "<Figure size 432x288 with 1 Axes>"
      ]
     },
     "metadata": {
      "needs_background": "light"
     },
     "output_type": "display_data"
    }
   ],
   "source": [
    "# plot boxplot\n",
    "fig, ax = plt.subplots()\n",
    "\n",
    "ax.boxplot([translation_initiation_wt,translation_initiation_clim], 0, '')\n",
    "plt.yscale('log')"
   ]
  },
  {
   "cell_type": "markdown",
   "id": "41ef9ec1",
   "metadata": {},
   "source": [
    "## mRNA abundance relation to growth rate"
   ]
  },
  {
   "cell_type": "code",
   "execution_count": 10,
   "id": "77cb1d80",
   "metadata": {},
   "outputs": [],
   "source": [
    "mrna_growth_df = pd.read_excel(RNA_FILE_PATH)"
   ]
  },
  {
   "cell_type": "code",
   "execution_count": 11,
   "id": "df5207d6",
   "metadata": {},
   "outputs": [],
   "source": [
    "cell_components_basan = pd.read_excel(os.path.join(\n",
    "    DATA_PATH, 'TAModel','Basan-etal_2015_STable4_cell_composition.xlsx'), \n",
    "                                      sheet_name = 'cellular_component')\n",
    "\n",
    "#remove data from experiments which alter RNA content\n",
    "cell_components_basan = cell_components_basan[~cell_components_basan['medium_addition'].str.contains('Cm', na=False)]"
   ]
  },
  {
   "cell_type": "code",
   "execution_count": 12,
   "id": "ea9e3356",
   "metadata": {},
   "outputs": [
    {
     "data": {
      "text/html": [
       "<div>\n",
       "<style scoped>\n",
       "    .dataframe tbody tr th:only-of-type {\n",
       "        vertical-align: middle;\n",
       "    }\n",
       "\n",
       "    .dataframe tbody tr th {\n",
       "        vertical-align: top;\n",
       "    }\n",
       "\n",
       "    .dataframe thead th {\n",
       "        text-align: right;\n",
       "    }\n",
       "</style>\n",
       "<table border=\"1\" class=\"dataframe\">\n",
       "  <thead>\n",
       "    <tr style=\"text-align: right;\">\n",
       "      <th></th>\n",
       "      <th>Strain</th>\n",
       "      <th>C_source</th>\n",
       "      <th>medium_addition</th>\n",
       "      <th>growth_rate</th>\n",
       "      <th>growth_rate_error</th>\n",
       "      <th>DNA</th>\n",
       "      <th>DNA_error</th>\n",
       "      <th>RNA</th>\n",
       "      <th>RNA_erroe</th>\n",
       "      <th>Protein</th>\n",
       "      <th>CDW</th>\n",
       "      <th>cell_number\\n</th>\n",
       "      <th>RNA_per_CDW</th>\n",
       "      <th>mRNA_per_CDW</th>\n",
       "    </tr>\n",
       "  </thead>\n",
       "  <tbody>\n",
       "    <tr>\n",
       "      <th>0</th>\n",
       "      <td>NCM3722</td>\n",
       "      <td>Glucose</td>\n",
       "      <td>RDM</td>\n",
       "      <td>1.84</td>\n",
       "      <td>0.02</td>\n",
       "      <td>11.10</td>\n",
       "      <td>0.66</td>\n",
       "      <td>153.0</td>\n",
       "      <td>8.43</td>\n",
       "      <td>329 ± 13.9</td>\n",
       "      <td>507</td>\n",
       "      <td>3.43 ± 0.16</td>\n",
       "      <td>0.301775</td>\n",
       "      <td>0.009053</td>\n",
       "    </tr>\n",
       "    <tr>\n",
       "      <th>1</th>\n",
       "      <td>NCM3722</td>\n",
       "      <td>Glucose</td>\n",
       "      <td>cAA</td>\n",
       "      <td>1.27</td>\n",
       "      <td>0.02</td>\n",
       "      <td>11.30</td>\n",
       "      <td>0.60</td>\n",
       "      <td>115.0</td>\n",
       "      <td>2.20</td>\n",
       "      <td>317 ± 16.3</td>\n",
       "      <td>500</td>\n",
       "      <td>7.93 ± 0.73</td>\n",
       "      <td>0.230000</td>\n",
       "      <td>0.006900</td>\n",
       "    </tr>\n",
       "    <tr>\n",
       "      <th>2</th>\n",
       "      <td>NCM3722</td>\n",
       "      <td>Glucose</td>\n",
       "      <td>NaN</td>\n",
       "      <td>0.98</td>\n",
       "      <td>0.01</td>\n",
       "      <td>11.90</td>\n",
       "      <td>0.67</td>\n",
       "      <td>97.9</td>\n",
       "      <td>2.37</td>\n",
       "      <td>333 ± 11.5</td>\n",
       "      <td>494</td>\n",
       "      <td>10.7 ± 0.69</td>\n",
       "      <td>0.198178</td>\n",
       "      <td>0.005945</td>\n",
       "    </tr>\n",
       "    <tr>\n",
       "      <th>3</th>\n",
       "      <td>NCM3722</td>\n",
       "      <td>Glycerol</td>\n",
       "      <td>NaN</td>\n",
       "      <td>0.70</td>\n",
       "      <td>0.01</td>\n",
       "      <td>14.10</td>\n",
       "      <td>0.87</td>\n",
       "      <td>83.4</td>\n",
       "      <td>3.30</td>\n",
       "      <td>355 ± 16.8</td>\n",
       "      <td>522</td>\n",
       "      <td>16.0 ± 0.98</td>\n",
       "      <td>0.159770</td>\n",
       "      <td>0.004793</td>\n",
       "    </tr>\n",
       "    <tr>\n",
       "      <th>4</th>\n",
       "      <td>NCM3722</td>\n",
       "      <td>Acetate</td>\n",
       "      <td>NaN</td>\n",
       "      <td>0.45</td>\n",
       "      <td>0.01</td>\n",
       "      <td>14.20</td>\n",
       "      <td>0.68</td>\n",
       "      <td>64.5</td>\n",
       "      <td>5.90</td>\n",
       "      <td>378 ± 3.39</td>\n",
       "      <td>516</td>\n",
       "      <td>17.1 ± 1.48</td>\n",
       "      <td>0.125000</td>\n",
       "      <td>0.003750</td>\n",
       "    </tr>\n",
       "    <tr>\n",
       "      <th>5</th>\n",
       "      <td>NCM3722</td>\n",
       "      <td>Mannose</td>\n",
       "      <td>NaN</td>\n",
       "      <td>0.42</td>\n",
       "      <td>0.01</td>\n",
       "      <td>16.50</td>\n",
       "      <td>0.49</td>\n",
       "      <td>66.1</td>\n",
       "      <td>1.40</td>\n",
       "      <td>391 ± 8.32</td>\n",
       "      <td>513</td>\n",
       "      <td>19.4 ±0.84</td>\n",
       "      <td>0.128850</td>\n",
       "      <td>0.003865</td>\n",
       "    </tr>\n",
       "    <tr>\n",
       "      <th>10</th>\n",
       "      <td>NQ1389</td>\n",
       "      <td>Glucose</td>\n",
       "      <td>0 ng/mL cTc</td>\n",
       "      <td>0.88</td>\n",
       "      <td>0.00</td>\n",
       "      <td>12.10</td>\n",
       "      <td>0.55</td>\n",
       "      <td>91.3</td>\n",
       "      <td>2.92</td>\n",
       "      <td>340 ± 19.4</td>\n",
       "      <td>475</td>\n",
       "      <td>9.60 ± 0.17</td>\n",
       "      <td>0.192211</td>\n",
       "      <td>0.005766</td>\n",
       "    </tr>\n",
       "    <tr>\n",
       "      <th>11</th>\n",
       "      <td>NQ1389</td>\n",
       "      <td>Glucose</td>\n",
       "      <td>2.5 ng/mL cTc</td>\n",
       "      <td>0.72</td>\n",
       "      <td>0.02</td>\n",
       "      <td>11.10</td>\n",
       "      <td>0.72</td>\n",
       "      <td>77.1</td>\n",
       "      <td>1.81</td>\n",
       "      <td>307 ± 8.08</td>\n",
       "      <td>458</td>\n",
       "      <td>8.07 ± 0.11</td>\n",
       "      <td>0.168341</td>\n",
       "      <td>0.005050</td>\n",
       "    </tr>\n",
       "    <tr>\n",
       "      <th>12</th>\n",
       "      <td>NQ1389</td>\n",
       "      <td>Glucose</td>\n",
       "      <td>5 ng/mL cTc</td>\n",
       "      <td>0.58</td>\n",
       "      <td>0.02</td>\n",
       "      <td>9.47</td>\n",
       "      <td>0.60</td>\n",
       "      <td>65.8</td>\n",
       "      <td>0.36</td>\n",
       "      <td>326 ± 13</td>\n",
       "      <td>440</td>\n",
       "      <td>6.14 ± 0.07</td>\n",
       "      <td>0.149545</td>\n",
       "      <td>0.004486</td>\n",
       "    </tr>\n",
       "    <tr>\n",
       "      <th>13</th>\n",
       "      <td>NQ1389</td>\n",
       "      <td>Glucose</td>\n",
       "      <td>10 ng/mL cTc</td>\n",
       "      <td>0.35</td>\n",
       "      <td>0.02</td>\n",
       "      <td>7.69</td>\n",
       "      <td>0.66</td>\n",
       "      <td>46.6</td>\n",
       "      <td>1.62</td>\n",
       "      <td>304 ± 14.2</td>\n",
       "      <td>414</td>\n",
       "      <td>3.16 ± 0.01</td>\n",
       "      <td>0.112560</td>\n",
       "      <td>0.003377</td>\n",
       "    </tr>\n",
       "    <tr>\n",
       "      <th>14</th>\n",
       "      <td>NQ1389</td>\n",
       "      <td>Glucose</td>\n",
       "      <td>15 ng/mL cTc</td>\n",
       "      <td>0.24</td>\n",
       "      <td>0.00</td>\n",
       "      <td>6.67</td>\n",
       "      <td>0.28</td>\n",
       "      <td>38.6</td>\n",
       "      <td>0.16</td>\n",
       "      <td>321 ± 11.3</td>\n",
       "      <td>393</td>\n",
       "      <td>2.14 ± 0.01</td>\n",
       "      <td>0.098219</td>\n",
       "      <td>0.002947</td>\n",
       "    </tr>\n",
       "    <tr>\n",
       "      <th>15</th>\n",
       "      <td>NQ1389</td>\n",
       "      <td>Glucose</td>\n",
       "      <td>cAA + 0 ng/mL cTc</td>\n",
       "      <td>1.10</td>\n",
       "      <td>0.03</td>\n",
       "      <td>11.30</td>\n",
       "      <td>0.91</td>\n",
       "      <td>101.0</td>\n",
       "      <td>3.17</td>\n",
       "      <td>313 ± 24.7</td>\n",
       "      <td>482</td>\n",
       "      <td>6.99 ± 0.17</td>\n",
       "      <td>0.209544</td>\n",
       "      <td>0.006286</td>\n",
       "    </tr>\n",
       "    <tr>\n",
       "      <th>16</th>\n",
       "      <td>NQ1389</td>\n",
       "      <td>Glucose</td>\n",
       "      <td>cAA +2.5 ng/mL cTc</td>\n",
       "      <td>0.95</td>\n",
       "      <td>0.01</td>\n",
       "      <td>11.10</td>\n",
       "      <td>0.81</td>\n",
       "      <td>95.4</td>\n",
       "      <td>4.84</td>\n",
       "      <td>334 ± 15.9</td>\n",
       "      <td>472</td>\n",
       "      <td>5.63 ± 0.11</td>\n",
       "      <td>0.202119</td>\n",
       "      <td>0.006064</td>\n",
       "    </tr>\n",
       "    <tr>\n",
       "      <th>17</th>\n",
       "      <td>NQ1389</td>\n",
       "      <td>Glucose</td>\n",
       "      <td>cAA + 5 ng/mL cTc</td>\n",
       "      <td>0.85</td>\n",
       "      <td>0.01</td>\n",
       "      <td>10.70</td>\n",
       "      <td>0.43</td>\n",
       "      <td>93.3</td>\n",
       "      <td>1.05</td>\n",
       "      <td>322 ± 19.4</td>\n",
       "      <td>466</td>\n",
       "      <td>5.38 ± 0.12</td>\n",
       "      <td>0.200215</td>\n",
       "      <td>0.006006</td>\n",
       "    </tr>\n",
       "    <tr>\n",
       "      <th>18</th>\n",
       "      <td>NQ1389</td>\n",
       "      <td>Glucose</td>\n",
       "      <td>cAA + 10 ng/mL cTc</td>\n",
       "      <td>0.64</td>\n",
       "      <td>0.01</td>\n",
       "      <td>10.10</td>\n",
       "      <td>0.48</td>\n",
       "      <td>78.6</td>\n",
       "      <td>6.90</td>\n",
       "      <td>344 ± 17</td>\n",
       "      <td>458</td>\n",
       "      <td>3.58 ± 0.05</td>\n",
       "      <td>0.171616</td>\n",
       "      <td>0.005148</td>\n",
       "    </tr>\n",
       "    <tr>\n",
       "      <th>19</th>\n",
       "      <td>NQ1389</td>\n",
       "      <td>Glucose</td>\n",
       "      <td>cAA + 15 ng/mL cTc</td>\n",
       "      <td>0.51</td>\n",
       "      <td>0.01</td>\n",
       "      <td>9.28</td>\n",
       "      <td>0.31</td>\n",
       "      <td>73.6</td>\n",
       "      <td>3.43</td>\n",
       "      <td>328 ± 10.8</td>\n",
       "      <td>448</td>\n",
       "      <td>2.71 ± 0.08</td>\n",
       "      <td>0.164286</td>\n",
       "      <td>0.004929</td>\n",
       "    </tr>\n",
       "    <tr>\n",
       "      <th>20</th>\n",
       "      <td>NQ1389</td>\n",
       "      <td>Glucose</td>\n",
       "      <td>cAA + 20 ng/mL cTc</td>\n",
       "      <td>0.42</td>\n",
       "      <td>0.01</td>\n",
       "      <td>8.85</td>\n",
       "      <td>0.54</td>\n",
       "      <td>65.1</td>\n",
       "      <td>1.58</td>\n",
       "      <td>335 ± 8.57</td>\n",
       "      <td>446</td>\n",
       "      <td>2.33 ± 0.02</td>\n",
       "      <td>0.145964</td>\n",
       "      <td>0.004379</td>\n",
       "    </tr>\n",
       "  </tbody>\n",
       "</table>\n",
       "</div>"
      ],
      "text/plain": [
       "     Strain  C_source     medium_addition  growth_rate  growth_rate_error  \\\n",
       "0   NCM3722   Glucose                 RDM         1.84               0.02   \n",
       "1   NCM3722   Glucose                 cAA         1.27               0.02   \n",
       "2   NCM3722   Glucose                 NaN         0.98               0.01   \n",
       "3   NCM3722  Glycerol                 NaN         0.70               0.01   \n",
       "4   NCM3722   Acetate                 NaN         0.45               0.01   \n",
       "5   NCM3722   Mannose                 NaN         0.42               0.01   \n",
       "10   NQ1389   Glucose         0 ng/mL cTc         0.88               0.00   \n",
       "11   NQ1389   Glucose       2.5 ng/mL cTc         0.72               0.02   \n",
       "12   NQ1389   Glucose         5 ng/mL cTc         0.58               0.02   \n",
       "13   NQ1389   Glucose        10 ng/mL cTc         0.35               0.02   \n",
       "14   NQ1389   Glucose        15 ng/mL cTc         0.24               0.00   \n",
       "15   NQ1389   Glucose   cAA + 0 ng/mL cTc         1.10               0.03   \n",
       "16   NQ1389   Glucose  cAA +2.5 ng/mL cTc         0.95               0.01   \n",
       "17   NQ1389   Glucose   cAA + 5 ng/mL cTc         0.85               0.01   \n",
       "18   NQ1389   Glucose  cAA + 10 ng/mL cTc         0.64               0.01   \n",
       "19   NQ1389   Glucose  cAA + 15 ng/mL cTc         0.51               0.01   \n",
       "20   NQ1389   Glucose  cAA + 20 ng/mL cTc         0.42               0.01   \n",
       "\n",
       "      DNA  DNA_error    RNA  RNA_erroe     Protein  CDW cell_number\\n  \\\n",
       "0   11.10       0.66  153.0       8.43  329 ± 13.9  507   3.43 ± 0.16   \n",
       "1   11.30       0.60  115.0       2.20  317 ± 16.3  500   7.93 ± 0.73   \n",
       "2   11.90       0.67   97.9       2.37  333 ± 11.5  494   10.7 ± 0.69   \n",
       "3   14.10       0.87   83.4       3.30  355 ± 16.8  522   16.0 ± 0.98   \n",
       "4   14.20       0.68   64.5       5.90  378 ± 3.39  516   17.1 ± 1.48   \n",
       "5   16.50       0.49   66.1       1.40  391 ± 8.32  513    19.4 ±0.84   \n",
       "10  12.10       0.55   91.3       2.92  340 ± 19.4  475   9.60 ± 0.17   \n",
       "11  11.10       0.72   77.1       1.81  307 ± 8.08  458   8.07 ± 0.11   \n",
       "12   9.47       0.60   65.8       0.36    326 ± 13  440   6.14 ± 0.07   \n",
       "13   7.69       0.66   46.6       1.62  304 ± 14.2  414   3.16 ± 0.01   \n",
       "14   6.67       0.28   38.6       0.16  321 ± 11.3  393   2.14 ± 0.01   \n",
       "15  11.30       0.91  101.0       3.17  313 ± 24.7  482   6.99 ± 0.17   \n",
       "16  11.10       0.81   95.4       4.84  334 ± 15.9  472   5.63 ± 0.11   \n",
       "17  10.70       0.43   93.3       1.05  322 ± 19.4  466   5.38 ± 0.12   \n",
       "18  10.10       0.48   78.6       6.90    344 ± 17  458   3.58 ± 0.05   \n",
       "19   9.28       0.31   73.6       3.43  328 ± 10.8  448   2.71 ± 0.08   \n",
       "20   8.85       0.54   65.1       1.58  335 ± 8.57  446   2.33 ± 0.02   \n",
       "\n",
       "    RNA_per_CDW  mRNA_per_CDW  \n",
       "0      0.301775      0.009053  \n",
       "1      0.230000      0.006900  \n",
       "2      0.198178      0.005945  \n",
       "3      0.159770      0.004793  \n",
       "4      0.125000      0.003750  \n",
       "5      0.128850      0.003865  \n",
       "10     0.192211      0.005766  \n",
       "11     0.168341      0.005050  \n",
       "12     0.149545      0.004486  \n",
       "13     0.112560      0.003377  \n",
       "14     0.098219      0.002947  \n",
       "15     0.209544      0.006286  \n",
       "16     0.202119      0.006064  \n",
       "17     0.200215      0.006006  \n",
       "18     0.171616      0.005148  \n",
       "19     0.164286      0.004929  \n",
       "20     0.145964      0.004379  "
      ]
     },
     "execution_count": 12,
     "metadata": {},
     "output_type": "execute_result"
    }
   ],
   "source": [
    "#unit conversion: cdw [microg/od] -> (*1e-6 [g/microg]) -> [gcdw/od]\n",
    "#unit conversion: rna [microg/od] -> (*1e-3[mg/microg]) -> ([g/mol]) -> [mmol/od] -> ([gcdw/OD]) -> [mmol/gcdw]\n",
    "#BALAKRISHNAN:\n",
    "#molmass one nucleotide: 5.38 ⋅ 10−16 microg\n",
    "#avg_length of mrna: 750 nt\n",
    "cell_components_basan= cell_components_basan.assign(RNA_per_CDW = lambda x: x['RNA']/x['CDW'])\n",
    "cell_components_basan= cell_components_basan.assign(mRNA_per_CDW = lambda x: x['RNA_per_CDW']*0.03)\n",
    "cell_components_basan"
   ]
  },
  {
   "cell_type": "code",
   "execution_count": 13,
   "id": "3eab767a",
   "metadata": {},
   "outputs": [
    {
     "data": {
      "image/png": "[encoded data removed]",
      "text/plain": [
       "<Figure size 432x288 with 1 Axes>"
      ]
     },
     "metadata": {
      "needs_background": "light"
     },
     "output_type": "display_data"
    }
   ],
   "source": [
    "groups = cell_components_basan.groupby(['Strain', 'C_source'])\n",
    "\n",
    "fig, ax = plt.subplots()\n",
    "for name, group in groups:\n",
    "    ax.scatter(group['growth_rate'], group['mRNA_per_CDW'], label=name)\n",
    "ax.set_xlabel('growth rate $h^{-1}$')\n",
    "ax.set_ylabel('RNA concentration $\\mu g/OD_{600}$')\n",
    "plt.legend()\n",
    "plt.show()"
   ]
  },
  {
   "cell_type": "code",
   "execution_count": 14,
   "id": "5b03524d",
   "metadata": {},
   "outputs": [
    {
     "data": {
      "text/plain": [
       "LinregressResult(slope=0.0036378316565569466, intercept=0.00245986564256536, rvalue=0.9791214624999756, pvalue=8.630258217412934e-12, stderr=0.0001950054095591478, intercept_stderr=0.0001659953123740608)"
      ]
     },
     "execution_count": 14,
     "metadata": {},
     "output_type": "execute_result"
    }
   ],
   "source": [
    "mrna_vs_mu = linregress(cell_components_basan['growth_rate'], cell_components_basan['mRNA_per_CDW'])\n",
    "mrna_vs_mu\n",
    "#[microg/microg]"
   ]
  },
  {
   "cell_type": "code",
   "execution_count": 15,
   "id": "665ee2da",
   "metadata": {},
   "outputs": [
    {
     "data": {
      "image/png": "[encoded data removed]",
      "text/plain": [
       "<Figure size 432x288 with 1 Axes>"
      ]
     },
     "metadata": {
      "needs_background": "light"
     },
     "output_type": "display_data"
    }
   ],
   "source": [
    "avg_mrna_length_ecoli = 750 #nt according to balakrishnan\n",
    "mrna_nt_molmass_avg_ecoli = 324.3#Da https://bionumbers.hms.harvard.edu/bionumber.aspx?id=104886&ver=9&trm=mrna+nucleotide+composition&org=\n",
    "mrna_avg_molmass = avg_mrna_length_ecoli * mrna_nt_molmass_avg_ecoli\n",
    "cell_components_basan=cell_components_basan.assign(mRNA_per_CDW_mmol = lambda x: x['RNA_per_CDW']/mrna_avg_molmass*1e3)\n",
    "\n",
    "groups = cell_components_basan.groupby(['Strain', 'C_source'])\n",
    "\n",
    "fig, ax = plt.subplots()\n",
    "for name, group in groups:\n",
    "    ax.scatter(group['growth_rate'], group['mRNA_per_CDW_mmol'], label=name)\n",
    "ax.set_xlabel('growth rate $h^{-1}$')\n",
    "ax.set_ylabel('RNA concentration $mmol/OD_{600}$')\n",
    "plt.legend()\n",
    "plt.show()"
   ]
  },
  {
   "cell_type": "code",
   "execution_count": 16,
   "id": "f2da5ca5",
   "metadata": {},
   "outputs": [
    {
     "data": {
      "text/plain": [
       "LinregressResult(slope=0.0004985550630838316, intercept=0.0003371179830150902, rvalue=0.9791214624999758, pvalue=8.630258217412258e-12, stderr=2.672496790477223e-05, intercept_stderr=2.2749211960675633e-05)"
      ]
     },
     "execution_count": 16,
     "metadata": {},
     "output_type": "execute_result"
    }
   ],
   "source": [
    "mmol_mrna_vs_mu = linregress(cell_components_basan['growth_rate'], cell_components_basan['mRNA_per_CDW_mmol'])\n",
    "mmol_mrna_vs_mu"
   ]
  },
  {
   "cell_type": "markdown",
   "id": "b885cb78",
   "metadata": {},
   "source": [
    "## Calculating percentage of mrna allocated to active enzymes\n",
    "Have to calculate the fraction of total protein which is occupied by active enzymes at a specific growth rate\n"
   ]
  },
  {
   "cell_type": "code",
   "execution_count": 17,
   "id": "cfd4e489",
   "metadata": {},
   "outputs": [
    {
     "name": "stdout",
     "output_type": "stream",
     "text": [
      "Loading PAModelpy modules version 0.0.3.3\n"
     ]
    }
   ],
   "source": [
    "#go to main directory for proper import statements\n",
    "if os.path.split(os.getcwd())[1] == 'Scripts':\n",
    "    os.chdir(os.path.split(os.getcwd())[0])\n",
    "from Scripts.pam_generation import set_up_ecoli_pam\n"
   ]
  },
  {
   "cell_type": "code",
   "execution_count": 18,
   "id": "d3d4a5c9",
   "metadata": {},
   "outputs": [],
   "source": [
    "TOT_PROT_CONTENT = 0.54 #gp/gcdw (10.1371/journal.pone.0262450)\n",
    "PROT_AE_T_UE = 0.258 #gp/gcdw (Alter et al. 2021)\n",
    "f_protein_non_household = PROT_AE_T_UE/TOT_PROT_CONTENT"
   ]
  },
  {
   "cell_type": "code",
   "execution_count": 67,
   "id": "392a8779",
   "metadata": {},
   "outputs": [
    {
     "name": "stdout",
     "output_type": "stream",
     "text": [
      "Read LP format model from file /tmp/tmpulzy2jfa.lp\n",
      "Reading time = 0.01 seconds\n",
      ": 1877 rows, 5424 columns, 21150 nonzeros\n",
      "Setting up the proteome allocation model iML1515\n",
      "\n",
      "Add total condition-dependent protein constraint\n",
      "\tTotal protein concentration: 0.258 g/gDW\n",
      "\n",
      "Add active protein sector\n",
      "\n"
     ]
    },
    {
     "name": "stderr",
     "output_type": "stream",
     "text": [
      "/home/samiralvdb/.local/lib/python3.10/site-packages/PAModelpy/PAModel.py:222: UserWarning: Molar mass for E332 is invalid: 0.0\n",
      "  warnings.warn(f'Molar mass for {enz.id} is invalid: {molmass}')\n"
     ]
    },
    {
     "name": "stdout",
     "output_type": "stream",
     "text": [
      "Add the following protein sector: TranslationalProteinSector\n",
      "\n",
      "Add the following protein sector: UnusedEnzymeSector\n",
      "\n",
      "Done with setting up the proteome allocation model iML1515\n",
      "\n"
     ]
    },
    {
     "name": "stderr",
     "output_type": "stream",
     "text": [
      "/home/samiralvdb/.local/lib/python3.10/site-packages/cobra/util/solver.py:554: UserWarning: Solver status is 'infeasible'.\n",
      "  warn(f\"Solver status is '{status}'.\", UserWarning)\n",
      "/home/samiralvdb/.local/lib/python3.10/site-packages/cobra/util/solver.py:554: UserWarning: Solver status is 'infeasible'.\n",
      "  warn(f\"Solver status is '{status}'.\", UserWarning)\n",
      "/home/samiralvdb/.local/lib/python3.10/site-packages/cobra/util/solver.py:554: UserWarning: Solver status is 'infeasible'.\n",
      "  warn(f\"Solver status is '{status}'.\", UserWarning)\n",
      "/home/samiralvdb/.local/lib/python3.10/site-packages/cobra/util/solver.py:554: UserWarning: Solver status is 'infeasible'.\n",
      "  warn(f\"Solver status is '{status}'.\", UserWarning)\n",
      "/home/samiralvdb/.local/lib/python3.10/site-packages/cobra/util/solver.py:554: UserWarning: Solver status is 'infeasible'.\n",
      "  warn(f\"Solver status is '{status}'.\", UserWarning)\n",
      "/home/samiralvdb/.local/lib/python3.10/site-packages/cobra/util/solver.py:554: UserWarning: Solver status is 'infeasible'.\n",
      "  warn(f\"Solver status is '{status}'.\", UserWarning)\n",
      "/home/samiralvdb/.local/lib/python3.10/site-packages/cobra/util/solver.py:554: UserWarning: Solver status is 'infeasible'.\n",
      "  warn(f\"Solver status is '{status}'.\", UserWarning)\n"
     ]
    }
   ],
   "source": [
    "#get substrate uptake rate for growth rates using the pam. Only use simulations on glucose as those are \n",
    "#the most reliable and other carbon sources do not really change the behaviour\n",
    "pamodel = set_up_ecoli_pam(unused_enzymes = True, updated_relations = True)\n",
    "glc_exch_reaction = pamodel.reactions.get_by_id(pamodel.GLUCOSE_EXCHANGE_RXNID)\n",
    "glc_exch_reaction.lower_bound = -1e6\n",
    "glc_exch_reaction.upper_bound = 0\n",
    "pamodel.objective = {glc_exch_reaction:1}\n",
    "cell_components_sorted = cell_components_basan.sort_values(by = ['growth_rate'])\n",
    "growth_rates_on_glucose = cell_components_sorted[cell_components_sorted['C_source'] == 'Glucose']['growth_rate']\n",
    "mmol_mrna_on_glucose = cell_components_sorted[cell_components_sorted['C_source'] == 'Glucose']['mRNA_per_CDW_mmol']\n",
    "substrate_uptake_rates = []\n",
    "\n",
    "for growth_rate in growth_rates_on_glucose:\n",
    "    pamodel.reactions.get_by_id(pamodel.BIOMASS_REACTION).upper_bound = growth_rate\n",
    "    pamodel.reactions.get_by_id(pamodel.BIOMASS_REACTION).lower_bound = growth_rate\n",
    "    pamodel.optimize()\n",
    "    \n",
    "    if pamodel.solver.status == 'optimal': \n",
    "        substrate_uptake_rates += [pamodel.reactions.get_by_id(pamodel.GLUCOSE_EXCHANGE_RXNID).flux]\n",
    "    else:\n",
    "        substrate_uptake_rates += [np.nan]\n",
    "    "
   ]
  },
  {
   "cell_type": "code",
   "execution_count": 68,
   "id": "abdd55ec",
   "metadata": {},
   "outputs": [],
   "source": [
    "unused_enzyme_sector = pamodel.sectors.get_by_id('UnusedEnzymeSector')\n",
    "translational_sector = pamodel.sectors.get_by_id('TranslationalProteinSector')\n",
    "phi_ue_0 = unused_enzyme_sector.ups_0[0]\n",
    "w_ue = unused_enzyme_sector.ups_mu\n",
    "\n",
    "phi_t_0 = translational_sector.tps_0[0]\n",
    "w_t = translational_sector.tps_mu[0]"
   ]
  },
  {
   "cell_type": "code",
   "execution_count": 69,
   "id": "0ed0f9f1",
   "metadata": {},
   "outputs": [
    {
     "name": "stdout",
     "output_type": "stream",
     "text": [
      "0.111925 -0.130145348837209 0.0393477666129722 0.0037020557868355304\n"
     ]
    }
   ],
   "source": [
    "print(phi_ue_0, w_ue, phi_t_0, w_t)"
   ]
  },
  {
   "cell_type": "code",
   "execution_count": 70,
   "id": "31fbd3cf",
   "metadata": {},
   "outputs": [],
   "source": [
    "mrna_per_sector_df = pd.DataFrame({'growth_rate': growth_rates_on_glucose, \n",
    "                                   'mRNA_per_CDW_mmol': mmol_mrna_on_glucose,\n",
    "                                  'substrate_uptake_rate': [abs(rate) for rate in substrate_uptake_rates]})\n",
    "mrna_per_sector_df = mrna_per_sector_df.assign(protein_ue = lambda x: phi_ue_0+w_ue*x['growth_rate'],\n",
    "                                              protein_t = lambda x: phi_t_0 + w_t*x['substrate_uptake_rate'],\n",
    "                                              protein_ae = lambda x: PROT_AE_T_UE - x['protein_t'] - x['protein_ue'])"
   ]
  },
  {
   "cell_type": "code",
   "execution_count": 71,
   "id": "2309454b",
   "metadata": {},
   "outputs": [],
   "source": [
    "mrna_per_sector_df = mrna_per_sector_df.assign(fraction_ue = lambda x: x['protein_ue']/TOT_PROT_CONTENT,\n",
    "                                              fraction_t = lambda x: x['protein_t']/TOT_PROT_CONTENT,\n",
    "                                              fraction_ae = lambda x: x['protein_ae']/TOT_PROT_CONTENT)\n",
    "mrna_per_sector_df = mrna_per_sector_df.assign(mrna_ue = lambda x: x.fraction_ue*x.mRNA_per_CDW_mmol,\n",
    "                                              mrna_t = lambda x: x.fraction_t*x.mRNA_per_CDW_mmol,\n",
    "                                              mrna_ae = lambda x: x.fraction_ae*x.mRNA_per_CDW_mmol)"
   ]
  },
  {
   "cell_type": "code",
   "execution_count": 72,
   "id": "fbc1fbfd",
   "metadata": {},
   "outputs": [
    {
     "data": {
      "text/html": [
       "<div>\n",
       "<style scoped>\n",
       "    .dataframe tbody tr th:only-of-type {\n",
       "        vertical-align: middle;\n",
       "    }\n",
       "\n",
       "    .dataframe tbody tr th {\n",
       "        vertical-align: top;\n",
       "    }\n",
       "\n",
       "    .dataframe thead th {\n",
       "        text-align: right;\n",
       "    }\n",
       "</style>\n",
       "<table border=\"1\" class=\"dataframe\">\n",
       "  <thead>\n",
       "    <tr style=\"text-align: right;\">\n",
       "      <th></th>\n",
       "      <th>growth_rate</th>\n",
       "      <th>mRNA_per_CDW_mmol</th>\n",
       "      <th>substrate_uptake_rate</th>\n",
       "      <th>protein_ue</th>\n",
       "      <th>protein_t</th>\n",
       "      <th>protein_ae</th>\n",
       "      <th>fraction_ue</th>\n",
       "      <th>fraction_t</th>\n",
       "      <th>fraction_ae</th>\n",
       "      <th>mrna_ue</th>\n",
       "      <th>mrna_t</th>\n",
       "      <th>mrna_ae</th>\n",
       "    </tr>\n",
       "  </thead>\n",
       "  <tbody>\n",
       "    <tr>\n",
       "      <th>14</th>\n",
       "      <td>0.24</td>\n",
       "      <td>0.000404</td>\n",
       "      <td>2.968601</td>\n",
       "      <td>0.080690</td>\n",
       "      <td>0.050338</td>\n",
       "      <td>0.126972</td>\n",
       "      <td>0.149426</td>\n",
       "      <td>0.093218</td>\n",
       "      <td>0.235134</td>\n",
       "      <td>0.000060</td>\n",
       "      <td>0.000038</td>\n",
       "      <td>0.000095</td>\n",
       "    </tr>\n",
       "    <tr>\n",
       "      <th>13</th>\n",
       "      <td>0.35</td>\n",
       "      <td>0.000463</td>\n",
       "      <td>4.228137</td>\n",
       "      <td>0.066374</td>\n",
       "      <td>0.055001</td>\n",
       "      <td>0.136625</td>\n",
       "      <td>0.122915</td>\n",
       "      <td>0.101853</td>\n",
       "      <td>0.253010</td>\n",
       "      <td>0.000057</td>\n",
       "      <td>0.000047</td>\n",
       "      <td>0.000117</td>\n",
       "    </tr>\n",
       "    <tr>\n",
       "      <th>20</th>\n",
       "      <td>0.42</td>\n",
       "      <td>0.000600</td>\n",
       "      <td>5.036557</td>\n",
       "      <td>0.057264</td>\n",
       "      <td>0.057993</td>\n",
       "      <td>0.142743</td>\n",
       "      <td>0.106044</td>\n",
       "      <td>0.107395</td>\n",
       "      <td>0.264338</td>\n",
       "      <td>0.000064</td>\n",
       "      <td>0.000064</td>\n",
       "      <td>0.000159</td>\n",
       "    </tr>\n",
       "    <tr>\n",
       "      <th>19</th>\n",
       "      <td>0.51</td>\n",
       "      <td>0.000675</td>\n",
       "      <td>6.076103</td>\n",
       "      <td>0.045551</td>\n",
       "      <td>0.061842</td>\n",
       "      <td>0.150607</td>\n",
       "      <td>0.084353</td>\n",
       "      <td>0.114522</td>\n",
       "      <td>0.278902</td>\n",
       "      <td>0.000057</td>\n",
       "      <td>0.000077</td>\n",
       "      <td>0.000188</td>\n",
       "    </tr>\n",
       "    <tr>\n",
       "      <th>12</th>\n",
       "      <td>0.58</td>\n",
       "      <td>0.000615</td>\n",
       "      <td>6.888753</td>\n",
       "      <td>0.036441</td>\n",
       "      <td>0.064850</td>\n",
       "      <td>0.156709</td>\n",
       "      <td>0.067483</td>\n",
       "      <td>0.120093</td>\n",
       "      <td>0.290202</td>\n",
       "      <td>0.000041</td>\n",
       "      <td>0.000074</td>\n",
       "      <td>0.000178</td>\n",
       "    </tr>\n",
       "    <tr>\n",
       "      <th>18</th>\n",
       "      <td>0.64</td>\n",
       "      <td>0.000706</td>\n",
       "      <td>7.590956</td>\n",
       "      <td>0.028632</td>\n",
       "      <td>0.067450</td>\n",
       "      <td>0.161918</td>\n",
       "      <td>0.053022</td>\n",
       "      <td>0.124907</td>\n",
       "      <td>0.299848</td>\n",
       "      <td>0.000037</td>\n",
       "      <td>0.000088</td>\n",
       "      <td>0.000212</td>\n",
       "    </tr>\n",
       "    <tr>\n",
       "      <th>11</th>\n",
       "      <td>0.72</td>\n",
       "      <td>0.000692</td>\n",
       "      <td>8.528990</td>\n",
       "      <td>0.018220</td>\n",
       "      <td>0.070923</td>\n",
       "      <td>0.168857</td>\n",
       "      <td>0.033741</td>\n",
       "      <td>0.131338</td>\n",
       "      <td>0.312698</td>\n",
       "      <td>0.000023</td>\n",
       "      <td>0.000091</td>\n",
       "      <td>0.000216</td>\n",
       "    </tr>\n",
       "  </tbody>\n",
       "</table>\n",
       "</div>"
      ],
      "text/plain": [
       "    growth_rate  mRNA_per_CDW_mmol  substrate_uptake_rate  protein_ue  \\\n",
       "14         0.24           0.000404               2.968601    0.080690   \n",
       "13         0.35           0.000463               4.228137    0.066374   \n",
       "20         0.42           0.000600               5.036557    0.057264   \n",
       "19         0.51           0.000675               6.076103    0.045551   \n",
       "12         0.58           0.000615               6.888753    0.036441   \n",
       "18         0.64           0.000706               7.590956    0.028632   \n",
       "11         0.72           0.000692               8.528990    0.018220   \n",
       "\n",
       "    protein_t  protein_ae  fraction_ue  fraction_t  fraction_ae   mrna_ue  \\\n",
       "14   0.050338    0.126972     0.149426    0.093218     0.235134  0.000060   \n",
       "13   0.055001    0.136625     0.122915    0.101853     0.253010  0.000057   \n",
       "20   0.057993    0.142743     0.106044    0.107395     0.264338  0.000064   \n",
       "19   0.061842    0.150607     0.084353    0.114522     0.278902  0.000057   \n",
       "12   0.064850    0.156709     0.067483    0.120093     0.290202  0.000041   \n",
       "18   0.067450    0.161918     0.053022    0.124907     0.299848  0.000037   \n",
       "11   0.070923    0.168857     0.033741    0.131338     0.312698  0.000023   \n",
       "\n",
       "      mrna_t   mrna_ae  \n",
       "14  0.000038  0.000095  \n",
       "13  0.000047  0.000117  \n",
       "20  0.000064  0.000159  \n",
       "19  0.000077  0.000188  \n",
       "12  0.000074  0.000178  \n",
       "18  0.000088  0.000212  \n",
       "11  0.000091  0.000216  "
      ]
     },
     "execution_count": 72,
     "metadata": {},
     "output_type": "execute_result"
    }
   ],
   "source": [
    "mrna_per_sector_df = mrna_per_sector_df.dropna()\n",
    "mrna_per_sector_df"
   ]
  },
  {
   "cell_type": "code",
   "execution_count": 76,
   "id": "5786172e",
   "metadata": {},
   "outputs": [
    {
     "data": {
      "text/plain": [
       "LinregressResult(slope=0.00026415151053080677, intercept=3.5930841561397815e-05, rvalue=0.9660739670313448, pvalue=0.00039980420101613166, stderr=3.158087679241018e-05, intercept_stderr=1.6370787118943975e-05)"
      ]
     },
     "execution_count": 76,
     "metadata": {},
     "output_type": "execute_result"
    }
   ],
   "source": [
    "mmol_mrna_ae_vs_mu = linregress(mrna_per_sector_df['growth_rate'], mrna_per_sector_df['mrna_ae'])\n",
    "mmol_mrna_ae_vs_mu"
   ]
  },
  {
   "cell_type": "code",
   "execution_count": 79,
   "id": "cf75029c",
   "metadata": {},
   "outputs": [
    {
     "name": "stdout",
     "output_type": "stream",
     "text": [
      "[9.932720408879143e-05, 0.00012838387024718018, 0.00014687447598433665, 0.00017064811193210928, 0.00018913871766926572, 0.00020498780830111415, 0.0002261199291435787]\n"
     ]
    }
   ],
   "source": [
    "mrna_ae_fitted = [mmol_mrna_ae_vs_mu.intercept + mmol_mrna_ae_vs_mu.slope*mu for mu in mrna_per_sector_df.growth_rate]\n",
    "mrna_ae_error_min = [mmol_mrna_ae_vs_mu.intercept-mmol_mrna_ae_vs_mu.intercept_stderr + \\\n",
    "                     mmol_mrna_ae_vs_mu.slope*mu-mu*mmol_mrna_ae_vs_mu.stderr for mu in mrna_per_sector_df.growth_rate]\n",
    "mrna_ae_error_max = [mmol_mrna_ae_vs_mu.intercept+mmol_mrna_ae_vs_mu.intercept_stderr + \\\n",
    "                     mmol_mrna_ae_vs_mu.slope*mu+mu*mmol_mrna_ae_vs_mu.stderr for mu in mrna_per_sector_df.growth_rate]\n",
    "print(mrna_ae_fitted)"
   ]
  },
  {
   "cell_type": "code",
   "execution_count": 83,
   "id": "56c74c51",
   "metadata": {
    "scrolled": true
   },
   "outputs": [
    {
     "data": {
      "image/png": "[encoded data removed]",
      "text/plain": [
       "<Figure size 1080x360 with 2 Axes>"
      ]
     },
     "metadata": {
      "needs_background": "light"
     },
     "output_type": "display_data"
    }
   ],
   "source": [
    "width = 15\n",
    "height = 5\n",
    "fontsize = 12\n",
    "\n",
    "fig, axs = plt.subplots(1,2)\n",
    "axs[0].scatter(mrna_per_sector_df['growth_rate'], mrna_per_sector_df['mrna_ue'], label='Unused Enzymes')\n",
    "axs[0].scatter(mrna_per_sector_df['growth_rate'], mrna_per_sector_df['mrna_t'], label='Translational protein')\n",
    "axs[0].scatter(mrna_per_sector_df['growth_rate'], mrna_per_sector_df['mrna_ae'], label='Active Enzymes')\n",
    "axs[0].plot(mrna_per_sector_df['growth_rate'], mrna_ae_fitted, label = 'Active Enzymes Fit', color = 'green')\n",
    "axs[0].fill_between(mrna_per_sector_df['growth_rate'], mrna_ae_error_min,mrna_ae_error_max,\n",
    "                   alpha = 0.1, color ='green')\n",
    "\n",
    "axs[0].set_xlabel('growth rate $h^{-1}$', fontsize = fontsize)\n",
    "axs[0].set_ylabel('RNA concentration $mmol/g_{CDW}$', fontsize = fontsize)\n",
    "\n",
    "\n",
    "axs[1].scatter(mrna_per_sector_df['substrate_uptake_rate'], mrna_per_sector_df['mrna_ue'], label='Unused Enzymes')\n",
    "axs[1].scatter(mrna_per_sector_df['substrate_uptake_rate'], mrna_per_sector_df['mrna_t'], label='Translational protein')\n",
    "axs[1].scatter(mrna_per_sector_df['substrate_uptake_rate'], mrna_per_sector_df['mrna_ae'], label='Active Enzymes')\n",
    "\n",
    "axs[1].set_xlabel('glucose uptake rate $mmol/g_{CDW}/h$', fontsize = fontsize)\n",
    "axs[1].set_ylabel('RNA concentration $mmol/g_{CDW}$', fontsize = fontsize)\n",
    "\n",
    "fig.set_figwidth(width)\n",
    "fig.set_figheight(height)\n",
    "plt.legend(fontsize = fontsize)\n",
    "plt.show()"
   ]
  },
  {
   "cell_type": "code",
   "execution_count": null,
   "id": "f5bdb93c",
   "metadata": {},
   "outputs": [],
   "source": []
  }
 ],
 "metadata": {
  "kernelspec": {
   "display_name": "PAMvenv",
   "language": "python",
   "name": "pamvenv"
  },
  "language_info": {
   "codemirror_mode": {
    "name": "ipython",
    "version": 3
   },
   "file_extension": ".py",
   "mimetype": "text/x-python",
   "name": "python",
   "nbconvert_exporter": "python",
   "pygments_lexer": "ipython3",
   "version": "3.10.12"
  }
 },
 "nbformat": 4,
 "nbformat_minor": 5
}
